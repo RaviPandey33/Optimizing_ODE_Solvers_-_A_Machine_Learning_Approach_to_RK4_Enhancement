{
 "cells": [
  {
   "cell_type": "code",
   "execution_count": 6,
   "metadata": {},
   "outputs": [
    {
     "name": "stdout",
     "output_type": "stream",
     "text": [
      "[[-1. -1. -1. -1. -1. -1.]]\n",
      "(40,)\n"
     ]
    },
    {
     "name": "stderr",
     "output_type": "stream",
     "text": [
      "Training with Numerical gradients: 100%|██████████| 100/100 [00:27<00:00,  3.69it/s]\n"
     ]
    },
    {
     "data": {
      "image/png": "[encoded data removed]",
      "text/plain": [
       "<Figure size 640x480 with 1 Axes>"
      ]
     },
     "metadata": {},
     "output_type": "display_data"
    },
    {
     "name": "stdout",
     "output_type": "stream",
     "text": [
      "(40,)\n"
     ]
    }
   ],
   "source": [
    "import jax\n",
    "import jax.numpy as jnp\n",
    "from jax import grad\n",
    "from tqdm import trange\n",
    "\n",
    "import jax.numpy as jnp\n",
    "import json\n",
    "import os\n",
    "import sys\n",
    "from skopt.space import Space\n",
    "from skopt.sampler import Halton\n",
    "from jax import jacfwd\n",
    "\n",
    "# Special Transform Functions\n",
    "from jax import grad, jit, vmap, pmap\n",
    "import jax\n",
    "from jax import jit\n",
    "\n",
    "from jax._src.lax.utils import (\n",
    "    _argnum_weak_type,\n",
    "    _input_dtype,\n",
    "    standard_primitive,)\n",
    "from jax._src.lax import lax\n",
    "\n",
    "from tqdm import tqdm, trange\n",
    "import matplotlib.pyplot as plt\n",
    "\n",
    "import prk_method.prk_for_optimization as IRK4\n",
    "import Important_functions.Transformation_Functions as TFunctions\n",
    "import Important_functions.Convert_1D2D as convert\n",
    "import Important_functions.Energy_Error as EE\n",
    "\n",
    "A1 = A2 = jnp.array([\n",
    "     [0., 0., 0., 0.],\n",
    "     [5/24, 1/3, -1/24, 0.],\n",
    "     [1/6, 2/3, 1/6, 0.],\n",
    "     [0., 0., 0., 0.]])\n",
    "B1 = B2 = jnp.array([1/6, 2/3, 1/6, 0.])\n",
    "\n",
    "\n",
    "## Making the Halton code\n",
    "\n",
    "spacedim = [(-1.0, 0.5),(-1.0, 0.5),(-1.0, 0.5),(-1.0, 0.5),(-1.0, 0.5),(-1.0, 0.5) ]\n",
    "\n",
    "space = Space(spacedim)\n",
    "\n",
    "halton = Halton()\n",
    "n = 1\n",
    "\n",
    "halton_sequence = halton.generate(space, n)\n",
    "halton_sequence = jnp.array(halton_sequence)\n",
    "\n",
    "## Dividing in training and validation set. 100 for the training set and 50 for the validation set. \n",
    "# validation_halton = halton_sequence[100:150]\n",
    "halton_sequence = halton_sequence #[:100]\n",
    "print(halton_sequence)\n",
    "\n",
    "# print(len(halton_sequence))\n",
    "# print(len(validaton_halton))\n",
    "\n",
    "\n",
    "\n",
    "# Assuming the necessary functions like IRK4.find_error, convert.Convert_toOneD, and matrix operations are defined\n",
    "\n",
    "\n",
    "# Initial A1D\n",
    "A1D = convert.Convert_toOneD(A1, A2, B1, B2)\n",
    "print(A1D.shape)\n",
    "\n",
    "# Learning rate\n",
    "learning_rate = 0.0001\n",
    "\n",
    "# Single Halton sequence element\n",
    "halton_element = halton_sequence[0]\n",
    "\n",
    "# Function to compute error\n",
    "def compute_error(A1D, halton_element):\n",
    "    return IRK4.find_error(A1D, halton_element)\n",
    "\n",
    "# Gradient function\n",
    "grad_fn = jax.jacfwd(compute_error)\n",
    "\n",
    "# Central Difference method :\n",
    "def numerical_gradient(A1D, halton_element, epsilon=1e-5):\n",
    "    numerical_gradients = jnp.zeros_like(A1D)\n",
    "\n",
    "    for i in range(len(A1D)):\n",
    "        A1D_plus = A1D.at[i].set(A1D[i] + epsilon)\n",
    "        A1D_minus = A1D.at[i].set(A1D[i] - epsilon)\n",
    "        # numerical_gradients[i] = (compute_error(A1D_plus, halton_element) - compute_error(A1D_minus, halton_element)) / (2 * epsilon)\n",
    "        \n",
    "        numerical_gradients = numerical_gradients.at[i].set((compute_error(A1D_plus, halton_element) - compute_error(A1D_minus, halton_element)) / (2 * epsilon))\n",
    "\n",
    "    return numerical_gradients\n",
    "\n",
    "# Compute numerical gradients\n",
    "A1D_initial = convert.Convert_toOneD(A1, A2, B1, B2)\n",
    "numerical_gradients = numerical_gradient(A1D_initial, halton_element)\n",
    "\n",
    "# Training loop\n",
    "error_list_numerical = []\n",
    "A1D_numerical = A1D_initial.copy()\n",
    "\n",
    "for epoch in trange(100, desc=\"Training with Numerical gradients\"):\n",
    "    # Compute the gradient for the current parameters using the numerical method\n",
    "    gradients = numerical_gradient(A1D_numerical, halton_element)\n",
    "    \n",
    "    # Update the parameters using gradient descent\n",
    "    A1D_numerical = A1D_numerical - learning_rate * gradients\n",
    "    \n",
    "    # Compute the error for the current parameters\n",
    "    current_error = compute_error(A1D_numerical, halton_element)\n",
    "    \n",
    "    # Store the error for plotting\n",
    "    error_list_numerical.append(current_error)\n",
    "\n",
    "# Plot the error\n",
    "import matplotlib.pyplot as plt\n",
    "error_list_numerical = jnp.array(error_list_numerical)\n",
    "plt.plot(range(len(error_list_numerical)), error_list_numerical, label=\"Error\", marker='o')\n",
    "plt.legend()\n",
    "plt.grid()\n",
    "plt.xlabel('Epoch')\n",
    "plt.ylabel('Error')\n",
    "plt.show()\n",
    "\n",
    "# Print final shape of A1D\n",
    "print(A1D.shape)\n"
   ]
  },
  {
   "cell_type": "code",
   "execution_count": null,
   "metadata": {},
   "outputs": [],
   "source": []
  },
  {
   "cell_type": "code",
   "execution_count": null,
   "metadata": {},
   "outputs": [],
   "source": []
  },
  {
   "cell_type": "code",
   "execution_count": null,
   "metadata": {},
   "outputs": [],
   "source": []
  }
 ],
 "metadata": {
  "kernelspec": {
   "display_name": "Python 3",
   "language": "python",
   "name": "python3"
  },
  "language_info": {
   "codemirror_mode": {
    "name": "ipython",
    "version": 3
   },
   "file_extension": ".py",
   "mimetype": "text/x-python",
   "name": "python",
   "nbconvert_exporter": "python",
   "pygments_lexer": "ipython3",
   "version": "3.9.19"
  }
 },
 "nbformat": 4,
 "nbformat_minor": 2
}
