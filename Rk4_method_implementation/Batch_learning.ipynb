{
  "cells": [
    {
      "cell_type": "markdown",
      "metadata": {
        "id": "Tm2rqB9I5nrh"
      },
      "source": [
        "## Importing Modules :"
      ]
    },
    {
      "cell_type": "code",
      "execution_count": 1,
      "metadata": {},
      "outputs": [],
      "source": [
        "import jax\n",
        "# print(jax.__version__)"
      ]
    },
    {
      "cell_type": "code",
      "execution_count": 2,
      "metadata": {
        "colab": {
          "base_uri": "https://localhost:8080/"
        },
        "id": "_9QNkgMu6PI7",
        "outputId": "6d114b97-69ad-4963-d5f7-2394a81135f7"
      },
      "outputs": [
        {
          "ename": "ModuleNotFoundError",
          "evalue": "No module named 'jax.config'",
          "output_type": "error",
          "traceback": [
            "\u001b[0;31m---------------------------------------------------------------------------\u001b[0m",
            "\u001b[0;31mModuleNotFoundError\u001b[0m                       Traceback (most recent call last)",
            "Cell \u001b[0;32mIn[2], line 2\u001b[0m\n\u001b[1;32m      1\u001b[0m \u001b[38;5;66;03m# installing optax and flax in colab! for optimization\u001b[39;00m\n\u001b[0;32m----> 2\u001b[0m \u001b[38;5;28;01mfrom\u001b[39;00m \u001b[38;5;21;01mjax\u001b[39;00m\u001b[38;5;21;01m.\u001b[39;00m\u001b[38;5;21;01mconfig\u001b[39;00m \u001b[38;5;28;01mimport\u001b[39;00m config\n\u001b[1;32m      3\u001b[0m config\u001b[38;5;241m.\u001b[39mupdate(\u001b[38;5;124m\"\u001b[39m\u001b[38;5;124mjax_enable_x64\u001b[39m\u001b[38;5;124m\"\u001b[39m, \u001b[38;5;28;01mTrue\u001b[39;00m)  \u001b[38;5;66;03m#double precision\u001b[39;00m\n",
            "\u001b[0;31mModuleNotFoundError\u001b[0m: No module named 'jax.config'"
          ]
        }
      ],
      "source": [
        "# installing optax and flax in colab! for optimization\n",
        "from jax.config import config\n",
        "config.update(\"jax_enable_x64\", True)  #double precision\n"
      ]
    },
    {
      "cell_type": "code",
      "execution_count": 5,
      "metadata": {
        "id": "NgzyxEGb8ffC"
      },
      "outputs": [],
      "source": [
        "import jax.numpy as jnp\n",
        "import json\n",
        "import os\n",
        "import sys\n",
        "from skopt.space import Space\n",
        "from skopt.sampler import Halton\n",
        "from jax import jacfwd\n",
        "\n",
        "# Special Transform Functions\n",
        "from jax import grad, jit, vmap, pmap\n",
        "import jax\n",
        "from jax import jit\n",
        "\n",
        "from jax._src.lax.utils import (\n",
        "    _argnum_weak_type,\n",
        "    _input_dtype,\n",
        "    standard_primitive,)\n",
        "from jax._src.lax import lax\n",
        "\n",
        "from tqdm import tqdm, trange\n",
        "import matplotlib.pyplot as plt\n",
        "\n",
        "import prk_for_optimization as IRK4\n",
        "import Transformation_Functions as TFunctions\n",
        "import Convert_1D2D as convert\n",
        "import Energy_Error as EE\n"
      ]
    },
    {
      "cell_type": "markdown",
      "metadata": {
        "id": "AbguHtf45jXv"
      },
      "source": [
        "# Functions :"
      ]
    },
    {
      "cell_type": "code",
      "execution_count": 5,
      "metadata": {
        "colab": {
          "base_uri": "https://localhost:8080/"
        },
        "id": "SflW86DV8m6P",
        "outputId": "8c6569ff-9f59-4d82-a23b-a0fa28a1f4d3"
      },
      "outputs": [],
      "source": [
        "\"\"\"\n",
        " : using the initial matrix A and B from the source given below :\n",
        " : wiki link : https://en.wikipedia.org/wiki/Runge%E2%80%93Kutta_methods#:~:text=is%5B13%5D-,0,1/6,-A%20slight%20variation\n",
        "\"\"\"\n",
        "\n",
        "\"\"\"\n",
        "############################### Original ##########################################\n",
        "\"\"\"\n",
        "# Lobatto 3A and B fourth order\n",
        "\n",
        "# A1 = A2 = jnp.array([\n",
        "#      [0., 0., 0., 0.],\n",
        "#      [5/24, 1/3, -1/24, 0.],\n",
        "#      [1/6, 2/3, 1/6, 0.],\n",
        "#      [0., 0., 0., 0.]])\n",
        "# B1 = B2 = jnp.array([1/6, 2/3, 1/6, 0.])\n",
        "\n",
        "\"\"\"\n",
        "####################################### Perturbed #######################################\n",
        "\"\"\"\n",
        "A1 = jnp.array([\n",
        "     [0., 1., 0., 0.],\n",
        "     [13/24, 3., -1., 0.],\n",
        "     [7/6, 2., 13/6, 0.],\n",
        "     [0., 0., 0., 0.]])\n",
        "B1 = jnp.array([1/2, 2., 1., 0.])\n",
        "\n",
        "\n",
        "# Lobatto IIIB fourth-order\n",
        "A2 = jnp.array([\n",
        "     [1/6, -1/6, 0., 0.],\n",
        "     [1/6, 1/3, 0., 0.],\n",
        "     [1/6, 5/6, 0., 0.],\n",
        "     [0., 0., 0., 0.]])\n",
        "B2 = jnp.array([1/6, 2/3, 1/6, 0.])\n",
        "\"\"\"\n",
        "#################################### Perturbed Finished #######################################\n",
        "\"\"\"\n",
        "\n",
        "\n",
        "## Making the Halton code\n",
        "\n",
        "spacedim = [(-1.0, 0.5),(-1.0, 0.5),(-1.0, 0.5),(-1.0, 0.5),(-1.0, 0.5),(-1.0, 0.5) ]\n",
        "\n",
        "space = Space(spacedim)\n",
        "\n",
        "halton = Halton()\n",
        "n = 150\n",
        "\n",
        "halton_sequence = halton.generate(space, n)\n",
        "halton_sequence = jnp.array(halton_sequence)\n",
        "validation_halton = halton_sequence[100:150]\n",
        "halton_sequence = halton_sequence[:100]\n",
        "\n",
        "# print(len(halton_sequence))\n",
        "# print(len(validaton_halton))\n",
        "\n"
      ]
    },
    {
      "cell_type": "markdown",
      "metadata": {
        "id": "mZ1j85DM8xkY"
      },
      "source": [
        "## ADAgrad using optax"
      ]
    },
    {
      "cell_type": "code",
      "execution_count": 7,
      "metadata": {
        "colab": {
          "base_uri": "https://localhost:8080/"
        },
        "id": "Wb5twCEG9Ocz",
        "outputId": "5236051d-1e5e-47fe-813e-77ee19f94983"
      },
      "outputs": [
        {
          "name": "stdout",
          "output_type": "stream",
          "text": [
            "(40,)\n"
          ]
        },
        {
          "name": "stderr",
          "output_type": "stream",
          "text": [
            "100%|██████████| 100/100 [04:06<00:00,  2.47s/it]\n"
          ]
        }
      ],
      "source": [
        "# Initial A1D\n",
        "import optax\n",
        "\n",
        "A1D = convert.Convert_toOneD(A1, A2, B1, B2)\n",
        "print(A1D.shape)\n",
        "\n",
        "learning_rate = 0.01\n",
        "list_optimizers = [optax.sgd(learning_rate)]\n",
        "# chosing Stochastic Gradient Descent Algorithm.\n",
        "# # We have created a list here keeping in mind that we may apply all the optimizers in optax by storing their objects in the list\n",
        " \n",
        "opt_sgd = list_optimizers[0]\n",
        "opt_state = opt_sgd.init(A1D)\n",
        "\n",
        "params = A1D\n",
        "\n",
        "count = 0\n",
        "data_epoc = 10\n",
        "data_epoc_list = []\n",
        "repetetion = 10\n",
        "# length of halton sequence = 10 \n",
        "\n",
        "tot_eror = 0\n",
        "error_list_1 = [] \n",
        "error_list_2 = []\n",
        "error_list_3 = [] # For Energy Error \n",
        "error_list_4 = [] # For Error \n",
        "\n",
        "flat_halton_sequence = jnp.array(halton_sequence).reshape(-1, 6)\n",
        "\n",
        "batch_size = 100\n",
        "validation_batch_size = 50\n",
        "\n",
        "directory = 'Recorded_Results_SGD2'\n",
        "file_path1 = os.path.join(directory, 'output.txt')\n",
        "# Open the file in write mode to clear it\n",
        "with open(file_path1, 'w') as file:\n",
        "    pass  # This does nothing, but it's enough to clear the file\n",
        "\n",
        "file_path2 = os.path.join(directory, 'Step_error.txt')\n",
        "# Open the file in write mode to clear it\n",
        "with open(file_path2, 'w') as file:\n",
        "    pass  # This does nothing, but it's enough to clear the file\n",
        "\n",
        "\n",
        "def compute_grads_single(A1D, h_element):\n",
        "    grad_fn = jax.jacfwd(IRK4.find_error)\n",
        "    return grad_fn(A1D, h_element)\n",
        "\n",
        "def compute_error_single(A1D, h_element):\n",
        "    return IRK4.find_error(A1D, h_element)\n",
        "\n",
        "def append_to_summary(k, avg_error):\n",
        "    file_path = os.path.join(directory, f'Step_error.txt')\n",
        "    \n",
        "    # # Define the file name\n",
        "    # file_name = '0_summary_sgd2.txt'\n",
        "\n",
        "    # Append the data to the text file\n",
        "    with open(file_path, 'a') as file:\n",
        "        file.write(f'{k} : {avg_error}\\n')\n",
        "\n",
        "# Use jax.vmap to vectorize the function over the batch\n",
        "compute_grads_batched = jax.vmap(compute_grads_single, in_axes=(None, 0))\n",
        "compute_error_batched = jax.vmap(compute_error_single, in_axes=(None, 0))\n",
        "\n",
        "error_list_1 = [] \n",
        "error_list_2 = []\n",
        "error_list_3 = [] # Energy Error :\n",
        "error_list_4 = [] # Error :\n",
        "validation_error_list = []\n",
        "tot_error = 0\n",
        "tot_error_energy = 0\n",
        "total_error_e = 0\n",
        "validation_tot_error = 0\n",
        "validation_avg_error = 0\n",
        "for k in trange(100):\n",
        "    tot_error = 0\n",
        "    validation_tot_error = 0\n",
        "    for batch_idx in range(0, len(flat_halton_sequence), batch_size):\n",
        "        # Collect a batch of elements from the flattened Halton sequence\n",
        "        batch_halton = flat_halton_sequence[batch_idx:batch_idx + batch_size]\n",
        "\n",
        "        # Compute the gradients for the batch using jax.vmap\n",
        "        gradF = compute_grads_batched(A1D, batch_halton)\n",
        "\n",
        "        # Compute the average gradient for the batch\n",
        "        avg_gradF = jnp.mean(gradF, axis=0)\n",
        "\n",
        "        # Perform one step of optimization using the averaged gradient\n",
        "        updates, opt_state = opt_sgd.update(avg_gradF, opt_state)\n",
        "\n",
        "        # Apply the updates to the weights A1D for the entire batch\n",
        "        A1D = optax.apply_updates(A1D, updates)\n",
        "\n",
        "        # Calculate the total error for the batch and accumulate it\n",
        "        batch_error = jnp.mean(compute_error_batched(A1D, batch_halton))\n",
        "        tot_error += batch_error\n",
        "    \"\"\"\n",
        "    # what am i tying to do here ?\n",
        "    \"\"\"\n",
        "    avg_error = tot_error / (len(flat_halton_sequence) // batch_size) # ?\n",
        "    error_list_1.append(avg_error) # ?\n",
        "  \n",
        "    tot_error = 0\n",
        "    for mm in range(len(halton_sequence)):\n",
        "        tot_error += IRK4.find_error(A1D, halton_sequence[mm])\n",
        "    \n",
        "    avg_error = tot_error / len(halton_sequence)\n",
        "    error_list_2.append(avg_error)\n",
        "    \n",
        "    \"\"\"\n",
        "    ################# Energy Error Calculation : ###################\n",
        "    \"\"\"\n",
        "    for mm in range(len(halton_sequence)):\n",
        "        energy_e = EE.find_error(A1D, halton_sequence[mm])\n",
        "        total_error_e += energy_e[0]\n",
        "        tot_error_energy += energy_e[1]\n",
        "    \n",
        "    avg_error_energy = tot_error_energy / len(halton_sequence)\n",
        "    error_list_3.append(avg_error_energy) ## Energy error Average\n",
        "    \n",
        "    avg_error_e = total_error_e / len(halton_sequence)\n",
        "    error_list_4.append(avg_error_e)\n",
        "    \"\"\"\n",
        "    ################################################################\n",
        "    \"\"\" \n",
        "    \n",
        "    # Validation data set\n",
        "    for mm in range(0,len(validation_halton)):\n",
        "        validation_tot_error += IRK4.find_error(A1D, validation_halton[mm])\n",
        "    \n",
        "    validation_avg_error = validation_tot_error / len(validation_halton)\n",
        "    validation_error_list.append(validation_avg_error)\n",
        "    \n",
        "    A1D = A1D[:40]\n",
        "    \n",
        "    new_A1, new_A2, new_B1, new_B2 = convert.Convert_toTwoD(A1D)\n",
        "    \n",
        "    # Create a directory if it doesn't exist\n",
        "    directory = 'Recorded_Results_SGD2'\n",
        "    \n",
        "    # Define the file path based on the value of k\n",
        "    file_path = os.path.join(directory, f'BatchOutput_SGD2.json')\n",
        "    \n",
        "    if not os.path.exists(directory):\n",
        "        os.makedirs(directory)\n",
        "    \n",
        "    # Saving to a json file.\n",
        "    json_A1 = new_A1.tolist()\n",
        "    json_A2 = new_A2.tolist()\n",
        "    json_B1 = new_B1.tolist()\n",
        "    json_B2 = new_B2.tolist()\n",
        "    json_avg_error = float(avg_error)\n",
        "    # Combine data into a dictionary\n",
        "    data = {\n",
        "        'Number' : k,\n",
        "        'Error' : json_avg_error,\n",
        "        'A1': json_A1,\n",
        "        'A2': json_A2,\n",
        "        'B1': json_B1,\n",
        "        'B2': json_B2 \n",
        "    }\n",
        "    \n",
        "    try:\n",
        "        with open(file_path, 'r') as file:\n",
        "            existing_data = json.load(file)\n",
        "    except FileNotFoundError:\n",
        "        existing_data = []\n",
        "\n",
        "    existing_data.update(data)\n",
        "    \n",
        "    # Save the data to BatchOutput.json\n",
        "    with open(file_path, 'w') as file:\n",
        "        json.dump(existing_data, file)\n",
        "\n",
        "    # print(f'Data saved to {file_path}')\n",
        "    \n",
        "    ###\n",
        "    \n",
        "    \"\"\"Creating new files for all the new A1, A2, B1 and B2 values\"\"\"\n",
        "    \n",
        "    # Assuming you have the necessary data (new_A1, new_A2, new_B1, new_B2, avg_error, k)\n",
        "\n",
        "    # Convert lists to strings\n",
        "    A1_str = ' - '.join(map(str, new_A1.tolist()))\n",
        "    A2_str = ' - '.join(map(str, new_A2.tolist()))\n",
        "    B1_str = ' - '.join(map(str, new_B1.tolist()))\n",
        "    B2_str = ' - '.join(map(str, new_B2.tolist()))\n",
        "\n",
        "    # Convert avg_error to a float (if necessary)\n",
        "    avg_error_float = float(avg_error) if avg_error.shape == () else avg_error.tolist()\n",
        "\n",
        "    # Convert k to an integer (if it's not already)\n",
        "    json_k = int(k)\n",
        "\n",
        "    \n",
        "    # Define the file path based on the value of k\n",
        "    file_path = os.path.join(directory, f'output.txt')\n",
        "    \n",
        "    if not os.path.exists(directory):\n",
        "        os.makedirs(directory)\n",
        "        \n",
        "    # Read existing content (if any)\n",
        "    try:\n",
        "        with open(file_path, 'r') as file:\n",
        "            existing_content = file.read()\n",
        "    except FileNotFoundError:\n",
        "        existing_content = ''\n",
        "\n",
        "\n",
        "    # Write the data to the text file\n",
        "    with open(file_path, 'w') as file:\n",
        "        file.write(existing_content)\n",
        "        file.write(f'Number: {json_k}\\n')\n",
        "        file.write(f'Error: {avg_error_float}\\n')\n",
        "        file.write(f'A1: {A1_str}\\n')\n",
        "        file.write(f'A2: {A2_str}\\n')\n",
        "        file.write(f'B1: {B1_str}\\n')\n",
        "        file.write(f'B2: {B2_str}\\n')\n",
        "        file.write('-' * 80 + '\\n')  # Add a division line\n",
        "    \n",
        "    \"\"\"Creating a single file for sequence number and error associated with it. \"\"\"\n",
        "    append_to_summary(k, avg_error_float)\n",
        "    \n",
        "    "
      ]
    },
    {
      "cell_type": "code",
      "execution_count": 6,
      "metadata": {},
      "outputs": [
        {
          "name": "stdout",
          "output_type": "stream",
          "text": [
            "[Array(0.03714771, dtype=float64), Array(0.03730083, dtype=float64), Array(0.03745583, dtype=float64), Array(0.03761299, dtype=float64), Array(0.03777233, dtype=float64), Array(0.03793399, dtype=float64), Array(0.03809836, dtype=float64), Array(0.03826522, dtype=float64), Array(0.03843463, dtype=float64), Array(0.03860683, dtype=float64), Array(0.03878164, dtype=float64), Array(0.03895918, dtype=float64), Array(0.03913915, dtype=float64), Array(0.03932196, dtype=float64), Array(0.03950734, dtype=float64), Array(0.03969573, dtype=float64), Array(0.03988687, dtype=float64), Array(0.04008088, dtype=float64), Array(0.04027814, dtype=float64), Array(0.04047906, dtype=float64), Array(0.04068302, dtype=float64), Array(0.04089017, dtype=float64), Array(0.04110052, dtype=float64), Array(0.04131442, dtype=float64), Array(0.04153217, dtype=float64), Array(0.04175369, dtype=float64), Array(0.04197879, dtype=float64), Array(0.04220761, dtype=float64), Array(0.04244007, dtype=float64), Array(0.04267644, dtype=float64), Array(0.04291681, dtype=float64), Array(0.0431616, dtype=float64), Array(0.04341059, dtype=float64), Array(0.04366387, dtype=float64), Array(0.0439224, dtype=float64), Array(0.04418565, dtype=float64), Array(0.04445368, dtype=float64), Array(0.04472658, dtype=float64), Array(0.04500462, dtype=float64), Array(0.0452879, dtype=float64), Array(0.04557685, dtype=float64), Array(0.04587132, dtype=float64), Array(0.04617143, dtype=float64), Array(0.04647823, dtype=float64), Array(0.04679141, dtype=float64), Array(0.04711099, dtype=float64), Array(0.04743781, dtype=float64), Array(0.04777194, dtype=float64), Array(0.0481135, dtype=float64), Array(0.0484625, dtype=float64), Array(0.04881887, dtype=float64), Array(0.04918275, dtype=float64), Array(0.04955482, dtype=float64), Array(0.0499367, dtype=float64), Array(0.05032801, dtype=float64), Array(0.05072823, dtype=float64), Array(0.05113781, dtype=float64), Array(0.05155702, dtype=float64), Array(0.05198721, dtype=float64), Array(0.05242791, dtype=float64), Array(0.05287963, dtype=float64), Array(0.05334262, dtype=float64), Array(0.05381756, dtype=float64), Array(0.05430556, dtype=float64), Array(0.05480672, dtype=float64), Array(0.05532203, dtype=float64), Array(0.05585201, dtype=float64), Array(0.05639729, dtype=float64), Array(0.05695814, dtype=float64), Array(0.05753493, dtype=float64), Array(0.05812893, dtype=float64), Array(0.05874052, dtype=float64), Array(0.05937099, dtype=float64), Array(0.06002098, dtype=float64), Array(0.06069171, dtype=float64), Array(0.06138574, dtype=float64), Array(0.06210347, dtype=float64), Array(0.0628451, dtype=float64), Array(0.06361234, dtype=float64), Array(0.06440613, dtype=float64), Array(0.06522879, dtype=float64), Array(0.06608217, dtype=float64), Array(0.06696682, dtype=float64), Array(0.06788445, dtype=float64), Array(0.06883738, dtype=float64), Array(0.06982828, dtype=float64), Array(0.07086079, dtype=float64), Array(0.07193638, dtype=float64), Array(0.07305886, dtype=float64), Array(0.07423048, dtype=float64), Array(0.07545454, dtype=float64), Array(0.07673508, dtype=float64), Array(0.07807609, dtype=float64), Array(0.07948181, dtype=float64), Array(0.08095769, dtype=float64), Array(0.08250783, dtype=float64), Array(0.08413946, dtype=float64), Array(0.08585988, dtype=float64), Array(0.08767668, dtype=float64), Array(0.08959902, dtype=float64)]\n",
            "100\n",
            "100\n"
          ]
        }
      ],
      "source": [
        "print(error_list_2[::-1])\n",
        "print(len(error_list_2))\n",
        "print(len(error_list_1))"
      ]
    },
    {
      "cell_type": "code",
      "execution_count": 7,
      "metadata": {},
      "outputs": [
        {
          "name": "stdout",
          "output_type": "stream",
          "text": [
            "[Array(0.07375858, dtype=float64), Array(0.1457013, dtype=float64), Array(0.21592905, dtype=float64), Array(0.28453437, dtype=float64), Array(0.35160203, dtype=float64), Array(0.41721048, dtype=float64), Array(0.48143149, dtype=float64), Array(0.54433203, dtype=float64), Array(0.60597417, dtype=float64), Array(0.66641563, dtype=float64), Array(0.72571036, dtype=float64), Array(0.78390858, dtype=float64), Array(0.84105705, dtype=float64), Array(0.89720022, dtype=float64), Array(0.95237909, dtype=float64), Array(1.0066327, dtype=float64), Array(1.05999732, dtype=float64), Array(1.11250695, dtype=float64), Array(1.16419344, dtype=float64), Array(1.21508688, dtype=float64), Array(1.26521596, dtype=float64), Array(1.314608, dtype=float64), Array(1.36328844, dtype=float64), Array(1.41128159, dtype=float64), Array(1.45861029, dtype=float64), Array(1.50529645, dtype=float64), Array(1.5513615, dtype=float64), Array(1.59682518, dtype=float64), Array(1.64170607, dtype=float64), Array(1.68602203, dtype=float64), Array(1.72978996, dtype=float64), Array(1.77302606, dtype=float64), Array(1.81574567, dtype=float64), Array(1.85796349, dtype=float64), Array(1.89969372, dtype=float64), Array(1.94094999, dtype=float64), Array(1.98174558, dtype=float64), Array(2.02209277, dtype=float64), Array(2.06200369, dtype=float64), Array(2.10148979, dtype=float64), Array(2.14056183, dtype=float64), Array(2.17923036, dtype=float64), Array(2.21750533, dtype=float64), Array(2.25539678, dtype=float64), Array(2.29291393, dtype=float64), Array(2.33006575, dtype=float64), Array(2.36686078, dtype=float64), Array(2.40330731, dtype=float64), Array(2.439414, dtype=float64), Array(2.47518861, dtype=float64), Array(2.51063849, dtype=float64), Array(2.54577071, dtype=float64), Array(2.58059222, dtype=float64), Array(2.61510987, dtype=float64), Array(2.64933017, dtype=float64), Array(2.68325968, dtype=float64), Array(2.71690441, dtype=float64), Array(2.75027016, dtype=float64), Array(2.78336289, dtype=float64), Array(2.81618806, dtype=float64), Array(2.8487509, dtype=float64), Array(2.88105667, dtype=float64), Array(2.91311032, dtype=float64), Array(2.94491671, dtype=float64), Array(2.97648046, dtype=float64), Array(3.00780612, dtype=float64), Array(3.03889805, dtype=float64), Array(3.06976084, dtype=float64), Array(3.10039861, dtype=float64), Array(3.13081533, dtype=float64), Array(3.16101497, dtype=float64), Array(3.19100137, dtype=float64), Array(3.22077821, dtype=float64), Array(3.25034906, dtype=float64), Array(3.27971739, dtype=float64), Array(3.30888657, dtype=float64), Array(3.33785997, dtype=float64), Array(3.36664095, dtype=float64), Array(3.3952327, dtype=float64), Array(3.42363824, dtype=float64), Array(3.45186055, dtype=float64), Array(3.47990253, dtype=float64), Array(3.50776714, dtype=float64), Array(3.53545729, dtype=float64), Array(3.56297567, dtype=float64), Array(3.59032487, dtype=float64), Array(3.61750754, dtype=float64), Array(3.64452613, dtype=float64), Array(3.67138317, dtype=float64), Array(3.69808099, dtype=float64), Array(3.72462194, dtype=float64), Array(3.75100836, dtype=float64), Array(3.77724255, dtype=float64), Array(3.80332681, dtype=float64), Array(3.82926327, dtype=float64), Array(3.85505419, dtype=float64), Array(3.88070159, dtype=float64), Array(3.90620749, dtype=float64), Array(3.93157388, dtype=float64), Array(3.95680262, dtype=float64)]\n"
          ]
        }
      ],
      "source": [
        "## Energy error :\n",
        "\n",
        "print(error_list_3)"
      ]
    },
    {
      "cell_type": "markdown",
      "metadata": {},
      "source": [
        "# Loading the data from the Json File"
      ]
    },
    {
      "cell_type": "code",
      "execution_count": 14,
      "metadata": {
        "colab": {
          "base_uri": "https://localhost:8080/"
        },
        "id": "BLhWApwaEkne",
        "outputId": "4a572465-252e-4511-ed2f-35bf47f6b4b5"
      },
      "outputs": [],
      "source": [
        "# import json\n",
        "# import jax.numpy as jnp\n",
        "\n",
        "# # File path\n",
        "# file_path = 'BatchOutput_SGD2.json'\n",
        "\n",
        "# # Reading the data from the JSON file\n",
        "# with open(file_path, 'r') as json_file:\n",
        "#     loaded_data = json.load(json_file)\n",
        "\n",
        "# # Converting the data back to jax.numpy\n",
        "# loaded_A1 = jnp.array(loaded_data['A1'])\n",
        "# loaded_A2 = jnp.array(loaded_data['A2'])\n",
        "# loaded_B1 = jnp.array(loaded_data['B1'])\n",
        "# loaded_B2 = jnp.array(loaded_data['B2'])\n",
        "\n",
        "# print(\"upadated A1 : \\n\", loaded_A1, \"\\n\")\n",
        "# print(\"upadated A2 : \\n\", loaded_A2, \"\\n\")\n",
        "# print(\"upadated B1 : \\n\", loaded_B1, \"\\n\")\n",
        "# print(\"upadated B2 : \\n\", loaded_B2, \"\\n\")"
      ]
    },
    {
      "cell_type": "markdown",
      "metadata": {},
      "source": [
        "# Tests"
      ]
    },
    {
      "cell_type": "code",
      "execution_count": 15,
      "metadata": {},
      "outputs": [],
      "source": [
        "# import tests\n",
        "\n",
        "# test_func = [ tests.F, tests.FyF, tests.FzG, tests.FyyFF, tests.FyzFG, tests.FzzGG, tests.FyFyF, tests.FyFzG, tests.FzGyF, tests.FzGzG,\n",
        "#               tests.G, tests.GyF, tests.GzF, tests.GzzGG, tests.GzyGF, tests.GyyFF, tests.GzGzG, tests.GyGzF, tests.GyFzG, tests.GzFzF]\n",
        "\n",
        "# l1 = [1, 2, 2, 3, 3, 3, 6, 6, 6, 6, 1, 2, 2, 3, 3, 3, 6, 6, 6, 6]\n",
        "\n",
        "# for func in test_func :\n",
        "#     print(func(new_B1, new_B2, new_A1, new_A2))\n"
      ]
    },
    {
      "cell_type": "code",
      "execution_count": 16,
      "metadata": {
        "colab": {
          "base_uri": "https://localhost:8080/"
        },
        "id": "VZfJ6uXHkJX-",
        "outputId": "b634d69b-cae2-4207-c94b-979b852150da"
      },
      "outputs": [
        {
          "name": "stdout",
          "output_type": "stream",
          "text": [
            "[Array(0.08959902, dtype=float64), Array(0.08767668, dtype=float64), Array(0.08585988, dtype=float64), Array(0.08413946, dtype=float64), Array(0.08250783, dtype=float64), Array(0.08095769, dtype=float64), Array(0.07948181, dtype=float64), Array(0.07807609, dtype=float64), Array(0.07673508, dtype=float64), Array(0.07545454, dtype=float64), Array(0.07423048, dtype=float64), Array(0.07305886, dtype=float64), Array(0.07193638, dtype=float64), Array(0.07086079, dtype=float64), Array(0.06982828, dtype=float64), Array(0.06883738, dtype=float64), Array(0.06788445, dtype=float64), Array(0.06696682, dtype=float64), Array(0.06608217, dtype=float64), Array(0.06522879, dtype=float64), Array(0.06440613, dtype=float64), Array(0.06361234, dtype=float64), Array(0.0628451, dtype=float64), Array(0.06210347, dtype=float64), Array(0.06138574, dtype=float64), Array(0.06069171, dtype=float64), Array(0.06002098, dtype=float64), Array(0.05937099, dtype=float64), Array(0.05874052, dtype=float64), Array(0.05812893, dtype=float64), Array(0.05753493, dtype=float64), Array(0.05695814, dtype=float64), Array(0.05639729, dtype=float64), Array(0.05585201, dtype=float64), Array(0.05532203, dtype=float64), Array(0.05480672, dtype=float64), Array(0.05430556, dtype=float64), Array(0.05381756, dtype=float64), Array(0.05334262, dtype=float64), Array(0.05287963, dtype=float64), Array(0.05242791, dtype=float64), Array(0.05198721, dtype=float64), Array(0.05155702, dtype=float64), Array(0.05113781, dtype=float64), Array(0.05072823, dtype=float64), Array(0.05032801, dtype=float64), Array(0.0499367, dtype=float64), Array(0.04955482, dtype=float64), Array(0.04918275, dtype=float64), Array(0.04881887, dtype=float64), Array(0.0484625, dtype=float64), Array(0.0481135, dtype=float64), Array(0.04777194, dtype=float64), Array(0.04743781, dtype=float64), Array(0.04711099, dtype=float64), Array(0.04679141, dtype=float64), Array(0.04647823, dtype=float64), Array(0.04617143, dtype=float64), Array(0.04587132, dtype=float64), Array(0.04557685, dtype=float64), Array(0.0452879, dtype=float64), Array(0.04500462, dtype=float64), Array(0.04472658, dtype=float64), Array(0.04445368, dtype=float64), Array(0.04418565, dtype=float64), Array(0.0439224, dtype=float64), Array(0.04366387, dtype=float64), Array(0.04341059, dtype=float64), Array(0.0431616, dtype=float64), Array(0.04291681, dtype=float64), Array(0.04267644, dtype=float64), Array(0.04244007, dtype=float64), Array(0.04220761, dtype=float64), Array(0.04197879, dtype=float64), Array(0.04175369, dtype=float64), Array(0.04153217, dtype=float64), Array(0.04131442, dtype=float64), Array(0.04110052, dtype=float64), Array(0.04089017, dtype=float64), Array(0.04068302, dtype=float64), Array(0.04047906, dtype=float64), Array(0.04027814, dtype=float64), Array(0.04008088, dtype=float64), Array(0.03988687, dtype=float64), Array(0.03969573, dtype=float64), Array(0.03950734, dtype=float64), Array(0.03932196, dtype=float64), Array(0.03913915, dtype=float64), Array(0.03895918, dtype=float64), Array(0.03878164, dtype=float64), Array(0.03860683, dtype=float64), Array(0.03843463, dtype=float64), Array(0.03826522, dtype=float64), Array(0.03809836, dtype=float64), Array(0.03793399, dtype=float64), Array(0.03777233, dtype=float64), Array(0.03761299, dtype=float64), Array(0.03745583, dtype=float64), Array(0.03730083, dtype=float64), Array(0.03714771, dtype=float64)]\n",
            "[Array(0.07384158, dtype=float64), Array(0.07245971, dtype=float64), Array(0.07115117, dtype=float64), Array(0.06990905, dtype=float64), Array(0.06872821, dtype=float64), Array(0.0676048, dtype=float64), Array(0.06653372, dtype=float64), Array(0.06551095, dtype=float64), Array(0.06453341, dtype=float64), Array(0.06359742, dtype=float64), Array(0.06270221, dtype=float64), Array(0.06184459, dtype=float64), Array(0.06102071, dtype=float64), Array(0.06022963, dtype=float64), Array(0.05946877, dtype=float64), Array(0.05873754, dtype=float64), Array(0.05803255, dtype=float64), Array(0.05735261, dtype=float64), Array(0.05669733, dtype=float64), Array(0.05606403, dtype=float64), Array(0.05545199, dtype=float64), Array(0.05486101, dtype=float64), Array(0.0542893, dtype=float64), Array(0.0537362, dtype=float64), Array(0.05320087, dtype=float64), Array(0.05268206, dtype=float64), Array(0.05217914, dtype=float64), Array(0.05169085, dtype=float64), Array(0.05121638, dtype=float64), Array(0.05075533, dtype=float64), Array(0.05030702, dtype=float64), Array(0.04987161, dtype=float64), Array(0.04944889, dtype=float64), Array(0.04903711, dtype=float64), Array(0.04863698, dtype=float64), Array(0.04824753, dtype=float64), Array(0.04786794, dtype=float64), Array(0.04749785, dtype=float64), Array(0.04713771, dtype=float64), Array(0.04678617, dtype=float64), Array(0.04644287, dtype=float64), Array(0.04610777, dtype=float64), Array(0.04578023, dtype=float64), Array(0.04546117, dtype=float64), Array(0.04515013, dtype=float64), Array(0.04484621, dtype=float64), Array(0.0445489, dtype=float64), Array(0.04425784, dtype=float64), Array(0.04397388, dtype=float64), Array(0.04369611, dtype=float64), Array(0.04342386, dtype=float64), Array(0.04315755, dtype=float64), Array(0.04289711, dtype=float64), Array(0.04264235, dtype=float64), Array(0.04239305, dtype=float64), Array(0.0421495, dtype=float64), Array(0.04191044, dtype=float64), Array(0.04167584, dtype=float64), Array(0.04144593, dtype=float64), Array(0.04122, dtype=float64), Array(0.0409981, dtype=float64), Array(0.04078131, dtype=float64), Array(0.04056844, dtype=float64), Array(0.04035954, dtype=float64), Array(0.04015441, dtype=float64), Array(0.03995272, dtype=float64), Array(0.03975449, dtype=float64), Array(0.03956024, dtype=float64), Array(0.0393694, dtype=float64), Array(0.03918171, dtype=float64), Array(0.03899702, dtype=float64), Array(0.03881514, dtype=float64), Array(0.0386362, dtype=float64), Array(0.03846018, dtype=float64), Array(0.0382869, dtype=float64), Array(0.03811605, dtype=float64), Array(0.03794832, dtype=float64), Array(0.03778346, dtype=float64), Array(0.03762112, dtype=float64), Array(0.03746101, dtype=float64), Array(0.03730342, dtype=float64), Array(0.03714828, dtype=float64), Array(0.03699573, dtype=float64), Array(0.03684585, dtype=float64), Array(0.03669823, dtype=float64), Array(0.03655254, dtype=float64), Array(0.03640914, dtype=float64), Array(0.03626756, dtype=float64), Array(0.03612836, dtype=float64), Array(0.03599116, dtype=float64), Array(0.03585598, dtype=float64), Array(0.03572279, dtype=float64), Array(0.03559161, dtype=float64), Array(0.03546247, dtype=float64), Array(0.03533497, dtype=float64), Array(0.03520934, dtype=float64), Array(0.03508568, dtype=float64), Array(0.03496395, dtype=float64), Array(0.0348441, dtype=float64), Array(0.03472616, dtype=float64)]\n",
            "[ 0.46620972  1.96831669  0.97034498 -0.03377454]\n",
            "[0.27551649 0.76801436 0.25488237 0.11362537]\n"
          ]
        }
      ],
      "source": [
        "print(error_list_2)\n",
        "print(validation_error_list)\n",
        "print(new_B1)\n",
        "print(new_B2)"
      ]
    },
    {
      "cell_type": "code",
      "execution_count": 17,
      "metadata": {
        "colab": {
          "base_uri": "https://localhost:8080/",
          "height": 489
        },
        "id": "O_nCYnwXnVfV",
        "outputId": "db8a321b-e3d3-4b8e-add0-608bd0f88185"
      },
      "outputs": [],
      "source": [
        "# import matplotlib.pyplot as plt\n",
        "# a = list(range(1,len(error_list_2)+1))\n",
        "\n",
        "# # Convergence\n",
        "# plt.loglog(a, error_list_2, label = \"\",marker='o')\n",
        "# plt.loglog(a, validation_error_list, label = \"\",marker='s')\n",
        "\n",
        "# # plt.plot(step_size_list_convergence, error_list_convergence, label = \"Error\",marker='o')\n",
        "# plt.legend()\n",
        "# plt.grid()\n",
        "# plt.xlabel('Epoch')\n",
        "# plt.ylabel('Error')"
      ]
    },
    {
      "cell_type": "code",
      "execution_count": 18,
      "metadata": {},
      "outputs": [
        {
          "data": {
            "text/plain": [
              "Text(0, 0.5, 'Error')"
            ]
          },
          "execution_count": 18,
          "metadata": {},
          "output_type": "execute_result"
        },
        {
          "data": {
            "image/png": "[encoded data removed]",
            "text/plain": [
              "<Figure size 640x480 with 1 Axes>"
            ]
          },
          "metadata": {},
          "output_type": "display_data"
        }
      ],
      "source": [
        "a = list(range(1,len(error_list_2)+1))\n",
        "\n",
        "# Convergence\n",
        "# for i in range(0, len(error_list_1)):\n",
        "\n",
        "# plt.loglog(a, error_list_2, label = \"\",marker='o')\n",
        "    \n",
        "error_list_convergence = jnp.array(error_list_2)\n",
        "error_list_convergence = jnp.log(error_list_convergence) / jnp.log(10)\n",
        "\n",
        "energy_error_list_convergence = jnp.array(error_list_3)\n",
        "energy_error_list_convergence = jnp.array(energy_error_list_convergence) / jnp.log(10)\n",
        "\n",
        "# e_list_convergence = jnp.array(error_list_4)\n",
        "# e_list_convergence = jnp.array(e_list_convergence) / jnp.log(10)\n",
        "\n",
        "validation_error_list = jnp.array(validation_error_list)\n",
        "validation_error_list = jnp.log(validation_error_list) / jnp.log(10)\n",
        "\n",
        "plt.plot(a, error_list_convergence, label = \"Error\",marker='o')\n",
        "plt.plot(a, validation_error_list,label = \"Validation\",marker='s' )\n",
        "plt.plot(a, energy_error_list_convergence,label = \"Energy_Error\",marker='s' )\n",
        "# plt.plot(a, e_list_convergence,label = \"E\",marker='o' )\n",
        "\n",
        "\n",
        "plt.legend()\n",
        "plt.grid()\n",
        "plt.xlabel('Epoch')\n",
        "plt.ylabel('Error')"
      ]
    },
    {
      "cell_type": "markdown",
      "metadata": {
        "id": "0MaZaD9Zn5tT"
      },
      "source": [
        "# Now applying the updated value to the PRK method, and checking the convergence, dynamic and contour plots"
      ]
    },
    {
      "cell_type": "code",
      "execution_count": 37,
      "metadata": {
        "id": "JYUp3vRfkFZK"
      },
      "outputs": [
        {
          "name": "stdout",
          "output_type": "stream",
          "text": [
            "======\n",
            "(1, 1)\n",
            "(1, 1)\n",
            "======\n",
            "======\n",
            "(10, 1)\n",
            "(10, 1)\n",
            "======\n",
            "======\n",
            "(100, 1)\n",
            "(100, 1)\n",
            "======\n",
            "======\n",
            "(1000, 1)\n",
            "(1000, 1)\n",
            "======\n"
          ]
        }
      ],
      "source": [
        "import json\n",
        "import jax.numpy as jnp\n",
        "\n",
        "# File path\n",
        "file_path = 'Recorded_Results_SGD2/BatchOutput_SGD2.json'\n",
        "\n",
        "# Reading the data from the JSON file\n",
        "with open(file_path, 'r') as json_file:\n",
        "    loaded_data = json.load(json_file)\n",
        "\n",
        "# Converting the data back to jax.numpy\n",
        "A1 = jnp.array(loaded_data['A1'])\n",
        "A2 = jnp.array(loaded_data['A2'])\n",
        "B1 = jnp.array(loaded_data['B1'])\n",
        "B2 = jnp.array(loaded_data['B2'])\n",
        "\n",
        "# print(A2)\n",
        "# print(B2)\n",
        "\n",
        "# A2 = jnp.array([\n",
        "#      [1/6, -1/6, 0., 0.],\n",
        "#      [1/6, 1/3, 0., 0.],\n",
        "#      [1/6, 5/6, 0., 0.],\n",
        "#      [0., 0., 0., 0.]])\n",
        "# B2 = jnp.array([1/6, 2/3, 1/6, 0.])\n",
        "\n",
        "# Lobatto IIIA fourth-order\n",
        "# A1 = jnp.array([\n",
        "#      [0., 0., 0., 0.],\n",
        "#      [5/24, 1/3, -1/24, 0.],\n",
        "#      [1/6, 2/3, 1/6, 0.],\n",
        "#      [0., 0., 0., 0.]])\n",
        "# B1 = jnp.array([1/6, 2/3, 1/6, 0.])\n",
        "\n",
        "# Lobatto IIIB fourth-order\n",
        "# A2 = jnp.array([\n",
        "#      [1/6, -1/6, 0., 0.],\n",
        "#      [1/6, 1/3, 0., 0.],\n",
        "#      [1/6, 5/6, 0., 0.],\n",
        "#      [0., 0., 0., 0.]])\n",
        "# B2 = jnp.array([1/6, 2/3, 1/6, 0.])\n",
        "\n",
        "# A1 = A2 = jnp.array([\n",
        "#      [0., 0., 0., 0.],\n",
        "#      [1/2, 0., 0., 0.],\n",
        "#      [0., 1/2, 0., 0.],\n",
        "#      [0., 0., 1.0, 0.]])\n",
        "\n",
        "\n",
        "# B1 = B2 = jnp.array([1/6, 1/3, 1/3, 1/6])\n",
        "\n",
        "@jit\n",
        "def f(y, z):\n",
        "    return z\n",
        "@jit\n",
        "def g(y, z):\n",
        "    return -y\n",
        "\n",
        "def Energy_Function(y, z):\n",
        "    return (jnp.square(y) + jnp.square(z))/2\n",
        "\n",
        "@jit\n",
        "def PRK_step(y0 , z0, h, A1, A2, B1, B2):\n",
        "    s = A1.shape[0]\n",
        "    dim = jnp.size(y0)\n",
        "    tol = 10**(-10)\n",
        "    K_old = jnp.zeros((s,dim))\n",
        "    L_old = jnp.zeros((s,dim))\n",
        "\n",
        "    K_new = f((y0+ h*A1 @ K_old), (z0+ h*A2 @ L_old))\n",
        "    L_new = g((y0+ h*A1 @ K_old), (z0+ h*A2 @ L_old))\n",
        "\n",
        "    init_state = 0, K_new, L_new, K_old, L_old\n",
        "    \n",
        "    @jit\n",
        "    def body_while_loop(state):\n",
        "        _, K_new, L_new, K_old, L_old = state\n",
        "        K_old = K_new\n",
        "        L_old = L_new\n",
        "        K_new = f(y0+ h * A1 @ K_old, z0 + h * A2 @ L_old)\n",
        "        L_new = g(y0+ h * A1 @ K_old, z0 + h * A2 @ L_old)\n",
        "\n",
        "        return _, K_new, L_new, K_old, L_old\n",
        "    \n",
        "    @jit\n",
        "    def condition_while_loop(state):\n",
        "        _, K_new, L_new, K_old, L_old = state\n",
        "        norms = jnp.sum(jnp.array([jnp.linalg.norm(K_new - K_old) + jnp.linalg.norm(L_new - L_old)]))\n",
        "        return norms > tol\n",
        "\n",
        "    _, K_new, L_new, K_old, L_old = jax.lax.while_loop(condition_while_loop, body_while_loop, init_state)\n",
        "    yn = y0 + h * B1 @ K_new\n",
        "    zn = z0 + h * B2 @ L_new\n",
        "\n",
        "    return yn, zn\n",
        "\n",
        "\n",
        "\n",
        "\n",
        "if __name__ == \"__main__\":\n",
        "    time_factor = 1 # default\n",
        "\n",
        "    y0 = jnp.zeros((1,1))\n",
        "    z0 = jnp.ones((1,1))\n",
        "\n",
        "    NN = jnp.array([1, 10, 100, 1000])\n",
        "    istep = 1000\n",
        "    step_size_list_convergence = []\n",
        "    o_error_list_convergence = []\n",
        "    c_error_list_convergence = []\n",
        "\n",
        "\n",
        "    for i in range(len(NN)):\n",
        "        yn_list = jnp.zeros((time_factor * NN[i], 1))\n",
        "        zn_list = jnp.zeros((time_factor * NN[i], 1))\n",
        "        iyn_list = jnp.zeros((time_factor * istep * NN[i] , 1))\n",
        "        izn_list = jnp.zeros((time_factor * istep * NN[i] , 1))\n",
        "\n",
        "        yn = zn = iyn = izn = []\n",
        "        h = 1/NN[i] #step size\n",
        "        y = iy = y0\n",
        "        z = iz = z0\n",
        "        def fori_loop_2(j, state):\n",
        "            iyn_list, izn_list, iy, iz, A1, A2, B1, B2 = state\n",
        "            iy, iz = PRK_step(iy, iz, h/istep, A1, A2, B1, B2)\n",
        "            iyn_list = iyn_list.at[j].set(iy.ravel())\n",
        "            izn_list = izn_list.at[j].set(iz.ravel())\n",
        "            state = iyn_list, izn_list, iy, iz, A1, A2, B1, B2\n",
        "\n",
        "            return state\n",
        "\n",
        "        def fori_loop_1(i, state):\n",
        "            yn_list, zn_list, y, z, A1, A2, B1, B2 = state\n",
        "            y, z = PRK_step(y, z, h, A1, A2, B1, B2)\n",
        "            yn_list = yn_list.at[i].set(y.ravel())\n",
        "            zn_list = zn_list.at[i].set(z.ravel())\n",
        "            state = yn_list, zn_list, y, z, A1, A2, B1, B2\n",
        "\n",
        "            return state\n",
        "        \n",
        "        init_state_yz = yn_list, zn_list, y, z, A1, A2, B1, B2\n",
        "        yn_list, zn_list, _, _, _, _, _, _ = jax.lax.fori_loop(0, time_factor * NN[i], fori_loop_1, init_state_yz)\n",
        "        \n",
        "        init_state_iyz = iyn_list, izn_list, iy, iz, A1, A2, B1, B2\n",
        "        iyn_list, izn_list, _, _, _, _, _, _ = jax.lax.fori_loop(0, time_factor * istep * NN[i], fori_loop_2, init_state_iyz) # time istep\n",
        "        j1_iyn_list = iyn_list[9:time_factor*istep*NN[i]:istep]\n",
        "        j2_izn_list = izn_list[9:time_factor*istep*NN[i]:istep]\n",
        "\n",
        "        # this is for calculating the original error\n",
        "        tt1 =  jnp.linspace(h, 1, NN[i]*time_factor)\n",
        "        sine_value = jnp.sin(tt1)\n",
        "        cosine_value = jnp.cos(tt1)\n",
        "\n",
        "        # Finding error using original Value\n",
        "        err1 = yn_list.ravel() - sine_value #(yn_list, sine_value)\n",
        "        err2 = zn_list.ravel() - cosine_value #(zn_list, cosine_value)\n",
        "\n",
        "        original_error = jnp.sqrt((jnp.sum(jnp.square(err1))   ) / ( NN[i]))\n",
        "\n",
        "        o_error_list_convergence.append(original_error)\n",
        "        \"\"\"   \"\"\"\n",
        "        # Finding error using original Value\n",
        "\n",
        "        #### Calculating error with the smaller steps :\n",
        "        print(\"======\")\n",
        "        print(j1_iyn_list.shape)\n",
        "        print(yn_list.shape)\n",
        "        print(\"======\")\n",
        "\n",
        "        err1 = j1_iyn_list.ravel() - yn_list.ravel()\n",
        "        err2 = j2_izn_list.ravel() - zn_list.ravel()\n",
        "\n",
        "        final_error = (jnp.sum(jnp.abs(err1)) + jnp.sum(jnp.abs(err2))) / (2*NN[i])\n",
        "\n",
        "        #### Calculating error with the smaller steps :\n",
        "        c_error_list_convergence.append(final_error)\n",
        "        step_size_list_convergence.append(h)\n"
      ]
    },
    {
      "cell_type": "code",
      "execution_count": 38,
      "metadata": {},
      "outputs": [],
      "source": [
        "# print(yn_list)"
      ]
    },
    {
      "cell_type": "code",
      "execution_count": 26,
      "metadata": {
        "colab": {
          "base_uri": "https://localhost:8080/",
          "height": 472
        },
        "id": "yaNcNKykohkp",
        "outputId": "c1e7af55-4393-4ee4-a988-8907117d5e37"
      },
      "outputs": [
        {
          "data": {
            "text/plain": [
              "Text(0, 0.5, 'Log Error')"
            ]
          },
          "execution_count": 26,
          "metadata": {},
          "output_type": "execute_result"
        },
        {
          "data": {
            "image/png": "[encoded data removed]",
            "text/plain": [
              "<Figure size 640x480 with 1 Axes>"
            ]
          },
          "metadata": {},
          "output_type": "display_data"
        }
      ],
      "source": [
        "import matplotlib.pyplot as plt\n",
        "\n",
        "# Convergence\n",
        "\n",
        "# o_error_list_convergence = jnp.array(o_error_list_convergence)\n",
        "# o_error_list_convergence = jnp.log(o_error_list_convergence) / jnp.log(10)\n",
        "# c_error_list_convergence = jnp.array(c_error_list_convergence)\n",
        "# c_error_list_convergence = jnp.log(c_error_list_convergence)/jnp.log(10)\n",
        "# plt.plot(step_size_list_convergence, o_error_list_convergence, label = \"Error\",marker='o')\n",
        "# plt.plot(step_size_list_convergence, c_error_list_convergence, label = \"Error\",marker='s')\n",
        "\n",
        "\n",
        "plt.loglog(step_size_list_convergence, o_error_list_convergence, label = \"O Error\",marker='o')\n",
        "plt.loglog(step_size_list_convergence, c_error_list_convergence, label = \"C Error\",marker='s')\n",
        "\n",
        "plt.legend()\n",
        "plt.grid()\n",
        "plt.xlabel('Step Size')\n",
        "plt.ylabel('Log Error')"
      ]
    },
    {
      "cell_type": "code",
      "execution_count": 201,
      "metadata": {
        "id": "6ZtS4TAiozdA"
      },
      "outputs": [
        {
          "name": "stdout",
          "output_type": "stream",
          "text": [
            "1000\n"
          ]
        },
        {
          "data": {
            "text/plain": [
              "Text(0, 0.5, 'x')"
            ]
          },
          "execution_count": 201,
          "metadata": {},
          "output_type": "execute_result"
        },
        {
          "data": {
            "image/png": "[encoded data removed]",
            "text/plain": [
              "<Figure size 640x480 with 1 Axes>"
            ]
          },
          "metadata": {},
          "output_type": "display_data"
        }
      ],
      "source": [
        "print(len(yn_list))\n",
        "t2 = jnp.arange(1, 1001, 1)\n",
        "plt.plot(t2, yn_list, label = \"y-t\", )\n",
        "plt.legend()\n",
        "plt.grid()\n",
        "plt.xlabel('t')\n",
        "plt.ylabel('x')\n",
        "     "
      ]
    },
    {
      "cell_type": "code",
      "execution_count": 70,
      "metadata": {},
      "outputs": [
        {
          "data": {
            "text/plain": [
              "Text(0, 0.5, 'x')"
            ]
          },
          "execution_count": 70,
          "metadata": {},
          "output_type": "execute_result"
        },
        {
          "data": {
            "image/png": "[encoded data removed]",
            "text/plain": [
              "<Figure size 640x480 with 1 Axes>"
            ]
          },
          "metadata": {},
          "output_type": "display_data"
        }
      ],
      "source": [
        "t2 = jnp.arange(1, 1001, 1)\n",
        "plt.plot(t2, zn_list, label = \"z-t\", )\n",
        "plt.legend()\n",
        "plt.grid()\n",
        "plt.xlabel('t')\n",
        "plt.ylabel('x')"
      ]
    },
    {
      "cell_type": "code",
      "execution_count": 71,
      "metadata": {},
      "outputs": [
        {
          "data": {
            "image/png": "[encoded data removed]",
            "text/plain": [
              "<Figure size 640x480 with 1 Axes>"
            ]
          },
          "metadata": {},
          "output_type": "display_data"
        }
      ],
      "source": [
        "x = yn_list\n",
        "x = x.flatten()\n",
        "y = zn_list\n",
        "y = y.flatten()\n",
        "X, Y = jnp.meshgrid(x, y)\n",
        "Z = jnp.sin(jnp.sqrt(X**2 + Y**2))\n",
        "\n",
        "# Create the contour plot\n",
        "plt.contour(X, Y, Z)\n",
        "plt.title('Contour Plot')\n",
        "plt.xlabel('x')\n",
        "plt.ylabel('y')\n",
        "plt.show()"
      ]
    },
    {
      "cell_type": "markdown",
      "metadata": {},
      "source": [
        "## energy Error :\n"
      ]
    },
    {
      "cell_type": "code",
      "execution_count": 39,
      "metadata": {},
      "outputs": [
        {
          "name": "stderr",
          "output_type": "stream",
          "text": [
            "  0%|          | 0/1000 [00:00<?, ?it/s]2023-09-20 13:54:45.336837: E external/org_tensorflow/tensorflow/compiler/xla/python/pjit.cc:461] fastpath_data is none\n",
            "100%|██████████| 1000/1000 [00:02<00:00, 495.54it/s]"
          ]
        },
        {
          "name": "stdout",
          "output_type": "stream",
          "text": [
            "[0. 0. 0. 0. 0. 0. 0. 0. 0. 0. 0. 0. 0. 0. 0. 0. 0. 0. 0. 0. 0. 0. 0. 0.\n",
            " 0. 0. 0. 0. 0. 0. 0. 0. 0. 0. 0. 0. 0. 0. 0. 0. 0. 0. 0. 0. 0. 0. 0. 0.\n",
            " 0. 0. 0. 0. 0. 0. 0. 0. 0. 0. 0. 0. 0. 0. 0. 0. 0. 0. 0. 0. 0. 0. 0. 0.\n",
            " 0. 0. 0. 0. 0. 0. 0. 0. 0. 0. 0. 0. 0. 0. 0. 0. 0. 0. 0. 0. 0. 0. 0. 0.\n",
            " 0. 0. 0. 0. 0. 0. 0. 0. 0. 0. 0. 0. 0. 0. 0. 0. 0. 0. 0. 0. 0. 0. 0. 0.\n",
            " 0. 0. 0. 0. 0. 0. 0. 0. 0. 0. 0. 0. 0. 0. 0. 0. 0. 0. 0. 0. 0. 0. 0. 0.\n",
            " 0. 0. 0. 0. 0. 0. 0. 0. 0. 0. 0. 0. 0. 0. 0. 0. 0. 0. 0. 0. 0. 0. 0. 0.\n",
            " 0. 0. 0. 0. 0. 0. 0. 0. 0. 0. 0. 0. 0. 0. 0. 0. 0. 0. 0. 0. 0. 0. 0. 0.\n",
            " 0. 0. 0. 0. 0. 0. 0. 0. 0. 0. 0. 0. 0. 0. 0. 0. 0. 0. 0. 0. 0. 0. 0. 0.\n",
            " 0. 0. 0. 0. 0. 0. 0. 0. 0. 0. 0. 0. 0. 0. 0. 0. 0. 0. 0. 0. 0. 0. 0. 0.\n",
            " 0. 0. 0. 0. 0. 0. 0. 0. 0. 0. 0. 0. 0. 0. 0. 0. 0. 0. 0. 0. 0. 0. 0. 0.\n",
            " 0. 0. 0. 0. 0. 0. 0. 0. 0. 0. 0. 0. 0. 0. 0. 0. 0. 0. 0. 0. 0. 0. 0. 0.\n",
            " 0. 0. 0. 0. 0. 0. 0. 0. 0. 0. 0. 0. 0. 0. 0. 0. 0. 0. 0. 0. 0. 0. 0. 0.\n",
            " 0. 0. 0. 0. 0. 0. 0. 0. 0. 0. 0. 0. 0. 0. 0. 0. 0. 0. 0. 0. 0. 0. 0. 0.\n",
            " 0. 0. 0. 0. 0. 0. 0. 0. 0. 0. 0. 0. 0. 0. 0. 0. 0. 0. 0. 0. 0. 0. 0. 0.\n",
            " 0. 0. 0. 0. 0. 0. 0. 0. 0. 0. 0. 0. 0. 0. 0. 0. 0. 0. 0. 0. 0. 0. 0. 0.\n",
            " 0. 0. 0. 0. 0. 0. 0. 0. 0. 0. 0. 0. 0. 0. 0. 0. 0. 0. 0. 0. 0. 0. 0. 0.\n",
            " 0. 0. 0. 0. 0. 0. 0. 0. 0. 0. 0. 0. 0. 0. 0. 0. 0. 0. 0. 0. 0. 0. 0. 0.\n",
            " 0. 0. 0. 0. 0. 0. 0. 0. 0. 0. 0. 0. 0. 0. 0. 0. 0. 0. 0. 0. 0. 0. 0. 0.\n",
            " 0. 0. 0. 0. 0. 0. 0. 0. 0. 0. 0. 0. 0. 0. 0. 0. 0. 0. 0. 0. 0. 0. 0. 0.\n",
            " 0. 0. 0. 0. 0. 0. 0. 0. 0. 0. 0. 0. 0. 0. 0. 0. 0. 0. 0. 0. 0. 0. 0. 0.\n",
            " 0. 0. 0. 0. 0. 0. 0. 0. 0. 0. 0. 0. 0. 0. 0. 0. 0. 0. 0. 0. 0. 0. 0. 0.\n",
            " 0. 0. 0. 0. 0. 0. 0. 0. 0. 0. 0. 0. 0. 0. 0. 0. 0. 0. 0. 0. 0. 0. 0. 0.\n",
            " 0. 0. 0. 0. 0. 0. 0. 0. 0. 0. 0. 0. 0. 0. 0. 0. 0. 0. 0. 0. 0. 0. 0. 0.\n",
            " 0. 0. 0. 0. 0. 0. 0. 0. 0. 0. 0. 0. 0. 0. 0. 0. 0. 0. 0. 0. 0. 0. 0. 0.\n",
            " 0. 0. 0. 0. 0. 0. 0. 0. 0. 0. 0. 0. 0. 0. 0. 0. 0. 0. 0. 0. 0. 0. 0. 0.\n",
            " 0. 0. 0. 0. 0. 0. 0. 0. 0. 0. 0. 0. 0. 0. 0. 0. 0. 0. 0. 0. 0. 0. 0. 0.\n",
            " 0. 0. 0. 0. 0. 0. 0. 0. 0. 0. 0. 0. 0. 0. 0. 0. 0. 0. 0. 0. 0. 0. 0. 0.\n",
            " 0. 0. 0. 0. 0. 0. 0. 0. 0. 0. 0. 0. 0. 0. 0. 0. 0. 0. 0. 0. 0. 0. 0. 0.\n",
            " 0. 0. 0. 0. 0. 0. 0. 0. 0. 0. 0. 0. 0. 0. 0. 0. 0. 0. 0. 0. 0. 0. 0. 0.\n",
            " 0. 0. 0. 0. 0. 0. 0. 0. 0. 0. 0. 0. 0. 0. 0. 0. 0. 0. 0. 0. 0. 0. 0. 0.\n",
            " 0. 0. 0. 0. 0. 0. 0. 0. 0. 0. 0. 0. 0. 0. 0. 0. 0. 0. 0. 0. 0. 0. 0. 0.\n",
            " 0. 0. 0. 0. 0. 0. 0. 0. 0. 0. 0. 0. 0. 0. 0. 0. 0. 0. 0. 0. 0. 0. 0. 0.\n",
            " 0. 0. 0. 0. 0. 0. 0. 0. 0. 0. 0. 0. 0. 0. 0. 0. 0. 0. 0. 0. 0. 0. 0. 0.\n",
            " 0. 0. 0. 0. 0. 0. 0. 0. 0. 0. 0. 0. 0. 0. 0. 0. 0. 0. 0. 0. 0. 0. 0. 0.\n",
            " 0. 0. 0. 0. 0. 0. 0. 0. 0. 0. 0. 0. 0. 0. 0. 0. 0. 0. 0. 0. 0. 0. 0. 0.\n",
            " 0. 0. 0. 0. 0. 0. 0. 0. 0. 0. 0. 0. 0. 0. 0. 0. 0. 0. 0. 0. 0. 0. 0. 0.\n",
            " 0. 0. 0. 0. 0. 0. 0. 0. 0. 0. 0. 0. 0. 0. 0. 0. 0. 0. 0. 0. 0. 0. 0. 0.\n",
            " 0. 0. 0. 0. 0. 0. 0. 0. 0. 0. 0. 0. 0. 0. 0. 0. 0. 0. 0. 0. 0. 0. 0. 0.\n",
            " 0. 0. 0. 0. 0. 0. 0. 0. 0. 0. 0. 0. 0. 0. 0. 0. 0. 0. 0. 0. 0. 0. 0. 0.\n",
            " 0. 0. 0. 0. 0. 0. 0. 0. 0. 0. 0. 0. 0. 0. 0. 0. 0. 0. 0. 0. 0. 0. 0. 0.\n",
            " 0. 0. 0. 0. 0. 0. 0. 0. 0. 0. 0. 0. 0. 0. 0. 0.]\n"
          ]
        },
        {
          "name": "stderr",
          "output_type": "stream",
          "text": [
            "\n"
          ]
        }
      ],
      "source": [
        "C = jnp.zeros((len(yn_list)))\n",
        "\n",
        "for i in trange(0, len(yn_list)):\n",
        "    i_start = i *10\n",
        "    i_end = i_start + 10\n",
        "    C = C.at[i].set(jnp.sum((yn_list[i] - yn_list[0][i_start:i_end])**2))\n",
        "    \n",
        "print(C)"
      ]
    },
    {
      "cell_type": "code",
      "execution_count": null,
      "metadata": {},
      "outputs": [],
      "source": []
    }
  ],
  "metadata": {
    "colab": {
      "provenance": []
    },
    "kernelspec": {
      "display_name": "Python 3",
      "name": "python3"
    },
    "language_info": {
      "codemirror_mode": {
        "name": "ipython",
        "version": 3
      },
      "file_extension": ".py",
      "mimetype": "text/x-python",
      "name": "python",
      "nbconvert_exporter": "python",
      "pygments_lexer": "ipython3",
      "version": "3.9.19"
    }
  },
  "nbformat": 4,
  "nbformat_minor": 0
}
