{
 "cells": [
  {
   "cell_type": "markdown",
   "metadata": {},
   "source": [
    "# Implicit : Lobatto : BFGS : Setting_1"
   ]
  },
  {
   "cell_type": "code",
   "execution_count": 1,
   "metadata": {},
   "outputs": [],
   "source": [
    "import matplotlib.pyplot as plt\n",
    "import numpy as np\n",
    "\n",
    "def plot_function(ax, y, start_pt=0, title=\"\"):\n",
    "    x = range(start_pt, start_pt + len(y))\n",
    "    ax.plot(x, y, label=\"Error (JAX)\", marker='o')\n",
    "    ax.legend()\n",
    "    ax.grid()\n",
    "    ax.set_xlabel('Epoch')\n",
    "    ax.set_ylabel('Error')\n",
    "    ax.set_title(title)\n",
    "    for tick in ax.get_xticklabels():\n",
    "        tick.set_rotation(45)\n"
   ]
  },
  {
   "cell_type": "code",
   "execution_count": null,
   "metadata": {},
   "outputs": [],
   "source": [
    "# Original Weights and Perturbed Weights\n",
    "# Load Files\n",
    "S1_Total_Error = np.loadtxt('Outputs_BFGS_S1/Error.txt')\n",
    "S1_Energy_Error = np.loadtxt('Outputs_BFGS_S1/Energy.txt')git \n",
    "S1_Validation_Error = np.loadtxt('Outputs_BFGS_S1/Validation.txt')\n",
    "\n",
    "P_S1_Total_Error = np.loadtxt('Outputs_BFGS_S1/Perturbed_Error.txt')\n",
    "P_S1_Energy_Error = np.loadtxt('Outputs_BFGS_S1/Perturbed_Energy.txt')\n",
    "P_S1_Validation_Error = np.loadtxt('Outputs_BFGS_S1/Perturbed_Validation.txt')\n",
    "\n",
    "#Subplots\n",
    "fig, axs = plt.subplots(2, 3, figsize=(12, 6))\n",
    "axs = axs.flatten()\n",
    "\n",
    "##### Original\n",
    "s1_error = S1_Total_Error[0:]\n",
    "l = len(s1_error)\n",
    "plot_function(axs[0], s1_error, 0, \"Total Error\")\n",
    "\n",
    "s1_validation = S1_Validation_Error[0:l]\n",
    "plot_function(axs[1], s1_validation, 0, \"Validation Erro\")\n",
    "\n",
    "s1_energy = S1_Energy_Error[0:l]\n",
    "plot_function(axs[2], s1_energy, 0, \"Energy Error\")\n",
    "\n",
    "##### Perturbed\n",
    "p_s1_error = P_S1_Total_Error[0:]\n",
    "l = len(p_s1_error)\n",
    "print(l)\n",
    "plot_function(axs[3], p_s1_error, 0, \"Perturbed Total Error\")\n",
    "\n",
    "p_s1_validation = P_S1_Energy_Error[0:l]\n",
    "plot_function(axs[4], p_s1_validation, 0, \"Perturbed Validation Erro\")\n",
    "\n",
    "p_s1_energy = P_S1_Validation_Error[0:l]\n",
    "plot_function(axs[5], p_s1_energy, 0, \"Perturbed Energy Error\")\n",
    "\n",
    "fig.suptitle('Comparison of Original and Perturbed Weights Errors Across Different Metrics. (Implicit, Lobatto 3AB 4th Order, SGD, Finite_Difference approx., Batched(number of batches = 1) )', fontsize=10)\n",
    "\n",
    "plt.tight_layout(rect=[0, 0, 1, 0.95])  # Adjust layout to make room for the super title\n",
    "\n",
    "# # Saving the plot\n",
    "# plt.savefig('comparison_plot.png', dpi=300)\n",
    "\n",
    "plt.show()"
   ]
  }
 ],
 "metadata": {
  "kernelspec": {
   "display_name": "Jax_env",
   "language": "python",
   "name": "python3"
  },
  "language_info": {
   "codemirror_mode": {
    "name": "ipython",
    "version": 3
   },
   "file_extension": ".py",
   "mimetype": "text/x-python",
   "name": "python",
   "nbconvert_exporter": "python",
   "pygments_lexer": "ipython3",
   "version": "3.9.19"
  }
 },
 "nbformat": 4,
 "nbformat_minor": 2
}
