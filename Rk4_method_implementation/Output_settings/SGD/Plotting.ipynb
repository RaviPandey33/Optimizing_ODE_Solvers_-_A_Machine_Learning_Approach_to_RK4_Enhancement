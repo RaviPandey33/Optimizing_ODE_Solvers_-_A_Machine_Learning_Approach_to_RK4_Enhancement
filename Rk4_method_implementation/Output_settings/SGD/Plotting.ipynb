{
 "cells": [
  {
   "cell_type": "markdown",
   "metadata": {},
   "source": [
    "# Run this function first"
   ]
  },
  {
   "cell_type": "code",
   "execution_count": 1,
   "metadata": {},
   "outputs": [],
   "source": [
    "import matplotlib.pyplot as plt\n",
    "import numpy as np\n",
    "\n",
    "def plot_function(ax, y, start_pt=0, title=\"\"):\n",
    "    x = range(start_pt, start_pt + len(y))\n",
    "    ax.plot(x, y, label=\"Error (JAX)\", marker='o')\n",
    "    ax.legend()\n",
    "    ax.grid()\n",
    "    ax.set_xlabel('Epoch')\n",
    "    ax.set_ylabel('Error')\n",
    "    ax.set_title(title)"
   ]
  },
  {
   "cell_type": "markdown",
   "metadata": {},
   "source": [
    "# All Together :"
   ]
  },
  {
   "cell_type": "code",
   "execution_count": null,
   "metadata": {},
   "outputs": [],
   "source": [
    "# Original Weights and Perturbed Weights\n",
    "# Load Files\n",
    "Total_Error = np.loadtxt('Outputs/S1_Error.txt')\n",
    "Energy_Error = np.loadtxt('Outputs/S1_Energy.txt')\n",
    "Validation_Error = np.loadtxt('Outputs/S1_Validation.txt')\n",
    "\n",
    "P_Total_Error = np.loadtxt('Outputs/Perturbed_S1_Error.txt')\n",
    "P_Energy_Error = np.loadtxt('Outputs/Perturbed_S1_Energy.txt')\n",
    "P_Validation_Error = np.loadtxt('Outputs/Perturbed_S1_Validation.txt')\n",
    "\n",
    "#Subplots\n",
    "fig, axs = plt.subplots(2, 3, figsize=(12, 4))\n",
    "axs = axs.flatten()\n",
    "\n",
    "##### Original\n",
    "error = Total_Error[0:]\n",
    "l = len(error)\n",
    "plot_function(axs[0], error, 0, \"Total Error\")\n",
    "\n",
    "validation = Validation_Error[0:l]\n",
    "plot_function(axs[1], validation, 0, \"Validation Erro\")\n",
    "\n",
    "energy = Energy_Error[0:l]\n",
    "plot_function(axs[2], energy, 0, \"Energy Error\")\n",
    "\n",
    "##### Perturbed\n",
    "p_error = P_Total_Error[0:]\n",
    "l = len(p_error)\n",
    "plot_function(axs[3], p_error, 0, \"Perturbed Total Error\")\n",
    "\n",
    "p_validation = P_Energy_Error[0:l]\n",
    "plot_function(axs[4], p_validation, 0, \"Perturbed Validation Erro\")\n",
    "\n",
    "p_energy = P_Validation_Error[0:l]\n",
    "plot_function(axs[5], p_energy, 0, \"Perturbed Energy Error\")\n",
    "\n",
    "plt.tight_layout()\n",
    "plt.show()\n"
   ]
  }
 ],
 "metadata": {
  "kernelspec": {
   "display_name": "Jax_env",
   "language": "python",
   "name": "python3"
  },
  "language_info": {
   "codemirror_mode": {
    "name": "ipython",
    "version": 3
   },
   "file_extension": ".py",
   "mimetype": "text/x-python",
   "name": "python",
   "nbconvert_exporter": "python",
   "pygments_lexer": "ipython3",
   "version": "3.9.19"
  }
 },
 "nbformat": 4,
 "nbformat_minor": 2
}
