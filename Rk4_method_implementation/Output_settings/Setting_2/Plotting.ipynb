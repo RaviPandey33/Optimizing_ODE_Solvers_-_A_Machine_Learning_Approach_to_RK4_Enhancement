{
 "cells": [
  {
   "cell_type": "markdown",
   "metadata": {},
   "source": [
    "# Run this function first"
   ]
  },
  {
   "cell_type": "code",
   "execution_count": 1,
   "metadata": {},
   "outputs": [],
   "source": [
    "import matplotlib.pyplot as plt\n",
    "\n",
    "def plot_function(ax, y, start_pt=0, title=\"\"):\n",
    "    x = range(start_pt, start_pt + len(y))\n",
    "    ax.plot(x, y, label=\"Error (JAX)\", marker='o')\n",
    "    ax.legend()\n",
    "    ax.grid()\n",
    "    ax.set_xlabel('Epoch')\n",
    "    ax.set_ylabel('Error')\n",
    "    ax.set_title(title)\n"
   ]
  },
  {
   "cell_type": "markdown",
   "metadata": {},
   "source": [
    "# All Together :"
   ]
  },
  {
   "cell_type": "code",
   "execution_count": null,
   "metadata": {},
   "outputs": [],
   "source": [
    "# Lobatto , Perturbed_high, Perturbed_low\n",
    "\n",
    "import numpy as np\n",
    "S2_output = np.loadtxt('S2_Error.txt')\n",
    "S2_output_Perturbed_high = np.loadtxt('S2_Error(Perturbed_high).txt')\n",
    "S2_output_Perturbed_low = np.loadtxt('S2_Error(Perturbed_low).txt')\n",
    "\n",
    "#Subplots\n",
    "fig, axs = plt.subplots(1, 3, figsize=(12, 4))\n",
    "axs = axs.flatten()\n",
    "\n",
    "new_s2 = S2_output[0:]\n",
    "l = len(new_s2)\n",
    "plot_function(axs[0], new_s2, 0, \"Lobatto 3A\")\n",
    "\n",
    "new_s2_p_high = S2_output_Perturbed_high[0:l]\n",
    "plot_function(axs[1], new_s2_p_high, 0, \"Lobatto 3A - Perturbed_high\")\n",
    "\n",
    "new_s2_p_low = S2_output_Perturbed_low[0:l]\n",
    "plot_function(axs[2], new_s2_p_low, 0, \"Lobatto 3A - Perturbed_low\")\n",
    "\n",
    "\n",
    "plt.tight_layout()\n",
    "plt.show()"
   ]
  }
 ],
 "metadata": {
  "kernelspec": {
   "display_name": "Jax_env",
   "language": "python",
   "name": "python3"
  },
  "language_info": {
   "codemirror_mode": {
    "name": "ipython",
    "version": 3
   },
   "file_extension": ".py",
   "mimetype": "text/x-python",
   "name": "python",
   "nbconvert_exporter": "python",
   "pygments_lexer": "ipython3",
   "version": "3.9.19"
  }
 },
 "nbformat": 4,
 "nbformat_minor": 2
}
