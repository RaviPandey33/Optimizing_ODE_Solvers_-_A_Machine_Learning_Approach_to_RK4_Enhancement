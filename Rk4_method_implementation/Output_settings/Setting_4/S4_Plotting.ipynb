{
 "cells": [
  {
   "cell_type": "markdown",
   "metadata": {},
   "source": [
    "# Run this function first"
   ]
  },
  {
   "cell_type": "code",
   "execution_count": 1,
   "metadata": {},
   "outputs": [],
   "source": [
    "import matplotlib.pyplot as plt\n",
    "\n",
    "def plot_function(ax, y, start_pt=0, title=\"\"):\n",
    "    x = range(start_pt, start_pt + len(y))\n",
    "    ax.plot(x, y, label=\"Error (JAX)\", marker='o')\n",
    "    ax.legend()\n",
    "    ax.grid()\n",
    "    ax.set_xlabel('Epoch')\n",
    "    ax.set_ylabel('Error')\n",
    "    ax.set_title(title)\n"
   ]
  },
  {
   "cell_type": "markdown",
   "metadata": {},
   "source": [
    "# All Together :"
   ]
  },
  {
   "cell_type": "code",
   "execution_count": null,
   "metadata": {},
   "outputs": [],
   "source": [
    "# Lobatto , Perturbed_high, Perturbed_low\n",
    "\n",
    "import numpy as np\n",
    "S3_output = np.loadtxt('Outputs/S3_Error.txt')\n",
    "S3_Energy_error = np.loadtxt('Outputs/S3_Energy_Error.txt')\n",
    "S3_Validation = np.loadtxt('Outputs/S3_Validation.txt')\n",
    "\n",
    "S3_output_PH = np.loadtxt('Outputs/S3_Error(Perturbed_high).txt')\n",
    "S3_Energy_error_PH = np.loadtxt('Outputs/S3_Energy_Error(Perturbed_high).txt')\n",
    "S3_Validation_PH = np.loadtxt('Outputs/S3_Validation(Perturbed_high).txt')\n",
    "\n",
    "S3_output_PL = np.loadtxt('Outputs/S3_Error(Perturbed_low).txt')\n",
    "S3_Energy_error_PL = np.loadtxt('Outputs/S3_Energy_Error(Perturbed_low).txt')\n",
    "S3_Validation_PL = np.loadtxt('Outputs/S3_Validation(Perturbed_low).txt')\n",
    "\n",
    "#Subplots\n",
    "fig, axs = plt.subplots(3, 3, figsize=(16, 16))\n",
    "axs = axs.flatten()\n",
    "\n",
    "new_s3_error = S3_output[0:]\n",
    "new_s3_energy = S3_Energy_error[0:l]\n",
    "new_s3_validation = S3_Validation[0:l]\n",
    "print(len(new_s3_error))\n",
    "plot_function(axs[0], new_s3_error, 0, \"BFGS Error\")\n",
    "plot_function(axs[1], new_s3_energy, 0, \"BFGS Energy Error\")\n",
    "plot_function(axs[2], new_s3_validation, 0, \"BFGS_Validation\")\n",
    "####################################\n",
    "\n",
    "new_s3_error_PH = S3_output_PH[0:]\n",
    "new_s3_energy_PH = S3_Energy_error_PH[0:l]\n",
    "new_s3_validation_PH = S3_Validation_PH[0:l]\n",
    "\n",
    "plot_function(axs[3], new_s3_error_PH, 0, \"BFGS Error (Perturbed High)\")\n",
    "plot_function(axs[4], new_s3_energy_PH, 0, \"BFGS Energy Error (Perturbed High)\")\n",
    "plot_function(axs[5], new_s3_validation_PH, 0, \"BFGS_Validation (Perturbed High)\")\n",
    "####################################\n",
    "\n",
    "new_s3_error_PL = S3_output_PL[0:]\n",
    "new_s3_energy_PL = S3_Energy_error_PL[0:l]\n",
    "new_s3_validation_PL = S3_Validation_PL[0:l]\n",
    "\n",
    "plot_function(axs[6], new_s3_error_PL, 0, \"BFGS Error (Perturbed Low)\")\n",
    "plot_function(axs[7], new_s3_energy_PL, 0, \"BFGS Energy Error (Perturbed Low)\")\n",
    "plot_function(axs[8], new_s3_validation_PL, 0, \"BFGS_Validation (Perturbed Low)\")\n",
    "\n",
    "\n",
    "\n",
    "plt.tight_layout()\n",
    "plt.show()\n"
   ]
  }
 ],
 "metadata": {
  "kernelspec": {
   "display_name": "Jax_env",
   "language": "python",
   "name": "python3"
  },
  "language_info": {
   "codemirror_mode": {
    "name": "ipython",
    "version": 3
   },
   "file_extension": ".py",
   "mimetype": "text/x-python",
   "name": "python",
   "nbconvert_exporter": "python",
   "pygments_lexer": "ipython3",
   "version": "3.9.19"
  }
 },
 "nbformat": 4,
 "nbformat_minor": 2
}
