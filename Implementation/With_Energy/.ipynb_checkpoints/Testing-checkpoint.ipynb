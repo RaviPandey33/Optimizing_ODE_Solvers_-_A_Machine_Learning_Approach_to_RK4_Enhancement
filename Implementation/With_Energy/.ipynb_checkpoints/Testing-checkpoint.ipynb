{
 "cells": [
  {
   "cell_type": "code",
   "execution_count": null,
   "id": "742b87fd-2e75-4893-82a1-31bd4d1e8706",
   "metadata": {
    "scrolled": true
   },
   "outputs": [
    {
     "name": "stdout",
     "output_type": "stream",
     "text": [
      "[CpuDevice(id=0), CpuDevice(id=1), CpuDevice(id=2), CpuDevice(id=3), CpuDevice(id=4), CpuDevice(id=5), CpuDevice(id=6), CpuDevice(id=7), CpuDevice(id=8), CpuDevice(id=9), CpuDevice(id=10), CpuDevice(id=11), CpuDevice(id=12), CpuDevice(id=13), CpuDevice(id=14), CpuDevice(id=15), CpuDevice(id=16), CpuDevice(id=17), CpuDevice(id=18), CpuDevice(id=19), CpuDevice(id=20), CpuDevice(id=21), CpuDevice(id=22), CpuDevice(id=23), CpuDevice(id=24), CpuDevice(id=25), CpuDevice(id=26), CpuDevice(id=27), CpuDevice(id=28), CpuDevice(id=29), CpuDevice(id=30), CpuDevice(id=31), CpuDevice(id=32), CpuDevice(id=33), CpuDevice(id=34), CpuDevice(id=35), CpuDevice(id=36), CpuDevice(id=37), CpuDevice(id=38), CpuDevice(id=39), CpuDevice(id=40), CpuDevice(id=41), CpuDevice(id=42), CpuDevice(id=43), CpuDevice(id=44), CpuDevice(id=45), CpuDevice(id=46), CpuDevice(id=47), CpuDevice(id=48), CpuDevice(id=49), CpuDevice(id=50), CpuDevice(id=51), CpuDevice(id=52), CpuDevice(id=53), CpuDevice(id=54), CpuDevice(id=55), CpuDevice(id=56), CpuDevice(id=57), CpuDevice(id=58), CpuDevice(id=59), CpuDevice(id=60), CpuDevice(id=61), CpuDevice(id=62), CpuDevice(id=63), CpuDevice(id=64), CpuDevice(id=65), CpuDevice(id=66), CpuDevice(id=67), CpuDevice(id=68), CpuDevice(id=69), CpuDevice(id=70), CpuDevice(id=71), CpuDevice(id=72), CpuDevice(id=73), CpuDevice(id=74), CpuDevice(id=75), CpuDevice(id=76), CpuDevice(id=77), CpuDevice(id=78), CpuDevice(id=79), CpuDevice(id=80), CpuDevice(id=81), CpuDevice(id=82), CpuDevice(id=83), CpuDevice(id=84), CpuDevice(id=85), CpuDevice(id=86), CpuDevice(id=87), CpuDevice(id=88), CpuDevice(id=89), CpuDevice(id=90), CpuDevice(id=91), CpuDevice(id=92), CpuDevice(id=93), CpuDevice(id=94), CpuDevice(id=95), CpuDevice(id=96), CpuDevice(id=97), CpuDevice(id=98), CpuDevice(id=99)] num devices =  100\n",
      " Number of Batches :  10\n",
      "[inf]\n"
     ]
    },
    {
     "name": "stderr",
     "output_type": "stream",
     "text": [
      "  0%|          | 0/250000 [00:00<?, ?it/s]"
     ]
    },
    {
     "name": "stdout",
     "output_type": "stream",
     "text": [
      "0.0 ++++++++++\n",
      "Inside analytical Error\n"
     ]
    },
    {
     "name": "stderr",
     "output_type": "stream",
     "text": [
      "  0%|          | 19/250000 [00:02<4:39:08, 14.93it/s]"
     ]
    },
    {
     "name": "stdout",
     "output_type": "stream",
     "text": [
      "9.177403958883473e-05\n",
      "Updating min_error from inf to 9.177403958883472563e-05\n",
      "9.152385737943532e-05\n",
      "Updating min_error from 9.177403958883472563e-05 to 9.152385737943532259e-05\n",
      "9.129753050450875e-05\n",
      "Updating min_error from 9.152385737943532259e-05 to 9.129753050450874761e-05\n",
      "9.110826127934986e-05\n",
      "Updating min_error from 9.129753050450874761e-05 to 9.110826127934986318e-05\n",
      "9.094939924958325e-05\n",
      "Updating min_error from 9.110826127934986318e-05 to 9.094939924958324957e-05\n",
      "9.08157621693993e-05\n",
      "Updating min_error from 9.094939924958324957e-05 to 9.081576216939930650e-05\n",
      "9.070463157456328e-05\n",
      "Updating min_error from 9.081576216939930650e-05 to 9.070463157456328212e-05\n",
      "9.061297337386505e-05\n",
      "Updating min_error from 9.070463157456328212e-05 to 9.061297337386504968e-05\n",
      "9.053797907662857e-05\n",
      "Updating min_error from 9.061297337386504968e-05 to 9.053797907662857239e-05\n",
      "9.047727230868493e-05\n",
      "Updating min_error from 9.053797907662857239e-05 to 9.047727230868492709e-05\n"
     ]
    },
    {
     "name": "stderr",
     "output_type": "stream",
     "text": [
      "  0%|          | 31/250000 [00:02<2:36:43, 26.58it/s]"
     ]
    },
    {
     "name": "stdout",
     "output_type": "stream",
     "text": [
      "9.042864691888891e-05\n",
      "Updating min_error from 9.047727230868492709e-05 to 9.042864691888890974e-05\n",
      "9.039005114310731e-05\n",
      "Updating min_error from 9.042864691888890974e-05 to 9.039005114310730716e-05\n",
      "9.035965829151777e-05\n",
      "Updating min_error from 9.039005114310730716e-05 to 9.035965829151776612e-05\n",
      "9.03358961901617e-05\n",
      "Updating min_error from 9.035965829151776612e-05 to 9.033589619016169450e-05\n",
      "9.0317443361637e-05\n",
      "Updating min_error from 9.033589619016169450e-05 to 9.031744336163700470e-05\n",
      "9.030320256941353e-05\n",
      "Updating min_error from 9.031744336163700470e-05 to 9.030320256941353331e-05\n",
      "9.029226882464433e-05\n",
      "Updating min_error from 9.030320256941353331e-05 to 9.029226882464433022e-05\n",
      "9.028390266592248e-05\n",
      "Updating min_error from 9.029226882464433022e-05 to 9.028390266592248021e-05\n",
      "9.027750792855421e-05\n",
      "Updating min_error from 9.028390266592248021e-05 to 9.027750792855421366e-05\n",
      "9.027261103017201e-05\n",
      "Updating min_error from 9.027750792855421366e-05 to 9.027261103017200855e-05\n",
      "9.026884074576262e-05\n",
      "Updating min_error from 9.027261103017200855e-05 to 9.026884074576262476e-05\n"
     ]
    },
    {
     "name": "stderr",
     "output_type": "stream",
     "text": [
      "  0%|          | 43/250000 [00:02<1:54:59, 36.23it/s]"
     ]
    },
    {
     "name": "stdout",
     "output_type": "stream",
     "text": [
      "9.026590918858502e-05\n",
      "Updating min_error from 9.026884074576262476e-05 to 9.026590918858501845e-05\n",
      "9.026359515858339e-05\n",
      "Updating min_error from 9.026590918858501845e-05 to 9.026359515858338597e-05\n",
      "9.026173035653348e-05\n",
      "Updating min_error from 9.026359515858338597e-05 to 9.026173035653347969e-05\n",
      "9.026018816764537e-05\n",
      "Updating min_error from 9.026173035653347969e-05 to 9.026018816764537153e-05\n",
      "9.025887445245956e-05\n",
      "Updating min_error from 9.026018816764537153e-05 to 9.025887445245955518e-05\n",
      "9.025771997760996e-05\n",
      "Updating min_error from 9.025887445245955518e-05 to 9.025771997760996090e-05\n",
      "9.025667433647426e-05\n",
      "Updating min_error from 9.025771997760996090e-05 to 9.025667433647425824e-05\n",
      "9.02557012143897e-05\n",
      "Updating min_error from 9.025667433647425824e-05 to 9.025570121438970383e-05\n",
      "9.025477476103741e-05\n",
      "Updating min_error from 9.025570121438970383e-05 to 9.025477476103740970e-05\n",
      "9.025387681544796e-05\n",
      "Updating min_error from 9.025477476103740970e-05 to 9.025387681544795701e-05\n",
      "9.025299479311702e-05\n",
      "Updating min_error from 9.025387681544795701e-05 to 9.025299479311702498e-05\n"
     ]
    },
    {
     "name": "stderr",
     "output_type": "stream",
     "text": [
      "  0%|          | 49/250000 [00:02<1:44:30, 39.86it/s]"
     ]
    },
    {
     "name": "stdout",
     "output_type": "stream",
     "text": [
      "9.025212010389284e-05\n",
      "Updating min_error from 9.025299479311702498e-05 to 9.025212010389284389e-05\n",
      "9.025124698961532e-05\n",
      "Updating min_error from 9.025212010389284389e-05 to 9.025124698961532461e-05\n",
      "9.025037167908939e-05\n",
      "Updating min_error from 9.025124698961532461e-05 to 9.025037167908938674e-05\n",
      "9.024949177718126e-05\n",
      "Updating min_error from 9.025037167908938674e-05 to 9.024949177718125635e-05\n",
      "9.024860582755351e-05\n",
      "Updating min_error from 9.024949177718125635e-05 to 9.024860582755350920e-05\n",
      "9.024771300433127e-05\n",
      "Updating min_error from 9.024860582755350920e-05 to 9.024771300433126790e-05\n",
      "9.024681289789229e-05\n",
      "Updating min_error from 9.024771300433126790e-05 to 9.024681289789228584e-05\n",
      "9.024590536743962e-05\n",
      "Updating min_error from 9.024681289789228584e-05 to 9.024590536743961591e-05\n",
      "9.024499044073547e-05\n",
      "Updating min_error from 9.024590536743961591e-05 to 9.024499044073547446e-05\n",
      "9.024406824700238e-05\n",
      "Updating min_error from 9.024499044073547446e-05 to 9.024406824700238121e-05\n",
      "9.024313897284042e-05\n",
      "Updating min_error from 9.024406824700238121e-05 to 9.024313897284042050e-05\n"
     ]
    },
    {
     "name": "stderr",
     "output_type": "stream",
     "text": [
      "  0%|          | 61/250000 [00:03<1:32:30, 45.03it/s]"
     ]
    },
    {
     "name": "stdout",
     "output_type": "stream",
     "text": [
      "9.024220283387297e-05\n",
      "Updating min_error from 9.024313897284042050e-05 to 9.024220283387296925e-05\n",
      "9.024126005699585e-05\n",
      "Updating min_error from 9.024220283387296925e-05 to 9.024126005699585433e-05\n",
      "9.024031086961394e-05\n",
      "Updating min_error from 9.024126005699585433e-05 to 9.024031086961393556e-05\n",
      "9.023935549347721e-05\n",
      "Updating min_error from 9.024031086961393556e-05 to 9.023935549347721302e-05\n",
      "9.023839414148305e-05\n",
      "Updating min_error from 9.023935549347721302e-05 to 9.023839414148305410e-05\n",
      "9.023742701629306e-05\n",
      "Updating min_error from 9.023839414148305410e-05 to 9.023742701629306319e-05\n",
      "9.023645431003539e-05\n",
      "Updating min_error from 9.023742701629306319e-05 to 9.023645431003538692e-05\n",
      "9.023547620467829e-05\n",
      "Updating min_error from 9.023645431003538692e-05 to 9.023547620467828952e-05\n",
      "9.023449287266288e-05\n",
      "Updating min_error from 9.023547620467828952e-05 to 9.023449287266287970e-05\n",
      "9.023350447773026e-05\n",
      "Updating min_error from 9.023449287266287970e-05 to 9.023350447773026200e-05\n",
      "9.02325111757402e-05\n",
      "Updating min_error from 9.023350447773026200e-05 to 9.023251117574020434e-05\n"
     ]
    },
    {
     "name": "stderr",
     "output_type": "stream",
     "text": [
      "  0%|          | 73/250000 [00:03<1:26:17, 48.27it/s]"
     ]
    },
    {
     "name": "stdout",
     "output_type": "stream",
     "text": [
      "9.02315131154651e-05\n",
      "Updating min_error from 9.023251117574020434e-05 to 9.023151311546509924e-05\n",
      "9.023051043933266e-05\n",
      "Updating min_error from 9.023151311546509924e-05 to 9.023051043933265586e-05\n",
      "9.022950328403164e-05\n",
      "Updating min_error from 9.023051043933265586e-05 to 9.022950328403164376e-05\n",
      "9.022849178109651e-05\n",
      "Updating min_error from 9.022950328403164376e-05 to 9.022849178109650830e-05\n",
      "9.022747605740328e-05\n",
      "Updating min_error from 9.022849178109650830e-05 to 9.022747605740328463e-05\n",
      "9.022645623553034e-05\n",
      "Updating min_error from 9.022747605740328463e-05 to 9.022645623553033896e-05\n",
      "9.022543243413648e-05\n",
      "Updating min_error from 9.022645623553033896e-05 to 9.022543243413648397e-05\n",
      "9.02244047682339e-05\n",
      "Updating min_error from 9.022543243413648397e-05 to 9.022440476823389969e-05\n",
      "9.022337334942461e-05\n",
      "Updating min_error from 9.022440476823389969e-05 to 9.022337334942461147e-05\n",
      "9.02223382861036e-05\n",
      "Updating min_error from 9.022337334942461147e-05 to 9.022233828610360176e-05\n",
      "9.022129968363079e-05\n",
      "Updating min_error from 9.022233828610360176e-05 to 9.022129968363079165e-05\n"
     ]
    },
    {
     "name": "stderr",
     "output_type": "stream",
     "text": [
      "  0%|          | 85/250000 [00:03<1:23:27, 49.91it/s]"
     ]
    },
    {
     "name": "stdout",
     "output_type": "stream",
     "text": [
      "9.022025764446983e-05\n",
      "Updating min_error from 9.022129968363079165e-05 to 9.022025764446983231e-05\n",
      "9.021921226830178e-05\n",
      "Updating min_error from 9.022025764446983231e-05 to 9.021921226830178359e-05\n",
      "9.021816365213184e-05\n",
      "Updating min_error from 9.021921226830178359e-05 to 9.021816365213184015e-05\n",
      "9.021711189037235e-05\n",
      "Updating min_error from 9.021816365213184015e-05 to 9.021711189037235430e-05\n",
      "9.021605707490965e-05\n",
      "Updating min_error from 9.021711189037235430e-05 to 9.021605707490964988e-05\n",
      "9.021499929518446e-05\n",
      "Updating min_error from 9.021605707490964988e-05 to 9.021499929518445656e-05\n",
      "9.021393863823249e-05\n",
      "Updating min_error from 9.021499929518445656e-05 to 9.021393863823248609e-05\n",
      "9.021287518874404e-05\n",
      "Updating min_error from 9.021393863823248609e-05 to 9.021287518874403634e-05\n",
      "9.021180902910674e-05\n",
      "Updating min_error from 9.021287518874403634e-05 to 9.021180902910673591e-05\n",
      "9.021074023945398e-05\n",
      "Updating min_error from 9.021180902910673591e-05 to 9.021074023945398093e-05\n",
      "9.020966889766567e-05\n",
      "Updating min_error from 9.021074023945398093e-05 to 9.020966889766566686e-05\n"
     ]
    },
    {
     "name": "stderr",
     "output_type": "stream",
     "text": [
      "  0%|          | 97/250000 [00:03<1:22:28, 50.50it/s]"
     ]
    },
    {
     "name": "stdout",
     "output_type": "stream",
     "text": [
      "9.020859507947933e-05\n",
      "Updating min_error from 9.020966889766566686e-05 to 9.020859507947933276e-05\n",
      "9.020751885844831e-05\n",
      "Updating min_error from 9.020859507947933276e-05 to 9.020751885844831112e-05\n",
      "9.020644030600425e-05\n",
      "Updating min_error from 9.020751885844831112e-05 to 9.020644030600424564e-05\n",
      "9.020535949146589e-05\n",
      "Updating min_error from 9.020644030600424564e-05 to 9.020535949146588680e-05\n",
      "9.020427648210919e-05\n",
      "Updating min_error from 9.020535949146588680e-05 to 9.020427648210918559e-05\n",
      "9.020319134315226e-05\n",
      "Updating min_error from 9.020427648210918559e-05 to 9.020319134315226371e-05\n",
      "9.020210413777887e-05\n",
      "Updating min_error from 9.020319134315226371e-05 to 9.020210413777887302e-05\n",
      "9.020101492719023e-05\n",
      "Updating min_error from 9.020210413777887302e-05 to 9.020101492719023392e-05\n",
      "9.019992377060378e-05\n",
      "Updating min_error from 9.020101492719023392e-05 to 9.019992377060377501e-05\n",
      "9.01988307253009e-05\n",
      "Updating min_error from 9.019992377060377501e-05 to 9.019883072530090573e-05\n",
      "9.01977358466103e-05\n",
      "Updating min_error from 9.019883072530090573e-05 to 9.019773584661030608e-05\n"
     ]
    },
    {
     "name": "stderr",
     "output_type": "stream",
     "text": [
      "  0%|          | 103/250000 [00:04<1:26:52, 47.94it/s]"
     ]
    },
    {
     "name": "stdout",
     "output_type": "stream",
     "text": [
      "9.019663918794551e-05\n",
      "Updating min_error from 9.019773584661030608e-05 to 9.019663918794550779e-05\n",
      "9.019554080085367e-05\n",
      "Updating min_error from 9.019663918794550779e-05 to 9.019554080085366988e-05\n",
      "9.0194440734963e-05\n",
      "Updating min_error from 9.019554080085366988e-05 to 9.019444073496299483e-05\n",
      "9.0194440734963e-05 ++++++++++\n",
      "9.01933390380823e-05\n",
      "Updating min_error from 9.019444073496299483e-05 to 9.019333903808229901e-05\n",
      "9.019223575616377e-05\n",
      "Updating min_error from 9.019333903808229901e-05 to 9.019223575616377032e-05\n",
      "9.019113093330957e-05\n",
      "Updating min_error from 9.019223575616377032e-05 to 9.019113093330956830e-05\n",
      "9.019002461185467e-05\n",
      "Updating min_error from 9.019113093330956830e-05 to 9.019002461185467070e-05\n",
      "9.018891683230433e-05\n",
      "Updating min_error from 9.019002461185467070e-05 to 9.018891683230432859e-05\n",
      "9.018780763340675e-05\n",
      "Updating min_error from 9.018891683230432859e-05 to 9.018780763340674854e-05\n",
      "9.018669705212565e-05\n",
      "Updating min_error from 9.018780763340674854e-05 to 9.018669705212564876e-05\n"
     ]
    },
    {
     "name": "stderr",
     "output_type": "stream",
     "text": [
      "  0%|          | 115/250000 [00:04<1:22:42, 50.35it/s]"
     ]
    },
    {
     "name": "stdout",
     "output_type": "stream",
     "text": [
      "9.018558512370877e-05\n",
      "Updating min_error from 9.018669705212564876e-05 to 9.018558512370876716e-05\n",
      "9.018447188160683e-05\n",
      "Updating min_error from 9.018558512370876716e-05 to 9.018447188160683072e-05\n",
      "9.018335735758684e-05\n",
      "Updating min_error from 9.018447188160683072e-05 to 9.018335735758684112e-05\n",
      "9.018224158169888e-05\n",
      "Updating min_error from 9.018335735758684112e-05 to 9.018224158169888460e-05\n",
      "9.018112458226044e-05\n",
      "Updating min_error from 9.018224158169888460e-05 to 9.018112458226043809e-05\n",
      "9.018000638590895e-05\n",
      "Updating min_error from 9.018112458226043809e-05 to 9.018000638590895307e-05\n",
      "9.017888701762881e-05\n",
      "Updating min_error from 9.018000638590895307e-05 to 9.017888701762881150e-05\n",
      "9.01777665006935e-05\n",
      "Updating min_error from 9.017888701762881150e-05 to 9.017776650069349721e-05\n",
      "9.017664485673138e-05\n",
      "Updating min_error from 9.017776650069349721e-05 to 9.017664485673137988e-05\n",
      "9.01755221057165e-05\n",
      "Updating min_error from 9.017664485673137988e-05 to 9.017552210571649928e-05\n",
      "9.01743982659822e-05\n",
      "Updating min_error from 9.017552210571649928e-05 to 9.017439826598219917e-05\n"
     ]
    },
    {
     "name": "stderr",
     "output_type": "stream",
     "text": [
      "  0%|          | 127/250000 [00:04<1:20:46, 51.55it/s]"
     ]
    },
    {
     "name": "stdout",
     "output_type": "stream",
     "text": [
      "9.017327335421384e-05\n",
      "Updating min_error from 9.017439826598219917e-05 to 9.017327335421383597e-05\n",
      "9.017214738549692e-05\n",
      "Updating min_error from 9.017327335421383597e-05 to 9.017214738549691739e-05\n",
      "9.017102037328475e-05\n",
      "Updating min_error from 9.017214738549691739e-05 to 9.017102037328475256e-05\n",
      "9.016989232943807e-05\n",
      "Updating min_error from 9.017102037328475256e-05 to 9.016989232943806599e-05\n",
      "9.016876326415775e-05\n",
      "Updating min_error from 9.016989232943806599e-05 to 9.016876326415775001e-05\n",
      "9.016763318610899e-05\n",
      "Updating min_error from 9.016876326415775001e-05 to 9.016763318610899233e-05\n",
      "9.01665021023322e-05\n",
      "Updating min_error from 9.016763318610899233e-05 to 9.016650210233219528e-05\n",
      "9.016537001831265e-05\n",
      "Updating min_error from 9.016650210233219528e-05 to 9.016537001831264936e-05\n",
      "9.016423693794438e-05\n",
      "Updating min_error from 9.016537001831264936e-05 to 9.016423693794437509e-05\n",
      "9.01631028635432e-05\n",
      "Updating min_error from 9.016423693794437509e-05 to 9.016310286354320121e-05\n",
      "9.016196779588199e-05\n",
      "Updating min_error from 9.016310286354320121e-05 to 9.016196779588198768e-05\n"
     ]
    },
    {
     "name": "stderr",
     "output_type": "stream",
     "text": [
      "  0%|          | 139/250000 [00:04<1:21:15, 51.25it/s]"
     ]
    },
    {
     "name": "stdout",
     "output_type": "stream",
     "text": [
      "9.01608317341395e-05\n",
      "Updating min_error from 9.016196779588198768e-05 to 9.016083173413950557e-05\n",
      "9.015969467596938e-05\n",
      "Updating min_error from 9.016083173413950557e-05 to 9.015969467596937875e-05\n",
      "9.015855661745612e-05\n",
      "Updating min_error from 9.015969467596937875e-05 to 9.015855661745611949e-05\n",
      "9.015741755316319e-05\n",
      "Updating min_error from 9.015855661745611949e-05 to 9.015741755316318573e-05\n",
      "9.015627747608232e-05\n",
      "Updating min_error from 9.015741755316318573e-05 to 9.015627747608232173e-05\n",
      "9.015513637767839e-05\n",
      "Updating min_error from 9.015627747608232173e-05 to 9.015513637767838984e-05\n",
      "9.015399424788257e-05\n",
      "Updating min_error from 9.015513637767838984e-05 to 9.015399424788256711e-05\n",
      "9.015285107509618e-05\n",
      "Updating min_error from 9.015399424788256711e-05 to 9.015285107509618068e-05\n",
      "9.015170684618808e-05\n",
      "Updating min_error from 9.015285107509618068e-05 to 9.015170684618807855e-05\n",
      "9.01505615465144e-05\n",
      "Updating min_error from 9.015170684618807855e-05 to 9.015056154651440278e-05\n",
      "9.014941515989947e-05\n",
      "Updating min_error from 9.015056154651440278e-05 to 9.014941515989946682e-05\n"
     ]
    },
    {
     "name": "stderr",
     "output_type": "stream",
     "text": [
      "  0%|          | 151/250000 [00:04<1:21:49, 50.89it/s]"
     ]
    },
    {
     "name": "stdout",
     "output_type": "stream",
     "text": [
      "9.014826766865428e-05\n",
      "Updating min_error from 9.014941515989946682e-05 to 9.014826766865428182e-05\n",
      "9.014711905356256e-05\n",
      "Updating min_error from 9.014826766865428182e-05 to 9.014711905356255690e-05\n",
      "9.014596929390886e-05\n",
      "Updating min_error from 9.014711905356255690e-05 to 9.014596929390886128e-05\n",
      "9.014481836749212e-05\n",
      "Updating min_error from 9.014596929390886128e-05 to 9.014481836749212260e-05\n",
      "9.014366625050655e-05\n",
      "Updating min_error from 9.014481836749212260e-05 to 9.014366625050655442e-05\n",
      "9.014251291771474e-05\n",
      "Updating min_error from 9.014366625050655442e-05 to 9.014251291771473553e-05\n",
      "9.014135834236327e-05\n",
      "Updating min_error from 9.014251291771473553e-05 to 9.014135834236327259e-05\n",
      "9.014020249618764e-05\n",
      "Updating min_error from 9.014135834236327259e-05 to 9.014020249618763839e-05\n",
      "9.01390453494203e-05\n",
      "Updating min_error from 9.014020249618763839e-05 to 9.013904534942030334e-05\n",
      "9.013788687078533e-05\n",
      "Updating min_error from 9.013904534942030334e-05 to 9.013788687078532803e-05\n",
      "9.013672702749305e-05\n",
      "Updating min_error from 9.013788687078532803e-05 to 9.013672702749305063e-05\n"
     ]
    },
    {
     "name": "stderr",
     "output_type": "stream",
     "text": [
      "  0%|          | 163/250000 [00:05<1:22:24, 50.53it/s]"
     ]
    },
    {
     "name": "stdout",
     "output_type": "stream",
     "text": [
      "9.013556578527939e-05\n",
      "Updating min_error from 9.013672702749305063e-05 to 9.013556578527938921e-05\n",
      "9.013440310835418e-05\n",
      "Updating min_error from 9.013556578527938921e-05 to 9.013440310835417956e-05\n",
      "9.013323895944763e-05\n",
      "Updating min_error from 9.013440310835417956e-05 to 9.013323895944763318e-05\n",
      "9.013207329979386e-05\n",
      "Updating min_error from 9.013323895944763318e-05 to 9.013207329979385743e-05\n",
      "9.013090608909436e-05\n",
      "Updating min_error from 9.013207329979385743e-05 to 9.013090608909435863e-05\n",
      "9.012973728558315e-05\n",
      "Updating min_error from 9.013090608909435863e-05 to 9.012973728558314830e-05\n",
      "9.012856684600888e-05\n",
      "Updating min_error from 9.012973728558314830e-05 to 9.012856684600888102e-05\n",
      "9.012739472556584e-05\n",
      "Updating min_error from 9.012856684600888102e-05 to 9.012739472556584492e-05\n",
      "9.012622087797239e-05\n",
      "Updating min_error from 9.012739472556584492e-05 to 9.012622087797239015e-05\n",
      "9.012504525549283e-05\n",
      "Updating min_error from 9.012622087797239015e-05 to 9.012504525549282978e-05\n",
      "9.012386780884984e-05\n",
      "Updating min_error from 9.012504525549282978e-05 to 9.012386780884983626e-05\n"
     ]
    },
    {
     "name": "stderr",
     "output_type": "stream",
     "text": [
      "  0%|          | 169/250000 [00:05<1:22:25, 50.51it/s]"
     ]
    },
    {
     "name": "stdout",
     "output_type": "stream",
     "text": [
      "9.012268848727773e-05\n",
      "Updating min_error from 9.012386780884983626e-05 to 9.012268848727772994e-05\n",
      "9.012150723851093e-05\n",
      "Updating min_error from 9.012268848727772994e-05 to 9.012150723851093236e-05\n",
      "9.012032400879305e-05\n",
      "Updating min_error from 9.012150723851093236e-05 to 9.012032400879304639e-05\n",
      "9.01191387428735e-05\n",
      "Updating min_error from 9.012032400879304639e-05 to 9.011913874287349525e-05\n",
      "9.011795138397647e-05\n",
      "Updating min_error from 9.011913874287349525e-05 to 9.011795138397647362e-05\n",
      "9.01167618738651e-05\n",
      "Updating min_error from 9.011795138397647362e-05 to 9.011676187386510536e-05\n",
      "9.011557015278031e-05\n",
      "Updating min_error from 9.011676187386510536e-05 to 9.011557015278030803e-05\n",
      "9.011437615946137e-05\n",
      "Updating min_error from 9.011557015278030803e-05 to 9.011437615946136560e-05\n",
      "9.01131798311823e-05\n",
      "Updating min_error from 9.011437615946136560e-05 to 9.011317983118230350e-05\n",
      "9.011198110367598e-05\n",
      "Updating min_error from 9.011317983118230350e-05 to 9.011198110367598085e-05\n"
     ]
    },
    {
     "name": "stderr",
     "output_type": "stream",
     "text": [
      "  0%|          | 181/250000 [00:05<1:22:39, 50.37it/s]"
     ]
    },
    {
     "name": "stdout",
     "output_type": "stream",
     "text": [
      "9.011077991120974e-05\n",
      "Updating min_error from 9.011198110367598085e-05 to 9.011077991120974070e-05\n",
      "9.010957618655051e-05\n",
      "Updating min_error from 9.011077991120974070e-05 to 9.010957618655051227e-05\n",
      "9.010836986095435e-05\n",
      "Updating min_error from 9.010957618655051227e-05 to 9.010836986095434840e-05\n",
      "9.01071608641824e-05\n",
      "Updating min_error from 9.010836986095434840e-05 to 9.010716086418240397e-05\n",
      "9.010594912450789e-05\n",
      "Updating min_error from 9.010716086418240397e-05 to 9.010594912450788834e-05\n",
      "9.010473456871192e-05\n",
      "Updating min_error from 9.010594912450788834e-05 to 9.010473456871191829e-05\n",
      "9.010351712208326e-05\n",
      "Updating min_error from 9.010473456871191829e-05 to 9.010351712208326054e-05\n",
      "9.010229670841211e-05\n",
      "Updating min_error from 9.010351712208326054e-05 to 9.010229670841211110e-05\n",
      "9.010107325000641e-05\n",
      "Updating min_error from 9.010229670841211110e-05 to 9.010107325000641255e-05\n",
      "9.009984666768848e-05\n",
      "Updating min_error from 9.010107325000641255e-05 to 9.009984666768847941e-05\n",
      "9.009861688076404e-05\n",
      "Updating min_error from 9.009984666768847941e-05 to 9.009861688076404424e-05\n"
     ]
    },
    {
     "name": "stderr",
     "output_type": "stream",
     "text": [
      "  0%|          | 193/250000 [00:05<1:22:43, 50.32it/s]"
     ]
    },
    {
     "name": "stdout",
     "output_type": "stream",
     "text": [
      "9.009738380707377e-05\n",
      "Updating min_error from 9.009861688076404424e-05 to 9.009738380707377073e-05\n",
      "9.009614736298497e-05\n",
      "Updating min_error from 9.009738380707377073e-05 to 9.009614736298497315e-05\n",
      "9.009490746338956e-05\n",
      "Updating min_error from 9.009614736298497315e-05 to 9.009490746338955634e-05\n",
      "9.009366402167856e-05\n",
      "Updating min_error from 9.009490746338955634e-05 to 9.009366402167856406e-05\n",
      "9.009241694977667e-05\n",
      "Updating min_error from 9.009366402167856406e-05 to 9.009241694977667022e-05\n",
      "9.009116615815873e-05\n",
      "Updating min_error from 9.009241694977667022e-05 to 9.009116615815872644e-05\n",
      "9.008991155581497e-05\n",
      "Updating min_error from 9.009116615815872644e-05 to 9.008991155581497277e-05\n",
      "9.008865305028596e-05\n",
      "Updating min_error from 9.008991155581497277e-05 to 9.008865305028596255e-05\n",
      "9.008739054763584e-05\n",
      "Updating min_error from 9.008865305028596255e-05 to 9.008739054763583679e-05\n",
      "9.008612395249488e-05\n",
      "Updating min_error from 9.008739054763583679e-05 to 9.008612395249487913e-05\n",
      "9.008485316803486e-05\n",
      "Updating min_error from 9.008612395249487913e-05 to 9.008485316803486380e-05\n"
     ]
    },
    {
     "name": "stderr",
     "output_type": "stream",
     "text": [
      "  0%|          | 199/250000 [00:05<1:22:45, 50.31it/s]"
     ]
    },
    {
     "name": "stdout",
     "output_type": "stream",
     "text": [
      "9.008357809601494e-05\n",
      "Updating min_error from 9.008485316803486380e-05 to 9.008357809601494446e-05\n",
      "9.008229863673322e-05\n",
      "Updating min_error from 9.008357809601494446e-05 to 9.008229863673321747e-05\n",
      "9.008101468907703e-05\n",
      "Updating min_error from 9.008229863673321747e-05 to 9.008101468907702889e-05\n",
      "9.007972615050987e-05\n",
      "Updating min_error from 9.008101468907702889e-05 to 9.007972615050986915e-05\n",
      "9.00784329170865e-05\n",
      "Updating min_error from 9.007972615050986915e-05 to 9.007843291708649773e-05\n",
      "9.007713488345625e-05\n",
      "Updating min_error from 9.007843291708649773e-05 to 9.007713488345624989e-05\n",
      "9.007713488345625e-05 ++++++++++\n",
      "9.007583194289265e-05\n",
      "Updating min_error from 9.007713488345624989e-05 to 9.007583194289264903e-05\n",
      "9.007452398727267e-05\n",
      "Updating min_error from 9.007583194289264903e-05 to 9.007452398727267126e-05\n",
      "9.007321090711491e-05\n",
      "Updating min_error from 9.007452398727267126e-05 to 9.007321090711490935e-05\n",
      "9.007189259157429e-05\n",
      "Updating min_error from 9.007321090711490935e-05 to 9.007189259157428725e-05\n"
     ]
    },
    {
     "name": "stderr",
     "output_type": "stream",
     "text": [
      "  0%|          | 215/250000 [00:06<1:26:36, 48.06it/s]"
     ]
    },
    {
     "name": "stdout",
     "output_type": "stream",
     "text": [
      "9.007056892845386e-05\n",
      "Updating min_error from 9.007189259157428725e-05 to 9.007056892845386430e-05\n",
      "9.006923980424254e-05\n",
      "Updating min_error from 9.007056892845386430e-05 to 9.006923980424253839e-05\n",
      "9.006790510409931e-05\n",
      "Updating min_error from 9.006923980424253839e-05 to 9.006790510409931150e-05\n",
      "9.006656471187416e-05\n",
      "Updating min_error from 9.006790510409931150e-05 to 9.006656471187416053e-05\n",
      "9.006521851013002e-05\n",
      "Updating min_error from 9.006656471187416053e-05 to 9.006521851013001955e-05\n",
      "9.006386638016758e-05\n",
      "Updating min_error from 9.006521851013001955e-05 to 9.006386638016758092e-05\n",
      "9.00625082020359e-05\n",
      "Updating min_error from 9.006386638016758092e-05 to 9.006250820203589333e-05\n",
      "9.006114385452984e-05\n",
      "Updating min_error from 9.006250820203589333e-05 to 9.006114385452984106e-05\n",
      "9.005977321524429e-05\n",
      "Updating min_error from 9.006114385452984106e-05 to 9.005977321524428634e-05\n",
      "9.005839616055842e-05\n",
      "Updating min_error from 9.005977321524428634e-05 to 9.005839616055841615e-05\n"
     ]
    },
    {
     "name": "stderr",
     "output_type": "stream",
     "text": [
      "  0%|          | 225/250000 [00:06<1:26:01, 48.39it/s]"
     ]
    },
    {
     "name": "stdout",
     "output_type": "stream",
     "text": [
      "9.005701256570804e-05\n",
      "Updating min_error from 9.005839616055841615e-05 to 9.005701256570804495e-05\n",
      "9.005562230475024e-05\n",
      "Updating min_error from 9.005701256570804495e-05 to 9.005562230475024261e-05\n",
      "9.005422525063622e-05\n",
      "Updating min_error from 9.005562230475024261e-05 to 9.005422525063621990e-05\n",
      "9.00528212751959e-05\n",
      "Updating min_error from 9.005422525063621990e-05 to 9.005282127519590569e-05\n",
      "9.005141024920174e-05\n",
      "Updating min_error from 9.005282127519590569e-05 to 9.005141024920173870e-05\n",
      "9.004999204235043e-05\n",
      "Updating min_error from 9.005141024920173870e-05 to 9.004999204235042583e-05\n",
      "9.00485665233549e-05\n",
      "Updating min_error from 9.004999204235042583e-05 to 9.004856652335489601e-05\n",
      "9.00471335598983e-05\n",
      "Updating min_error from 9.004856652335489601e-05 to 9.004713355989830297e-05\n",
      "9.004569301873483e-05\n",
      "Updating min_error from 9.004713355989830297e-05 to 9.004569301873482890e-05\n",
      "9.00442447656889e-05\n",
      "Updating min_error from 9.004569301873482890e-05 to 9.004424476568889842e-05\n"
     ]
    },
    {
     "name": "stderr",
     "output_type": "stream",
     "text": [
      "  0%|          | 235/250000 [00:06<1:25:47, 48.52it/s]"
     ]
    },
    {
     "name": "stdout",
     "output_type": "stream",
     "text": [
      "9.004278866567204e-05\n",
      "Updating min_error from 9.004424476568889842e-05 to 9.004278866567203791e-05\n",
      "9.004132458276094e-05\n",
      "Updating min_error from 9.004278866567203791e-05 to 9.004132458276093809e-05\n",
      "9.003985238022853e-05\n",
      "Updating min_error from 9.004132458276093809e-05 to 9.003985238022852995e-05\n",
      "9.00383719205471e-05\n",
      "Updating min_error from 9.003985238022852995e-05 to 9.003837192054710184e-05\n",
      "9.003688306544189e-05\n",
      "Updating min_error from 9.003837192054710184e-05 to 9.003688306544188613e-05\n",
      "9.003538567596171e-05\n",
      "Updating min_error from 9.003688306544188613e-05 to 9.003538567596170859e-05\n",
      "9.003387961251366e-05\n",
      "Updating min_error from 9.003538567596170859e-05 to 9.003387961251365572e-05\n",
      "9.003236473487347e-05\n",
      "Updating min_error from 9.003387961251365572e-05 to 9.003236473487346951e-05\n",
      "9.003084090227947e-05\n",
      "Updating min_error from 9.003236473487346951e-05 to 9.003084090227946653e-05\n",
      "9.002930797343429e-05\n",
      "Updating min_error from 9.003084090227946653e-05 to 9.002930797343428613e-05\n"
     ]
    },
    {
     "name": "stderr",
     "output_type": "stream",
     "text": [
      "  0%|          | 240/250000 [00:06<1:25:53, 48.46it/s]"
     ]
    },
    {
     "name": "stdout",
     "output_type": "stream",
     "text": [
      "9.002776580663264e-05\n",
      "Updating min_error from 9.002930797343428613e-05 to 9.002776580663263660e-05\n",
      "9.00262142597057e-05\n",
      "Updating min_error from 9.002776580663263660e-05 to 9.002621425970570271e-05\n",
      "9.002465319019039e-05\n",
      "Updating min_error from 9.002621425970570271e-05 to 9.002465319019038964e-05\n",
      "9.002308245529396e-05\n",
      "Updating min_error from 9.002465319019038964e-05 to 9.002308245529396446e-05\n",
      "9.002150191200539e-05\n",
      "Updating min_error from 9.002308245529396446e-05 to 9.002150191200539013e-05\n",
      "9.001991141713559e-05\n",
      "Updating min_error from 9.002150191200539013e-05 to 9.001991141713559005e-05\n",
      "9.00183108274121e-05\n",
      "Updating min_error from 9.001991141713559005e-05 to 9.001831082741209894e-05\n",
      "9.001669999947569e-05\n",
      "Updating min_error from 9.001831082741209894e-05 to 9.001669999947568823e-05\n",
      "9.001507879004245e-05\n",
      "Updating min_error from 9.001669999947568823e-05 to 9.001507879004245431e-05\n",
      "9.001344705588701e-05\n",
      "Updating min_error from 9.001507879004245431e-05 to 9.001344705588701335e-05\n",
      "9.001180465398169e-05\n",
      "Updating min_error from 9.001344705588701335e-05 to 9.001180465398168581e-05\n"
     ]
    },
    {
     "name": "stderr",
     "output_type": "stream",
     "text": [
      "  0%|          | 256/250000 [00:07<1:24:58, 48.98it/s]"
     ]
    },
    {
     "name": "stdout",
     "output_type": "stream",
     "text": [
      "9.001015144152424e-05\n",
      "Updating min_error from 9.001180465398168581e-05 to 9.001015144152423844e-05\n",
      "9.000848727603922e-05\n",
      "Updating min_error from 9.001015144152423844e-05 to 9.000848727603921653e-05\n",
      "9.000681201544046e-05\n",
      "Updating min_error from 9.000848727603921653e-05 to 9.000681201544046169e-05\n",
      "9.000512551813349e-05\n",
      "Updating min_error from 9.000681201544046169e-05 to 9.000512551813348767e-05\n",
      "9.000342764309667e-05\n",
      "Updating min_error from 9.000512551813348767e-05 to 9.000342764309667357e-05\n",
      "9.00017182499376e-05\n",
      "Updating min_error from 9.000342764309667357e-05 to 9.000171824993760162e-05\n",
      "8.999999719903269e-05\n",
      "Updating min_error from 9.000171824993760162e-05 to 8.999999719903268897e-05\n",
      "8.999826435156068e-05\n",
      "Updating min_error from 8.999999719903268897e-05 to 8.999826435156067588e-05\n",
      "8.999651956963479e-05\n",
      "Updating min_error from 8.999826435156067588e-05 to 8.999651956963479005e-05\n",
      "8.99947627164004e-05\n",
      "Updating min_error from 8.999651956963479005e-05 to 8.999476271640040608e-05\n"
     ]
    },
    {
     "name": "stderr",
     "output_type": "stream",
     "text": [
      "  0%|          | 267/250000 [00:07<1:23:47, 49.67it/s]"
     ]
    },
    {
     "name": "stdout",
     "output_type": "stream",
     "text": [
      "8.999299365617045e-05\n",
      "Updating min_error from 8.999476271640040608e-05 to 8.999299365617044878e-05\n",
      "8.999121225440131e-05\n",
      "Updating min_error from 8.999299365617044878e-05 to 8.999121225440131035e-05\n",
      "8.998941837792774e-05\n",
      "Updating min_error from 8.999121225440131035e-05 to 8.998941837792774276e-05\n",
      "8.998761189498155e-05\n",
      "Updating min_error from 8.998941837792774276e-05 to 8.998761189498154667e-05\n",
      "8.998579267539306e-05\n",
      "Updating min_error from 8.998761189498154667e-05 to 8.998579267539305690e-05\n",
      "8.998396059062105e-05\n",
      "Updating min_error from 8.998579267539305690e-05 to 8.998396059062105281e-05\n",
      "8.99821155138979e-05\n",
      "Updating min_error from 8.998396059062105281e-05 to 8.998211551389790589e-05\n",
      "8.99802573203533e-05\n",
      "Updating min_error from 8.998211551389790589e-05 to 8.998025732035330076e-05\n",
      "8.9978385887134e-05\n",
      "Updating min_error from 8.998025732035330076e-05 to 8.997838588713399889e-05\n",
      "8.997650109348716e-05\n",
      "Updating min_error from 8.997838588713399889e-05 to 8.997650109348715949e-05\n",
      "8.99746028209624e-05\n",
      "Updating min_error from 8.997650109348715949e-05 to 8.997460282096239419e-05\n"
     ]
    },
    {
     "name": "stderr",
     "output_type": "stream",
     "text": [
      "  0%|          | 273/250000 [00:07<1:23:27, 49.87it/s]"
     ]
    },
    {
     "name": "stdout",
     "output_type": "stream",
     "text": [
      "8.997269095348628e-05\n",
      "Updating min_error from 8.997460282096239419e-05 to 8.997269095348627878e-05\n",
      "8.99707653774719e-05\n",
      "Updating min_error from 8.997269095348627878e-05 to 8.997076537747189832e-05\n",
      "8.996882598200223e-05\n",
      "Updating min_error from 8.997076537747189832e-05 to 8.996882598200222638e-05\n",
      "8.996687265894539e-05\n",
      "Updating min_error from 8.996882598200222638e-05 to 8.996687265894538928e-05\n",
      "8.996490530310954e-05\n",
      "Updating min_error from 8.996687265894538928e-05 to 8.996490530310954437e-05\n",
      "8.99629238122822e-05\n",
      "Updating min_error from 8.996490530310954437e-05 to 8.996292381228219591e-05\n",
      "8.99609280875546e-05\n",
      "Updating min_error from 8.996292381228219591e-05 to 8.996092808755460192e-05\n",
      "8.995891803330733e-05\n",
      "Updating min_error from 8.996092808755460192e-05 to 8.995891803330732718e-05\n",
      "8.99568935574605e-05\n",
      "Updating min_error from 8.995891803330732718e-05 to 8.995689355746050420e-05\n",
      "8.995485457150822e-05\n",
      "Updating min_error from 8.995689355746050420e-05 to 8.995485457150821597e-05\n",
      "8.99528009907871e-05\n",
      "Updating min_error from 8.995485457150821597e-05 to 8.995280099078709350e-05\n"
     ]
    },
    {
     "name": "stderr",
     "output_type": "stream",
     "text": [
      "  0%|          | 285/250000 [00:07<1:22:46, 50.28it/s]"
     ]
    },
    {
     "name": "stdout",
     "output_type": "stream",
     "text": [
      "8.995073273455263e-05\n",
      "Updating min_error from 8.995280099078709350e-05 to 8.995073273455263013e-05\n",
      "8.994864972618198e-05\n",
      "Updating min_error from 8.995073273455263013e-05 to 8.994864972618198150e-05\n",
      "8.994655189327732e-05\n",
      "Updating min_error from 8.994864972618198150e-05 to 8.994655189327731715e-05\n",
      "8.994443916786191e-05\n",
      "Updating min_error from 8.994655189327731715e-05 to 8.994443916786191203e-05\n",
      "8.994231148654118e-05\n",
      "Updating min_error from 8.994443916786191203e-05 to 8.994231148654117762e-05\n",
      "8.994016879064441e-05\n",
      "Updating min_error from 8.994231148654117762e-05 to 8.994016879064440782e-05\n",
      "8.993801102636552e-05\n",
      "Updating min_error from 8.994016879064440782e-05 to 8.993801102636552196e-05\n",
      "8.993583814496277e-05\n",
      "Updating min_error from 8.993801102636552196e-05 to 8.993583814496277479e-05\n",
      "8.993365010292811e-05\n",
      "Updating min_error from 8.993583814496277479e-05 to 8.993365010292810892e-05\n",
      "8.993144686211513e-05\n",
      "Updating min_error from 8.993365010292810892e-05 to 8.993144686211513130e-05\n",
      "8.992922838990535e-05\n",
      "Updating min_error from 8.993144686211513130e-05 to 8.992922838990534851e-05\n"
     ]
    },
    {
     "name": "stderr",
     "output_type": "stream",
     "text": [
      "  0%|          | 297/250000 [00:07<1:21:50, 50.85it/s]"
     ]
    },
    {
     "name": "stdout",
     "output_type": "stream",
     "text": [
      "8.992699465941234e-05\n",
      "Updating min_error from 8.992922838990534851e-05 to 8.992699465941233561e-05\n",
      "8.992474564957639e-05\n",
      "Updating min_error from 8.992699465941233561e-05 to 8.992474564957638698e-05\n",
      "8.992248134541578e-05\n",
      "Updating min_error from 8.992474564957638698e-05 to 8.992248134541578014e-05\n",
      "8.992020173814246e-05\n",
      "Updating min_error from 8.992248134541578014e-05 to 8.992020173814246019e-05\n",
      "8.991790682530612e-05\n",
      "Updating min_error from 8.992020173814246019e-05 to 8.991790682530611666e-05\n",
      "8.991559661097782e-05\n",
      "Updating min_error from 8.991790682530611666e-05 to 8.991559661097782029e-05\n",
      "8.991327110597991e-05\n",
      "Updating min_error from 8.991559661097782029e-05 to 8.991327110597991453e-05\n",
      "8.99109303278963e-05\n",
      "Updating min_error from 8.991327110597991453e-05 to 8.991093032789630192e-05\n",
      "8.990857430135108e-05\n",
      "Updating min_error from 8.991093032789630192e-05 to 8.990857430135108406e-05\n",
      "8.990620305811695e-05\n",
      "Updating min_error from 8.990857430135108406e-05 to 8.990620305811695468e-05\n",
      "8.990381663731564e-05\n",
      "Updating min_error from 8.990620305811695468e-05 to 8.990381663731564156e-05\n"
     ]
    },
    {
     "name": "stderr",
     "output_type": "stream",
     "text": [
      "  0%|          | 309/250000 [00:08<1:24:07, 49.47it/s]"
     ]
    },
    {
     "name": "stdout",
     "output_type": "stream",
     "text": [
      "8.990141508549711e-05\n",
      "Updating min_error from 8.990381663731564156e-05 to 8.990141508549710748e-05\n",
      "8.990141508549711e-05 ++++++++++\n",
      "8.989899845685167e-05\n",
      "Updating min_error from 8.990141508549710748e-05 to 8.989899845685167437e-05\n",
      "8.989656681336554e-05\n",
      "Updating min_error from 8.989899845685167437e-05 to 8.989656681336553857e-05\n",
      "8.989412022488674e-05\n",
      "Updating min_error from 8.989656681336553857e-05 to 8.989412022488674453e-05\n",
      "8.989165876932626e-05\n",
      "Updating min_error from 8.989412022488674453e-05 to 8.989165876932626365e-05\n",
      "8.988918253279322e-05\n",
      "Updating min_error from 8.989165876932626365e-05 to 8.988918253279322142e-05\n",
      "8.988669160971676e-05\n",
      "Updating min_error from 8.988918253279322142e-05 to 8.988669160971676168e-05\n",
      "8.988418610295832e-05\n",
      "Updating min_error from 8.988669160971676168e-05 to 8.988418610295831584e-05\n",
      "8.988166612399493e-05\n",
      "Updating min_error from 8.988418610295831584e-05 to 8.988166612399492786e-05\n",
      "8.987913179290546e-05\n",
      "Updating min_error from 8.988166612399492786e-05 to 8.987913179290545778e-05\n"
     ]
    },
    {
     "name": "stderr",
     "output_type": "stream",
     "text": [
      "  0%|          | 321/250000 [00:08<1:23:15, 49.99it/s]"
     ]
    },
    {
     "name": "stdout",
     "output_type": "stream",
     "text": [
      "8.987658323862401e-05\n",
      "Updating min_error from 8.987913179290545778e-05 to 8.987658323862401401e-05\n",
      "8.987402059898759e-05\n",
      "Updating min_error from 8.987658323862401401e-05 to 8.987402059898759042e-05\n",
      "8.98714440208123e-05\n",
      "Updating min_error from 8.987402059898759042e-05 to 8.987144402081229935e-05\n",
      "8.986885366002247e-05\n",
      "Updating min_error from 8.987144402081229935e-05 to 8.986885366002247293e-05\n",
      "8.986624968172103e-05\n",
      "Updating min_error from 8.986885366002247293e-05 to 8.986624968172102787e-05\n",
      "8.986363226026379e-05\n",
      "Updating min_error from 8.986624968172102787e-05 to 8.986363226026378745e-05\n",
      "8.986100157933206e-05\n",
      "Updating min_error from 8.986363226026378745e-05 to 8.986100157933205534e-05\n",
      "8.985835783197714e-05\n",
      "Updating min_error from 8.986100157933205534e-05 to 8.985835783197713565e-05\n",
      "8.985570122069131e-05\n",
      "Updating min_error from 8.985835783197713565e-05 to 8.985570122069130752e-05\n",
      "8.985303195749784e-05\n",
      "Updating min_error from 8.985570122069130752e-05 to 8.985303195749784098e-05\n",
      "8.985035026382528e-05\n",
      "Updating min_error from 8.985303195749784098e-05 to 8.985035026382528372e-05\n"
     ]
    },
    {
     "name": "stderr",
     "output_type": "stream",
     "text": [
      "  0%|          | 327/250000 [00:08<1:23:10, 50.03it/s]"
     ]
    },
    {
     "name": "stdout",
     "output_type": "stream",
     "text": [
      "8.984765637078096e-05\n",
      "Updating min_error from 8.985035026382528372e-05 to 8.984765637078096466e-05\n",
      "8.984495051891275e-05\n",
      "Updating min_error from 8.984765637078096466e-05 to 8.984495051891275405e-05\n",
      "8.984223295836484e-05\n",
      "Updating min_error from 8.984495051891275405e-05 to 8.984223295836483623e-05\n",
      "8.983950394882864e-05\n",
      "Updating min_error from 8.984223295836483623e-05 to 8.983950394882863591e-05\n",
      "8.983676375948247e-05\n",
      "Updating min_error from 8.983950394882863591e-05 to 8.983676375948246881e-05\n",
      "8.983401266904056e-05\n",
      "Updating min_error from 8.983676375948246881e-05 to 8.983401266904056110e-05\n",
      "8.983125096567778e-05\n",
      "Updating min_error from 8.983401266904056110e-05 to 8.983125096567777870e-05\n",
      "8.982847894690599e-05\n",
      "Updating min_error from 8.983125096567777870e-05 to 8.982847894690598755e-05\n",
      "8.982569691962841e-05\n",
      "Updating min_error from 8.982847894690598755e-05 to 8.982569691962841282e-05\n",
      "8.982290519992461e-05\n",
      "Updating min_error from 8.982569691962841282e-05 to 8.982290519992461449e-05\n",
      "8.982010411307118e-05\n",
      "Updating min_error from 8.982290519992461449e-05 to 8.982010411307118209e-05\n"
     ]
    },
    {
     "name": "stderr",
     "output_type": "stream",
     "text": [
      "  0%|          | 339/250000 [00:08<1:22:48, 50.25it/s]"
     ]
    },
    {
     "name": "stdout",
     "output_type": "stream",
     "text": [
      "8.981729399335453e-05\n",
      "Updating min_error from 8.982010411307118209e-05 to 8.981729399335453359e-05\n",
      "8.981447518402598e-05\n",
      "Updating min_error from 8.981729399335453359e-05 to 8.981447518402597529e-05\n",
      "8.981164803707951e-05\n",
      "Updating min_error from 8.981447518402597529e-05 to 8.981164803707950809e-05\n",
      "8.980881291312435e-05\n",
      "Updating min_error from 8.981164803707950809e-05 to 8.980881291312435241e-05\n",
      "8.980597018126314e-05\n",
      "Updating min_error from 8.980881291312435241e-05 to 8.980597018126313812e-05\n",
      "8.980312021890518e-05\n",
      "Updating min_error from 8.980597018126313812e-05 to 8.980312021890517779e-05\n",
      "8.980026341149081e-05\n",
      "Updating min_error from 8.980312021890517779e-05 to 8.980026341149080829e-05\n",
      "8.979740015240884e-05\n",
      "Updating min_error from 8.980026341149080829e-05 to 8.979740015240884237e-05\n",
      "8.979453084268104e-05\n",
      "Updating min_error from 8.979740015240884237e-05 to 8.979453084268103867e-05\n",
      "8.97916558907535e-05\n",
      "Updating min_error from 8.979453084268103867e-05 to 8.979165589075350129e-05\n",
      "8.978877571221965e-05\n",
      "Updating min_error from 8.979165589075350129e-05 to 8.978877571221965254e-05\n"
     ]
    },
    {
     "name": "stderr",
     "output_type": "stream",
     "text": [
      "  0%|          | 351/250000 [00:09<1:22:39, 50.34it/s]"
     ]
    },
    {
     "name": "stdout",
     "output_type": "stream",
     "text": [
      "8.978589072959975e-05\n",
      "Updating min_error from 8.978877571221965254e-05 to 8.978589072959974686e-05\n",
      "8.97830013720577e-05\n",
      "Updating min_error from 8.978589072959974686e-05 to 8.978300137205770439e-05\n",
      "8.978010807503063e-05\n",
      "Updating min_error from 8.978300137205770439e-05 to 8.978010807503062545e-05\n",
      "8.977721127997708e-05\n",
      "Updating min_error from 8.978010807503062545e-05 to 8.977721127997707949e-05\n",
      "8.977431143406419e-05\n",
      "Updating min_error from 8.977721127997707949e-05 to 8.977431143406419082e-05\n",
      "8.977140898977853e-05\n",
      "Updating min_error from 8.977431143406419082e-05 to 8.977140898977853194e-05\n",
      "8.976850440459554e-05\n",
      "Updating min_error from 8.977140898977853194e-05 to 8.976850440459553681e-05\n",
      "8.976559814060041e-05\n",
      "Updating min_error from 8.976850440459553681e-05 to 8.976559814060040951e-05\n",
      "8.976269066417513e-05\n",
      "Updating min_error from 8.976559814060040951e-05 to 8.976269066417512865e-05\n",
      "8.975978244549393e-05\n",
      "Updating min_error from 8.976269066417512865e-05 to 8.975978244549392743e-05\n",
      "8.975687395816459e-05\n",
      "Updating min_error from 8.975978244549392743e-05 to 8.975687395816458536e-05\n"
     ]
    },
    {
     "name": "stderr",
     "output_type": "stream",
     "text": [
      "  0%|          | 363/250000 [00:09<1:22:23, 50.49it/s]"
     ]
    },
    {
     "name": "stdout",
     "output_type": "stream",
     "text": [
      "8.9753965678843e-05\n",
      "Updating min_error from 8.975687395816458536e-05 to 8.975396567884299441e-05\n",
      "8.975105808675928e-05\n",
      "Updating min_error from 8.975396567884299441e-05 to 8.975105808675928128e-05\n",
      "8.974815166331007e-05\n",
      "Updating min_error from 8.975105808675928128e-05 to 8.974815166331006613e-05\n",
      "8.97452468916231e-05\n",
      "Updating min_error from 8.974815166331006613e-05 to 8.974524689162310118e-05\n",
      "8.974234425594249e-05\n",
      "Updating min_error from 8.974524689162310118e-05 to 8.974234425594248741e-05\n",
      "8.973944424141705e-05\n",
      "Updating min_error from 8.974234425594248741e-05 to 8.973944424141705185e-05\n",
      "8.97365473334201e-05\n",
      "Updating min_error from 8.973944424141705185e-05 to 8.973654733342010560e-05\n",
      "8.973365401713768e-05\n",
      "Updating min_error from 8.973654733342010560e-05 to 8.973365401713767739e-05\n",
      "8.973076477708581e-05\n",
      "Updating min_error from 8.973365401713767739e-05 to 8.973076477708581320e-05\n",
      "8.972788009653501e-05\n",
      "Updating min_error from 8.973076477708581320e-05 to 8.972788009653501402e-05\n",
      "8.972500045717678e-05\n",
      "Updating min_error from 8.972788009653501402e-05 to 8.972500045717677589e-05\n"
     ]
    },
    {
     "name": "stderr",
     "output_type": "stream",
     "text": [
      "  0%|          | 375/250000 [00:09<1:22:03, 50.70it/s]"
     ]
    },
    {
     "name": "stdout",
     "output_type": "stream",
     "text": [
      "8.972212633838529e-05\n",
      "Updating min_error from 8.972500045717677589e-05 to 8.972212633838528889e-05\n",
      "8.971925821687251e-05\n",
      "Updating min_error from 8.972212633838528889e-05 to 8.971925821687251178e-05\n",
      "8.971639656609953e-05\n",
      "Updating min_error from 8.971925821687251178e-05 to 8.971639656609953152e-05\n",
      "8.971354185584516e-05\n",
      "Updating min_error from 8.971639656609953152e-05 to 8.971354185584515923e-05\n",
      "8.971069455156717e-05\n",
      "Updating min_error from 8.971354185584515923e-05 to 8.971069455156717247e-05\n",
      "8.970785511401835e-05\n",
      "Updating min_error from 8.971069455156717247e-05 to 8.970785511401834509e-05\n",
      "8.970502399856032e-05\n",
      "Updating min_error from 8.970785511401834509e-05 to 8.970502399856032335e-05\n",
      "8.970220165483415e-05\n",
      "Updating min_error from 8.970502399856032335e-05 to 8.970220165483415052e-05\n",
      "8.969938852618316e-05\n",
      "Updating min_error from 8.970220165483415052e-05 to 8.969938852618315956e-05\n",
      "8.969658504906532e-05\n",
      "Updating min_error from 8.969938852618315956e-05 to 8.969658504906532202e-05\n",
      "8.969379165270807e-05\n",
      "Updating min_error from 8.969658504906532202e-05 to 8.969379165270806515e-05\n"
     ]
    },
    {
     "name": "stderr",
     "output_type": "stream",
     "text": [
      "  0%|          | 387/250000 [00:09<1:21:56, 50.77it/s]"
     ]
    },
    {
     "name": "stdout",
     "output_type": "stream",
     "text": [
      "8.969100875854544e-05\n",
      "Updating min_error from 8.969379165270806515e-05 to 8.969100875854543547e-05\n",
      "8.968823677967963e-05\n",
      "Updating min_error from 8.969100875854543547e-05 to 8.968823677967962974e-05\n",
      "8.968547612051647e-05\n",
      "Updating min_error from 8.968823677967962974e-05 to 8.968547612051647265e-05\n",
      "8.968272717623582e-05\n",
      "Updating min_error from 8.968547612051647265e-05 to 8.968272717623582471e-05\n",
      "8.967999033232421e-05\n",
      "Updating min_error from 8.968272717623582471e-05 to 8.967999033232420983e-05\n",
      "8.967726596421294e-05\n",
      "Updating min_error from 8.967999033232420983e-05 to 8.967726596421293566e-05\n",
      "8.967455443677149e-05\n",
      "Updating min_error from 8.967726596421293566e-05 to 8.967455443677148667e-05\n",
      "8.967185610395603e-05\n",
      "Updating min_error from 8.967455443677148667e-05 to 8.967185610395602574e-05\n",
      "8.966917130840983e-05\n",
      "Updating min_error from 8.967185610395602574e-05 to 8.966917130840982501e-05\n",
      "8.966650038104071e-05\n",
      "Updating min_error from 8.966917130840982501e-05 to 8.966650038104071168e-05\n",
      "8.966384364069765e-05\n",
      "Updating min_error from 8.966650038104071168e-05 to 8.966384364069765044e-05\n"
     ]
    },
    {
     "name": "stderr",
     "output_type": "stream",
     "text": [
      "  0%|          | 393/250000 [00:09<1:22:00, 50.73it/s]"
     ]
    },
    {
     "name": "stdout",
     "output_type": "stream",
     "text": [
      "8.966120139386303e-05\n",
      "Updating min_error from 8.966384364069765044e-05 to 8.966120139386303338e-05\n",
      "8.965857393422759e-05\n",
      "Updating min_error from 8.966120139386303338e-05 to 8.965857393422759143e-05\n",
      "8.965596154246527e-05\n",
      "Updating min_error from 8.965857393422759143e-05 to 8.965596154246527328e-05\n",
      "8.965336448596617e-05\n",
      "Updating min_error from 8.965596154246527328e-05 to 8.965336448596616578e-05\n",
      "8.965078301853313e-05\n",
      "Updating min_error from 8.965336448596616578e-05 to 8.965078301853313418e-05\n",
      "8.964821738011182e-05\n",
      "Updating min_error from 8.965078301853313418e-05 to 8.964821738011181506e-05\n",
      "8.964566779662098e-05\n",
      "Updating min_error from 8.964821738011181506e-05 to 8.964566779662097942e-05\n",
      "8.964313447986608e-05\n",
      "Updating min_error from 8.964566779662097942e-05 to 8.964313447986608108e-05\n",
      "8.964061762716704e-05\n",
      "Updating min_error from 8.964313447986608108e-05 to 8.964061762716703653e-05\n",
      "8.963811742134669e-05\n",
      "Updating min_error from 8.964061762716703653e-05 to 8.963811742134669171e-05\n",
      "8.963563403057525e-05\n",
      "Updating min_error from 8.963811742134669171e-05 to 8.963563403057525256e-05\n"
     ]
    },
    {
     "name": "stderr",
     "output_type": "stream",
     "text": [
      "  0%|          | 405/250000 [00:10<1:26:39, 48.00it/s]"
     ]
    },
    {
     "name": "stdout",
     "output_type": "stream",
     "text": [
      "8.963316760830996e-05\n",
      "Updating min_error from 8.963563403057525256e-05 to 8.963316760830996276e-05\n",
      "8.963071829317932e-05\n",
      "Updating min_error from 8.963316760830996276e-05 to 8.963071829317932442e-05\n",
      "8.962828620899395e-05\n",
      "Updating min_error from 8.963071829317932442e-05 to 8.962828620899395370e-05\n",
      "8.962828620899395e-05 ++++++++++\n",
      "8.962587146469224e-05\n",
      "Updating min_error from 8.962828620899395370e-05 to 8.962587146469223518e-05\n",
      "8.962347415434138e-05\n",
      "Updating min_error from 8.962587146469223518e-05 to 8.962347415434137893e-05\n",
      "8.962109435722477e-05\n",
      "Updating min_error from 8.962347415434137893e-05 to 8.962109435722476658e-05\n",
      "8.961873213787911e-05\n",
      "Updating min_error from 8.962109435722476658e-05 to 8.961873213787911231e-05\n",
      "8.961638754617472e-05\n",
      "Updating min_error from 8.961873213787911231e-05 to 8.961638754617472094e-05\n",
      "8.961406061744784e-05\n",
      "Updating min_error from 8.961638754617472094e-05 to 8.961406061744784193e-05\n"
     ]
    },
    {
     "name": "stderr",
     "output_type": "stream",
     "text": [
      "  0%|          | 415/250000 [00:10<1:26:07, 48.30it/s]"
     ]
    },
    {
     "name": "stdout",
     "output_type": "stream",
     "text": [
      "8.961175137262102e-05\n",
      "Updating min_error from 8.961406061744784193e-05 to 8.961175137262101576e-05\n",
      "8.96094598183489e-05\n",
      "Updating min_error from 8.961175137262101576e-05 to 8.960945981834889920e-05\n",
      "8.960718594730643e-05\n",
      "Updating min_error from 8.960945981834889920e-05 to 8.960718594730643263e-05\n",
      "8.960492973824263e-05\n",
      "Updating min_error from 8.960718594730643263e-05 to 8.960492973824263005e-05\n",
      "8.96026911563648e-05\n",
      "Updating min_error from 8.960492973824263005e-05 to 8.960269115636479323e-05\n",
      "8.96004701535158e-05\n",
      "Updating min_error from 8.960269115636479323e-05 to 8.960047015351580585e-05\n",
      "8.959826666845673e-05\n",
      "Updating min_error from 8.960047015351580585e-05 to 8.959826666845673081e-05\n",
      "8.959608062717991e-05\n",
      "Updating min_error from 8.959826666845673081e-05 to 8.959608062717991427e-05\n",
      "8.959391194329256e-05\n",
      "Updating min_error from 8.959608062717991427e-05 to 8.959391194329256280e-05\n",
      "8.959176051824804e-05\n",
      "Updating min_error from 8.959391194329256280e-05 to 8.959176051824804441e-05\n"
     ]
    },
    {
     "name": "stderr",
     "output_type": "stream",
     "text": [
      "  0%|          | 425/250000 [00:10<1:26:26, 48.12it/s]"
     ]
    },
    {
     "name": "stdout",
     "output_type": "stream",
     "text": [
      "8.958962624182485e-05\n",
      "Updating min_error from 8.959176051824804441e-05 to 8.958962624182484835e-05\n",
      "8.958750899236745e-05\n",
      "Updating min_error from 8.958962624182484835e-05 to 8.958750899236745421e-05\n",
      "8.95854086373315e-05\n",
      "Updating min_error from 8.958750899236745421e-05 to 8.958540863733149590e-05\n",
      "8.958332503360048e-05\n",
      "Updating min_error from 8.958540863733149590e-05 to 8.958332503360048416e-05\n",
      "8.958125802795677e-05\n",
      "Updating min_error from 8.958332503360048416e-05 to 8.958125802795677045e-05\n",
      "8.957920745743321e-05\n",
      "Updating min_error from 8.958125802795677045e-05 to 8.957920745743320795e-05\n",
      "8.957717314991763e-05\n",
      "Updating min_error from 8.957920745743320795e-05 to 8.957717314991763490e-05\n",
      "8.957515492453102e-05\n",
      "Updating min_error from 8.957717314991763490e-05 to 8.957515492453101721e-05\n",
      "8.957315259209809e-05\n",
      "Updating min_error from 8.957515492453101721e-05 to 8.957315259209808710e-05\n",
      "8.957116595566993e-05\n",
      "Updating min_error from 8.957315259209808710e-05 to 8.957116595566992851e-05\n"
     ]
    },
    {
     "name": "stderr",
     "output_type": "stream",
     "text": [
      "  0%|          | 435/250000 [00:10<1:26:32, 48.07it/s]"
     ]
    },
    {
     "name": "stdout",
     "output_type": "stream",
     "text": [
      "8.956919481097349e-05\n",
      "Updating min_error from 8.957116595566992851e-05 to 8.956919481097348735e-05\n",
      "8.956723894695993e-05\n",
      "Updating min_error from 8.956919481097348735e-05 to 8.956723894695993384e-05\n",
      "8.956529814628705e-05\n",
      "Updating min_error from 8.956723894695993384e-05 to 8.956529814628705116e-05\n",
      "8.956337218587397e-05\n",
      "Updating min_error from 8.956529814628705116e-05 to 8.956337218587396751e-05\n",
      "8.956146083731162e-05\n",
      "Updating min_error from 8.956337218587396751e-05 to 8.956146083731162148e-05\n",
      "8.955956386752937e-05\n",
      "Updating min_error from 8.956146083731162148e-05 to 8.955956386752937019e-05\n",
      "8.95576810392113e-05\n",
      "Updating min_error from 8.955956386752937019e-05 to 8.955768103921129587e-05\n",
      "8.955581211131662e-05\n",
      "Updating min_error from 8.955768103921129587e-05 to 8.955581211131662285e-05\n",
      "8.955395683966688e-05\n",
      "Updating min_error from 8.955581211131662285e-05 to 8.955395683966688083e-05\n",
      "8.955211497741807e-05\n",
      "Updating min_error from 8.955395683966688083e-05 to 8.955211497741807491e-05\n"
     ]
    },
    {
     "name": "stderr",
     "output_type": "stream",
     "text": [
      "  0%|          | 445/250000 [00:10<1:26:12, 48.25it/s]"
     ]
    },
    {
     "name": "stdout",
     "output_type": "stream",
     "text": [
      "8.955028627558316e-05\n",
      "Updating min_error from 8.955211497741807491e-05 to 8.955028627558316262e-05\n",
      "8.954847048353012e-05\n",
      "Updating min_error from 8.955028627558316262e-05 to 8.954847048353012286e-05\n",
      "8.95466673495523e-05\n",
      "Updating min_error from 8.954847048353012286e-05 to 8.954666734955230045e-05\n",
      "8.954487662129591e-05\n",
      "Updating min_error from 8.954666734955230045e-05 to 8.954487662129590700e-05\n",
      "8.954309804629455e-05\n",
      "Updating min_error from 8.954487662129590700e-05 to 8.954309804629454622e-05\n",
      "8.954133137240651e-05\n",
      "Updating min_error from 8.954309804629454622e-05 to 8.954133137240651323e-05\n",
      "8.95395763483427e-05\n",
      "Updating min_error from 8.954133137240651323e-05 to 8.953957634834270620e-05\n",
      "8.95378327241528e-05\n",
      "Updating min_error from 8.953957634834270620e-05 to 8.953783272415279614e-05\n",
      "8.953610025163304e-05\n",
      "Updating min_error from 8.953783272415279614e-05 to 8.953610025163303600e-05\n",
      "8.9534378684781e-05\n",
      "Updating min_error from 8.953610025163303600e-05 to 8.953437868478100216e-05\n"
     ]
    },
    {
     "name": "stderr",
     "output_type": "stream",
     "text": [
      "  0%|          | 455/250000 [00:11<1:24:56, 48.96it/s]"
     ]
    },
    {
     "name": "stdout",
     "output_type": "stream",
     "text": [
      "8.953266778027454e-05\n",
      "Updating min_error from 8.953437868478100216e-05 to 8.953266778027454075e-05\n",
      "8.953096729782519e-05\n",
      "Updating min_error from 8.953266778027454075e-05 to 8.953096729782519044e-05\n",
      "8.952927700064222e-05\n",
      "Updating min_error from 8.953096729782519044e-05 to 8.952927700064222097e-05\n",
      "8.952759665584646e-05\n",
      "Updating min_error from 8.952927700064222097e-05 to 8.952759665584645958e-05\n",
      "8.952592603479555e-05\n",
      "Updating min_error from 8.952759665584645958e-05 to 8.952592603479555167e-05\n",
      "8.952426491347753e-05\n",
      "Updating min_error from 8.952592603479555167e-05 to 8.952426491347752614e-05\n",
      "8.952261307284705e-05\n",
      "Updating min_error from 8.952426491347752614e-05 to 8.952261307284704720e-05\n",
      "8.952097029922353e-05\n",
      "Updating min_error from 8.952261307284704720e-05 to 8.952097029922353338e-05\n",
      "8.951933638457596e-05\n",
      "Updating min_error from 8.952097029922353338e-05 to 8.951933638457596387e-05\n",
      "8.951771112679734e-05\n",
      "Updating min_error from 8.951933638457596387e-05 to 8.951771112679734435e-05\n",
      "8.95160943299844e-05\n",
      "Updating min_error from 8.951771112679734435e-05 to 8.951609432998440400e-05\n"
     ]
    },
    {
     "name": "stderr",
     "output_type": "stream",
     "text": [
      "  0%|          | 466/250000 [00:11<1:23:45, 49.65it/s]"
     ]
    },
    {
     "name": "stdout",
     "output_type": "stream",
     "text": [
      "8.951448580486057e-05\n",
      "Updating min_error from 8.951609432998440400e-05 to 8.951448580486056988e-05\n",
      "8.951288536882714e-05\n",
      "Updating min_error from 8.951448580486056988e-05 to 8.951288536882714129e-05\n",
      "8.951129284634836e-05\n",
      "Updating min_error from 8.951288536882714129e-05 to 8.951129284634835772e-05\n",
      "8.95097080690935e-05\n",
      "Updating min_error from 8.951129284634835772e-05 to 8.950970806909349709e-05\n",
      "8.950813087616716e-05\n",
      "Updating min_error from 8.950970806909349709e-05 to 8.950813087616716029e-05\n",
      "8.950656111435338e-05\n",
      "Updating min_error from 8.950813087616716029e-05 to 8.950656111435337930e-05\n",
      "8.950499863816347e-05\n",
      "Updating min_error from 8.950656111435337930e-05 to 8.950499863816347118e-05\n",
      "8.95034433101342e-05\n",
      "Updating min_error from 8.950499863816347118e-05 to 8.950344331013419363e-05\n",
      "8.950189500082605e-05\n",
      "Updating min_error from 8.950344331013419363e-05 to 8.950189500082605097e-05\n",
      "8.95003535890547e-05\n",
      "Updating min_error from 8.950189500082605097e-05 to 8.950035358905470350e-05\n",
      "8.949881896194642e-05\n",
      "Updating min_error from 8.950035358905470350e-05 to 8.949881896194642448e-05\n"
     ]
    },
    {
     "name": "stderr",
     "output_type": "stream",
     "text": [
      "  0%|          | 478/250000 [00:11<1:23:03, 50.06it/s]"
     ]
    },
    {
     "name": "stdout",
     "output_type": "stream",
     "text": [
      "8.949729101503445e-05\n",
      "Updating min_error from 8.949881896194642448e-05 to 8.949729101503444502e-05\n",
      "8.949576965224378e-05\n",
      "Updating min_error from 8.949729101503444502e-05 to 8.949576965224377524e-05\n",
      "8.949425478612438e-05\n",
      "Updating min_error from 8.949576965224377524e-05 to 8.949425478612437553e-05\n",
      "8.949274633769656e-05\n",
      "Updating min_error from 8.949425478612437553e-05 to 8.949274633769656285e-05\n",
      "8.949124423661482e-05\n",
      "Updating min_error from 8.949274633769656285e-05 to 8.949124423661482014e-05\n",
      "8.948974842110423e-05\n",
      "Updating min_error from 8.949124423661482014e-05 to 8.948974842110423496e-05\n",
      "8.948825883798111e-05\n",
      "Updating min_error from 8.948974842110423496e-05 to 8.948825883798111288e-05\n",
      "8.948677544259255e-05\n",
      "Updating min_error from 8.948825883798111288e-05 to 8.948677544259254677e-05\n",
      "8.948529819878042e-05\n",
      "Updating min_error from 8.948677544259254677e-05 to 8.948529819878042128e-05\n",
      "8.948382707883729e-05\n",
      "Updating min_error from 8.948529819878042128e-05 to 8.948382707883728582e-05\n",
      "8.948236206346988e-05\n",
      "Updating min_error from 8.948382707883728582e-05 to 8.948236206346988470e-05\n"
     ]
    },
    {
     "name": "stderr",
     "output_type": "stream",
     "text": [
      "  0%|          | 490/250000 [00:11<1:22:39, 50.31it/s]"
     ]
    },
    {
     "name": "stdout",
     "output_type": "stream",
     "text": [
      "8.948090314171235e-05\n",
      "Updating min_error from 8.948236206346988470e-05 to 8.948090314171235321e-05\n",
      "8.947945031073861e-05\n",
      "Updating min_error from 8.948090314171235321e-05 to 8.947945031073860995e-05\n",
      "8.947800357591287e-05\n",
      "Updating min_error from 8.947945031073860995e-05 to 8.947800357591286717e-05\n",
      "8.947656295051516e-05\n",
      "Updating min_error from 8.947800357591286717e-05 to 8.947656295051516489e-05\n",
      "8.947512845572265e-05\n",
      "Updating min_error from 8.947656295051516489e-05 to 8.947512845572265494e-05\n",
      "8.947370012040531e-05\n",
      "Updating min_error from 8.947512845572265494e-05 to 8.947370012040531016e-05\n",
      "8.947227798098353e-05\n",
      "Updating min_error from 8.947370012040531016e-05 to 8.947227798098352793e-05\n",
      "8.947086208133958e-05\n",
      "Updating min_error from 8.947227798098352793e-05 to 8.947086208133957805e-05\n",
      "8.946945247252087e-05\n",
      "Updating min_error from 8.947086208133957805e-05 to 8.946945247252087007e-05\n",
      "8.946804921263241e-05\n",
      "Updating min_error from 8.946945247252087007e-05 to 8.946804921263241408e-05\n",
      "8.946665236664908e-05\n",
      "Updating min_error from 8.946804921263241408e-05 to 8.946665236664907745e-05\n"
     ]
    },
    {
     "name": "stderr",
     "output_type": "stream",
     "text": [
      "  0%|          | 496/250000 [00:11<1:22:35, 50.34it/s]"
     ]
    },
    {
     "name": "stdout",
     "output_type": "stream",
     "text": [
      "8.946526200620505e-05\n",
      "Updating min_error from 8.946665236664907745e-05 to 8.946526200620504639e-05\n",
      "8.946387820940081e-05\n",
      "Updating min_error from 8.946526200620504639e-05 to 8.946387820940081086e-05\n",
      "8.9462501060559e-05\n",
      "Updating min_error from 8.946387820940081086e-05 to 8.946250106055900219e-05\n",
      "8.946113065004695e-05\n",
      "Updating min_error from 8.946250106055900219e-05 to 8.946113065004694990e-05\n",
      "8.94597670740337e-05\n",
      "Updating min_error from 8.946113065004694990e-05 to 8.945976707403369838e-05\n",
      "8.945841043431557e-05\n",
      "Updating min_error from 8.945976707403369838e-05 to 8.945841043431557236e-05\n",
      "8.945706083798113e-05\n",
      "Updating min_error from 8.945841043431557236e-05 to 8.945706083798113134e-05\n",
      "8.945571839729275e-05\n",
      "Updating min_error from 8.945706083798113134e-05 to 8.945571839729274757e-05\n",
      "8.945438322935941e-05\n",
      "Updating min_error from 8.945571839729274757e-05 to 8.945438322935940739e-05\n",
      "8.945305545597545e-05\n",
      "Updating min_error from 8.945438322935940739e-05 to 8.945305545597544974e-05\n",
      "8.945305545597545e-05 ++++++++++\n"
     ]
    },
    {
     "name": "stderr",
     "output_type": "stream",
     "text": [
      "  0%|          | 507/250000 [00:12<1:26:25, 48.12it/s]"
     ]
    },
    {
     "name": "stdout",
     "output_type": "stream",
     "text": [
      "8.945173520331664e-05\n",
      "Updating min_error from 8.945305545597544974e-05 to 8.945173520331663717e-05\n",
      "8.945042260171074e-05\n",
      "Updating min_error from 8.945173520331663717e-05 to 8.945042260171073866e-05\n",
      "8.944911778547082e-05\n",
      "Updating min_error from 8.945042260171073866e-05 to 8.944911778547081998e-05\n",
      "8.944782089258477e-05\n",
      "Updating min_error from 8.944911778547081998e-05 to 8.944782089258476883e-05\n",
      "8.94465320645028e-05\n",
      "Updating min_error from 8.944782089258476883e-05 to 8.944653206450280483e-05\n",
      "8.944525144593587e-05\n",
      "Updating min_error from 8.944653206450280483e-05 to 8.944525144593587203e-05\n",
      "8.944397918453798e-05\n",
      "Updating min_error from 8.944525144593587203e-05 to 8.944397918453798131e-05\n",
      "8.944271543075476e-05\n",
      "Updating min_error from 8.944397918453798131e-05 to 8.944271543075476086e-05\n",
      "8.944146033765355e-05\n",
      "Updating min_error from 8.944271543075476086e-05 to 8.944146033765354811e-05\n",
      "8.944021406051788e-05\n",
      "Updating min_error from 8.944146033765354811e-05 to 8.944021406051788463e-05\n"
     ]
    },
    {
     "name": "stderr",
     "output_type": "stream",
     "text": [
      "  0%|          | 518/250000 [00:12<1:25:19, 48.73it/s]"
     ]
    },
    {
     "name": "stdout",
     "output_type": "stream",
     "text": [
      "8.943897675686669e-05\n",
      "Updating min_error from 8.944021406051788463e-05 to 8.943897675686669291e-05\n",
      "8.943774858609244e-05\n",
      "Updating min_error from 8.943897675686669291e-05 to 8.943774858609243746e-05\n",
      "8.943652970930675e-05\n",
      "Updating min_error from 8.943774858609243746e-05 to 8.943652970930674796e-05\n",
      "8.943532028923074e-05\n",
      "Updating min_error from 8.943652970930674796e-05 to 8.943532028923073865e-05\n",
      "8.943412048985044e-05\n",
      "Updating min_error from 8.943532028923073865e-05 to 8.943412048985043537e-05\n",
      "8.943293047641449e-05\n",
      "Updating min_error from 8.943412048985043537e-05 to 8.943293047641448512e-05\n",
      "8.943175041514172e-05\n",
      "Updating min_error from 8.943293047641448512e-05 to 8.943175041514171968e-05\n",
      "8.943058047317681e-05\n",
      "Updating min_error from 8.943175041514171968e-05 to 8.943058047317681172e-05\n",
      "8.942942081838425e-05\n",
      "Updating min_error from 8.943058047317681172e-05 to 8.942942081838424929e-05\n",
      "8.942827161920208e-05\n",
      "Updating min_error from 8.942942081838424929e-05 to 8.942827161920207692e-05\n",
      "8.94271330445934e-05\n",
      "Updating min_error from 8.942827161920207692e-05 to 8.942713304459340472e-05\n"
     ]
    },
    {
     "name": "stderr",
     "output_type": "stream",
     "text": [
      "  0%|          | 529/250000 [00:12<1:24:06, 49.43it/s]"
     ]
    },
    {
     "name": "stdout",
     "output_type": "stream",
     "text": [
      "8.942600526382665e-05\n",
      "Updating min_error from 8.942713304459340472e-05 to 8.942600526382665413e-05\n",
      "8.942488844650834e-05\n",
      "Updating min_error from 8.942600526382665413e-05 to 8.942488844650834149e-05\n",
      "8.942378276234743e-05\n",
      "Updating min_error from 8.942488844650834149e-05 to 8.942378276234742667e-05\n",
      "8.942268838119834e-05\n",
      "Updating min_error from 8.942378276234742667e-05 to 8.942268838119834238e-05\n",
      "8.942160547293309e-05\n",
      "Updating min_error from 8.942268838119834238e-05 to 8.942160547293308542e-05\n",
      "8.942053420736353e-05\n",
      "Updating min_error from 8.942160547293308542e-05 to 8.942053420736353355e-05\n",
      "8.941947475425238e-05\n",
      "Updating min_error from 8.942053420736353355e-05 to 8.941947475425238243e-05\n",
      "8.941842728317904e-05\n",
      "Updating min_error from 8.941947475425238243e-05 to 8.941842728317904334e-05\n",
      "8.941739196360268e-05\n",
      "Updating min_error from 8.941842728317904334e-05 to 8.941739196360267599e-05\n",
      "8.941636896476475e-05\n",
      "Updating min_error from 8.941739196360267599e-05 to 8.941636896476474583e-05\n",
      "8.94153584556081e-05\n",
      "Updating min_error from 8.941636896476474583e-05 to 8.941535845560810193e-05\n"
     ]
    },
    {
     "name": "stderr",
     "output_type": "stream",
     "text": [
      "  0%|          | 539/250000 [00:12<1:24:13, 49.36it/s]"
     ]
    },
    {
     "name": "stdout",
     "output_type": "stream",
     "text": [
      "8.941436060488296e-05\n",
      "Updating min_error from 8.941535845560810193e-05 to 8.941436060488295776e-05\n",
      "8.941337558103943e-05\n",
      "Updating min_error from 8.941436060488295776e-05 to 8.941337558103943316e-05\n",
      "8.9412403552189e-05\n",
      "Updating min_error from 8.941337558103943316e-05 to 8.941240355218899743e-05\n",
      "8.941144468610787e-05\n",
      "Updating min_error from 8.941240355218899743e-05 to 8.941144468610787101e-05\n",
      "8.941049915015265e-05\n",
      "Updating min_error from 8.941144468610787101e-05 to 8.941049915015264742e-05\n",
      "8.940956711124858e-05\n",
      "Updating min_error from 8.941049915015264742e-05 to 8.940956711124858393e-05\n",
      "8.940864873580545e-05\n",
      "Updating min_error from 8.940956711124858393e-05 to 8.940864873580545386e-05\n",
      "8.940774418960356e-05\n",
      "Updating min_error from 8.940864873580545386e-05 to 8.940774418960355631e-05\n",
      "8.94068536377588e-05\n",
      "Updating min_error from 8.940774418960355631e-05 to 8.940685363775880486e-05\n",
      "8.940597724448195e-05\n",
      "Updating min_error from 8.940685363775880486e-05 to 8.940597724448195332e-05\n"
     ]
    },
    {
     "name": "stderr",
     "output_type": "stream",
     "text": [
      "  0%|          | 549/250000 [00:13<1:24:36, 49.14it/s]"
     ]
    },
    {
     "name": "stdout",
     "output_type": "stream",
     "text": [
      "8.940511517299751e-05\n",
      "Updating min_error from 8.940597724448195332e-05 to 8.940511517299751102e-05\n",
      "8.94042675853096e-05\n",
      "Updating min_error from 8.940511517299751102e-05 to 8.940426758530959576e-05\n",
      "8.940343464194288e-05\n",
      "Updating min_error from 8.940426758530959576e-05 to 8.940343464194287727e-05\n",
      "8.940261650166475e-05\n",
      "Updating min_error from 8.940343464194287727e-05 to 8.940261650166475040e-05\n",
      "8.940181332107108e-05\n",
      "Updating min_error from 8.940261650166475040e-05 to 8.940181332107107501e-05\n",
      "8.940102525430633e-05\n",
      "Updating min_error from 8.940181332107107501e-05 to 8.940102525430632986e-05\n",
      "8.940025245241634e-05\n",
      "Updating min_error from 8.940102525430632986e-05 to 8.940025245241634390e-05\n",
      "8.939949506292768e-05\n",
      "Updating min_error from 8.940025245241634390e-05 to 8.939949506292768004e-05\n",
      "8.939875322916115e-05\n",
      "Updating min_error from 8.939949506292768004e-05 to 8.939875322916114543e-05\n",
      "8.939802708947674e-05\n",
      "Updating min_error from 8.939875322916114543e-05 to 8.939802708947673952e-05\n"
     ]
    },
    {
     "name": "stderr",
     "output_type": "stream",
     "text": [
      "  0%|          | 559/250000 [00:13<1:24:37, 49.13it/s]"
     ]
    },
    {
     "name": "stdout",
     "output_type": "stream",
     "text": [
      "8.939731677655864e-05\n",
      "Updating min_error from 8.939802708947673952e-05 to 8.939731677655863630e-05\n",
      "8.939662241645957e-05\n",
      "Updating min_error from 8.939731677655863630e-05 to 8.939662241645956846e-05\n",
      "8.9395944127571e-05\n",
      "Updating min_error from 8.939662241645956846e-05 to 8.939594412757099801e-05\n",
      "8.93952820196058e-05\n",
      "Updating min_error from 8.939594412757099801e-05 to 8.939528201960579578e-05\n",
      "8.939463619233534e-05\n",
      "Updating min_error from 8.939528201960579578e-05 to 8.939463619233533568e-05\n",
      "8.939400673430527e-05\n",
      "Updating min_error from 8.939463619233533568e-05 to 8.939400673430527070e-05\n",
      "8.939339372140119e-05\n",
      "Updating min_error from 8.939400673430527070e-05 to 8.939339372140118773e-05\n",
      "8.939279721542711e-05\n",
      "Updating min_error from 8.939339372140118773e-05 to 8.939279721542711004e-05\n",
      "8.93922172624427e-05\n",
      "Updating min_error from 8.939279721542711004e-05 to 8.939221726244269708e-05\n",
      "8.93916538912106e-05\n",
      "Updating min_error from 8.939221726244269708e-05 to 8.939165389121059920e-05\n"
     ]
    },
    {
     "name": "stderr",
     "output_type": "stream",
     "text": [
      "  0%|          | 569/250000 [00:13<1:24:34, 49.15it/s]"
     ]
    },
    {
     "name": "stdout",
     "output_type": "stream",
     "text": [
      "8.93911071111754e-05\n",
      "Updating min_error from 8.939165389121059920e-05 to 8.939110711117539639e-05\n",
      "8.939057691106709e-05\n",
      "Updating min_error from 8.939110711117539639e-05 to 8.939057691106709169e-05\n",
      "8.939006325682551e-05\n",
      "Updating min_error from 8.939057691106709169e-05 to 8.939006325682551449e-05\n",
      "8.938956608981761e-05\n",
      "Updating min_error from 8.939006325682551449e-05 to 8.938956608981760762e-05\n",
      "8.938908532504886e-05\n",
      "Updating min_error from 8.938956608981760762e-05 to 8.938908532504885964e-05\n",
      "8.938862084926767e-05\n",
      "Updating min_error from 8.938908532504885964e-05 to 8.938862084926767226e-05\n",
      "8.938817251935888e-05\n",
      "Updating min_error from 8.938862084926767226e-05 to 8.938817251935888436e-05\n",
      "8.938774016067695e-05\n",
      "Updating min_error from 8.938817251935888436e-05 to 8.938774016067694672e-05\n",
      "8.938732356552983e-05\n",
      "Updating min_error from 8.938774016067694672e-05 to 8.938732356552982791e-05\n",
      "8.938692249185008e-05\n",
      "Updating min_error from 8.938732356552982791e-05 to 8.938692249185008058e-05\n"
     ]
    },
    {
     "name": "stderr",
     "output_type": "stream",
     "text": [
      "  0%|          | 580/250000 [00:13<1:23:57, 49.52it/s]"
     ]
    },
    {
     "name": "stdout",
     "output_type": "stream",
     "text": [
      "8.938653666213685e-05\n",
      "Updating min_error from 8.938692249185008058e-05 to 8.938653666213684985e-05\n",
      "8.938616576252189e-05\n",
      "Updating min_error from 8.938653666213684985e-05 to 8.938616576252188738e-05\n",
      "8.938580944221716e-05\n",
      "Updating min_error from 8.938616576252188738e-05 to 8.938580944221716392e-05\n",
      "8.938546731321636e-05\n",
      "Updating min_error from 8.938580944221716392e-05 to 8.938546731321636129e-05\n",
      "8.93851389503523e-05\n",
      "Updating min_error from 8.938546731321636129e-05 to 8.938513895035229452e-05\n",
      "8.938482389179578e-05\n",
      "Updating min_error from 8.938513895035229452e-05 to 8.938482389179578031e-05\n",
      "8.938452163981233e-05\n",
      "Updating min_error from 8.938482389179578031e-05 to 8.938452163981232886e-05\n",
      "8.938423166205865e-05\n",
      "Updating min_error from 8.938452163981232886e-05 to 8.938423166205864637e-05\n",
      "8.938395339319539e-05\n",
      "Updating min_error from 8.938423166205864637e-05 to 8.938395339319538579e-05\n",
      "8.938368623702315e-05\n",
      "Updating min_error from 8.938395339319538579e-05 to 8.938368623702314705e-05\n",
      "8.938342956895526e-05\n",
      "Updating min_error from 8.938368623702314705e-05 to 8.938342956895525761e-05\n"
     ]
    },
    {
     "name": "stderr",
     "output_type": "stream",
     "text": [
      "  0%|          | 592/250000 [00:13<1:22:28, 50.41it/s]"
     ]
    },
    {
     "name": "stdout",
     "output_type": "stream",
     "text": [
      "8.938318273890255e-05\n",
      "Updating min_error from 8.938342956895525761e-05 to 8.938318273890254986e-05\n",
      "8.938294507453822e-05\n",
      "Updating min_error from 8.938318273890254986e-05 to 8.938294507453821913e-05\n",
      "8.938271588484159e-05\n",
      "Updating min_error from 8.938294507453821913e-05 to 8.938271588484159264e-05\n",
      "8.938249446412459e-05\n",
      "Updating min_error from 8.938271588484159264e-05 to 8.938249446412458539e-05\n",
      "8.938228009603195e-05\n",
      "Updating min_error from 8.938249446412458539e-05 to 8.938228009603194535e-05\n",
      "8.938207205793733e-05\n",
      "Updating min_error from 8.938228009603194535e-05 to 8.938207205793732737e-05\n",
      "8.938186962537189e-05\n",
      "Updating min_error from 8.938207205793732737e-05 to 8.938186962537189313e-05\n",
      "8.938167207655321e-05\n",
      "Updating min_error from 8.938186962537189313e-05 to 8.938167207655321332e-05\n",
      "8.938147869686191e-05\n",
      "Updating min_error from 8.938167207655321332e-05 to 8.938147869686191137e-05\n",
      "8.93812887832927e-05\n",
      "Updating min_error from 8.938147869686191137e-05 to 8.938128878329270634e-05\n",
      "8.938110164873684e-05\n",
      "Updating min_error from 8.938128878329270634e-05 to 8.938110164873683532e-05\n"
     ]
    },
    {
     "name": "stderr",
     "output_type": "stream",
     "text": [
      "  0%|          | 604/250000 [00:14<1:26:25, 48.10it/s]"
     ]
    },
    {
     "name": "stdout",
     "output_type": "stream",
     "text": [
      "8.938091662604278e-05\n",
      "Updating min_error from 8.938110164873683532e-05 to 8.938091662604278362e-05\n",
      "8.938073307184189e-05\n",
      "Updating min_error from 8.938091662604278362e-05 to 8.938073307184189211e-05\n",
      "8.938055037002489e-05\n",
      "Updating min_error from 8.938073307184189211e-05 to 8.938055037002489215e-05\n",
      "8.938036793488078e-05\n",
      "Updating min_error from 8.938055037002489215e-05 to 8.938036793488077930e-05\n",
      "8.938018521378733e-05\n",
      "Updating min_error from 8.938036793488077930e-05 to 8.938018521378732878e-05\n",
      "8.938000168952843e-05\n",
      "Updating min_error from 8.938018521378732878e-05 to 8.938000168952842854e-05\n",
      "8.938000168952843e-05 ++++++++++\n",
      "8.937981688208448e-05\n",
      "Updating min_error from 8.938000168952842854e-05 to 8.937981688208447649e-05\n",
      "8.937963035014437e-05\n",
      "Updating min_error from 8.937981688208447649e-05 to 8.937963035014436820e-05\n",
      "8.937944169159321e-05\n",
      "Updating min_error from 8.937963035014436820e-05 to 8.937944169159321175e-05\n",
      "8.93792505446018e-05\n",
      "Updating min_error from 8.937944169159321175e-05 to 8.937925054460180174e-05\n"
     ]
    },
    {
     "name": "stderr",
     "output_type": "stream",
     "text": [
      "  0%|          | 614/250000 [00:14<1:26:49, 47.87it/s]"
     ]
    },
    {
     "name": "stdout",
     "output_type": "stream",
     "text": [
      "8.937905658717025e-05\n",
      "Updating min_error from 8.937925054460180174e-05 to 8.937905658717025157e-05\n",
      "8.937885953695453e-05\n",
      "Updating min_error from 8.937905658717025157e-05 to 8.937885953695453461e-05\n",
      "8.93786591504759e-05\n",
      "Updating min_error from 8.937885953695453461e-05 to 8.937865915047589753e-05\n",
      "8.937845522200455e-05\n",
      "Updating min_error from 8.937865915047589753e-05 to 8.937845522200455221e-05\n",
      "8.937824758217024e-05\n",
      "Updating min_error from 8.937845522200455221e-05 to 8.937824758217024351e-05\n",
      "8.93780360963561e-05\n",
      "Updating min_error from 8.937824758217024351e-05 to 8.937803609635609867e-05\n",
      "8.937782066274227e-05\n",
      "Updating min_error from 8.937803609635609867e-05 to 8.937782066274226576e-05\n",
      "8.93776012103957e-05\n",
      "Updating min_error from 8.937782066274226576e-05 to 8.937760121039569857e-05\n",
      "8.937737769698447e-05\n",
      "Updating min_error from 8.937760121039569857e-05 to 8.937737769698446866e-05\n",
      "8.937715010667379e-05\n",
      "Updating min_error from 8.937737769698446866e-05 to 8.937715010667378974e-05\n"
     ]
    },
    {
     "name": "stderr",
     "output_type": "stream",
     "text": [
      "  0%|          | 624/250000 [00:14<1:26:09, 48.24it/s]"
     ]
    },
    {
     "name": "stdout",
     "output_type": "stream",
     "text": [
      "8.937691844772485e-05\n",
      "Updating min_error from 8.937715010667378974e-05 to 8.937691844772484870e-05\n",
      "8.937668275024357e-05\n",
      "Updating min_error from 8.937691844772484870e-05 to 8.937668275024356816e-05\n",
      "8.937644306389889e-05\n",
      "Updating min_error from 8.937668275024356816e-05 to 8.937644306389888951e-05\n",
      "8.937619945566544e-05\n",
      "Updating min_error from 8.937644306389888951e-05 to 8.937619945566543684e-05\n",
      "8.93759520077011e-05\n",
      "Updating min_error from 8.937619945566543684e-05 to 8.937595200770109632e-05\n",
      "8.93757008152232e-05\n",
      "Updating min_error from 8.937595200770109632e-05 to 8.937570081522319969e-05\n",
      "8.937544598457378e-05\n",
      "Updating min_error from 8.937570081522319969e-05 to 8.937544598457377904e-05\n",
      "8.937518763137416e-05\n",
      "Updating min_error from 8.937544598457377904e-05 to 8.937518763137415980e-05\n",
      "8.93749258787659e-05\n",
      "Updating min_error from 8.937518763137415980e-05 to 8.937492587876589699e-05\n",
      "8.937466085583398e-05\n",
      "Updating min_error from 8.937492587876589699e-05 to 8.937466085583397929e-05\n"
     ]
    },
    {
     "name": "stderr",
     "output_type": "stream",
     "text": [
      "  0%|          | 634/250000 [00:14<1:26:51, 47.85it/s]"
     ]
    },
    {
     "name": "stdout",
     "output_type": "stream",
     "text": [
      "8.937439269615922e-05\n",
      "Updating min_error from 8.937466085583397929e-05 to 8.937439269615921587e-05\n",
      "8.937412153649525e-05\n",
      "Updating min_error from 8.937439269615921587e-05 to 8.937412153649525225e-05\n",
      "8.937384751542642e-05\n",
      "Updating min_error from 8.937412153649525225e-05 to 8.937384751542642287e-05\n",
      "8.937357077256268e-05\n",
      "Updating min_error from 8.937384751542642287e-05 to 8.937357077256267675e-05\n",
      "8.937329144733407e-05\n",
      "Updating min_error from 8.937357077256267675e-05 to 8.937329144733406670e-05\n",
      "8.937300967831632e-05\n",
      "Updating min_error from 8.937329144733406670e-05 to 8.937300967831632130e-05\n",
      "8.937272560247093e-05\n",
      "Updating min_error from 8.937300967831632130e-05 to 8.937272560247092761e-05\n",
      "8.937243935442655e-05\n",
      "Updating min_error from 8.937272560247092761e-05 to 8.937243935442654912e-05\n",
      "8.937215106609945e-05\n",
      "Updating min_error from 8.937243935442654912e-05 to 8.937215106609944649e-05\n",
      "8.93718608661721e-05\n",
      "Updating min_error from 8.937215106609944649e-05 to 8.937186086617209836e-05\n"
     ]
    },
    {
     "name": "stderr",
     "output_type": "stream",
     "text": [
      "  0%|          | 644/250000 [00:15<1:27:35, 47.44it/s]"
     ]
    },
    {
     "name": "stdout",
     "output_type": "stream",
     "text": [
      "8.937156887972094e-05\n",
      "Updating min_error from 8.937186086617209836e-05 to 8.937156887972094049e-05\n",
      "8.937127522796846e-05\n",
      "Updating min_error from 8.937156887972094049e-05 to 8.937127522796846292e-05\n",
      "8.937098002799239e-05\n",
      "Updating min_error from 8.937127522796846292e-05 to 8.937098002799238633e-05\n",
      "8.937068339264531e-05\n",
      "Updating min_error from 8.937098002799238633e-05 to 8.937068339264530909e-05\n",
      "8.93703854303669e-05\n",
      "Updating min_error from 8.937068339264530909e-05 to 8.937038543036689630e-05\n",
      "8.937008624515711e-05\n",
      "Updating min_error from 8.937038543036689630e-05 to 8.937008624515711363e-05\n",
      "8.936978593648374e-05\n",
      "Updating min_error from 8.937008624515711363e-05 to 8.936978593648374481e-05\n",
      "8.936948459937193e-05\n",
      "Updating min_error from 8.936978593648374481e-05 to 8.936948459937193317e-05\n",
      "8.936918232433638e-05\n",
      "Updating min_error from 8.936948459937193317e-05 to 8.936918232433637842e-05\n",
      "8.936887919749423e-05\n",
      "Updating min_error from 8.936918232433637842e-05 to 8.936887919749422911e-05\n"
     ]
    },
    {
     "name": "stderr",
     "output_type": "stream",
     "text": [
      "  0%|          | 654/250000 [00:15<1:27:36, 47.43it/s]"
     ]
    },
    {
     "name": "stdout",
     "output_type": "stream",
     "text": [
      "8.936857530061821e-05\n",
      "Updating min_error from 8.936887919749422911e-05 to 8.936857530061820861e-05\n",
      "8.936827071125604e-05\n",
      "Updating min_error from 8.936857530061820861e-05 to 8.936827071125603994e-05\n",
      "8.936796550278242e-05\n",
      "Updating min_error from 8.936827071125603994e-05 to 8.936796550278241970e-05\n",
      "8.936765974456128e-05\n",
      "Updating min_error from 8.936796550278241970e-05 to 8.936765974456128254e-05\n",
      "8.936735350205545e-05\n",
      "Updating min_error from 8.936765974456128254e-05 to 8.936735350205545457e-05\n",
      "8.936704683695985e-05\n",
      "Updating min_error from 8.936735350205545457e-05 to 8.936704683695984768e-05\n",
      "8.936673980734489e-05\n",
      "Updating min_error from 8.936704683695984768e-05 to 8.936673980734488587e-05\n",
      "8.936643246779185e-05\n",
      "Updating min_error from 8.936673980734488587e-05 to 8.936643246779185439e-05\n",
      "8.936612486950823e-05\n",
      "Updating min_error from 8.936643246779185439e-05 to 8.936612486950823171e-05\n",
      "8.936581706053416e-05\n",
      "Updating min_error from 8.936612486950823171e-05 to 8.936581706053416227e-05\n"
     ]
    },
    {
     "name": "stderr",
     "output_type": "stream",
     "text": [
      "  0%|          | 664/250000 [00:15<1:27:54, 47.27it/s]"
     ]
    },
    {
     "name": "stdout",
     "output_type": "stream",
     "text": [
      "8.936550908577052e-05\n",
      "Updating min_error from 8.936581706053416227e-05 to 8.936550908577052380e-05\n",
      "8.936520098727014e-05\n",
      "Updating min_error from 8.936550908577052380e-05 to 8.936520098727014400e-05\n",
      "8.936489280423059e-05\n",
      "Updating min_error from 8.936520098727014400e-05 to 8.936489280423059057e-05\n",
      "8.93645845732341e-05\n",
      "Updating min_error from 8.936489280423059057e-05 to 8.936458457323410520e-05\n",
      "8.936427632829653e-05\n",
      "Updating min_error from 8.936458457323410520e-05 to 8.936427632829652818e-05\n",
      "8.936396810107049e-05\n",
      "Updating min_error from 8.936427632829652818e-05 to 8.936396810107049139e-05\n",
      "8.936365992091444e-05\n",
      "Updating min_error from 8.936396810107049139e-05 to 8.936365992091444140e-05\n",
      "8.936335181502463e-05\n",
      "Updating min_error from 8.936365992091444140e-05 to 8.936335181502462748e-05\n",
      "8.936304380856652e-05\n",
      "Updating min_error from 8.936335181502462748e-05 to 8.936304380856652046e-05\n",
      "8.936273592475422e-05\n",
      "Updating min_error from 8.936304380856652046e-05 to 8.936273592475421699e-05\n"
     ]
    },
    {
     "name": "stderr",
     "output_type": "stream",
     "text": [
      "  0%|          | 674/250000 [00:15<1:25:52, 48.39it/s]"
     ]
    },
    {
     "name": "stdout",
     "output_type": "stream",
     "text": [
      "8.936242818498571e-05\n",
      "Updating min_error from 8.936273592475421699e-05 to 8.936242818498570735e-05\n",
      "8.936212060893258e-05\n",
      "Updating min_error from 8.936242818498570735e-05 to 8.936212060893257956e-05\n",
      "8.936181321463367e-05\n",
      "Updating min_error from 8.936212060893257956e-05 to 8.936181321463366740e-05\n",
      "8.936150601859537e-05\n",
      "Updating min_error from 8.936181321463366740e-05 to 8.936150601859536619e-05\n",
      "8.936119903587905e-05\n",
      "Updating min_error from 8.936150601859536619e-05 to 8.936119903587904658e-05\n",
      "8.936089228017763e-05\n",
      "Updating min_error from 8.936119903587904658e-05 to 8.936089228017762636e-05\n",
      "8.936058576388767e-05\n",
      "Updating min_error from 8.936089228017762636e-05 to 8.936058576388766989e-05\n",
      "8.9360279498217e-05\n",
      "Updating min_error from 8.936058576388766989e-05 to 8.936027949821699515e-05\n",
      "8.935997349322764e-05\n",
      "Updating min_error from 8.936027949821699515e-05 to 8.935997349322763526e-05\n",
      "8.935966775790974e-05\n",
      "Updating min_error from 8.935997349322763526e-05 to 8.935966775790974044e-05\n",
      "8.935936230025715e-05\n",
      "Updating min_error from 8.935966775790974044e-05 to 8.935936230025714685e-05\n"
     ]
    },
    {
     "name": "stderr",
     "output_type": "stream",
     "text": [
      "  0%|          | 685/250000 [00:15<1:24:46, 49.01it/s]"
     ]
    },
    {
     "name": "stdout",
     "output_type": "stream",
     "text": [
      "8.935905712731728e-05\n",
      "Updating min_error from 8.935936230025714685e-05 to 8.935905712731727704e-05\n",
      "8.935875224526182e-05\n",
      "Updating min_error from 8.935905712731727704e-05 to 8.935875224526181634e-05\n",
      "8.935844765941647e-05\n",
      "Updating min_error from 8.935875224526181634e-05 to 8.935844765941647425e-05\n",
      "8.935814337433657e-05\n",
      "Updating min_error from 8.935844765941647425e-05 to 8.935814337433656686e-05\n",
      "8.93578393938512e-05\n",
      "Updating min_error from 8.935814337433656686e-05 to 8.935783939385119807e-05\n",
      "8.935753572112128e-05\n",
      "Updating min_error from 8.935783939385119807e-05 to 8.935753572112127801e-05\n",
      "8.935723235864714e-05\n",
      "Updating min_error from 8.935753572112127801e-05 to 8.935723235864713953e-05\n",
      "8.935692930833604e-05\n",
      "Updating min_error from 8.935723235864713953e-05 to 8.935692930833604331e-05\n",
      "8.935662657153876e-05\n",
      "Updating min_error from 8.935692930833604331e-05 to 8.935662657153875619e-05\n",
      "8.935632414908143e-05\n",
      "Updating min_error from 8.935662657153875619e-05 to 8.935632414908142667e-05\n"
     ]
    },
    {
     "name": "stderr",
     "output_type": "stream",
     "text": [
      "  0%|          | 695/250000 [00:16<1:24:49, 48.98it/s]"
     ]
    },
    {
     "name": "stdout",
     "output_type": "stream",
     "text": [
      "8.935602204131013e-05\n",
      "Updating min_error from 8.935632414908142667e-05 to 8.935602204131013208e-05\n",
      "8.935572024810753e-05\n",
      "Updating min_error from 8.935602204131013208e-05 to 8.935572024810753465e-05\n",
      "8.935541876892313e-05\n",
      "Updating min_error from 8.935572024810753465e-05 to 8.935541876892313072e-05\n",
      "8.935511760283086e-05\n",
      "Updating min_error from 8.935541876892313072e-05 to 8.935511760283086256e-05\n",
      "8.935481674851624e-05\n",
      "Updating min_error from 8.935511760283086256e-05 to 8.935481674851624345e-05\n",
      "8.935451620434034e-05\n",
      "Updating min_error from 8.935481674851624345e-05 to 8.935451620434033918e-05\n",
      "8.935421596831564e-05\n",
      "Updating min_error from 8.935451620434033918e-05 to 8.935421596831564454e-05\n",
      "8.935391603816805e-05\n",
      "Updating min_error from 8.935421596831564454e-05 to 8.935391603816804547e-05\n",
      "8.935361641136792e-05\n",
      "Updating min_error from 8.935391603816804547e-05 to 8.935361641136792211e-05\n",
      "8.93533170851148e-05\n",
      "Updating min_error from 8.935361641136792211e-05 to 8.935331708511479382e-05\n"
     ]
    },
    {
     "name": "stderr",
     "output_type": "stream",
     "text": [
      "  0%|          | 705/250000 [00:16<1:29:58, 46.18it/s]"
     ]
    },
    {
     "name": "stdout",
     "output_type": "stream",
     "text": [
      "8.93530180563419e-05\n",
      "Updating min_error from 8.935331708511479382e-05 to 8.935301805634189988e-05\n",
      "8.93527193218079e-05\n",
      "Updating min_error from 8.935301805634189988e-05 to 8.935271932180789591e-05\n",
      "8.935242087802283e-05\n",
      "Updating min_error from 8.935271932180789591e-05 to 8.935242087802283001e-05\n",
      "8.935212272133503e-05\n",
      "Updating min_error from 8.935242087802283001e-05 to 8.935212272133502792e-05\n",
      "8.93518248479172e-05\n",
      "Updating min_error from 8.935212272133502792e-05 to 8.935182484791720178e-05\n",
      "8.93518248479172e-05 ++++++++++\n",
      "8.935152725378839e-05\n",
      "Updating min_error from 8.935182484791720178e-05 to 8.935152725378839159e-05\n",
      "8.935122993477247e-05\n",
      "Updating min_error from 8.935152725378839159e-05 to 8.935122993477246744e-05\n",
      "8.935093288660895e-05\n",
      "Updating min_error from 8.935122993477246744e-05 to 8.935093288660894847e-05\n",
      "8.935063610490753e-05\n",
      "Updating min_error from 8.935093288660894847e-05 to 8.935063610490753415e-05\n"
     ]
    },
    {
     "name": "stderr",
     "output_type": "stream",
     "text": [
      "  0%|          | 715/250000 [00:16<1:27:17, 47.59it/s]"
     ]
    },
    {
     "name": "stdout",
     "output_type": "stream",
     "text": [
      "8.935033958511775e-05\n",
      "Updating min_error from 8.935063610490753415e-05 to 8.935033958511774666e-05\n",
      "8.935004332263417e-05\n",
      "Updating min_error from 8.935033958511774666e-05 to 8.935004332263416621e-05\n",
      "8.934974731271121e-05\n",
      "Updating min_error from 8.935004332263416621e-05 to 8.934974731271121281e-05\n",
      "8.93494515505639e-05\n",
      "Updating min_error from 8.934974731271121281e-05 to 8.934945155056389567e-05\n",
      "8.934915603128356e-05\n",
      "Updating min_error from 8.934945155056389567e-05 to 8.934915603128355723e-05\n",
      "8.934886074992491e-05\n",
      "Updating min_error from 8.934915603128355723e-05 to 8.934886074992490744e-05\n",
      "8.934856570146492e-05\n",
      "Updating min_error from 8.934886074992490744e-05 to 8.934856570146491894e-05\n",
      "8.934827088080943e-05\n",
      "Updating min_error from 8.934856570146491894e-05 to 8.934827088080942717e-05\n",
      "8.934797628283367e-05\n",
      "Updating min_error from 8.934827088080942717e-05 to 8.934797628283366595e-05\n",
      "8.934768190233219e-05\n",
      "Updating min_error from 8.934797628283366595e-05 to 8.934768190233219093e-05\n"
     ]
    },
    {
     "name": "stderr",
     "output_type": "stream",
     "text": [
      "  0%|          | 725/250000 [00:16<1:26:03, 48.28it/s]"
     ]
    },
    {
     "name": "stdout",
     "output_type": "stream",
     "text": [
      "8.93473877341039e-05\n",
      "Updating min_error from 8.934768190233219093e-05 to 8.934738773410389454e-05\n",
      "8.934709377285912e-05\n",
      "Updating min_error from 8.934738773410389454e-05 to 8.934709377285911702e-05\n",
      "8.934680001334048e-05\n",
      "Updating min_error from 8.934709377285911702e-05 to 8.934680001334048072e-05\n",
      "8.934650645022081e-05\n",
      "Updating min_error from 8.934680001334048072e-05 to 8.934650645022081247e-05\n",
      "8.934621307813266e-05\n",
      "Updating min_error from 8.934650645022081247e-05 to 8.934621307813266100e-05\n",
      "8.934591989175883e-05\n",
      "Updating min_error from 8.934621307813266100e-05 to 8.934591989175882779e-05\n",
      "8.934562688570477e-05\n",
      "Updating min_error from 8.934591989175882779e-05 to 8.934562688570477009e-05\n",
      "8.934533405457059e-05\n",
      "Updating min_error from 8.934562688570477009e-05 to 8.934533405457059185e-05\n",
      "8.934504139298245e-05\n",
      "Updating min_error from 8.934533405457059185e-05 to 8.934504139298244502e-05\n",
      "8.934474889551212e-05\n",
      "Updating min_error from 8.934504139298244502e-05 to 8.934474889551212234e-05\n"
     ]
    },
    {
     "name": "stderr",
     "output_type": "stream",
     "text": [
      "  0%|          | 735/250000 [00:16<1:26:10, 48.21it/s]"
     ]
    },
    {
     "name": "stdout",
     "output_type": "stream",
     "text": [
      "8.934445655679632e-05\n",
      "Updating min_error from 8.934474889551212234e-05 to 8.934445655679631960e-05\n",
      "8.934416437137724e-05\n",
      "Updating min_error from 8.934445655679631960e-05 to 8.934416437137724439e-05\n",
      "8.934387233387904e-05\n",
      "Updating min_error from 8.934416437137724439e-05 to 8.934387233387904286e-05\n",
      "8.93435804388959e-05\n",
      "Updating min_error from 8.934387233387904286e-05 to 8.934358043889589654e-05\n",
      "8.934328868102742e-05\n",
      "Updating min_error from 8.934358043889589654e-05 to 8.934328868102742150e-05\n",
      "8.93429970548826e-05\n",
      "Updating min_error from 8.934328868102742150e-05 to 8.934299705488259863e-05\n",
      "8.93427055550826e-05\n",
      "Updating min_error from 8.934299705488259863e-05 to 8.934270555508260609e-05\n",
      "8.934241417625227e-05\n",
      "Updating min_error from 8.934270555508260609e-05 to 8.934241417625226765e-05\n",
      "8.934212291303401e-05\n",
      "Updating min_error from 8.934241417625226765e-05 to 8.934212291303401184e-05\n",
      "8.934183176009722e-05\n",
      "Updating min_error from 8.934212291303401184e-05 to 8.934183176009722314e-05\n"
     ]
    },
    {
     "name": "stderr",
     "output_type": "stream",
     "text": [
      "  0%|          | 745/250000 [00:17<1:27:19, 47.57it/s]"
     ]
    },
    {
     "name": "stdout",
     "output_type": "stream",
     "text": [
      "8.934154071209181e-05\n",
      "Updating min_error from 8.934183176009722314e-05 to 8.934154071209181108e-05\n",
      "8.934124976367874e-05\n",
      "Updating min_error from 8.934154071209181108e-05 to 8.934124976367874402e-05\n",
      "8.934095890959896e-05\n",
      "Updating min_error from 8.934124976367874402e-05 to 8.934095890959896380e-05\n",
      "8.934066814454304e-05\n",
      "Updating min_error from 8.934095890959896380e-05 to 8.934066814454303751e-05\n",
      "8.934037746326401e-05\n",
      "Updating min_error from 8.934066814454303751e-05 to 8.934037746326400941e-05\n",
      "8.934008686050832e-05\n",
      "Updating min_error from 8.934037746326400941e-05 to 8.934008686050832365e-05\n",
      "8.933979633104889e-05\n",
      "Updating min_error from 8.934008686050832365e-05 to 8.933979633104889248e-05\n",
      "8.933950586968041e-05\n",
      "Updating min_error from 8.933979633104889248e-05 to 8.933950586968040705e-05\n",
      "8.933921547121735e-05\n",
      "Updating min_error from 8.933950586968040705e-05 to 8.933921547121734523e-05\n",
      "8.933892513048638e-05\n",
      "Updating min_error from 8.933921547121734523e-05 to 8.933892513048638214e-05\n"
     ]
    },
    {
     "name": "stderr",
     "output_type": "stream",
     "text": [
      "  0%|          | 755/250000 [00:17<1:28:05, 47.16it/s]"
     ]
    },
    {
     "name": "stdout",
     "output_type": "stream",
     "text": [
      "8.93386348423801e-05\n",
      "Updating min_error from 8.933892513048638214e-05 to 8.933863484238009883e-05\n",
      "8.933834460173233e-05\n",
      "Updating min_error from 8.933863484238009883e-05 to 8.933834460173232617e-05\n",
      "8.933805440346566e-05\n",
      "Updating min_error from 8.933834460173232617e-05 to 8.933805440346566406e-05\n",
      "8.933776424249626e-05\n",
      "Updating min_error from 8.933805440346566406e-05 to 8.933776424249626142e-05\n",
      "8.933747411378018e-05\n",
      "Updating min_error from 8.933776424249626142e-05 to 8.933747411378017934e-05\n",
      "8.933718401228696e-05\n",
      "Updating min_error from 8.933747411378017934e-05 to 8.933718401228696369e-05\n",
      "8.933689393300435e-05\n",
      "Updating min_error from 8.933718401228696369e-05 to 8.933689393300434784e-05\n",
      "8.933660387094478e-05\n",
      "Updating min_error from 8.933689393300434784e-05 to 8.933660387094478493e-05\n",
      "8.93363138211542e-05\n",
      "Updating min_error from 8.933660387094478493e-05 to 8.933631382115420289e-05\n",
      "8.933602377869678e-05\n",
      "Updating min_error from 8.933631382115420289e-05 to 8.933602377869678487e-05\n"
     ]
    },
    {
     "name": "stderr",
     "output_type": "stream",
     "text": [
      "  0%|          | 765/250000 [00:17<1:28:14, 47.07it/s]"
     ]
    },
    {
     "name": "stdout",
     "output_type": "stream",
     "text": [
      "8.933573373865692e-05\n",
      "Updating min_error from 8.933602377869678487e-05 to 8.933573373865692085e-05\n",
      "8.933544369614615e-05\n",
      "Updating min_error from 8.933573373865692085e-05 to 8.933544369614614654e-05\n",
      "8.933515364629877e-05\n",
      "Updating min_error from 8.933544369614614654e-05 to 8.933515364629876585e-05\n",
      "8.93348635842719e-05\n",
      "Updating min_error from 8.933515364629876585e-05 to 8.933486358427190520e-05\n",
      "8.93345735052482e-05\n",
      "Updating min_error from 8.933486358427190520e-05 to 8.933457350524819682e-05\n",
      "8.933428340443098e-05\n",
      "Updating min_error from 8.933457350524819682e-05 to 8.933428340443098122e-05\n",
      "8.933399327703929e-05\n",
      "Updating min_error from 8.933428340443098122e-05 to 8.933399327703929276e-05\n",
      "8.9333703118344e-05\n",
      "Updating min_error from 8.933399327703929276e-05 to 8.933370311834400417e-05\n",
      "8.93334129236017e-05\n",
      "Updating min_error from 8.933370311834400417e-05 to 8.933341292360170386e-05\n",
      "8.93331226881144e-05\n",
      "Updating min_error from 8.933341292360170386e-05 to 8.933312268811439472e-05\n"
     ]
    },
    {
     "name": "stderr",
     "output_type": "stream",
     "text": [
      "  0%|          | 775/250000 [00:17<1:28:21, 47.01it/s]"
     ]
    },
    {
     "name": "stdout",
     "output_type": "stream",
     "text": [
      "8.933283240721488e-05\n",
      "Updating min_error from 8.933312268811439472e-05 to 8.933283240721488457e-05\n",
      "8.933254207620936e-05\n",
      "Updating min_error from 8.933283240721488457e-05 to 8.933254207620936404e-05\n",
      "8.933225169048247e-05\n",
      "Updating min_error from 8.933254207620936404e-05 to 8.933225169048246580e-05\n",
      "8.933196124542386e-05\n",
      "Updating min_error from 8.933225169048246580e-05 to 8.933196124542386405e-05\n",
      "8.93316707364392e-05\n",
      "Updating min_error from 8.933196124542386405e-05 to 8.933167073643919788e-05\n",
      "8.933138015896128e-05\n",
      "Updating min_error from 8.933167073643919788e-05 to 8.933138015896127920e-05\n",
      "8.933108950843384e-05\n",
      "Updating min_error from 8.933138015896127920e-05 to 8.933108950843384323e-05\n",
      "8.933079878035768e-05\n",
      "Updating min_error from 8.933108950843384323e-05 to 8.933079878035768136e-05\n",
      "8.933050797019629e-05\n",
      "Updating min_error from 8.933079878035768136e-05 to 8.933050797019628840e-05\n",
      "8.933021707344849e-05\n",
      "Updating min_error from 8.933050797019628840e-05 to 8.933021707344849063e-05\n"
     ]
    },
    {
     "name": "stderr",
     "output_type": "stream",
     "text": [
      "  0%|          | 785/250000 [00:17<1:27:50, 47.28it/s]"
     ]
    },
    {
     "name": "stdout",
     "output_type": "stream",
     "text": [
      "8.932992608566662e-05\n",
      "Updating min_error from 8.933021707344849063e-05 to 8.932992608566661967e-05\n",
      "8.932963500241592e-05\n",
      "Updating min_error from 8.932992608566661967e-05 to 8.932963500241592272e-05\n",
      "8.932934381926125e-05\n",
      "Updating min_error from 8.932963500241592272e-05 to 8.932934381926125396e-05\n",
      "8.932905253180395e-05\n",
      "Updating min_error from 8.932934381926125396e-05 to 8.932905253180395096e-05\n",
      "8.932876113565248e-05\n",
      "Updating min_error from 8.932905253180395096e-05 to 8.932876113565247993e-05\n",
      "8.932846962643679e-05\n",
      "Updating min_error from 8.932876113565247993e-05 to 8.932846962643678783e-05\n",
      "8.932817799981699e-05\n",
      "Updating min_error from 8.932846962643678783e-05 to 8.932817799981698954e-05\n",
      "8.932788625146037e-05\n",
      "Updating min_error from 8.932817799981698954e-05 to 8.932788625146036924e-05\n",
      "8.932759437705633e-05\n",
      "Updating min_error from 8.932788625146036924e-05 to 8.932759437705632883e-05\n",
      "8.932730237231384e-05\n",
      "Updating min_error from 8.932759437705632883e-05 to 8.932730237231384005e-05\n"
     ]
    },
    {
     "name": "stderr",
     "output_type": "stream",
     "text": [
      "  0%|          | 795/250000 [00:18<1:27:25, 47.51it/s]"
     ]
    },
    {
     "name": "stdout",
     "output_type": "stream",
     "text": [
      "8.932701023296094e-05\n",
      "Updating min_error from 8.932730237231384005e-05 to 8.932701023296094305e-05\n",
      "8.93267179547368e-05\n",
      "Updating min_error from 8.932701023296094305e-05 to 8.932671795473680462e-05\n",
      "8.93264255334071e-05\n",
      "Updating min_error from 8.932671795473680462e-05 to 8.932642553340710027e-05\n",
      "8.932613296472962e-05\n",
      "Updating min_error from 8.932642553340710027e-05 to 8.932613296472961795e-05\n",
      "8.932584024451024e-05\n",
      "Updating min_error from 8.932613296472961795e-05 to 8.932584024451024353e-05\n",
      "8.932554736855924e-05\n",
      "Updating min_error from 8.932584024451024353e-05 to 8.932554736855924035e-05\n",
      "8.93252543327053e-05\n",
      "Updating min_error from 8.932554736855924035e-05 to 8.932525433270530318e-05\n",
      "8.932496113277226e-05\n",
      "Updating min_error from 8.932525433270530318e-05 to 8.932496113277226142e-05\n",
      "8.932466776463929e-05\n",
      "Updating min_error from 8.932496113277226142e-05 to 8.932466776463929303e-05\n",
      "8.932437422417805e-05\n",
      "Updating min_error from 8.932466776463929303e-05 to 8.932437422417805427e-05\n"
     ]
    },
    {
     "name": "stderr",
     "output_type": "stream",
     "text": [
      "  0%|          | 800/250000 [00:18<1:27:33, 47.43it/s]"
     ]
    },
    {
     "name": "stdout",
     "output_type": "stream",
     "text": [
      "8.932408050725963e-05\n",
      "Updating min_error from 8.932437422417805427e-05 to 8.932408050725963223e-05\n",
      "8.932378660979776e-05\n",
      "Updating min_error from 8.932408050725963223e-05 to 8.932378660979776379e-05\n",
      "8.932349252770635e-05\n",
      "Updating min_error from 8.932378660979776379e-05 to 8.932349252770634845e-05\n",
      "8.932319825691577e-05\n",
      "Updating min_error from 8.932349252770634845e-05 to 8.932319825691576560e-05\n",
      "8.932290379336649e-05\n",
      "Updating min_error from 8.932319825691576560e-05 to 8.932290379336649125e-05\n",
      "8.932260913302246e-05\n",
      "Updating min_error from 8.932290379336649125e-05 to 8.932260913302246085e-05\n",
      "8.932260913302246e-05 ++++++++++\n",
      "8.932231427185153e-05\n",
      "Updating min_error from 8.932260913302246085e-05 to 8.932231427185152652e-05\n",
      "8.932201920585954e-05\n",
      "Updating min_error from 8.932231427185152652e-05 to 8.932201920585954166e-05\n",
      "8.9321723930993e-05\n",
      "Updating min_error from 8.932201920585954166e-05 to 8.932172393099299960e-05\n"
     ]
    },
    {
     "name": "stderr",
     "output_type": "stream",
     "text": [
      "  0%|          | 810/250000 [00:18<1:30:49, 45.73it/s]"
     ]
    },
    {
     "name": "stdout",
     "output_type": "stream",
     "text": [
      "8.932142844328853e-05\n",
      "Updating min_error from 8.932172393099299960e-05 to 8.932142844328853156e-05\n",
      "8.932113273877469e-05\n",
      "Updating min_error from 8.932142844328853156e-05 to 8.932113273877469140e-05\n",
      "8.932083681347444e-05\n",
      "Updating min_error from 8.932113273877469140e-05 to 8.932083681347443584e-05\n",
      "8.93205406634269e-05\n",
      "Updating min_error from 8.932083681347443584e-05 to 8.932054066342690328e-05\n",
      "8.93202442846948e-05\n",
      "Updating min_error from 8.932054066342690328e-05 to 8.932024428469479999e-05\n",
      "8.931994767335505e-05\n",
      "Updating min_error from 8.932024428469479999e-05 to 8.931994767335504882e-05\n",
      "8.931965082547166e-05\n",
      "Updating min_error from 8.931994767335504882e-05 to 8.931965082547165707e-05\n",
      "8.93193537371389e-05\n",
      "Updating min_error from 8.931965082547165707e-05 to 8.931935373713889483e-05\n",
      "8.931905640445438e-05\n",
      "Updating min_error from 8.931935373713889483e-05 to 8.931905640445437968e-05\n",
      "8.931875882354118e-05\n",
      "Updating min_error from 8.931905640445437968e-05 to 8.931875882354118083e-05\n"
     ]
    },
    {
     "name": "stderr",
     "output_type": "stream",
     "text": [
      "  0%|          | 820/250000 [00:18<1:29:06, 46.60it/s]"
     ]
    },
    {
     "name": "stdout",
     "output_type": "stream",
     "text": [
      "8.931846099048411e-05\n",
      "Updating min_error from 8.931875882354118083e-05 to 8.931846099048410871e-05\n",
      "8.931816290141446e-05\n",
      "Updating min_error from 8.931846099048410871e-05 to 8.931816290141445891e-05\n",
      "8.931786455249788e-05\n",
      "Updating min_error from 8.931816290141445891e-05 to 8.931786455249788269e-05\n",
      "8.93175659398678e-05\n",
      "Updating min_error from 8.931786455249788269e-05 to 8.931756593986780340e-05\n",
      "8.931726705967144e-05\n",
      "Updating min_error from 8.931756593986780340e-05 to 8.931726705967144085e-05\n",
      "8.931696790806453e-05\n",
      "Updating min_error from 8.931726705967144085e-05 to 8.931696790806452585e-05\n",
      "8.93166684812466e-05\n",
      "Updating min_error from 8.931696790806452585e-05 to 8.931666848124660452e-05\n",
      "8.931636877536949e-05\n",
      "Updating min_error from 8.931666848124660452e-05 to 8.931636877536949098e-05\n",
      "8.931606878662986e-05\n",
      "Updating min_error from 8.931636877536949098e-05 to 8.931606878662985824e-05\n",
      "8.931576851122617e-05\n",
      "Updating min_error from 8.931606878662985824e-05 to 8.931576851122616820e-05\n"
     ]
    },
    {
     "name": "stderr",
     "output_type": "stream",
     "text": [
      "  0%|          | 830/250000 [00:18<1:28:06, 47.13it/s]"
     ]
    },
    {
     "name": "stdout",
     "output_type": "stream",
     "text": [
      "8.93154679453455e-05\n",
      "Updating min_error from 8.931576851122616820e-05 to 8.931546794534549866e-05\n",
      "8.931516708519919e-05\n",
      "Updating min_error from 8.931546794534549866e-05 to 8.931516708519918646e-05\n",
      "8.93148659270281e-05\n",
      "Updating min_error from 8.931516708519918646e-05 to 8.931486592702809937e-05\n",
      "8.931456446702773e-05\n",
      "Updating min_error from 8.931486592702809937e-05 to 8.931456446702773131e-05\n",
      "8.931426270143047e-05\n",
      "Updating min_error from 8.931456446702773131e-05 to 8.931426270143046618e-05\n",
      "8.931396062647671e-05\n",
      "Updating min_error from 8.931426270143046618e-05 to 8.931396062647671097e-05\n",
      "8.931365823839981e-05\n",
      "Updating min_error from 8.931396062647671097e-05 to 8.931365823839981181e-05\n",
      "8.931335553346216e-05\n",
      "Updating min_error from 8.931365823839981181e-05 to 8.931335553346215789e-05\n",
      "8.931305250788575e-05\n",
      "Updating min_error from 8.931335553346215789e-05 to 8.931305250788575188e-05\n",
      "8.931274915794595e-05\n",
      "Updating min_error from 8.931305250788575188e-05 to 8.931274915794595274e-05\n"
     ]
    },
    {
     "name": "stderr",
     "output_type": "stream",
     "text": [
      "  0%|          | 840/250000 [00:19<1:26:54, 47.78it/s]"
     ]
    },
    {
     "name": "stdout",
     "output_type": "stream",
     "text": [
      "8.931244547990069e-05\n",
      "Updating min_error from 8.931274915794595274e-05 to 8.931244547990069087e-05\n",
      "8.93121414700161e-05\n",
      "Updating min_error from 8.931244547990069087e-05 to 8.931214147001609598e-05\n",
      "8.931183712456738e-05\n",
      "Updating min_error from 8.931214147001609598e-05 to 8.931183712456737794e-05\n",
      "8.931153243981094e-05\n",
      "Updating min_error from 8.931183712456737794e-05 to 8.931153243981093573e-05\n",
      "8.931122741204609e-05\n",
      "Updating min_error from 8.931153243981093573e-05 to 8.931122741204608917e-05\n",
      "8.931092203754681e-05\n",
      "Updating min_error from 8.931122741204608917e-05 to 8.931092203754681489e-05\n",
      "8.931061631260431e-05\n",
      "Updating min_error from 8.931092203754681489e-05 to 8.931061631260431473e-05\n",
      "8.931031023350591e-05\n",
      "Updating min_error from 8.931061631260431473e-05 to 8.931031023350591454e-05\n",
      "8.9310003796537e-05\n",
      "Updating min_error from 8.931031023350591454e-05 to 8.931000379653700216e-05\n",
      "8.930969699800058e-05\n",
      "Updating min_error from 8.931000379653700216e-05 to 8.930969699800058370e-05\n"
     ]
    },
    {
     "name": "stderr",
     "output_type": "stream",
     "text": [
      "  0%|          | 850/250000 [00:19<1:26:21, 48.08it/s]"
     ]
    },
    {
     "name": "stdout",
     "output_type": "stream",
     "text": [
      "8.930938983419713e-05\n",
      "Updating min_error from 8.930969699800058370e-05 to 8.930938983419713095e-05\n",
      "8.930908230142782e-05\n",
      "Updating min_error from 8.930938983419713095e-05 to 8.930908230142782045e-05\n",
      "8.930877439599222e-05\n",
      "Updating min_error from 8.930908230142782045e-05 to 8.930877439599221596e-05\n",
      "8.930846611419365e-05\n",
      "Updating min_error from 8.930877439599221596e-05 to 8.930846611419364887e-05\n",
      "8.930815745234908e-05\n",
      "Updating min_error from 8.930846611419364887e-05 to 8.930815745234908440e-05\n",
      "8.930784840676509e-05\n",
      "Updating min_error from 8.930815745234908440e-05 to 8.930784840676509297e-05\n",
      "8.93075389737579e-05\n",
      "Updating min_error from 8.930784840676509297e-05 to 8.930753897375789442e-05\n",
      "8.930722914963037e-05\n",
      "Updating min_error from 8.930753897375789442e-05 to 8.930722914963037289e-05\n",
      "8.930691893071372e-05\n",
      "Updating min_error from 8.930722914963037289e-05 to 8.930691893071372376e-05\n",
      "8.93066083132998e-05\n",
      "Updating min_error from 8.930691893071372376e-05 to 8.930660831329979941e-05\n"
     ]
    },
    {
     "name": "stderr",
     "output_type": "stream",
     "text": [
      "  0%|          | 860/250000 [00:19<1:26:00, 48.28it/s]"
     ]
    },
    {
     "name": "stdout",
     "output_type": "stream",
     "text": [
      "8.930629729372622e-05\n",
      "Updating min_error from 8.930660831329979941e-05 to 8.930629729372621911e-05\n",
      "8.930598586830483e-05\n",
      "Updating min_error from 8.930629729372621911e-05 to 8.930598586830482523e-05\n",
      "8.93056740333498e-05\n",
      "Updating min_error from 8.930598586830482523e-05 to 8.930567403334980473e-05\n",
      "8.930536178517738e-05\n",
      "Updating min_error from 8.930567403334980473e-05 to 8.930536178517737742e-05\n",
      "8.930504912013743e-05\n",
      "Updating min_error from 8.930536178517737742e-05 to 8.930504912013742763e-05\n",
      "8.930473603450557e-05\n",
      "Updating min_error from 8.930504912013742763e-05 to 8.930473603450557181e-05\n",
      "8.930442252461446e-05\n",
      "Updating min_error from 8.930473603450557181e-05 to 8.930442252461445545e-05\n",
      "8.930410858677294e-05\n",
      "Updating min_error from 8.930442252461445545e-05 to 8.930410858677293937e-05\n",
      "8.930379421734126e-05\n",
      "Updating min_error from 8.930410858677293937e-05 to 8.930379421734126199e-05\n",
      "8.930347941257829e-05\n",
      "Updating min_error from 8.930379421734126199e-05 to 8.930347941257828887e-05\n"
     ]
    },
    {
     "name": "stderr",
     "output_type": "stream",
     "text": [
      "  0%|          | 870/250000 [00:19<1:25:52, 48.36it/s]"
     ]
    },
    {
     "name": "stdout",
     "output_type": "stream",
     "text": [
      "8.930316416882488e-05\n",
      "Updating min_error from 8.930347941257828887e-05 to 8.930316416882487832e-05\n",
      "8.930284848240328e-05\n",
      "Updating min_error from 8.930316416882487832e-05 to 8.930284848240328105e-05\n",
      "8.930253234962618e-05\n",
      "Updating min_error from 8.930284848240328105e-05 to 8.930253234962617968e-05\n",
      "8.930221576680357e-05\n",
      "Updating min_error from 8.930253234962617968e-05 to 8.930221576680357344e-05\n",
      "8.930189873024241e-05\n",
      "Updating min_error from 8.930221576680357344e-05 to 8.930189873024241222e-05\n",
      "8.930158123625362e-05\n",
      "Updating min_error from 8.930189873024241222e-05 to 8.930158123625361682e-05\n",
      "8.930126328114702e-05\n",
      "Updating min_error from 8.930158123625361682e-05 to 8.930126328114702382e-05\n",
      "8.930094486122553e-05\n",
      "Updating min_error from 8.930126328114702382e-05 to 8.930094486122553093e-05\n",
      "8.930062597279438e-05\n",
      "Updating min_error from 8.930094486122553093e-05 to 8.930062597279438043e-05\n",
      "8.930030661213721e-05\n",
      "Updating min_error from 8.930062597279438043e-05 to 8.930030661213721188e-05\n"
     ]
    },
    {
     "name": "stderr",
     "output_type": "stream",
     "text": [
      "  0%|          | 880/250000 [00:19<1:25:23, 48.62it/s]"
     ]
    },
    {
     "name": "stdout",
     "output_type": "stream",
     "text": [
      "8.929998677558118e-05\n",
      "Updating min_error from 8.930030661213721188e-05 to 8.929998677558118199e-05\n",
      "8.929966645944645e-05\n",
      "Updating min_error from 8.929998677558118199e-05 to 8.929966645944645439e-05\n",
      "8.929934565995213e-05\n",
      "Updating min_error from 8.929966645944645439e-05 to 8.929934565995213149e-05\n",
      "8.929902437343671e-05\n",
      "Updating min_error from 8.929934565995213149e-05 to 8.929902437343671348e-05\n",
      "8.929870259616175e-05\n",
      "Updating min_error from 8.929902437343671348e-05 to 8.929870259616174929e-05\n",
      "8.929838032443393e-05\n",
      "Updating min_error from 8.929870259616174929e-05 to 8.929838032443393134e-05\n",
      "8.929805755451473e-05\n",
      "Updating min_error from 8.929838032443393134e-05 to 8.929805755451472723e-05\n",
      "8.929773428268944e-05\n",
      "Updating min_error from 8.929805755451472723e-05 to 8.929773428268944350e-05\n",
      "8.929741050523351e-05\n",
      "Updating min_error from 8.929773428268944350e-05 to 8.929741050523350686e-05\n",
      "8.929708621841168e-05\n",
      "Updating min_error from 8.929741050523350686e-05 to 8.929708621841167819e-05\n"
     ]
    },
    {
     "name": "stderr",
     "output_type": "stream",
     "text": [
      "  0%|          | 890/250000 [00:20<1:25:19, 48.66it/s]"
     ]
    },
    {
     "name": "stdout",
     "output_type": "stream",
     "text": [
      "8.929676141848895e-05\n",
      "Updating min_error from 8.929708621841167819e-05 to 8.929676141848894879e-05\n",
      "8.92964361017275e-05\n",
      "Updating min_error from 8.929676141848894879e-05 to 8.929643610172750454e-05\n",
      "8.929611026438651e-05\n",
      "Updating min_error from 8.929643610172750454e-05 to 8.929611026438650915e-05\n",
      "8.929578390271414e-05\n",
      "Updating min_error from 8.929611026438650915e-05 to 8.929578390271413521e-05\n",
      "8.929545701295918e-05\n",
      "Updating min_error from 8.929578390271413521e-05 to 8.929545701295917872e-05\n",
      "8.929512959136272e-05\n",
      "Updating min_error from 8.929545701295917872e-05 to 8.929512959136272430e-05\n",
      "8.929480163416198e-05\n",
      "Updating min_error from 8.929512959136272430e-05 to 8.929480163416198056e-05\n",
      "8.929447313758708e-05\n",
      "Updating min_error from 8.929480163416198056e-05 to 8.929447313758708167e-05\n",
      "8.929414409787278e-05\n",
      "Updating min_error from 8.929447313758708167e-05 to 8.929414409787278322e-05\n",
      "8.929381451123517e-05\n",
      "Updating min_error from 8.929414409787278322e-05 to 8.929381451123516542e-05\n"
     ]
    },
    {
     "name": "stderr",
     "output_type": "stream",
     "text": [
      "  0%|          | 901/250000 [00:20<1:29:07, 46.59it/s]"
     ]
    },
    {
     "name": "stdout",
     "output_type": "stream",
     "text": [
      "8.92934843738802e-05\n",
      "Updating min_error from 8.929381451123516542e-05 to 8.929348437388019829e-05\n",
      "8.929315368204409e-05\n",
      "Updating min_error from 8.929348437388019829e-05 to 8.929315368204408755e-05\n",
      "8.929282243192113e-05\n",
      "Updating min_error from 8.929315368204408755e-05 to 8.929282243192113448e-05\n",
      "8.929249061969809e-05\n",
      "Updating min_error from 8.929282243192113448e-05 to 8.929249061969809164e-05\n",
      "8.929215824158337e-05\n",
      "Updating min_error from 8.929249061969809164e-05 to 8.929215824158336849e-05\n",
      "8.929182529376616e-05\n",
      "Updating min_error from 8.929215824158336849e-05 to 8.929182529376615703e-05\n",
      "8.929149177241397e-05\n",
      "Updating min_error from 8.929182529376615703e-05 to 8.929149177241396521e-05\n",
      "8.929149177241397e-05 ++++++++++\n",
      "8.929115767372433e-05\n",
      "Updating min_error from 8.929149177241396521e-05 to 8.929115767372433339e-05\n",
      "8.929082299381712e-05\n",
      "Updating min_error from 8.929115767372433339e-05 to 8.929082299381711882e-05\n"
     ]
    },
    {
     "name": "stderr",
     "output_type": "stream",
     "text": [
      "  0%|          | 911/250000 [00:20<1:28:25, 46.95it/s]"
     ]
    },
    {
     "name": "stdout",
     "output_type": "stream",
     "text": [
      "8.929048772893923e-05\n",
      "Updating min_error from 8.929082299381711882e-05 to 8.929048772893923372e-05\n",
      "8.92901518751786e-05\n",
      "Updating min_error from 8.929048772893923372e-05 to 8.929015187517860559e-05\n",
      "8.92898154286574e-05\n",
      "Updating min_error from 8.929015187517860559e-05 to 8.928981542865739563e-05\n",
      "8.928947838556333e-05\n",
      "Updating min_error from 8.928981542865739563e-05 to 8.928947838556333216e-05\n",
      "8.928914074201977e-05\n",
      "Updating min_error from 8.928947838556333216e-05 to 8.928914074201976900e-05\n",
      "8.928880249415632e-05\n",
      "Updating min_error from 8.928914074201976900e-05 to 8.928880249415632124e-05\n",
      "8.92884636380835e-05\n",
      "Updating min_error from 8.928880249415632124e-05 to 8.928846363808349488e-05\n",
      "8.928812416990764e-05\n",
      "Updating min_error from 8.928846363808349488e-05 to 8.928812416990763534e-05\n",
      "8.928778408572331e-05\n",
      "Updating min_error from 8.928812416990763534e-05 to 8.928778408572331086e-05\n",
      "8.928744338165813e-05\n",
      "Updating min_error from 8.928778408572331086e-05 to 8.928744338165813075e-05\n"
     ]
    },
    {
     "name": "stderr",
     "output_type": "stream",
     "text": [
      "  0%|          | 921/250000 [00:20<1:27:44, 47.31it/s]"
     ]
    },
    {
     "name": "stdout",
     "output_type": "stream",
     "text": [
      "8.928710205381315e-05\n",
      "Updating min_error from 8.928744338165813075e-05 to 8.928710205381315491e-05\n",
      "8.928676009822926e-05\n",
      "Updating min_error from 8.928710205381315491e-05 to 8.928676009822925650e-05\n",
      "8.928641751096132e-05\n",
      "Updating min_error from 8.928676009822925650e-05 to 8.928641751096132195e-05\n",
      "8.928607428809035e-05\n",
      "Updating min_error from 8.928641751096132195e-05 to 8.928607428809035343e-05\n",
      "8.928573042567419e-05\n",
      "Updating min_error from 8.928607428809035343e-05 to 8.928573042567419186e-05\n",
      "8.928538591975143e-05\n",
      "Updating min_error from 8.928573042567419186e-05 to 8.928538591975143353e-05\n",
      "8.928504076636897e-05\n",
      "Updating min_error from 8.928538591975143353e-05 to 8.928504076636896891e-05\n",
      "8.92846949615475e-05\n",
      "Updating min_error from 8.928504076636896891e-05 to 8.928469496154750498e-05\n",
      "8.92843485013087e-05\n",
      "Updating min_error from 8.928469496154750498e-05 to 8.928434850130869739e-05\n",
      "8.92840013816563e-05\n",
      "Updating min_error from 8.928434850130869739e-05 to 8.928400138165629889e-05\n"
     ]
    },
    {
     "name": "stderr",
     "output_type": "stream",
     "text": [
      "  0%|          | 931/250000 [00:21<1:27:45, 47.30it/s]"
     ]
    },
    {
     "name": "stdout",
     "output_type": "stream",
     "text": [
      "8.928365359861228e-05\n",
      "Updating min_error from 8.928400138165629889e-05 to 8.928365359861227687e-05\n",
      "8.928330514814458e-05\n",
      "Updating min_error from 8.928365359861227687e-05 to 8.928330514814457829e-05\n",
      "8.92829560262443e-05\n",
      "Updating min_error from 8.928330514814457829e-05 to 8.928295602624429787e-05\n",
      "8.928260622887796e-05\n",
      "Updating min_error from 8.928295602624429787e-05 to 8.928260622887795959e-05\n",
      "8.928225575201655e-05\n",
      "Updating min_error from 8.928260622887795959e-05 to 8.928225575201654619e-05\n",
      "8.928190459159683e-05\n",
      "Updating min_error from 8.928225575201654619e-05 to 8.928190459159683384e-05\n",
      "8.928155274357388e-05\n",
      "Updating min_error from 8.928190459159683384e-05 to 8.928155274357388110e-05\n",
      "8.928120020386643e-05\n",
      "Updating min_error from 8.928155274357388110e-05 to 8.928120020386642571e-05\n",
      "8.928084696841737e-05\n",
      "Updating min_error from 8.928120020386642571e-05 to 8.928084696841736959e-05\n",
      "8.928049303313297e-05\n",
      "Updating min_error from 8.928084696841736959e-05 to 8.928049303313296864e-05\n"
     ]
    },
    {
     "name": "stderr",
     "output_type": "stream",
     "text": [
      "  0%|          | 941/250000 [00:21<1:27:48, 47.27it/s]"
     ]
    },
    {
     "name": "stdout",
     "output_type": "stream",
     "text": [
      "8.928013839390552e-05\n",
      "Updating min_error from 8.928049303313296864e-05 to 8.928013839390551963e-05\n",
      "8.92797830466344e-05\n",
      "Updating min_error from 8.928013839390551963e-05 to 8.927978304663439376e-05\n",
      "8.927942698718389e-05\n",
      "Updating min_error from 8.927978304663439376e-05 to 8.927942698718388829e-05\n",
      "8.927907021143622e-05\n",
      "Updating min_error from 8.927942698718388829e-05 to 8.927907021143621693e-05\n",
      "8.927871271524673e-05\n",
      "Updating min_error from 8.927907021143621693e-05 to 8.927871271524673226e-05\n",
      "8.927835449446534e-05\n",
      "Updating min_error from 8.927871271524673226e-05 to 8.927835449446533877e-05\n",
      "8.927799554493386e-05\n",
      "Updating min_error from 8.927835449446533877e-05 to 8.927799554493386362e-05\n",
      "8.927763586246475e-05\n",
      "Updating min_error from 8.927799554493386362e-05 to 8.927763586246475211e-05\n",
      "8.927727544288408e-05\n",
      "Updating min_error from 8.927763586246475211e-05 to 8.927727544288408337e-05\n",
      "8.927691428199868e-05\n",
      "Updating min_error from 8.927727544288408337e-05 to 8.927691428199867839e-05\n"
     ]
    },
    {
     "name": "stderr",
     "output_type": "stream",
     "text": [
      "  0%|          | 951/250000 [00:21<1:28:02, 47.15it/s]"
     ]
    },
    {
     "name": "stdout",
     "output_type": "stream",
     "text": [
      "8.927655237559518e-05\n",
      "Updating min_error from 8.927691428199867839e-05 to 8.927655237559517845e-05\n",
      "8.927618971944003e-05\n",
      "Updating min_error from 8.927655237559517845e-05 to 8.927618971944003157e-05\n",
      "8.927582630930783e-05\n",
      "Updating min_error from 8.927618971944003157e-05 to 8.927582630930783083e-05\n",
      "8.927546214098771e-05\n",
      "Updating min_error from 8.927582630930783083e-05 to 8.927546214098771118e-05\n",
      "8.927509721016906e-05\n",
      "Updating min_error from 8.927546214098771118e-05 to 8.927509721016906096e-05\n",
      "8.927473151261131e-05\n",
      "Updating min_error from 8.927509721016906096e-05 to 8.927473151261130797e-05\n",
      "8.92743650440272e-05\n",
      "Updating min_error from 8.927473151261130797e-05 to 8.927436504402720512e-05\n",
      "8.927399780012459e-05\n",
      "Updating min_error from 8.927436504402720512e-05 to 8.927399780012458574e-05\n",
      "8.927362977662237e-05\n",
      "Updating min_error from 8.927399780012458574e-05 to 8.927362977662236913e-05\n",
      "8.927326096915464e-05\n",
      "Updating min_error from 8.927362977662236913e-05 to 8.927326096915463578e-05\n"
     ]
    },
    {
     "name": "stderr",
     "output_type": "stream",
     "text": [
      "  0%|          | 961/250000 [00:21<1:27:42, 47.32it/s]"
     ]
    },
    {
     "name": "stdout",
     "output_type": "stream",
     "text": [
      "8.927289137342193e-05\n",
      "Updating min_error from 8.927326096915463578e-05 to 8.927289137342192776e-05\n",
      "8.927252098507867e-05\n",
      "Updating min_error from 8.927289137342192776e-05 to 8.927252098507866790e-05\n",
      "8.927214979975227e-05\n",
      "Updating min_error from 8.927252098507866790e-05 to 8.927214979975226883e-05\n",
      "8.927177781309329e-05\n",
      "Updating min_error from 8.927214979975226883e-05 to 8.927177781309329090e-05\n",
      "8.92714050207286e-05\n",
      "Updating min_error from 8.927177781309329090e-05 to 8.927140502072860467e-05\n",
      "8.927103141825239e-05\n",
      "Updating min_error from 8.927140502072860467e-05 to 8.927103141825239196e-05\n",
      "8.927065700124862e-05\n",
      "Updating min_error from 8.927103141825239196e-05 to 8.927065700124861601e-05\n",
      "8.927028176530269e-05\n",
      "Updating min_error from 8.927065700124861601e-05 to 8.927028176530269019e-05\n",
      "8.926990570598334e-05\n",
      "Updating min_error from 8.927028176530269019e-05 to 8.926990570598334468e-05\n",
      "8.926952881883693e-05\n",
      "Updating min_error from 8.926990570598334468e-05 to 8.926952881883693446e-05\n"
     ]
    },
    {
     "name": "stderr",
     "output_type": "stream",
     "text": [
      "  0%|          | 971/250000 [00:21<1:25:49, 48.36it/s]"
     ]
    },
    {
     "name": "stdout",
     "output_type": "stream",
     "text": [
      "8.926915109942239e-05\n",
      "Updating min_error from 8.926952881883693446e-05 to 8.926915109942239125e-05\n",
      "8.926877254322003e-05\n",
      "Updating min_error from 8.926915109942239125e-05 to 8.926877254322002856e-05\n",
      "8.926839314577013e-05\n",
      "Updating min_error from 8.926877254322002856e-05 to 8.926839314577012983e-05\n",
      "8.926801290255442e-05\n",
      "Updating min_error from 8.926839314577012983e-05 to 8.926801290255441802e-05\n",
      "8.926763180906799e-05\n",
      "Updating min_error from 8.926801290255441802e-05 to 8.926763180906799246e-05\n",
      "8.926724986078458e-05\n",
      "Updating min_error from 8.926763180906799246e-05 to 8.926724986078458013e-05\n",
      "8.92668670531454e-05\n",
      "Updating min_error from 8.926724986078458013e-05 to 8.926686705314539549e-05\n",
      "8.926648338159191e-05\n",
      "Updating min_error from 8.926686705314539549e-05 to 8.926648338159191051e-05\n",
      "8.926609884156068e-05\n",
      "Updating min_error from 8.926648338159191051e-05 to 8.926609884156067759e-05\n",
      "8.926571342844186e-05\n",
      "Updating min_error from 8.926609884156067759e-05 to 8.926571342844185882e-05\n",
      "8.926532713763601e-05\n",
      "Updating min_error from 8.926571342844185882e-05 to 8.926532713763601109e-05\n"
     ]
    },
    {
     "name": "stderr",
     "output_type": "stream",
     "text": [
      "  0%|          | 981/250000 [00:22<1:25:08, 48.74it/s]"
     ]
    },
    {
     "name": "stdout",
     "output_type": "stream",
     "text": [
      "8.926493996452945e-05\n",
      "Updating min_error from 8.926532713763601109e-05 to 8.926493996452944759e-05\n",
      "8.926455190449372e-05\n",
      "Updating min_error from 8.926493996452944759e-05 to 8.926455190449372279e-05\n",
      "8.926416295288468e-05\n",
      "Updating min_error from 8.926455190449372279e-05 to 8.926416295288468379e-05\n",
      "8.926377310502743e-05\n",
      "Updating min_error from 8.926416295288468379e-05 to 8.926377310502742700e-05\n",
      "8.926338235625347e-05\n",
      "Updating min_error from 8.926377310502742700e-05 to 8.926338235625347274e-05\n",
      "8.926299070185906e-05\n",
      "Updating min_error from 8.926338235625347274e-05 to 8.926299070185906410e-05\n",
      "8.92625981371504e-05\n",
      "Updating min_error from 8.926299070185906410e-05 to 8.926259813715040525e-05\n",
      "8.926220465738026e-05\n",
      "Updating min_error from 8.926259813715040525e-05 to 8.926220465738026280e-05\n",
      "8.926181025781589e-05\n",
      "Updating min_error from 8.926220465738026280e-05 to 8.926181025781589095e-05\n",
      "8.926141493369549e-05\n",
      "Updating min_error from 8.926181025781589095e-05 to 8.926141493369548732e-05\n"
     ]
    },
    {
     "name": "stderr",
     "output_type": "stream",
     "text": [
      "  0%|          | 991/250000 [00:22<1:24:30, 49.11it/s]"
     ]
    },
    {
     "name": "stdout",
     "output_type": "stream",
     "text": [
      "8.926101868028923e-05\n",
      "Updating min_error from 8.926141493369548732e-05 to 8.926101868028923350e-05\n",
      "8.926062149277435e-05\n",
      "Updating min_error from 8.926101868028923350e-05 to 8.926062149277435426e-05\n",
      "8.926022336633683e-05\n",
      "Updating min_error from 8.926062149277435426e-05 to 8.926022336633682934e-05\n",
      "8.925982429619602e-05\n",
      "Updating min_error from 8.926022336633682934e-05 to 8.925982429619601832e-05\n",
      "8.925942427749987e-05\n",
      "Updating min_error from 8.925982429619601832e-05 to 8.925942427749987255e-05\n",
      "8.925902330540404e-05\n",
      "Updating min_error from 8.925942427749987255e-05 to 8.925902330540404119e-05\n",
      "8.925862137504001e-05\n",
      "Updating min_error from 8.925902330540404119e-05 to 8.925862137504000926e-05\n",
      "8.92582184815277e-05\n",
      "Updating min_error from 8.925862137504000926e-05 to 8.925821848152770146e-05\n",
      "8.925781462001863e-05\n",
      "Updating min_error from 8.925821848152770146e-05 to 8.925781462001863343e-05\n",
      "8.925740978550532e-05\n",
      "Updating min_error from 8.925781462001863343e-05 to 8.925740978550532258e-05\n"
     ]
    },
    {
     "name": "stderr",
     "output_type": "stream",
     "text": [
      "  0%|          | 1001/250000 [00:22<1:29:44, 46.24it/s]"
     ]
    },
    {
     "name": "stdout",
     "output_type": "stream",
     "text": [
      "8.925700397308535e-05\n",
      "Updating min_error from 8.925740978550532258e-05 to 8.925700397308534550e-05\n",
      "8.925659717782606e-05\n",
      "Updating min_error from 8.925700397308534550e-05 to 8.925659717782605663e-05\n",
      "8.925618939476459e-05\n",
      "Updating min_error from 8.925659717782605663e-05 to 8.925618939476458831e-05\n",
      "8.925578061892723e-05\n",
      "Updating min_error from 8.925618939476458831e-05 to 8.925578061892723081e-05\n",
      "8.92553708453148e-05\n",
      "Updating min_error from 8.925578061892723081e-05 to 8.925537084531479570e-05\n",
      "8.92549600689081e-05\n",
      "Updating min_error from 8.925537084531479570e-05 to 8.925496006890810453e-05\n",
      "8.925454828465721e-05\n",
      "Updating min_error from 8.925496006890810453e-05 to 8.925454828465721464e-05\n",
      "8.925454828465721e-05 ++++++++++\n",
      "8.92541354875743e-05\n",
      "Updating min_error from 8.925454828465721464e-05 to 8.925413548757429459e-05\n",
      "8.92537216725532e-05\n",
      "Updating min_error from 8.925413548757429459e-05 to 8.925372167255319939e-05\n"
     ]
    },
    {
     "name": "stderr",
     "output_type": "stream",
     "text": [
      "  0%|          | 1011/250000 [00:22<1:29:20, 46.45it/s]"
     ]
    },
    {
     "name": "stdout",
     "output_type": "stream",
     "text": [
      "8.925330683449094e-05\n",
      "Updating min_error from 8.925372167255319939e-05 to 8.925330683449094176e-05\n",
      "8.925289096835959e-05\n",
      "Updating min_error from 8.925330683449094176e-05 to 8.925289096835958835e-05\n",
      "8.925247406898248e-05\n",
      "Updating min_error from 8.925289096835958835e-05 to 8.925247406898248036e-05\n",
      "8.925205613124617e-05\n",
      "Updating min_error from 8.925247406898248036e-05 to 8.925205613124616798e-05\n",
      "8.925163715000454e-05\n",
      "Updating min_error from 8.925205613124616798e-05 to 8.925163715000453981e-05\n",
      "8.925121712012189e-05\n",
      "Updating min_error from 8.925163715000453981e-05 to 8.925121712012189278e-05\n",
      "8.925079603638248e-05\n",
      "Updating min_error from 8.925121712012189278e-05 to 8.925079603638248261e-05\n",
      "8.92503738935682e-05\n",
      "Updating min_error from 8.925079603638248261e-05 to 8.925037389356819332e-05\n",
      "8.92499506864815e-05\n",
      "Updating min_error from 8.925037389356819332e-05 to 8.924995068648149522e-05\n",
      "8.924952640989401e-05\n",
      "Updating min_error from 8.924995068648149522e-05 to 8.924952640989401308e-05\n"
     ]
    },
    {
     "name": "stderr",
     "output_type": "stream",
     "text": [
      "  0%|          | 1021/250000 [00:22<1:29:24, 46.42it/s]"
     ]
    },
    {
     "name": "stdout",
     "output_type": "stream",
     "text": [
      "8.92491010585668e-05\n",
      "Updating min_error from 8.924952640989401308e-05 to 8.924910105856680067e-05\n",
      "8.924867462719961e-05\n",
      "Updating min_error from 8.924910105856680067e-05 to 8.924867462719961370e-05\n",
      "8.924824711052864e-05\n",
      "Updating min_error from 8.924867462719961370e-05 to 8.924824711052863708e-05\n",
      "8.924781850323041e-05\n",
      "Updating min_error from 8.924824711052863708e-05 to 8.924781850323041104e-05\n",
      "8.924738879998932e-05\n",
      "Updating min_error from 8.924781850323041104e-05 to 8.924738879998932270e-05\n",
      "8.924695799547992e-05\n",
      "Updating min_error from 8.924738879998932270e-05 to 8.924695799547992009e-05\n",
      "8.924652608433665e-05\n",
      "Updating min_error from 8.924695799547992009e-05 to 8.924652608433664928e-05\n",
      "8.924609306118877e-05\n",
      "Updating min_error from 8.924652608433664928e-05 to 8.924609306118876572e-05\n",
      "8.924565892063561e-05\n",
      "Updating min_error from 8.924609306118876572e-05 to 8.924565892063561446e-05\n",
      "8.924522365727692e-05\n",
      "Updating min_error from 8.924565892063561446e-05 to 8.924522365727692000e-05\n"
     ]
    },
    {
     "name": "stderr",
     "output_type": "stream",
     "text": [
      "  0%|          | 1031/250000 [00:23<1:28:47, 46.74it/s]"
     ]
    },
    {
     "name": "stdout",
     "output_type": "stream",
     "text": [
      "8.924478726567853e-05\n",
      "Updating min_error from 8.924522365727692000e-05 to 8.924478726567852552e-05\n",
      "8.924434974041897e-05\n",
      "Updating min_error from 8.924478726567852552e-05 to 8.924434974041897293e-05\n",
      "8.924391107601216e-05\n",
      "Updating min_error from 8.924434974041897293e-05 to 8.924391107601215858e-05\n",
      "8.924347126697211e-05\n",
      "Updating min_error from 8.924391107601215858e-05 to 8.924347126697211433e-05\n",
      "8.924303030781256e-05\n",
      "Updating min_error from 8.924347126697211433e-05 to 8.924303030781256037e-05\n",
      "8.924258819302526e-05\n",
      "Updating min_error from 8.924303030781256037e-05 to 8.924258819302526176e-05\n",
      "8.924214491706146e-05\n",
      "Updating min_error from 8.924258819302526176e-05 to 8.924214491706146152e-05\n",
      "8.924170047439409e-05\n",
      "Updating min_error from 8.924214491706146152e-05 to 8.924170047439408671e-05\n",
      "8.92412548594518e-05\n",
      "Updating min_error from 8.924170047439408671e-05 to 8.924125485945180183e-05\n",
      "8.924080806662499e-05\n",
      "Updating min_error from 8.924125485945180183e-05 to 8.924080806662498550e-05\n"
     ]
    },
    {
     "name": "stderr",
     "output_type": "stream",
     "text": [
      "  0%|          | 1041/250000 [00:23<1:27:59, 47.15it/s]"
     ]
    },
    {
     "name": "stdout",
     "output_type": "stream",
     "text": [
      "8.924036009034211e-05\n",
      "Updating min_error from 8.924080806662498550e-05 to 8.924036009034211250e-05\n",
      "8.923991092495361e-05\n",
      "Updating min_error from 8.924036009034211250e-05 to 8.923991092495360859e-05\n",
      "8.923946056485293e-05\n",
      "Updating min_error from 8.923991092495360859e-05 to 8.923946056485292880e-05\n",
      "8.923900900439913e-05\n",
      "Updating min_error from 8.923946056485292880e-05 to 8.923900900439913188e-05\n",
      "8.923855623785705e-05\n",
      "Updating min_error from 8.923900900439913188e-05 to 8.923855623785704582e-05\n",
      "8.923810225957708e-05\n",
      "Updating min_error from 8.923855623785704582e-05 to 8.923810225957708284e-05\n",
      "8.923764706384562e-05\n",
      "Updating min_error from 8.923810225957708284e-05 to 8.923764706384561946e-05\n",
      "8.923719064494123e-05\n",
      "Updating min_error from 8.923764706384561946e-05 to 8.923719064494122595e-05\n",
      "8.923673299712241e-05\n",
      "Updating min_error from 8.923719064494122595e-05 to 8.923673299712241483e-05\n",
      "8.923627411463228e-05\n",
      "Updating min_error from 8.923673299712241483e-05 to 8.923627411463227587e-05\n"
     ]
    },
    {
     "name": "stderr",
     "output_type": "stream",
     "text": [
      "  0%|          | 1051/250000 [00:23<1:28:33, 46.85it/s]"
     ]
    },
    {
     "name": "stdout",
     "output_type": "stream",
     "text": [
      "8.923581399169433e-05\n",
      "Updating min_error from 8.923627411463227587e-05 to 8.923581399169432896e-05\n",
      "8.923535262251842e-05\n",
      "Updating min_error from 8.923581399169432896e-05 to 8.923535262251841951e-05\n",
      "8.923489000130069e-05\n",
      "Updating min_error from 8.923535262251841951e-05 to 8.923489000130069130e-05\n",
      "8.92344261222051e-05\n",
      "Updating min_error from 8.923489000130069130e-05 to 8.923442612220510090e-05\n",
      "8.92339609793913e-05\n",
      "Updating min_error from 8.923442612220510090e-05 to 8.923396097939129514e-05\n",
      "8.92334945670035e-05\n",
      "Updating min_error from 8.923396097939129514e-05 to 8.923349456700349809e-05\n",
      "8.923302687916356e-05\n",
      "Updating min_error from 8.923349456700349809e-05 to 8.923302687916355859e-05\n",
      "8.923255790997026e-05\n",
      "Updating min_error from 8.923302687916355859e-05 to 8.923255790997025908e-05\n",
      "8.923208765353837e-05\n",
      "Updating min_error from 8.923255790997025908e-05 to 8.923208765353837400e-05\n",
      "8.923161610392767e-05\n",
      "Updating min_error from 8.923208765353837400e-05 to 8.923161610392766805e-05\n"
     ]
    },
    {
     "name": "stderr",
     "output_type": "stream",
     "text": [
      "  0%|          | 1061/250000 [00:23<1:28:25, 46.92it/s]"
     ]
    },
    {
     "name": "stdout",
     "output_type": "stream",
     "text": [
      "8.923114325519593e-05\n",
      "Updating min_error from 8.923161610392766805e-05 to 8.923114325519592729e-05\n",
      "8.923066910140904e-05\n",
      "Updating min_error from 8.923114325519592729e-05 to 8.923066910140904217e-05\n",
      "8.923019363656112e-05\n",
      "Updating min_error from 8.923066910140904217e-05 to 8.923019363656111542e-05\n",
      "8.922971685468685e-05\n",
      "Updating min_error from 8.923019363656111542e-05 to 8.922971685468685313e-05\n",
      "8.922923874977862e-05\n",
      "Updating min_error from 8.922971685468685313e-05 to 8.922923874977862330e-05\n",
      "8.922875931581132e-05\n",
      "Updating min_error from 8.922923874977862330e-05 to 8.922875931581132473e-05\n",
      "8.922827854673709e-05\n",
      "Updating min_error from 8.922875931581132473e-05 to 8.922827854673708796e-05\n",
      "8.922779643652898e-05\n",
      "Updating min_error from 8.922827854673708796e-05 to 8.922779643652898219e-05\n",
      "8.922731297912777e-05\n",
      "Updating min_error from 8.922779643652898219e-05 to 8.922731297912776739e-05\n",
      "8.922682816843452e-05\n",
      "Updating min_error from 8.922731297912776739e-05 to 8.922682816843452176e-05\n"
     ]
    },
    {
     "name": "stderr",
     "output_type": "stream",
     "text": [
      "  0%|          | 1071/250000 [00:24<1:28:35, 46.83it/s]"
     ]
    },
    {
     "name": "stdout",
     "output_type": "stream",
     "text": [
      "8.922634199836304e-05\n",
      "Updating min_error from 8.922682816843452176e-05 to 8.922634199836303572e-05\n",
      "8.922585446280135e-05\n",
      "Updating min_error from 8.922634199836303572e-05 to 8.922585446280134993e-05\n",
      "8.922536555563737e-05\n",
      "Updating min_error from 8.922585446280134993e-05 to 8.922536555563736951e-05\n",
      "8.922487527072311e-05\n",
      "Updating min_error from 8.922536555563736951e-05 to 8.922487527072311248e-05\n",
      "8.922438360191827e-05\n",
      "Updating min_error from 8.922487527072311248e-05 to 8.922438360191826761e-05\n",
      "8.922389054304794e-05\n",
      "Updating min_error from 8.922438360191826761e-05 to 8.922389054304793760e-05\n",
      "8.922339608794572e-05\n",
      "Updating min_error from 8.922389054304793760e-05 to 8.922339608794572260e-05\n",
      "8.922290023041824e-05\n",
      "Updating min_error from 8.922339608794572260e-05 to 8.922290023041823967e-05\n",
      "8.922240296426372e-05\n",
      "Updating min_error from 8.922290023041823967e-05 to 8.922240296426371686e-05\n",
      "8.922190428326064e-05\n",
      "Updating min_error from 8.922240296426371686e-05 to 8.922190428326063618e-05\n"
     ]
    },
    {
     "name": "stderr",
     "output_type": "stream",
     "text": [
      "  0%|          | 1081/250000 [00:24<1:27:50, 47.23it/s]"
     ]
    },
    {
     "name": "stdout",
     "output_type": "stream",
     "text": [
      "8.922140418116215e-05\n",
      "Updating min_error from 8.922190428326063618e-05 to 8.922140418116214998e-05\n",
      "8.922090265176336e-05\n",
      "Updating min_error from 8.922140418116214998e-05 to 8.922090265176335568e-05\n",
      "8.922039968879877e-05\n",
      "Updating min_error from 8.922090265176335568e-05 to 8.922039968879877088e-05\n",
      "8.92198952860036e-05\n",
      "Updating min_error from 8.922039968879877088e-05 to 8.921989528600360439e-05\n",
      "8.921938943709885e-05\n",
      "Updating min_error from 8.921989528600360439e-05 to 8.921938943709884840e-05\n",
      "8.92188821358084e-05\n",
      "Updating min_error from 8.921938943709884840e-05 to 8.921888213580839535e-05\n",
      "8.921837337581182e-05\n",
      "Updating min_error from 8.921888213580839535e-05 to 8.921837337581182091e-05\n",
      "8.921786315083683e-05\n",
      "Updating min_error from 8.921837337581182091e-05 to 8.921786315083682578e-05\n",
      "8.921735145454871e-05\n",
      "Updating min_error from 8.921786315083682578e-05 to 8.921735145454871483e-05\n",
      "8.92168382806277e-05\n",
      "Updating min_error from 8.921735145454871483e-05 to 8.921683828062770068e-05\n"
     ]
    },
    {
     "name": "stderr",
     "output_type": "stream",
     "text": [
      "  0%|          | 1091/250000 [00:24<1:27:47, 47.26it/s]"
     ]
    },
    {
     "name": "stdout",
     "output_type": "stream",
     "text": [
      "8.921632362273833e-05\n",
      "Updating min_error from 8.921683828062770068e-05 to 8.921632362273832927e-05\n",
      "8.921580747451677e-05\n",
      "Updating min_error from 8.921632362273832927e-05 to 8.921580747451676751e-05\n",
      "8.921528982963085e-05\n",
      "Updating min_error from 8.921580747451676751e-05 to 8.921528982963085460e-05\n",
      "8.921477068171569e-05\n",
      "Updating min_error from 8.921528982963085460e-05 to 8.921477068171568682e-05\n",
      "8.921425002449483e-05\n",
      "Updating min_error from 8.921477068171568682e-05 to 8.921425002449483133e-05\n",
      "8.921372785142216e-05\n",
      "Updating min_error from 8.921425002449483133e-05 to 8.921372785142216003e-05\n",
      "8.921320415618295e-05\n",
      "Updating min_error from 8.921372785142216003e-05 to 8.921320415618295421e-05\n",
      "8.92126789323766e-05\n",
      "Updating min_error from 8.921320415618295421e-05 to 8.921267893237659922e-05\n",
      "8.921215217362884e-05\n",
      "Updating min_error from 8.921267893237659922e-05 to 8.921215217362884011e-05\n",
      "8.921162387354582e-05\n",
      "Updating min_error from 8.921215217362884011e-05 to 8.921162387354582496e-05\n"
     ]
    },
    {
     "name": "stderr",
     "output_type": "stream",
     "text": [
      "  0%|          | 1101/250000 [00:24<1:33:11, 44.51it/s]"
     ]
    },
    {
     "name": "stdout",
     "output_type": "stream",
     "text": [
      "8.921109402569304e-05\n",
      "Updating min_error from 8.921162387354582496e-05 to 8.921109402569304427e-05\n",
      "8.921056262366591e-05\n",
      "Updating min_error from 8.921109402569304427e-05 to 8.921056262366591251e-05\n",
      "8.921002966105903e-05\n",
      "Updating min_error from 8.921056262366591251e-05 to 8.921002966105903102e-05\n",
      "8.920949513149707e-05\n",
      "Updating min_error from 8.921002966105903102e-05 to 8.920949513149707417e-05\n",
      "8.920895902846468e-05\n",
      "Updating min_error from 8.920949513149707417e-05 to 8.920895902846467810e-05\n",
      "8.920842134559331e-05\n",
      "Updating min_error from 8.920895902846467810e-05 to 8.920842134559330699e-05\n",
      "8.92078820764269e-05\n",
      "Updating min_error from 8.920842134559330699e-05 to 8.920788207642690285e-05\n",
      "8.920734121454336e-05\n",
      "Updating min_error from 8.920788207642690285e-05 to 8.920734121454335671e-05\n",
      "8.920734121454336e-05 ++++++++++\n",
      "8.92067987535473e-05\n",
      "Updating min_error from 8.920734121454335671e-05 to 8.920679875354729880e-05\n"
     ]
    },
    {
     "name": "stderr",
     "output_type": "stream",
     "text": [
      "  0%|          | 1111/250000 [00:24<1:29:09, 46.52it/s]"
     ]
    },
    {
     "name": "stdout",
     "output_type": "stream",
     "text": [
      "8.920625468696669e-05\n",
      "Updating min_error from 8.920679875354729880e-05 to 8.920625468696669264e-05\n",
      "8.920570900841542e-05\n",
      "Updating min_error from 8.920625468696669264e-05 to 8.920570900841542483e-05\n",
      "8.920516171140856e-05\n",
      "Updating min_error from 8.920570900841542483e-05 to 8.920516171140855689e-05\n",
      "8.920461278954596e-05\n",
      "Updating min_error from 8.920516171140855689e-05 to 8.920461278954596211e-05\n",
      "8.920406223641891e-05\n",
      "Updating min_error from 8.920461278954596211e-05 to 8.920406223641890787e-05\n",
      "8.920351004556512e-05\n",
      "Updating min_error from 8.920406223641890787e-05 to 8.920351004556511555e-05\n",
      "8.920295621057637e-05\n",
      "Updating min_error from 8.920351004556511555e-05 to 8.920295621057636756e-05\n",
      "8.920240072503644e-05\n",
      "Updating min_error from 8.920295621057636756e-05 to 8.920240072503643675e-05\n",
      "8.920184358252857e-05\n",
      "Updating min_error from 8.920240072503643675e-05 to 8.920184358252856744e-05\n",
      "8.920128477665297e-05\n",
      "Updating min_error from 8.920184358252856744e-05 to 8.920128477665297169e-05\n"
     ]
    },
    {
     "name": "stderr",
     "output_type": "stream",
     "text": [
      "  0%|          | 1121/250000 [00:25<1:27:17, 47.52it/s]"
     ]
    },
    {
     "name": "stdout",
     "output_type": "stream",
     "text": [
      "8.920072430100158e-05\n",
      "Updating min_error from 8.920128477665297169e-05 to 8.920072430100158098e-05\n",
      "8.920016214919156e-05\n",
      "Updating min_error from 8.920072430100158098e-05 to 8.920016214919156161e-05\n",
      "8.919959831482375e-05\n",
      "Updating min_error from 8.920016214919156161e-05 to 8.919959831482374905e-05\n",
      "8.919903279152146e-05\n",
      "Updating min_error from 8.919959831482374905e-05 to 8.919903279152146245e-05\n",
      "8.919846557292161e-05\n",
      "Updating min_error from 8.919903279152146245e-05 to 8.919846557292161412e-05\n",
      "8.919789665264637e-05\n",
      "Updating min_error from 8.919846557292161412e-05 to 8.919789665264637123e-05\n",
      "8.919732602435753e-05\n",
      "Updating min_error from 8.919789665264637123e-05 to 8.919732602435752854e-05\n",
      "8.919675368170604e-05\n",
      "Updating min_error from 8.919732602435752854e-05 to 8.919675368170603877e-05\n",
      "8.919617961841616e-05\n",
      "Updating min_error from 8.919675368170603877e-05 to 8.919617961841616030e-05\n",
      "8.919560382810349e-05\n",
      "Updating min_error from 8.919617961841616030e-05 to 8.919560382810348730e-05\n"
     ]
    },
    {
     "name": "stderr",
     "output_type": "stream",
     "text": [
      "  0%|          | 1131/250000 [00:25<1:26:42, 47.83it/s]"
     ]
    },
    {
     "name": "stdout",
     "output_type": "stream",
     "text": [
      "8.919502630451407e-05\n",
      "Updating min_error from 8.919560382810348730e-05 to 8.919502630451407060e-05\n",
      "8.919444704134051e-05\n",
      "Updating min_error from 8.919502630451407060e-05 to 8.919444704134050985e-05\n",
      "8.9193866032308e-05\n",
      "Updating min_error from 8.919444704134050985e-05 to 8.919386603230799852e-05\n",
      "8.919328327115993e-05\n",
      "Updating min_error from 8.919386603230799852e-05 to 8.919328327115993115e-05\n",
      "8.919269875169756e-05\n",
      "Updating min_error from 8.919328327115993115e-05 to 8.919269875169755799e-05\n",
      "8.919211246768027e-05\n",
      "Updating min_error from 8.919269875169755799e-05 to 8.919211246768026554e-05\n",
      "8.919152441291458e-05\n",
      "Updating min_error from 8.919211246768026554e-05 to 8.919152441291457601e-05\n",
      "8.919093458121802e-05\n",
      "Updating min_error from 8.919152441291457601e-05 to 8.919093458121801624e-05\n",
      "8.919034296644785e-05\n",
      "Updating min_error from 8.919093458121801624e-05 to 8.919034296644784909e-05\n",
      "8.918974956246421e-05\n",
      "Updating min_error from 8.919034296644784909e-05 to 8.918974956246421054e-05\n"
     ]
    },
    {
     "name": "stderr",
     "output_type": "stream",
     "text": [
      "  0%|          | 1141/250000 [00:25<1:25:42, 48.39it/s]"
     ]
    },
    {
     "name": "stdout",
     "output_type": "stream",
     "text": [
      "8.918915436323604e-05\n",
      "Updating min_error from 8.918974956246421054e-05 to 8.918915436323603628e-05\n",
      "8.918855736253566e-05\n",
      "Updating min_error from 8.918915436323603628e-05 to 8.918855736253565548e-05\n",
      "8.91879585543692e-05\n",
      "Updating min_error from 8.918855736253565548e-05 to 8.918795855436920550e-05\n",
      "8.918735793269212e-05\n",
      "Updating min_error from 8.918795855436920550e-05 to 8.918735793269212371e-05\n",
      "8.918675549152886e-05\n",
      "Updating min_error from 8.918735793269212371e-05 to 8.918675549152885694e-05\n",
      "8.91861512248739e-05\n",
      "Updating min_error from 8.918675549152885694e-05 to 8.918615122487390094e-05\n",
      "8.918554512679744e-05\n",
      "Updating min_error from 8.918615122487390094e-05 to 8.918554512679744231e-05\n",
      "8.918493719138024e-05\n",
      "Updating min_error from 8.918554512679744231e-05 to 8.918493719138023863e-05\n",
      "8.918432741275218e-05\n",
      "Updating min_error from 8.918493719138023863e-05 to 8.918432741275217541e-05\n",
      "8.918371578506985e-05\n",
      "Updating min_error from 8.918432741275217541e-05 to 8.918371578506985016e-05\n"
     ]
    },
    {
     "name": "stderr",
     "output_type": "stream",
     "text": [
      "  0%|          | 1151/250000 [00:25<1:24:59, 48.80it/s]"
     ]
    },
    {
     "name": "stdout",
     "output_type": "stream",
     "text": [
      "8.918310230247858e-05\n",
      "Updating min_error from 8.918371578506985016e-05 to 8.918310230247858471e-05\n",
      "8.91824869592488e-05\n",
      "Updating min_error from 8.918310230247858471e-05 to 8.918248695924880425e-05\n",
      "8.918186974962064e-05\n",
      "Updating min_error from 8.918248695924880425e-05 to 8.918186974962064408e-05\n",
      "8.918125066789861e-05\n",
      "Updating min_error from 8.918186974962064408e-05 to 8.918125066789861402e-05\n",
      "8.918062970839965e-05\n",
      "Updating min_error from 8.918125066789861402e-05 to 8.918062970839965152e-05\n",
      "8.91800068655281e-05\n",
      "Updating min_error from 8.918062970839965152e-05 to 8.918000686552809433e-05\n",
      "8.917938213368324e-05\n",
      "Updating min_error from 8.918000686552809433e-05 to 8.917938213368323860e-05\n",
      "8.917875550736026e-05\n",
      "Updating min_error from 8.917938213368323860e-05 to 8.917875550736026466e-05\n",
      "8.917812698106494e-05\n",
      "Updating min_error from 8.917875550736026466e-05 to 8.917812698106493733e-05\n",
      "8.917749654939599e-05\n",
      "Updating min_error from 8.917812698106493733e-05 to 8.917749654939599179e-05\n"
     ]
    },
    {
     "name": "stderr",
     "output_type": "stream",
     "text": [
      "  0%|          | 1161/250000 [00:25<1:25:17, 48.62it/s]"
     ]
    },
    {
     "name": "stdout",
     "output_type": "stream",
     "text": [
      "8.9176864206866e-05\n",
      "Updating min_error from 8.917749654939599179e-05 to 8.917686420686599623e-05\n",
      "8.917622994817097e-05\n",
      "Updating min_error from 8.917686420686599623e-05 to 8.917622994817096587e-05\n",
      "8.91755937680076e-05\n",
      "Updating min_error from 8.917622994817096587e-05 to 8.917559376800759355e-05\n",
      "8.917495566112619e-05\n",
      "Updating min_error from 8.917559376800759355e-05 to 8.917495566112618589e-05\n",
      "8.917431562237676e-05\n",
      "Updating min_error from 8.917495566112618589e-05 to 8.917431562237675548e-05\n",
      "8.917367364660987e-05\n",
      "Updating min_error from 8.917431562237675548e-05 to 8.917367364660987053e-05\n",
      "8.917302972873038e-05\n",
      "Updating min_error from 8.917367364660987053e-05 to 8.917302972873037716e-05\n",
      "8.917238386373501e-05\n",
      "Updating min_error from 8.917302972873037716e-05 to 8.917238386373500759e-05\n",
      "8.917173604668301e-05\n",
      "Updating min_error from 8.917238386373500759e-05 to 8.917173604668301187e-05\n",
      "8.917108627263514e-05\n",
      "Updating min_error from 8.917173604668301187e-05 to 8.917108627263514438e-05\n"
     ]
    },
    {
     "name": "stderr",
     "output_type": "stream",
     "text": [
      "  0%|          | 1173/250000 [00:26<1:23:31, 49.65it/s]"
     ]
    },
    {
     "name": "stdout",
     "output_type": "stream",
     "text": [
      "8.917043453677568e-05\n",
      "Updating min_error from 8.917108627263514438e-05 to 8.917043453677567721e-05\n",
      "8.91697808343432e-05\n",
      "Updating min_error from 8.917043453677567721e-05 to 8.916978083434320100e-05\n",
      "8.916912516062504e-05\n",
      "Updating min_error from 8.916978083434320100e-05 to 8.916912516062504128e-05\n",
      "8.916846751096355e-05\n",
      "Updating min_error from 8.916912516062504128e-05 to 8.916846751096354682e-05\n",
      "8.916780788082125e-05\n",
      "Updating min_error from 8.916846751096354682e-05 to 8.916780788082125022e-05\n",
      "8.91671462656775e-05\n",
      "Updating min_error from 8.916780788082125022e-05 to 8.916714626567750275e-05\n",
      "8.916648266112052e-05\n",
      "Updating min_error from 8.916714626567750275e-05 to 8.916648266112052316e-05\n",
      "8.916581706279708e-05\n",
      "Updating min_error from 8.916648266112052316e-05 to 8.916581706279707708e-05\n",
      "8.916514946643594e-05\n",
      "Updating min_error from 8.916581706279707708e-05 to 8.916514946643593650e-05\n",
      "8.91644798678391e-05\n",
      "Updating min_error from 8.916514946643593650e-05 to 8.916447986783909772e-05\n",
      "8.916380826288976e-05\n",
      "Updating min_error from 8.916447986783909772e-05 to 8.916380826288976377e-05\n"
     ]
    },
    {
     "name": "stderr",
     "output_type": "stream",
     "text": [
      "  0%|          | 1179/250000 [00:26<1:23:03, 49.92it/s]"
     ]
    },
    {
     "name": "stdout",
     "output_type": "stream",
     "text": [
      "8.916313464753147e-05\n",
      "Updating min_error from 8.916380826288976377e-05 to 8.916313464753147355e-05\n",
      "8.916245901782308e-05\n",
      "Updating min_error from 8.916313464753147355e-05 to 8.916245901782308438e-05\n",
      "8.916178136988058e-05\n",
      "Updating min_error from 8.916245901782308438e-05 to 8.916178136988057751e-05\n",
      "8.916110169992659e-05\n",
      "Updating min_error from 8.916178136988057751e-05 to 8.916110169992659258e-05\n",
      "8.916042000426843e-05\n",
      "Updating min_error from 8.916110169992659258e-05 to 8.916042000426843185e-05\n",
      "8.915973627929076e-05\n",
      "Updating min_error from 8.916042000426843185e-05 to 8.915973627929075541e-05\n",
      "8.9159050521481e-05\n",
      "Updating min_error from 8.915973627929075541e-05 to 8.915905052148100573e-05\n",
      "8.915836272741358e-05\n",
      "Updating min_error from 8.915905052148100573e-05 to 8.915836272741357827e-05\n",
      "8.915767289374436e-05\n",
      "Updating min_error from 8.915836272741357827e-05 to 8.915767289374435987e-05\n",
      "8.915698101727711e-05\n",
      "Updating min_error from 8.915767289374435987e-05 to 8.915698101727710895e-05\n",
      "8.915628709484844e-05\n",
      "Updating min_error from 8.915698101727710895e-05 to 8.915628709484843528e-05\n"
     ]
    },
    {
     "name": "stderr",
     "output_type": "stream",
     "text": [
      "  0%|          | 1191/250000 [00:26<1:22:56, 50.00it/s]"
     ]
    },
    {
     "name": "stdout",
     "output_type": "stream",
     "text": [
      "8.915559112342611e-05\n",
      "Updating min_error from 8.915628709484843528e-05 to 8.915559112342611001e-05\n",
      "8.91548931000839e-05\n",
      "Updating min_error from 8.915559112342611001e-05 to 8.915489310008389856e-05\n",
      "8.915419302198775e-05\n",
      "Updating min_error from 8.915489310008389856e-05 to 8.915419302198775067e-05\n",
      "8.915349088642545e-05\n",
      "Updating min_error from 8.915419302198775067e-05 to 8.915349088642545328e-05\n",
      "8.915278669078851e-05\n",
      "Updating min_error from 8.915349088642545328e-05 to 8.915278669078851085e-05\n",
      "8.91520804325625e-05\n",
      "Updating min_error from 8.915278669078851085e-05 to 8.915208043256249589e-05\n",
      "8.915137210936017e-05\n",
      "Updating min_error from 8.915208043256249589e-05 to 8.915137210936017141e-05\n",
      "8.915066171890715e-05\n",
      "Updating min_error from 8.915137210936017141e-05 to 8.915066171890715231e-05\n",
      "8.914994925904608e-05\n",
      "Updating min_error from 8.915066171890715231e-05 to 8.914994925904607954e-05\n",
      "8.914923472770075e-05\n",
      "Updating min_error from 8.914994925904607954e-05 to 8.914923472770074661e-05\n",
      "8.914851812296578e-05\n"
     ]
    },
    {
     "name": "stderr",
     "output_type": "stream",
     "text": [
      "  0%|          | 1201/250000 [00:26<1:28:16, 46.98it/s]"
     ]
    },
    {
     "name": "stdout",
     "output_type": "stream",
     "text": [
      "Updating min_error from 8.914923472770074661e-05 to 8.914851812296577661e-05\n",
      "8.91477994430318e-05\n",
      "Updating min_error from 8.914851812296577661e-05 to 8.914779944303179876e-05\n",
      "8.914707868620355e-05\n",
      "Updating min_error from 8.914779944303179876e-05 to 8.914707868620355452e-05\n",
      "8.9146355850907e-05\n",
      "Updating min_error from 8.914707868620355452e-05 to 8.914635585090699920e-05\n",
      "8.914563093575561e-05\n",
      "Updating min_error from 8.914635585090699920e-05 to 8.914563093575561439e-05\n",
      "8.914490393938001e-05\n",
      "Updating min_error from 8.914563093575561439e-05 to 8.914490393938001209e-05\n",
      "8.91441748606545e-05\n",
      "Updating min_error from 8.914490393938001209e-05 to 8.914417486065450585e-05\n",
      "8.91441748606545e-05 ++++++++++\n",
      "8.914344369851665e-05\n",
      "Updating min_error from 8.914417486065450585e-05 to 8.914344369851664529e-05\n",
      "8.91427104520525e-05\n",
      "Updating min_error from 8.914344369851664529e-05 to 8.914271045205250221e-05\n"
     ]
    },
    {
     "name": "stderr",
     "output_type": "stream",
     "text": [
      "  0%|          | 1211/250000 [00:26<1:27:18, 47.49it/s]"
     ]
    },
    {
     "name": "stdout",
     "output_type": "stream",
     "text": [
      "8.91419751205136e-05\n",
      "Updating min_error from 8.914271045205250221e-05 to 8.914197512051359761e-05\n",
      "8.914123770326826e-05\n",
      "Updating min_error from 8.914197512051359761e-05 to 8.914123770326826178e-05\n",
      "8.914049819974875e-05\n",
      "Updating min_error from 8.914123770326826178e-05 to 8.914049819974875224e-05\n",
      "8.913975660965674e-05\n",
      "Updating min_error from 8.914049819974875224e-05 to 8.913975660965673721e-05\n",
      "8.913901293277176e-05\n",
      "Updating min_error from 8.913975660965673721e-05 to 8.913901293277175773e-05\n",
      "8.913826716900347e-05\n",
      "Updating min_error from 8.913901293277175773e-05 to 8.913826716900347265e-05\n",
      "8.913751931846908e-05\n",
      "Updating min_error from 8.913826716900347265e-05 to 8.913751931846908424e-05\n",
      "8.913676938137656e-05\n",
      "Updating min_error from 8.913751931846908424e-05 to 8.913676938137655601e-05\n",
      "8.913601735810335e-05\n",
      "Updating min_error from 8.913676938137655601e-05 to 8.913601735810335297e-05\n",
      "8.913526324918526e-05\n",
      "Updating min_error from 8.913601735810335297e-05 to 8.913526324918526070e-05\n"
     ]
    },
    {
     "name": "stderr",
     "output_type": "stream",
     "text": [
      "  0%|          | 1221/250000 [00:27<1:26:06, 48.15it/s]"
     ]
    },
    {
     "name": "stdout",
     "output_type": "stream",
     "text": [
      "8.913450705529631e-05\n",
      "Updating min_error from 8.913526324918526070e-05 to 8.913450705529631416e-05\n",
      "8.913374877727604e-05\n",
      "Updating min_error from 8.913450705529631416e-05 to 8.913374877727603819e-05\n",
      "8.913298841616368e-05\n",
      "Updating min_error from 8.913374877727603819e-05 to 8.913298841616368122e-05\n",
      "8.913222597305376e-05\n",
      "Updating min_error from 8.913298841616368122e-05 to 8.913222597305375892e-05\n",
      "8.913146144928103e-05\n",
      "Updating min_error from 8.913222597305375892e-05 to 8.913146144928103256e-05\n",
      "8.913069484634947e-05\n",
      "Updating min_error from 8.913146144928103256e-05 to 8.913069484634946675e-05\n",
      "8.912992616586138e-05\n",
      "Updating min_error from 8.913069484634946675e-05 to 8.912992616586137677e-05\n",
      "8.912915540963635e-05\n",
      "Updating min_error from 8.912992616586137677e-05 to 8.912915540963635202e-05\n",
      "8.91283825796925e-05\n",
      "Updating min_error from 8.912915540963635202e-05 to 8.912838257969249933e-05\n",
      "8.912760767812604e-05\n",
      "Updating min_error from 8.912838257969249933e-05 to 8.912760767812604227e-05\n"
     ]
    },
    {
     "name": "stderr",
     "output_type": "stream",
     "text": [
      "  0%|          | 1231/250000 [00:27<1:25:45, 48.34it/s]"
     ]
    },
    {
     "name": "stdout",
     "output_type": "stream",
     "text": [
      "8.912683070729409e-05\n",
      "Updating min_error from 8.912760767812604227e-05 to 8.912683070729409058e-05\n",
      "8.912605166965776e-05\n",
      "Updating min_error from 8.912683070729409058e-05 to 8.912605166965775609e-05\n",
      "8.912527056786832e-05\n",
      "Updating min_error from 8.912605166965775609e-05 to 8.912527056786831968e-05\n",
      "8.912448740478195e-05\n",
      "Updating min_error from 8.912527056786831968e-05 to 8.912448740478194934e-05\n",
      "8.91237021834113e-05\n",
      "Updating min_error from 8.912448740478194934e-05 to 8.912370218341130411e-05\n",
      "8.912291490693498e-05\n",
      "Updating min_error from 8.912370218341130411e-05 to 8.912291490693498015e-05\n",
      "8.912212557876994e-05\n",
      "Updating min_error from 8.912291490693498015e-05 to 8.912212557876993547e-05\n",
      "8.91213342024505e-05\n",
      "Updating min_error from 8.912212557876993547e-05 to 8.912133420245050652e-05\n",
      "8.912054078171864e-05\n",
      "Updating min_error from 8.912133420245050652e-05 to 8.912054078171864093e-05\n",
      "8.911974532049946e-05\n",
      "Updating min_error from 8.912054078171864093e-05 to 8.911974532049946225e-05\n"
     ]
    },
    {
     "name": "stderr",
     "output_type": "stream",
     "text": [
      "  0%|          | 1241/250000 [00:27<1:25:41, 48.38it/s]"
     ]
    },
    {
     "name": "stdout",
     "output_type": "stream",
     "text": [
      "8.911894782291047e-05\n",
      "Updating min_error from 8.911974532049946225e-05 to 8.911894782291047219e-05\n",
      "8.911814829322402e-05\n",
      "Updating min_error from 8.911894782291047219e-05 to 8.911814829322402362e-05\n",
      "8.91173467359329e-05\n",
      "Updating min_error from 8.911814829322402362e-05 to 8.911734673593290127e-05\n",
      "8.911654315571031e-05\n",
      "Updating min_error from 8.911734673593290127e-05 to 8.911654315571031465e-05\n",
      "8.911573755744972e-05\n",
      "Updating min_error from 8.911654315571031465e-05 to 8.911573755744971539e-05\n",
      "8.911492994617531e-05\n",
      "Updating min_error from 8.911573755744971539e-05 to 8.911492994617530993e-05\n",
      "8.911412032714496e-05\n",
      "Updating min_error from 8.911492994617530993e-05 to 8.911412032714496380e-05\n",
      "8.911330870579638e-05\n",
      "Updating min_error from 8.911412032714496380e-05 to 8.911330870579638457e-05\n",
      "8.911249508777129e-05\n",
      "Updating min_error from 8.911330870579638457e-05 to 8.911249508777128602e-05\n",
      "8.911167947891338e-05\n",
      "Updating min_error from 8.911249508777128602e-05 to 8.911167947891338232e-05\n"
     ]
    },
    {
     "name": "stderr",
     "output_type": "stream",
     "text": [
      "  1%|          | 1251/250000 [00:27<1:25:53, 48.26it/s]"
     ]
    },
    {
     "name": "stdout",
     "output_type": "stream",
     "text": [
      "8.911086188521514e-05\n",
      "Updating min_error from 8.911167947891338232e-05 to 8.911086188521514021e-05\n",
      "8.911004231300795e-05\n",
      "Updating min_error from 8.911086188521514021e-05 to 8.911004231300794799e-05\n",
      "8.910922076867671e-05\n",
      "Updating min_error from 8.911004231300794799e-05 to 8.910922076867671294e-05\n",
      "8.910839725884525e-05\n",
      "Updating min_error from 8.910922076867671294e-05 to 8.910839725884524623e-05\n",
      "8.910757179036961e-05\n",
      "Updating min_error from 8.910839725884524623e-05 to 8.910757179036960874e-05\n",
      "8.910674437028391e-05\n",
      "Updating min_error from 8.910757179036960874e-05 to 8.910674437028391441e-05\n",
      "8.910591500583643e-05\n",
      "Updating min_error from 8.910674437028391441e-05 to 8.910591500583643426e-05\n",
      "8.91050837044758e-05\n",
      "Updating min_error from 8.910591500583643426e-05 to 8.910508370447579982e-05\n",
      "8.910425047383451e-05\n",
      "Updating min_error from 8.910508370447579982e-05 to 8.910425047383450979e-05\n",
      "8.910341532181994e-05\n",
      "Updating min_error from 8.910425047383450979e-05 to 8.910341532181993522e-05\n"
     ]
    },
    {
     "name": "stderr",
     "output_type": "stream",
     "text": [
      "  1%|          | 1261/250000 [00:27<1:26:13, 48.08it/s]"
     ]
    },
    {
     "name": "stdout",
     "output_type": "stream",
     "text": [
      "8.91025782564724e-05\n",
      "Updating min_error from 8.910341532181993522e-05 to 8.910257825647239745e-05\n",
      "8.91017392861272e-05\n",
      "Updating min_error from 8.910257825647239745e-05 to 8.910173928612720212e-05\n",
      "8.910089841913811e-05\n",
      "Updating min_error from 8.910173928612720212e-05 to 8.910089841913811342e-05\n",
      "8.910005566427906e-05\n",
      "Updating min_error from 8.910089841913811342e-05 to 8.910005566427906453e-05\n",
      "8.909921103044904e-05\n",
      "Updating min_error from 8.910005566427906453e-05 to 8.909921103044903781e-05\n",
      "8.909836452675353e-05\n",
      "Updating min_error from 8.909921103044903781e-05 to 8.909836452675352902e-05\n",
      "8.909751616252928e-05\n",
      "Updating min_error from 8.909836452675352902e-05 to 8.909751616252928070e-05\n",
      "8.909666594735985e-05\n",
      "Updating min_error from 8.909751616252928070e-05 to 8.909666594735985400e-05\n",
      "8.909581389087638e-05\n",
      "Updating min_error from 8.909666594735985400e-05 to 8.909581389087637944e-05\n",
      "8.909496000309252e-05\n",
      "Updating min_error from 8.909581389087637944e-05 to 8.909496000309252120e-05\n"
     ]
    },
    {
     "name": "stderr",
     "output_type": "stream",
     "text": [
      "  1%|          | 1271/250000 [00:28<1:26:31, 47.91it/s]"
     ]
    },
    {
     "name": "stdout",
     "output_type": "stream",
     "text": [
      "8.90941042941849e-05\n",
      "Updating min_error from 8.909496000309252120e-05 to 8.909410429418489902e-05\n",
      "8.909324677454361e-05\n",
      "Updating min_error from 8.909410429418489902e-05 to 8.909324677454361205e-05\n",
      "8.909238745474368e-05\n",
      "Updating min_error from 8.909324677454361205e-05 to 8.909238745474368367e-05\n",
      "8.909152634563573e-05\n",
      "Updating min_error from 8.909238745474368367e-05 to 8.909152634563572792e-05\n",
      "8.909066345818928e-05\n",
      "Updating min_error from 8.909152634563572792e-05 to 8.909066345818928226e-05\n",
      "8.908979880366459e-05\n",
      "Updating min_error from 8.909066345818928226e-05 to 8.908979880366458583e-05\n",
      "8.908893239352888e-05\n",
      "Updating min_error from 8.908979880366458583e-05 to 8.908893239352887910e-05\n",
      "8.908806423942873e-05\n",
      "Updating min_error from 8.908893239352887910e-05 to 8.908806423942872957e-05\n",
      "8.908719435323803e-05\n",
      "Updating min_error from 8.908806423942872957e-05 to 8.908719435323803483e-05\n",
      "8.908632274704951e-05\n",
      "Updating min_error from 8.908719435323803483e-05 to 8.908632274704951157e-05\n"
     ]
    },
    {
     "name": "stderr",
     "output_type": "stream",
     "text": [
      "  1%|          | 1281/250000 [00:28<1:26:32, 47.90it/s]"
     ]
    },
    {
     "name": "stdout",
     "output_type": "stream",
     "text": [
      "8.908544943317737e-05\n",
      "Updating min_error from 8.908632274704951157e-05 to 8.908544943317736543e-05\n",
      "8.908457442413699e-05\n",
      "Updating min_error from 8.908544943317736543e-05 to 8.908457442413698934e-05\n",
      "8.908369773265857e-05\n",
      "Updating min_error from 8.908457442413698934e-05 to 8.908369773265857020e-05\n",
      "8.908281937168554e-05\n",
      "Updating min_error from 8.908369773265857020e-05 to 8.908281937168554393e-05\n",
      "8.908193935438171e-05\n",
      "Updating min_error from 8.908281937168554393e-05 to 8.908193935438171057e-05\n",
      "8.908105769411517e-05\n",
      "Updating min_error from 8.908193935438171057e-05 to 8.908105769411517447e-05\n",
      "8.90801744044818e-05\n",
      "Updating min_error from 8.908105769411517447e-05 to 8.908017440448180377e-05\n",
      "8.907928949926807e-05\n",
      "Updating min_error from 8.908017440448180377e-05 to 8.907928949926806935e-05\n",
      "8.90784029925099e-05\n",
      "Updating min_error from 8.907928949926806935e-05 to 8.907840299250990347e-05\n",
      "8.907751489837814e-05\n",
      "Updating min_error from 8.907840299250990347e-05 to 8.907751489837814022e-05\n"
     ]
    },
    {
     "name": "stderr",
     "output_type": "stream",
     "text": [
      "  1%|          | 1291/250000 [00:28<1:26:28, 47.93it/s]"
     ]
    },
    {
     "name": "stdout",
     "output_type": "stream",
     "text": [
      "8.907662523132671e-05\n",
      "Updating min_error from 8.907751489837814022e-05 to 8.907662523132671244e-05\n",
      "8.907573400599807e-05\n",
      "Updating min_error from 8.907662523132671244e-05 to 8.907573400599806863e-05\n",
      "8.90748412372481e-05\n",
      "Updating min_error from 8.907573400599806863e-05 to 8.907484123724809604e-05\n",
      "8.907394694013902e-05\n",
      "Updating min_error from 8.907484123724809604e-05 to 8.907394694013901913e-05\n",
      "8.90730511299311e-05\n",
      "Updating min_error from 8.907394694013901913e-05 to 8.907305112993110546e-05\n",
      "8.90721538220986e-05\n",
      "Updating min_error from 8.907305112993110546e-05 to 8.907215382209860343e-05\n",
      "8.907125503232428e-05\n",
      "Updating min_error from 8.907215382209860343e-05 to 8.907125503232428063e-05\n",
      "8.907035477651444e-05\n",
      "Updating min_error from 8.907125503232428063e-05 to 8.907035477651444001e-05\n",
      "8.906945307076114e-05\n",
      "Updating min_error from 8.907035477651444001e-05 to 8.906945307076113549e-05\n",
      "8.906854993135835e-05\n",
      "Updating min_error from 8.906945307076113549e-05 to 8.906854993135835362e-05\n"
     ]
    },
    {
     "name": "stderr",
     "output_type": "stream",
     "text": [
      "  1%|          | 1301/250000 [00:28<1:31:35, 45.25it/s]"
     ]
    },
    {
     "name": "stdout",
     "output_type": "stream",
     "text": [
      "8.906764537482546e-05\n",
      "Updating min_error from 8.906854993135835362e-05 to 8.906764537482545949e-05\n",
      "8.906673941784328e-05\n",
      "Updating min_error from 8.906764537482545949e-05 to 8.906673941784328300e-05\n",
      "8.90658320773407e-05\n",
      "Updating min_error from 8.906673941784328300e-05 to 8.906583207734070594e-05\n",
      "8.906492337043476e-05\n",
      "Updating min_error from 8.906583207734070594e-05 to 8.906492337043475985e-05\n",
      "8.906401331438434e-05\n",
      "Updating min_error from 8.906492337043475985e-05 to 8.906401331438434411e-05\n",
      "8.906310192678045e-05\n",
      "Updating min_error from 8.906401331438434411e-05 to 8.906310192678044925e-05\n",
      "8.906218922536263e-05\n",
      "Updating min_error from 8.906310192678044925e-05 to 8.906218922536262856e-05\n",
      "8.906127522787949e-05\n",
      "Updating min_error from 8.906218922536262856e-05 to 8.906127522787948847e-05\n",
      "8.906127522787949e-05 ++++++++++\n",
      "8.906035995254352e-05\n",
      "Updating min_error from 8.906127522787948847e-05 to 8.906035995254352482e-05\n"
     ]
    },
    {
     "name": "stderr",
     "output_type": "stream",
     "text": [
      "  1%|          | 1311/250000 [00:29<1:28:46, 46.69it/s]"
     ]
    },
    {
     "name": "stdout",
     "output_type": "stream",
     "text": [
      "8.90594434176293e-05\n",
      "Updating min_error from 8.906035995254352482e-05 to 8.905944341762930404e-05\n",
      "8.905852564160204e-05\n",
      "Updating min_error from 8.905944341762930404e-05 to 8.905852564160203597e-05\n",
      "8.905760664314784e-05\n",
      "Updating min_error from 8.905852564160203597e-05 to 8.905760664314783662e-05\n",
      "8.905668644112834e-05\n",
      "Updating min_error from 8.905760664314783662e-05 to 8.905668644112834081e-05\n",
      "8.905576505459728e-05\n",
      "Updating min_error from 8.905668644112834081e-05 to 8.905576505459727684e-05\n",
      "8.905484250279628e-05\n",
      "Updating min_error from 8.905576505459727684e-05 to 8.905484250279627884e-05\n",
      "8.905391880514522e-05\n",
      "Updating min_error from 8.905484250279627884e-05 to 8.905391880514522374e-05\n",
      "8.905299398125334e-05\n",
      "Updating min_error from 8.905391880514522374e-05 to 8.905299398125334442e-05\n",
      "8.905206805093578e-05\n",
      "Updating min_error from 8.905299398125334442e-05 to 8.905206805093577726e-05\n",
      "8.905114103412634e-05\n",
      "Updating min_error from 8.905206805093577726e-05 to 8.905114103412633815e-05\n"
     ]
    },
    {
     "name": "stderr",
     "output_type": "stream",
     "text": [
      "  1%|          | 1321/250000 [00:29<1:27:34, 47.33it/s]"
     ]
    },
    {
     "name": "stdout",
     "output_type": "stream",
     "text": [
      "8.90502129510128e-05\n",
      "Updating min_error from 8.905114103412633815e-05 to 8.905021295101280378e-05\n",
      "8.90492838218818e-05\n",
      "Updating min_error from 8.905021295101280378e-05 to 8.904928382188180298e-05\n",
      "8.904835366725346e-05\n",
      "Updating min_error from 8.904928382188180298e-05 to 8.904835366725346105e-05\n",
      "8.904742250778993e-05\n",
      "Updating min_error from 8.904835366725346105e-05 to 8.904742250778993379e-05\n",
      "8.90464903643444e-05\n",
      "Updating min_error from 8.904742250778993379e-05 to 8.904649036434439987e-05\n",
      "8.904555725789154e-05\n",
      "Updating min_error from 8.904649036434439987e-05 to 8.904555725789153637e-05\n",
      "8.90446232096628e-05\n",
      "Updating min_error from 8.904555725789153637e-05 to 8.904462320966280008e-05\n",
      "8.904368824100044e-05\n",
      "Updating min_error from 8.904462320966280008e-05 to 8.904368824100043973e-05\n",
      "8.904275237337483e-05\n",
      "Updating min_error from 8.904368824100043973e-05 to 8.904275237337482961e-05\n",
      "8.904181562848286e-05\n",
      "Updating min_error from 8.904275237337482961e-05 to 8.904181562848286098e-05\n"
     ]
    },
    {
     "name": "stderr",
     "output_type": "stream",
     "text": [
      "  1%|          | 1331/250000 [00:29<1:27:25, 47.40it/s]"
     ]
    },
    {
     "name": "stdout",
     "output_type": "stream",
     "text": [
      "8.904087802815023e-05\n",
      "Updating min_error from 8.904181562848286098e-05 to 8.904087802815022830e-05\n",
      "8.90399395943441e-05\n",
      "Updating min_error from 8.904087802815022830e-05 to 8.903993959434410087e-05\n",
      "8.90390003491951e-05\n",
      "Updating min_error from 8.903993959434410087e-05 to 8.903900034919510500e-05\n",
      "8.903806031499228e-05\n",
      "Updating min_error from 8.903900034919510500e-05 to 8.903806031499228251e-05\n",
      "8.903711951418072e-05\n",
      "Updating min_error from 8.903806031499228251e-05 to 8.903711951418071902e-05\n",
      "8.903617796933529e-05\n",
      "Updating min_error from 8.903711951418071902e-05 to 8.903617796933529268e-05\n",
      "8.903523570319565e-05\n",
      "Updating min_error from 8.903617796933529268e-05 to 8.903523570319565330e-05\n",
      "8.90342927386998e-05\n",
      "Updating min_error from 8.903523570319565330e-05 to 8.903429273869980544e-05\n",
      "8.903334909869509e-05\n",
      "Updating min_error from 8.903429273869980544e-05 to 8.903334909869508728e-05\n",
      "8.903240480642029e-05\n",
      "Updating min_error from 8.903334909869508728e-05 to 8.903240480642028818e-05\n"
     ]
    },
    {
     "name": "stderr",
     "output_type": "stream",
     "text": [
      "  1%|          | 1341/250000 [00:29<1:27:44, 47.24it/s]"
     ]
    },
    {
     "name": "stdout",
     "output_type": "stream",
     "text": [
      "8.903145988519147e-05\n",
      "Updating min_error from 8.903240480642028818e-05 to 8.903145988519147402e-05\n",
      "8.903051435835175e-05\n",
      "Updating min_error from 8.903145988519147402e-05 to 8.903051435835174796e-05\n",
      "8.902956824942941e-05\n",
      "Updating min_error from 8.903051435835174796e-05 to 8.902956824942940845e-05\n",
      "8.902862158217209e-05\n",
      "Updating min_error from 8.902956824942940845e-05 to 8.902862158217208805e-05\n",
      "8.902767438034551e-05\n",
      "Updating min_error from 8.902862158217208805e-05 to 8.902767438034551192e-05\n",
      "8.90267266678423e-05\n",
      "Updating min_error from 8.902767438034551192e-05 to 8.902672666784229756e-05\n",
      "8.902577846868635e-05\n",
      "Updating min_error from 8.902672666784229756e-05 to 8.902577846868634578e-05\n",
      "8.90248298070479e-05\n",
      "Updating min_error from 8.902577846868634578e-05 to 8.902482980704789757e-05\n",
      "8.902388070716856e-05\n",
      "Updating min_error from 8.902482980704789757e-05 to 8.902388070716856156e-05\n",
      "8.902293119338934e-05\n",
      "Updating min_error from 8.902388070716856156e-05 to 8.902293119338934059e-05\n"
     ]
    },
    {
     "name": "stderr",
     "output_type": "stream",
     "text": [
      "  1%|          | 1351/250000 [00:29<1:27:38, 47.28it/s]"
     ]
    },
    {
     "name": "stdout",
     "output_type": "stream",
     "text": [
      "8.902198129028036e-05\n",
      "Updating min_error from 8.902293119338934059e-05 to 8.902198129028035653e-05\n",
      "8.90210310222563e-05\n",
      "Updating min_error from 8.902198129028035653e-05 to 8.902103102225629731e-05\n",
      "8.90200804141142e-05\n",
      "Updating min_error from 8.902103102225629731e-05 to 8.902008041411419478e-05\n",
      "8.901912949057775e-05\n",
      "Updating min_error from 8.902008041411419478e-05 to 8.901912949057774803e-05\n",
      "8.901817827653643e-05\n",
      "Updating min_error from 8.901912949057774803e-05 to 8.901817827653643069e-05\n",
      "8.901722679695428e-05\n",
      "Updating min_error from 8.901817827653643069e-05 to 8.901722679695428238e-05\n",
      "8.901627507688753e-05\n",
      "Updating min_error from 8.901722679695428238e-05 to 8.901627507688752701e-05\n",
      "8.901532314140087e-05\n",
      "Updating min_error from 8.901627507688752701e-05 to 8.901532314140087239e-05\n",
      "8.901437101575509e-05\n",
      "Updating min_error from 8.901532314140087239e-05 to 8.901437101575509071e-05\n",
      "8.901341872524485e-05\n",
      "Updating min_error from 8.901437101575509071e-05 to 8.901341872524484906e-05\n"
     ]
    },
    {
     "name": "stderr",
     "output_type": "stream",
     "text": [
      "  1%|          | 1361/250000 [00:30<1:27:17, 47.47it/s]"
     ]
    },
    {
     "name": "stdout",
     "output_type": "stream",
     "text": [
      "8.901246629519987e-05\n",
      "Updating min_error from 8.901341872524484906e-05 to 8.901246629519987490e-05\n",
      "8.901151375107146e-05\n",
      "Updating min_error from 8.901246629519987490e-05 to 8.901151375107146187e-05\n",
      "8.901056111839364e-05\n",
      "Updating min_error from 8.901151375107146187e-05 to 8.901056111839364177e-05\n",
      "8.900960842269394e-05\n",
      "Updating min_error from 8.901056111839364177e-05 to 8.900960842269394120e-05\n",
      "8.900865568959935e-05\n",
      "Updating min_error from 8.900960842269394120e-05 to 8.900865568959934876e-05\n",
      "8.900770294482282e-05\n",
      "Updating min_error from 8.900865568959934876e-05 to 8.900770294482281673e-05\n",
      "8.90067502141155e-05\n",
      "Updating min_error from 8.900770294482281673e-05 to 8.900675021411550195e-05\n",
      "8.900579752325807e-05\n",
      "Updating min_error from 8.900675021411550195e-05 to 8.900579752325806513e-05\n",
      "8.900484489808164e-05\n",
      "Updating min_error from 8.900579752325806513e-05 to 8.900484489808163657e-05\n",
      "8.900389236450032e-05\n",
      "Updating min_error from 8.900484489808163657e-05 to 8.900389236450031516e-05\n"
     ]
    },
    {
     "name": "stderr",
     "output_type": "stream",
     "text": [
      "  1%|          | 1371/250000 [00:30<1:26:49, 47.72it/s]"
     ]
    },
    {
     "name": "stdout",
     "output_type": "stream",
     "text": [
      "8.900293994841318e-05\n",
      "Updating min_error from 8.900389236450031516e-05 to 8.900293994841318359e-05\n",
      "8.900198767575567e-05\n",
      "Updating min_error from 8.900293994841318359e-05 to 8.900198767575567241e-05\n",
      "8.900103557255175e-05\n",
      "Updating min_error from 8.900198767575567241e-05 to 8.900103557255175084e-05\n",
      "8.900008366485241e-05\n",
      "Updating min_error from 8.900103557255175084e-05 to 8.900008366485241186e-05\n",
      "8.899913197867807e-05\n",
      "Updating min_error from 8.900008366485241186e-05 to 8.899913197867807390e-05\n",
      "8.899818054009765e-05\n",
      "Updating min_error from 8.899913197867807390e-05 to 8.899818054009764638e-05\n",
      "8.899722937524448e-05\n",
      "Updating min_error from 8.899818054009764638e-05 to 8.899722937524448096e-05\n",
      "8.899627851020263e-05\n",
      "Updating min_error from 8.899722937524448096e-05 to 8.899627851020262522e-05\n",
      "8.899532797110104e-05\n",
      "Updating min_error from 8.899627851020262522e-05 to 8.899532797110103980e-05\n",
      "8.899437778405652e-05\n",
      "Updating min_error from 8.899532797110103980e-05 to 8.899437778405651519e-05\n"
     ]
    },
    {
     "name": "stderr",
     "output_type": "stream",
     "text": [
      "  1%|          | 1381/250000 [00:30<1:26:16, 48.03it/s]"
     ]
    },
    {
     "name": "stdout",
     "output_type": "stream",
     "text": [
      "8.899342797532003e-05\n",
      "Updating min_error from 8.899437778405651519e-05 to 8.899342797532002543e-05\n",
      "8.899247857082478e-05\n",
      "Updating min_error from 8.899342797532002543e-05 to 8.899247857082477847e-05\n",
      "8.89915295967922e-05\n",
      "Updating min_error from 8.899247857082477847e-05 to 8.899152959679220386e-05\n",
      "8.899058107934763e-05\n",
      "Updating min_error from 8.899152959679220386e-05 to 8.899058107934763016e-05\n",
      "8.898963304461815e-05\n",
      "Updating min_error from 8.899058107934763016e-05 to 8.898963304461814778e-05\n",
      "8.898868551870348e-05\n",
      "Updating min_error from 8.898963304461814778e-05 to 8.898868551870348456e-05\n",
      "8.8987738527684e-05\n",
      "Updating min_error from 8.898868551870348456e-05 to 8.898773852768400178e-05\n",
      "8.898679209763487e-05\n",
      "Updating min_error from 8.898773852768400178e-05 to 8.898679209763487013e-05\n",
      "8.898584625459181e-05\n",
      "Updating min_error from 8.898679209763487013e-05 to 8.898584625459180885e-05\n",
      "8.898490102456884e-05\n",
      "Updating min_error from 8.898584625459180885e-05 to 8.898490102456883962e-05\n"
     ]
    },
    {
     "name": "stderr",
     "output_type": "stream",
     "text": [
      "  1%|          | 1391/250000 [00:30<1:26:21, 47.98it/s]"
     ]
    },
    {
     "name": "stdout",
     "output_type": "stream",
     "text": [
      "8.898395643351198e-05\n",
      "Updating min_error from 8.898490102456883962e-05 to 8.898395643351197752e-05\n",
      "8.898301250735095e-05\n",
      "Updating min_error from 8.898395643351197752e-05 to 8.898301250735094750e-05\n",
      "8.898206927200103e-05\n",
      "Updating min_error from 8.898301250735094750e-05 to 8.898206927200102750e-05\n",
      "8.898112675335263e-05\n",
      "Updating min_error from 8.898206927200102750e-05 to 8.898112675335262661e-05\n",
      "8.898018497719997e-05\n",
      "Updating min_error from 8.898112675335262661e-05 to 8.898018497719997158e-05\n",
      "8.897924396929894e-05\n",
      "Updating min_error from 8.898018497719997158e-05 to 8.897924396929893557e-05\n",
      "8.897830375535565e-05\n",
      "Updating min_error from 8.897924396929893557e-05 to 8.897830375535565391e-05\n",
      "8.897736436099458e-05\n",
      "Updating min_error from 8.897830375535565391e-05 to 8.897736436099458089e-05\n",
      "8.897642581184665e-05\n",
      "Updating min_error from 8.897736436099458089e-05 to 8.897642581184664887e-05\n",
      "8.89754881333907e-05\n",
      "Updating min_error from 8.897642581184664887e-05 to 8.897548813339070379e-05\n"
     ]
    },
    {
     "name": "stderr",
     "output_type": "stream",
     "text": [
      "  1%|          | 1401/250000 [00:30<1:31:39, 45.20it/s]"
     ]
    },
    {
     "name": "stdout",
     "output_type": "stream",
     "text": [
      "8.897455135111181e-05\n",
      "Updating min_error from 8.897548813339070379e-05 to 8.897455135111181218e-05\n",
      "8.897361549038254e-05\n",
      "Updating min_error from 8.897455135111181218e-05 to 8.897361549038254104e-05\n",
      "8.897268057648754e-05\n",
      "Updating min_error from 8.897361549038254104e-05 to 8.897268057648754212e-05\n",
      "8.897174663464872e-05\n",
      "Updating min_error from 8.897268057648754212e-05 to 8.897174663464871899e-05\n",
      "8.897081368999885e-05\n",
      "Updating min_error from 8.897174663464871899e-05 to 8.897081368999885378e-05\n",
      "8.896988176762492e-05\n",
      "Updating min_error from 8.897081368999885378e-05 to 8.896988176762492110e-05\n",
      "8.896895089246718e-05\n",
      "Updating min_error from 8.896988176762492110e-05 to 8.896895089246717589e-05\n",
      "8.896802108939582e-05\n",
      "Updating min_error from 8.896895089246717589e-05 to 8.896802108939582006e-05\n",
      "8.89670923831982e-05\n",
      "Updating min_error from 8.896802108939582006e-05 to 8.896709238319819540e-05\n",
      "8.89670923831982e-05 ++++++++++\n"
     ]
    },
    {
     "name": "stderr",
     "output_type": "stream",
     "text": [
      "  1%|          | 1411/250000 [00:31<1:30:04, 46.00it/s]"
     ]
    },
    {
     "name": "stdout",
     "output_type": "stream",
     "text": [
      "8.896616479852312e-05\n",
      "Updating min_error from 8.896709238319819540e-05 to 8.896616479852312331e-05\n",
      "8.896523835991511e-05\n",
      "Updating min_error from 8.896616479852312331e-05 to 8.896523835991511136e-05\n",
      "8.896431309190395e-05\n",
      "Updating min_error from 8.896523835991511136e-05 to 8.896431309190394913e-05\n",
      "8.89633890187699e-05\n",
      "Updating min_error from 8.896431309190394913e-05 to 8.896338901876989702e-05\n",
      "8.896246616478534e-05\n",
      "Updating min_error from 8.896338901876989702e-05 to 8.896246616478534143e-05\n",
      "8.896154455404837e-05\n",
      "Updating min_error from 8.896246616478534143e-05 to 8.896154455404836972e-05\n",
      "8.896062421050916e-05\n",
      "Updating min_error from 8.896154455404836972e-05 to 8.896062421050915695e-05\n",
      "8.895970515812026e-05\n",
      "Updating min_error from 8.896062421050915695e-05 to 8.895970515812026344e-05\n",
      "8.895878742059899e-05\n",
      "Updating min_error from 8.895970515812026344e-05 to 8.895878742059899118e-05\n",
      "8.895787102153735e-05\n",
      "Updating min_error from 8.895878742059899118e-05 to 8.895787102153734905e-05\n"
     ]
    },
    {
     "name": "stderr",
     "output_type": "stream",
     "text": [
      "  1%|          | 1421/250000 [00:31<1:28:48, 46.65it/s]"
     ]
    },
    {
     "name": "stdout",
     "output_type": "stream",
     "text": [
      "8.895695598452495e-05\n",
      "Updating min_error from 8.895787102153734905e-05 to 8.895695598452494713e-05\n",
      "8.895604233275939e-05\n",
      "Updating min_error from 8.895695598452494713e-05 to 8.895604233275938866e-05\n",
      "8.895513008942162e-05\n",
      "Updating min_error from 8.895604233275938866e-05 to 8.895513008942162081e-05\n",
      "8.895421927763632e-05\n",
      "Updating min_error from 8.895513008942162081e-05 to 8.895421927763632068e-05\n",
      "8.89533099203329e-05\n",
      "Updating min_error from 8.895421927763632068e-05 to 8.895330992033290054e-05\n",
      "8.895240204025902e-05\n",
      "Updating min_error from 8.895330992033290054e-05 to 8.895240204025901972e-05\n",
      "8.89514956600278e-05\n",
      "Updating min_error from 8.895240204025901972e-05 to 8.895149566002780162e-05\n",
      "8.895059080208691e-05\n",
      "Updating min_error from 8.895149566002780162e-05 to 8.895059080208690683e-05\n",
      "8.894968748873345e-05\n",
      "Updating min_error from 8.895059080208690683e-05 to 8.894968748873345447e-05\n",
      "8.894878574213126e-05\n",
      "Updating min_error from 8.894968748873345447e-05 to 8.894878574213126101e-05\n"
     ]
    },
    {
     "name": "stderr",
     "output_type": "stream",
     "text": [
      "  1%|          | 1431/250000 [00:31<1:27:48, 47.18it/s]"
     ]
    },
    {
     "name": "stdout",
     "output_type": "stream",
     "text": [
      "8.89478855842249e-05\n",
      "Updating min_error from 8.894878574213126101e-05 to 8.894788558422490367e-05\n",
      "8.894698703678733e-05\n",
      "Updating min_error from 8.894788558422490367e-05 to 8.894698703678733049e-05\n",
      "8.89460901215351e-05\n",
      "Updating min_error from 8.894698703678733049e-05 to 8.894609012153509742e-05\n",
      "8.894519485991436e-05\n",
      "Updating min_error from 8.894609012153509742e-05 to 8.894519485991436041e-05\n",
      "8.894430127321894e-05\n",
      "Updating min_error from 8.894519485991436041e-05 to 8.894430127321894500e-05\n",
      "8.894340938254672e-05\n",
      "Updating min_error from 8.894430127321894500e-05 to 8.894340938254672072e-05\n",
      "8.894251920885121e-05\n",
      "Updating min_error from 8.894340938254672072e-05 to 8.894251920885120916e-05\n",
      "8.89416307728786e-05\n",
      "Updating min_error from 8.894251920885120916e-05 to 8.894163077287860534e-05\n",
      "8.894074409520369e-05\n",
      "Updating min_error from 8.894163077287860534e-05 to 8.894074409520369190e-05\n",
      "8.893985919622762e-05\n",
      "Updating min_error from 8.894074409520369190e-05 to 8.893985919622761653e-05\n"
     ]
    },
    {
     "name": "stderr",
     "output_type": "stream",
     "text": [
      "  1%|          | 1441/250000 [00:31<1:27:32, 47.32it/s]"
     ]
    },
    {
     "name": "stdout",
     "output_type": "stream",
     "text": [
      "8.893897609611693e-05\n",
      "Updating min_error from 8.893985919622761653e-05 to 8.893897609611693266e-05\n",
      "8.893809481488948e-05\n",
      "Updating min_error from 8.893897609611693266e-05 to 8.893809481488948183e-05\n",
      "8.893721537236146e-05\n",
      "Updating min_error from 8.893809481488948183e-05 to 8.893721537236145755e-05\n",
      "8.893633778811854e-05\n",
      "Updating min_error from 8.893721537236145755e-05 to 8.893633778811853839e-05\n",
      "8.893546208170103e-05\n",
      "Updating min_error from 8.893633778811853839e-05 to 8.893546208170102904e-05\n",
      "8.89345882721742e-05\n",
      "Updating min_error from 8.893546208170102904e-05 to 8.893458827217420458e-05\n",
      "8.893371637869632e-05\n",
      "Updating min_error from 8.893458827217420458e-05 to 8.893371637869632398e-05\n",
      "8.893284641993416e-05\n",
      "Updating min_error from 8.893371637869632398e-05 to 8.893284641993416380e-05\n",
      "8.893197841454215e-05\n",
      "Updating min_error from 8.893284641993416380e-05 to 8.893197841454215425e-05\n",
      "8.893111238093361e-05\n",
      "Updating min_error from 8.893197841454215425e-05 to 8.893111238093361255e-05\n"
     ]
    },
    {
     "name": "stderr",
     "output_type": "stream",
     "text": [
      "  1%|          | 1451/250000 [00:31<1:27:53, 47.14it/s]"
     ]
    },
    {
     "name": "stdout",
     "output_type": "stream",
     "text": [
      "8.893024833731103e-05\n",
      "Updating min_error from 8.893111238093361255e-05 to 8.893024833731103277e-05\n",
      "8.892938630161796e-05\n",
      "Updating min_error from 8.893024833731103277e-05 to 8.892938630161796088e-05\n",
      "8.892852629166934e-05\n",
      "Updating min_error from 8.892938630161796088e-05 to 8.892852629166934290e-05\n",
      "8.892766832497626e-05\n",
      "Updating min_error from 8.892852629166934290e-05 to 8.892766832497626364e-05\n",
      "8.892681241888936e-05\n",
      "Updating min_error from 8.892766832497626364e-05 to 8.892681241888935955e-05\n",
      "8.892595859056251e-05\n",
      "Updating min_error from 8.892681241888935955e-05 to 8.892595859056251148e-05\n",
      "8.892510685681556e-05\n",
      "Updating min_error from 8.892595859056251148e-05 to 8.892510685681555760e-05\n",
      "8.892425723440374e-05\n",
      "Updating min_error from 8.892510685681555760e-05 to 8.892425723440374472e-05\n",
      "8.892340973970012e-05\n",
      "Updating min_error from 8.892425723440374472e-05 to 8.892340973970012485e-05\n",
      "8.89225643889735e-05\n",
      "Updating min_error from 8.892340973970012485e-05 to 8.892256438897350396e-05\n"
     ]
    },
    {
     "name": "stderr",
     "output_type": "stream",
     "text": [
      "  1%|          | 1461/250000 [00:32<1:26:56, 47.64it/s]"
     ]
    },
    {
     "name": "stdout",
     "output_type": "stream",
     "text": [
      "8.892172119823764e-05\n",
      "Updating min_error from 8.892256438897350396e-05 to 8.892172119823764300e-05\n",
      "8.892088018326564e-05\n",
      "Updating min_error from 8.892172119823764300e-05 to 8.892088018326563714e-05\n",
      "8.892004135960248e-05\n",
      "Updating min_error from 8.892088018326563714e-05 to 8.892004135960247899e-05\n",
      "8.891920474256418e-05\n",
      "Updating min_error from 8.892004135960247899e-05 to 8.891920474256417763e-05\n",
      "8.891837034726019e-05\n",
      "Updating min_error from 8.891920474256417763e-05 to 8.891837034726018810e-05\n",
      "8.891753818860572e-05\n",
      "Updating min_error from 8.891837034726018810e-05 to 8.891753818860571705e-05\n",
      "8.89167082811035e-05\n",
      "Updating min_error from 8.891753818860571705e-05 to 8.891670828110349997e-05\n",
      "8.891588063922884e-05\n",
      "Updating min_error from 8.891670828110349997e-05 to 8.891588063922884204e-05\n",
      "8.891505527718405e-05\n",
      "Updating min_error from 8.891588063922884204e-05 to 8.891505527718404633e-05\n",
      "8.891423220888914e-05\n",
      "Updating min_error from 8.891505527718404633e-05 to 8.891423220888914388e-05\n"
     ]
    },
    {
     "name": "stderr",
     "output_type": "stream",
     "text": [
      "  1%|          | 1471/250000 [00:32<1:26:50, 47.70it/s]"
     ]
    },
    {
     "name": "stdout",
     "output_type": "stream",
     "text": [
      "8.891341144797825e-05\n",
      "Updating min_error from 8.891423220888914388e-05 to 8.891341144797824806e-05\n",
      "8.891259300790391e-05\n",
      "Updating min_error from 8.891341144797824806e-05 to 8.891259300790390902e-05\n",
      "8.891177690192946e-05\n",
      "Updating min_error from 8.891259300790390902e-05 to 8.891177690192945656e-05\n",
      "8.891096314303135e-05\n",
      "Updating min_error from 8.891177690192945656e-05 to 8.891096314303135410e-05\n",
      "8.891015174396315e-05\n",
      "Updating min_error from 8.891096314303135410e-05 to 8.891015174396315311e-05\n",
      "8.890934271724667e-05\n",
      "Updating min_error from 8.891015174396315311e-05 to 8.890934271724667041e-05\n",
      "8.890853607513077e-05\n",
      "Updating min_error from 8.890934271724667041e-05 to 8.890853607513077490e-05\n",
      "8.890773182966582e-05\n",
      "Updating min_error from 8.890853607513077490e-05 to 8.890773182966581808e-05\n",
      "8.890692999262332e-05\n",
      "Updating min_error from 8.890773182966581808e-05 to 8.890692999262332175e-05\n",
      "8.890613057560128e-05\n",
      "Updating min_error from 8.890692999262332175e-05 to 8.890613057560128115e-05\n"
     ]
    },
    {
     "name": "stderr",
     "output_type": "stream",
     "text": [
      "  1%|          | 1481/250000 [00:32<1:27:42, 47.22it/s]"
     ]
    },
    {
     "name": "stdout",
     "output_type": "stream",
     "text": [
      "8.890533358991443e-05\n",
      "Updating min_error from 8.890613057560128115e-05 to 8.890533358991443015e-05\n",
      "8.890453904657944e-05\n",
      "Updating min_error from 8.890533358991443015e-05 to 8.890453904657944189e-05\n",
      "8.89037469564772e-05\n",
      "Updating min_error from 8.890453904657944189e-05 to 8.890374695647720676e-05\n",
      "8.890295733021431e-05\n",
      "Updating min_error from 8.890374695647720676e-05 to 8.890295733021431196e-05\n",
      "8.890217017812606e-05\n",
      "Updating min_error from 8.890295733021431196e-05 to 8.890217017812606379e-05\n",
      "8.890138551031067e-05\n",
      "Updating min_error from 8.890217017812606379e-05 to 8.890138551031066707e-05\n",
      "8.890060333660846e-05\n",
      "Updating min_error from 8.890138551031066707e-05 to 8.890060333660846270e-05\n",
      "8.889982366674182e-05\n",
      "Updating min_error from 8.890060333660846270e-05 to 8.889982366674181681e-05\n",
      "8.889904651006525e-05\n",
      "Updating min_error from 8.889982366674181681e-05 to 8.889904651006525285e-05\n",
      "8.889827187573719e-05\n",
      "Updating min_error from 8.889904651006525285e-05 to 8.889827187573718921e-05\n"
     ]
    },
    {
     "name": "stderr",
     "output_type": "stream",
     "text": [
      "  1%|          | 1491/250000 [00:32<1:27:49, 47.16it/s]"
     ]
    },
    {
     "name": "stdout",
     "output_type": "stream",
     "text": [
      "8.889749977267767e-05\n",
      "Updating min_error from 8.889827187573718921e-05 to 8.889749977267766886e-05\n",
      "8.88967302094794e-05\n",
      "Updating min_error from 8.889749977267766886e-05 to 8.889673020947940060e-05\n",
      "8.889596319473264e-05\n",
      "Updating min_error from 8.889673020947940060e-05 to 8.889596319473264021e-05\n",
      "8.889519873654589e-05\n",
      "Updating min_error from 8.889596319473264021e-05 to 8.889519873654589180e-05\n",
      "8.88944368429109e-05\n",
      "Updating min_error from 8.889519873654589180e-05 to 8.889443684291090445e-05\n",
      "8.889367752151852e-05\n",
      "Updating min_error from 8.889443684291090445e-05 to 8.889367752151852047e-05\n",
      "8.889292077988924e-05\n",
      "Updating min_error from 8.889367752151852047e-05 to 8.889292077988924048e-05\n",
      "8.889216662524876e-05\n",
      "Updating min_error from 8.889292077988924048e-05 to 8.889216662524875696e-05\n",
      "8.889141506462624e-05\n",
      "Updating min_error from 8.889216662524875696e-05 to 8.889141506462623719e-05\n",
      "8.88906661047953e-05\n",
      "Updating min_error from 8.889141506462623719e-05 to 8.889066610479530201e-05\n"
     ]
    },
    {
     "name": "stderr",
     "output_type": "stream",
     "text": [
      "  1%|          | 1496/250000 [00:32<1:28:05, 47.02it/s]"
     ]
    },
    {
     "name": "stdout",
     "output_type": "stream",
     "text": [
      "8.888991975230541e-05\n",
      "Updating min_error from 8.889066610479530201e-05 to 8.888991975230541346e-05\n",
      "8.888917601344669e-05\n",
      "Updating min_error from 8.888991975230541346e-05 to 8.888917601344669241e-05\n",
      "8.888843489434281e-05\n",
      "Updating min_error from 8.888917601344669241e-05 to 8.888843489434280760e-05\n",
      "8.888769640079417e-05\n",
      "Updating min_error from 8.888843489434280760e-05 to 8.888769640079417290e-05\n",
      "8.88869605384454e-05\n",
      "Updating min_error from 8.888769640079417290e-05 to 8.888696053844540230e-05\n",
      "8.888622731267675e-05\n",
      "Updating min_error from 8.888696053844540230e-05 to 8.888622731267675423e-05\n",
      "8.888549672862155e-05\n",
      "Updating min_error from 8.888622731267675423e-05 to 8.888549672862154649e-05\n",
      "8.888476879123015e-05\n",
      "Updating min_error from 8.888549672862154649e-05 to 8.888476879123015134e-05\n",
      "8.888404350518035e-05\n",
      "Updating min_error from 8.888476879123015134e-05 to 8.888404350518034551e-05\n",
      "8.888332087497612e-05\n",
      "Updating min_error from 8.888404350518034551e-05 to 8.888332087497612165e-05\n",
      "8.888332087497612e-05 ++++++++++\n"
     ]
    },
    {
     "name": "stderr",
     "output_type": "stream",
     "text": [
      "  1%|          | 1511/250000 [00:33<1:29:23, 46.33it/s]"
     ]
    },
    {
     "name": "stdout",
     "output_type": "stream",
     "text": [
      "8.888260090482074e-05\n",
      "Updating min_error from 8.888332087497612165e-05 to 8.888260090482074185e-05\n",
      "8.888188359881325e-05\n",
      "Updating min_error from 8.888260090482074185e-05 to 8.888188359881324927e-05\n",
      "8.888116896070538e-05\n",
      "Updating min_error from 8.888188359881324927e-05 to 8.888116896070537645e-05\n",
      "8.888045699408594e-05\n",
      "Updating min_error from 8.888116896070537645e-05 to 8.888045699408594100e-05\n",
      "8.887974770228271e-05\n",
      "Updating min_error from 8.888045699408594100e-05 to 8.887974770228271174e-05\n",
      "8.887904108848903e-05\n",
      "Updating min_error from 8.887974770228271174e-05 to 8.887904108848903000e-05\n",
      "8.887833715558931e-05\n",
      "Updating min_error from 8.887904108848903000e-05 to 8.887833715558930724e-05\n",
      "8.887763590633553e-05\n",
      "Updating min_error from 8.887833715558930724e-05 to 8.887763590633553318e-05\n",
      "8.887693734313672e-05\n",
      "Updating min_error from 8.887763590633553318e-05 to 8.887693734313672372e-05\n",
      "8.887624146833469e-05\n",
      "Updating min_error from 8.887693734313672372e-05 to 8.887624146833468779e-05\n"
     ]
    },
    {
     "name": "stderr",
     "output_type": "stream",
     "text": [
      "  1%|          | 1521/250000 [00:33<1:27:55, 47.10it/s]"
     ]
    },
    {
     "name": "stdout",
     "output_type": "stream",
     "text": [
      "8.887554828397835e-05\n",
      "Updating min_error from 8.887624146833468779e-05 to 8.887554828397835067e-05\n",
      "8.887485779192442e-05\n",
      "Updating min_error from 8.887554828397835067e-05 to 8.887485779192442212e-05\n",
      "8.887416999380189e-05\n",
      "Updating min_error from 8.887485779192442212e-05 to 8.887416999380188881e-05\n",
      "8.887348489106999e-05\n",
      "Updating min_error from 8.887416999380188881e-05 to 8.887348489106999198e-05\n",
      "8.887280248488312e-05\n",
      "Updating min_error from 8.887348489106999198e-05 to 8.887280248488312235e-05\n",
      "8.887212277635141e-05\n",
      "Updating min_error from 8.887280248488312235e-05 to 8.887212277635140809e-05\n",
      "8.887144576624447e-05\n",
      "Updating min_error from 8.887212277635140809e-05 to 8.887144576624447009e-05\n",
      "8.887077145517815e-05\n",
      "Updating min_error from 8.887144576624447009e-05 to 8.887077145517814874e-05\n",
      "8.887009984361028e-05\n",
      "Updating min_error from 8.887077145517814874e-05 to 8.887009984361027553e-05\n",
      "8.88694309317105e-05\n",
      "Updating min_error from 8.887009984361027553e-05 to 8.886943093171050098e-05\n"
     ]
    },
    {
     "name": "stderr",
     "output_type": "stream",
     "text": [
      "  1%|          | 1531/250000 [00:33<1:28:01, 47.05it/s]"
     ]
    },
    {
     "name": "stdout",
     "output_type": "stream",
     "text": [
      "8.886876471952775e-05\n",
      "Updating min_error from 8.886943093171050098e-05 to 8.886876471952774971e-05\n",
      "8.886810120684026e-05\n",
      "Updating min_error from 8.886876471952774971e-05 to 8.886810120684026173e-05\n",
      "8.886744039334438e-05\n",
      "Updating min_error from 8.886810120684026173e-05 to 8.886744039334437911e-05\n",
      "8.886678227845448e-05\n",
      "Updating min_error from 8.886744039334437911e-05 to 8.886678227845448360e-05\n",
      "8.886612686139255e-05\n",
      "Updating min_error from 8.886678227845448360e-05 to 8.886612686139255173e-05\n",
      "8.886547414124544e-05\n",
      "Updating min_error from 8.886612686139255173e-05 to 8.886547414124544130e-05\n",
      "8.886482411689087e-05\n",
      "Updating min_error from 8.886547414124544130e-05 to 8.886482411689086756e-05\n",
      "8.886417678700021e-05\n",
      "Updating min_error from 8.886482411689086756e-05 to 8.886417678700020851e-05\n",
      "8.886353215008625e-05\n",
      "Updating min_error from 8.886417678700020851e-05 to 8.886353215008625046e-05\n",
      "8.886289020447267e-05\n",
      "Updating min_error from 8.886353215008625046e-05 to 8.886289020447266779e-05\n"
     ]
    },
    {
     "name": "stderr",
     "output_type": "stream",
     "text": [
      "  1%|          | 1541/250000 [00:33<1:27:41, 47.22it/s]"
     ]
    },
    {
     "name": "stdout",
     "output_type": "stream",
     "text": [
      "8.886225094831535e-05\n",
      "Updating min_error from 8.886289020447266779e-05 to 8.886225094831535457e-05\n",
      "8.886161437956952e-05\n",
      "Updating min_error from 8.886225094831535457e-05 to 8.886161437956951905e-05\n",
      "8.886098049603266e-05\n",
      "Updating min_error from 8.886161437956951905e-05 to 8.886098049603265874e-05\n",
      "8.886034929531988e-05\n",
      "Updating min_error from 8.886098049603265874e-05 to 8.886034929531988122e-05\n",
      "8.885972077489242e-05\n",
      "Updating min_error from 8.886034929531988122e-05 to 8.885972077489241868e-05\n",
      "8.885909493199853e-05\n",
      "Updating min_error from 8.885972077489241868e-05 to 8.885909493199852535e-05\n",
      "8.885847176376115e-05\n",
      "Updating min_error from 8.885909493199852535e-05 to 8.885847176376114880e-05\n",
      "8.885785126711914e-05\n",
      "Updating min_error from 8.885847176376114880e-05 to 8.885785126711913905e-05\n",
      "8.885723343884e-05\n",
      "Updating min_error from 8.885785126711913905e-05 to 8.885723343884000154e-05\n",
      "8.885661827553524e-05\n",
      "Updating min_error from 8.885723343884000154e-05 to 8.885661827553523857e-05\n"
     ]
    },
    {
     "name": "stderr",
     "output_type": "stream",
     "text": [
      "  1%|          | 1551/250000 [00:34<1:27:57, 47.08it/s]"
     ]
    },
    {
     "name": "stdout",
     "output_type": "stream",
     "text": [
      "8.88560057736921e-05\n",
      "Updating min_error from 8.885661827553523857e-05 to 8.885600577369210285e-05\n",
      "8.885539592961279e-05\n",
      "Updating min_error from 8.885600577369210285e-05 to 8.885539592961278735e-05\n",
      "8.885478873937785e-05\n",
      "Updating min_error from 8.885539592961278735e-05 to 8.885478873937784701e-05\n",
      "8.885418419903511e-05\n",
      "Updating min_error from 8.885478873937784701e-05 to 8.885418419903510741e-05\n",
      "8.885358230439077e-05\n",
      "Updating min_error from 8.885418419903510741e-05 to 8.885358230439076614e-05\n",
      "8.885298305112113e-05\n",
      "Updating min_error from 8.885358230439076614e-05 to 8.885298305112113333e-05\n",
      "8.885238643477114e-05\n",
      "Updating min_error from 8.885298305112113333e-05 to 8.885238643477114096e-05\n",
      "8.88517924507502e-05\n",
      "Updating min_error from 8.885238643477114096e-05 to 8.885179245075019571e-05\n",
      "8.885120109425988e-05\n",
      "Updating min_error from 8.885179245075019571e-05 to 8.885120109425987626e-05\n",
      "8.885061236041318e-05\n",
      "Updating min_error from 8.885120109425987626e-05 to 8.885061236041318197e-05\n"
     ]
    },
    {
     "name": "stderr",
     "output_type": "stream",
     "text": [
      "  1%|          | 1561/250000 [00:34<1:28:10, 46.96it/s]"
     ]
    },
    {
     "name": "stdout",
     "output_type": "stream",
     "text": [
      "8.885002624417642e-05\n",
      "Updating min_error from 8.885061236041318197e-05 to 8.885002624417641967e-05\n",
      "8.884944274038533e-05\n",
      "Updating min_error from 8.885002624417641967e-05 to 8.884944274038533111e-05\n",
      "8.884886184371613e-05\n",
      "Updating min_error from 8.884944274038533111e-05 to 8.884886184371613125e-05\n",
      "8.884828354871992e-05\n",
      "Updating min_error from 8.884886184371613125e-05 to 8.884828354871991815e-05\n",
      "8.884770784983689e-05\n",
      "Updating min_error from 8.884828354871991815e-05 to 8.884770784983688950e-05\n",
      "8.884713474133861e-05\n",
      "Updating min_error from 8.884770784983688950e-05 to 8.884713474133860891e-05\n",
      "8.884656421737117e-05\n",
      "Updating min_error from 8.884713474133860891e-05 to 8.884656421737117070e-05\n",
      "8.8845996271966e-05\n",
      "Updating min_error from 8.884656421737117070e-05 to 8.884599627196600126e-05\n",
      "8.884543089913898e-05\n",
      "Updating min_error from 8.884599627196600126e-05 to 8.884543089913898221e-05\n",
      "8.884486809259267e-05\n",
      "Updating min_error from 8.884543089913898221e-05 to 8.884486809259267432e-05\n"
     ]
    },
    {
     "name": "stderr",
     "output_type": "stream",
     "text": [
      "  1%|          | 1571/250000 [00:34<1:27:59, 47.06it/s]"
     ]
    },
    {
     "name": "stdout",
     "output_type": "stream",
     "text": [
      "8.88443078459567e-05\n",
      "Updating min_error from 8.884486809259267432e-05 to 8.884430784595669865e-05\n",
      "8.884375015283311e-05\n",
      "Updating min_error from 8.884430784595669865e-05 to 8.884375015283311040e-05\n",
      "8.884319500668348e-05\n",
      "Updating min_error from 8.884375015283311040e-05 to 8.884319500668347931e-05\n",
      "8.884264240076583e-05\n",
      "Updating min_error from 8.884319500668347931e-05 to 8.884264240076582969e-05\n",
      "8.884209232830394e-05\n",
      "Updating min_error from 8.884264240076582969e-05 to 8.884209232830393862e-05\n",
      "8.884154478244127e-05\n",
      "Updating min_error from 8.884209232830393862e-05 to 8.884154478244127089e-05\n",
      "8.884099975612439e-05\n",
      "Updating min_error from 8.884154478244127089e-05 to 8.884099975612438666e-05\n",
      "8.884045724226556e-05\n",
      "Updating min_error from 8.884099975612438666e-05 to 8.884045724226555816e-05\n",
      "8.883991723360887e-05\n",
      "Updating min_error from 8.884045724226555816e-05 to 8.883991723360887076e-05\n",
      "8.883937972289335e-05\n",
      "Updating min_error from 8.883991723360887076e-05 to 8.883937972289335477e-05\n"
     ]
    },
    {
     "name": "stderr",
     "output_type": "stream",
     "text": [
      "  1%|          | 1581/250000 [00:34<1:27:14, 47.46it/s]"
     ]
    },
    {
     "name": "stdout",
     "output_type": "stream",
     "text": [
      "8.883884470265376e-05\n",
      "Updating min_error from 8.883937972289335477e-05 to 8.883884470265376323e-05\n",
      "8.883831216543756e-05\n",
      "Updating min_error from 8.883884470265376323e-05 to 8.883831216543756145e-05\n",
      "8.883778210354095e-05\n",
      "Updating min_error from 8.883831216543756145e-05 to 8.883778210354095089e-05\n",
      "8.883725450928014e-05\n",
      "Updating min_error from 8.883778210354095089e-05 to 8.883725450928013656e-05\n",
      "8.88367293748702e-05\n",
      "Updating min_error from 8.883725450928013656e-05 to 8.883672937487019448e-05\n",
      "8.883620669242374e-05\n",
      "Updating min_error from 8.883672937487019448e-05 to 8.883620669242374359e-05\n",
      "8.883568645392536e-05\n",
      "Updating min_error from 8.883620669242374359e-05 to 8.883568645392535853e-05\n",
      "8.88351686513516e-05\n",
      "Updating min_error from 8.883568645392535853e-05 to 8.883516865135160443e-05\n",
      "8.883465327658133e-05\n",
      "Updating min_error from 8.883516865135160443e-05 to 8.883465327658133267e-05\n",
      "8.883414032131984e-05\n",
      "Updating min_error from 8.883465327658133267e-05 to 8.883414032131984098e-05\n"
     ]
    },
    {
     "name": "stderr",
     "output_type": "stream",
     "text": [
      "  1%|          | 1591/250000 [00:34<1:28:32, 46.76it/s]"
     ]
    },
    {
     "name": "stdout",
     "output_type": "stream",
     "text": [
      "8.883362977725578e-05\n",
      "Updating min_error from 8.883414032131984098e-05 to 8.883362977725578458e-05\n",
      "8.883312163597066e-05\n",
      "Updating min_error from 8.883362977725578458e-05 to 8.883312163597065886e-05\n",
      "8.883261588903864e-05\n",
      "Updating min_error from 8.883312163597065886e-05 to 8.883261588903864085e-05\n",
      "8.883211252795097e-05\n",
      "Updating min_error from 8.883261588903864085e-05 to 8.883211252795096611e-05\n",
      "8.883161154398442e-05\n",
      "Updating min_error from 8.883211252795096611e-05 to 8.883161154398441501e-05\n",
      "8.88311129285285e-05\n",
      "Updating min_error from 8.883161154398441501e-05 to 8.883111292852849785e-05\n",
      "8.883061667279746e-05\n",
      "Updating min_error from 8.883111292852849785e-05 to 8.883061667279746362e-05\n",
      "8.883012276796854e-05\n",
      "Updating min_error from 8.883061667279746362e-05 to 8.883012276796853584e-05\n",
      "8.882963120515241e-05\n",
      "Updating min_error from 8.883012276796853584e-05 to 8.882963120515240867e-05\n",
      "8.882914197537923e-05\n",
      "Updating min_error from 8.882963120515240867e-05 to 8.882914197537923357e-05\n"
     ]
    },
    {
     "name": "stderr",
     "output_type": "stream",
     "text": [
      "  1%|          | 1596/250000 [00:35<1:28:24, 46.83it/s]"
     ]
    },
    {
     "name": "stdout",
     "output_type": "stream",
     "text": [
      "8.88286550696689e-05\n",
      "Updating min_error from 8.882914197537923357e-05 to 8.882865506966890277e-05\n",
      "8.882817047887576e-05\n",
      "Updating min_error from 8.882865506966890277e-05 to 8.882817047887576437e-05\n",
      "8.882768819387298e-05\n",
      "Updating min_error from 8.882817047887576437e-05 to 8.882768819387297737e-05\n",
      "8.882720820550252e-05\n",
      "Updating min_error from 8.882768819387297737e-05 to 8.882720820550251643e-05\n",
      "8.882673050449849e-05\n",
      "Updating min_error from 8.882720820550251643e-05 to 8.882673050449849160e-05\n",
      "8.88262550815715e-05\n",
      "Updating min_error from 8.882673050449849160e-05 to 8.882625508157149935e-05\n",
      "8.882578192731411e-05\n",
      "Updating min_error from 8.882625508157149935e-05 to 8.882578192731410715e-05\n",
      "8.882531103235837e-05\n",
      "Updating min_error from 8.882578192731410715e-05 to 8.882531103235837455e-05\n",
      "8.882484238721134e-05\n",
      "Updating min_error from 8.882531103235837455e-05 to 8.882484238721133905e-05\n",
      "8.882437598238455e-05\n",
      "Updating min_error from 8.882484238721133905e-05 to 8.882437598238455110e-05\n",
      "8.882437598238455e-05 ++++++++++\n"
     ]
    },
    {
     "name": "stderr",
     "output_type": "stream",
     "text": [
      "  1%|          | 1611/250000 [00:35<1:31:14, 45.37it/s]"
     ]
    },
    {
     "name": "stdout",
     "output_type": "stream",
     "text": [
      "8.882391180832702e-05\n",
      "Updating min_error from 8.882437598238455110e-05 to 8.882391180832701629e-05\n",
      "8.882344985545676e-05\n",
      "Updating min_error from 8.882391180832701629e-05 to 8.882344985545675910e-05\n",
      "8.882299011411812e-05\n",
      "Updating min_error from 8.882344985545675910e-05 to 8.882299011411811892e-05\n",
      "8.882253257464668e-05\n",
      "Updating min_error from 8.882299011411811892e-05 to 8.882253257464668022e-05\n",
      "8.882207722732192e-05\n",
      "Updating min_error from 8.882253257464668022e-05 to 8.882207722732192001e-05\n",
      "8.882162406236387e-05\n",
      "Updating min_error from 8.882207722732192001e-05 to 8.882162406236387389e-05\n",
      "8.882117307004162e-05\n",
      "Updating min_error from 8.882162406236387389e-05 to 8.882117307004162409e-05\n",
      "8.882072424050422e-05\n",
      "Updating min_error from 8.882117307004162409e-05 to 8.882072424050421809e-05\n",
      "8.882027756388097e-05\n",
      "Updating min_error from 8.882072424050421809e-05 to 8.882027756388097088e-05\n",
      "8.881983303038831e-05\n",
      "Updating min_error from 8.882027756388097088e-05 to 8.881983303038831312e-05\n"
     ]
    },
    {
     "name": "stderr",
     "output_type": "stream",
     "text": [
      "  1%|          | 1621/250000 [00:35<1:28:46, 46.63it/s]"
     ]
    },
    {
     "name": "stdout",
     "output_type": "stream",
     "text": [
      "8.88193906299438e-05\n",
      "Updating min_error from 8.881983303038831312e-05 to 8.881939062994380157e-05\n",
      "8.881895035258572e-05\n",
      "Updating min_error from 8.881939062994380157e-05 to 8.881895035258571889e-05\n",
      "8.881851218848573e-05\n",
      "Updating min_error from 8.881895035258571889e-05 to 8.881851218848573176e-05\n",
      "8.8818076127568e-05\n",
      "Updating min_error from 8.881851218848573176e-05 to 8.881807612756799700e-05\n",
      "8.881764215981356e-05\n",
      "Updating min_error from 8.881807612756799700e-05 to 8.881764215981356497e-05\n",
      "8.881721027521445e-05\n",
      "Updating min_error from 8.881764215981356497e-05 to 8.881721027521445003e-05\n",
      "8.881678046364412e-05\n",
      "Updating min_error from 8.881721027521445003e-05 to 8.881678046364412256e-05\n",
      "8.881635271504379e-05\n",
      "Updating min_error from 8.881678046364412256e-05 to 8.881635271504378850e-05\n",
      "8.88159270193198e-05\n",
      "Updating min_error from 8.881635271504378850e-05 to 8.881592701931979666e-05\n",
      "8.881550336630794e-05\n",
      "Updating min_error from 8.881592701931979666e-05 to 8.881550336630794141e-05\n"
     ]
    },
    {
     "name": "stderr",
     "output_type": "stream",
     "text": [
      "  1%|          | 1631/250000 [00:35<1:27:34, 47.27it/s]"
     ]
    },
    {
     "name": "stdout",
     "output_type": "stream",
     "text": [
      "8.88150817458852e-05\n",
      "Updating min_error from 8.881550336630794141e-05 to 8.881508174588520325e-05\n",
      "8.881466214791276e-05\n",
      "Updating min_error from 8.881508174588520325e-05 to 8.881466214791276044e-05\n",
      "8.881424456219773e-05\n",
      "Updating min_error from 8.881466214791276044e-05 to 8.881424456219773019e-05\n",
      "8.881382897862541e-05\n",
      "Updating min_error from 8.881424456219773019e-05 to 8.881382897862541426e-05\n",
      "8.881341538693124e-05\n",
      "Updating min_error from 8.881382897862541426e-05 to 8.881341538693123699e-05\n",
      "8.88130037769151e-05\n",
      "Updating min_error from 8.881341538693123699e-05 to 8.881300377691510566e-05\n",
      "8.881259413837452e-05\n",
      "Updating min_error from 8.881300377691510566e-05 to 8.881259413837451521e-05\n",
      "8.881218646111268e-05\n",
      "Updating min_error from 8.881259413837451521e-05 to 8.881218646111267972e-05\n",
      "8.881178073490899e-05\n",
      "Updating min_error from 8.881218646111267972e-05 to 8.881178073490898794e-05\n",
      "8.881137694955092e-05\n",
      "Updating min_error from 8.881178073490898794e-05 to 8.881137694955091948e-05\n"
     ]
    },
    {
     "name": "stderr",
     "output_type": "stream",
     "text": [
      "  1%|          | 1641/250000 [00:36<1:27:35, 47.26it/s]"
     ]
    },
    {
     "name": "stdout",
     "output_type": "stream",
     "text": [
      "8.881097509474721e-05\n",
      "Updating min_error from 8.881137694955091948e-05 to 8.881097509474721377e-05\n",
      "8.881057516029457e-05\n",
      "Updating min_error from 8.881097509474721377e-05 to 8.881057516029456614e-05\n",
      "8.881017713594878e-05\n",
      "Updating min_error from 8.881057516029456614e-05 to 8.881017713594878394e-05\n",
      "8.880978101148932e-05\n",
      "Updating min_error from 8.881017713594878394e-05 to 8.880978101148932367e-05\n",
      "8.88093867766676e-05\n",
      "Updating min_error from 8.880978101148932367e-05 to 8.880938677666760169e-05\n",
      "8.880899442124088e-05\n",
      "Updating min_error from 8.880938677666760169e-05 to 8.880899442124087545e-05\n",
      "8.88086039349944e-05\n",
      "Updating min_error from 8.880899442124087545e-05 to 8.880860393499440196e-05\n",
      "8.880821530769849e-05\n",
      "Updating min_error from 8.880860393499440196e-05 to 8.880821530769848976e-05\n",
      "8.880782852913471e-05\n",
      "Updating min_error from 8.880821530769848976e-05 to 8.880782852913470958e-05\n",
      "8.88074435890806e-05\n",
      "Updating min_error from 8.880782852913470958e-05 to 8.880744358908059346e-05\n"
     ]
    },
    {
     "name": "stderr",
     "output_type": "stream",
     "text": [
      "  1%|          | 1651/250000 [00:36<1:27:41, 47.20it/s]"
     ]
    },
    {
     "name": "stdout",
     "output_type": "stream",
     "text": [
      "8.880706047734514e-05\n",
      "Updating min_error from 8.880744358908059346e-05 to 8.880706047734514242e-05\n",
      "8.88066791836705e-05\n",
      "Updating min_error from 8.880706047734514242e-05 to 8.880667918367050287e-05\n",
      "8.88062996979641e-05\n",
      "Updating min_error from 8.880667918367050287e-05 to 8.880629969796409429e-05\n",
      "8.880592200989851e-05\n",
      "Updating min_error from 8.880629969796409429e-05 to 8.880592200989851151e-05\n",
      "8.88055461093653e-05\n",
      "Updating min_error from 8.880592200989851151e-05 to 8.880554610936530399e-05\n",
      "8.88051719862086e-05\n",
      "Updating min_error from 8.880554610936530399e-05 to 8.880517198620860092e-05\n",
      "8.880479963029148e-05\n",
      "Updating min_error from 8.880517198620860092e-05 to 8.880479963029147788e-05\n",
      "8.880442903145079e-05\n",
      "Updating min_error from 8.880479963029147788e-05 to 8.880442903145078636e-05\n",
      "8.880406017960758e-05\n",
      "Updating min_error from 8.880442903145078636e-05 to 8.880406017960757966e-05\n",
      "8.880369306460166e-05\n",
      "Updating min_error from 8.880406017960757966e-05 to 8.880369306460166371e-05\n"
     ]
    },
    {
     "name": "stderr",
     "output_type": "stream",
     "text": [
      "  1%|          | 1661/250000 [00:36<1:27:15, 47.44it/s]"
     ]
    },
    {
     "name": "stdout",
     "output_type": "stream",
     "text": [
      "8.880332767636094e-05\n",
      "Updating min_error from 8.880369306460166371e-05 to 8.880332767636093584e-05\n",
      "8.880296400482653e-05\n",
      "Updating min_error from 8.880332767636093584e-05 to 8.880296400482653421e-05\n",
      "8.880260203991228e-05\n",
      "Updating min_error from 8.880296400482653421e-05 to 8.880260203991227510e-05\n",
      "8.880224177157941e-05\n",
      "Updating min_error from 8.880260203991227510e-05 to 8.880224177157940862e-05\n",
      "8.880188318982957e-05\n",
      "Updating min_error from 8.880224177157940862e-05 to 8.880188318982957141e-05\n",
      "8.880152628464697e-05\n",
      "Updating min_error from 8.880188318982957141e-05 to 8.880152628464697156e-05\n",
      "8.880117104606588e-05\n",
      "Updating min_error from 8.880152628464697156e-05 to 8.880117104606588020e-05\n",
      "8.880081746411915e-05\n",
      "Updating min_error from 8.880117104606588020e-05 to 8.880081746411914545e-05\n",
      "8.88004655288458e-05\n",
      "Updating min_error from 8.880081746411914545e-05 to 8.880046552884579537e-05\n",
      "8.880011523035631e-05\n",
      "Updating min_error from 8.880046552884579537e-05 to 8.880011523035630694e-05\n"
     ]
    },
    {
     "name": "stderr",
     "output_type": "stream",
     "text": [
      "  1%|          | 1671/250000 [00:36<1:26:53, 47.63it/s]"
     ]
    },
    {
     "name": "stdout",
     "output_type": "stream",
     "text": [
      "8.879976655872345e-05\n",
      "Updating min_error from 8.880011523035630694e-05 to 8.879976655872345403e-05\n",
      "8.87994195041148e-05\n",
      "Updating min_error from 8.879976655872345403e-05 to 8.879941950411479688e-05\n",
      "8.87990740566781e-05\n",
      "Updating min_error from 8.879941950411479688e-05 to 8.879907405667809546e-05\n",
      "8.879873020660141e-05\n",
      "Updating min_error from 8.879907405667809546e-05 to 8.879873020660141499e-05\n",
      "8.87983879441151e-05\n",
      "Updating min_error from 8.879873020660141499e-05 to 8.879838794411510456e-05\n",
      "8.879804725938685e-05\n",
      "Updating min_error from 8.879838794411510456e-05 to 8.879804725938684638e-05\n",
      "8.87977081427118e-05\n",
      "Updating min_error from 8.879804725938684638e-05 to 8.879770814271179772e-05\n",
      "8.879737058438483e-05\n",
      "Updating min_error from 8.879770814271179772e-05 to 8.879737058438483125e-05\n",
      "8.87970345747207e-05\n",
      "Updating min_error from 8.879737058438483125e-05 to 8.879703457472070121e-05\n",
      "8.879670010397568e-05\n",
      "Updating min_error from 8.879703457472070121e-05 to 8.879670010397568267e-05\n"
     ]
    },
    {
     "name": "stderr",
     "output_type": "stream",
     "text": [
      "  1%|          | 1681/250000 [00:36<1:26:22, 47.92it/s]"
     ]
    },
    {
     "name": "stdout",
     "output_type": "stream",
     "text": [
      "8.879636716272482e-05\n",
      "Updating min_error from 8.879670010397568267e-05 to 8.879636716272481969e-05\n",
      "8.879603574121918e-05\n",
      "Updating min_error from 8.879636716272481969e-05 to 8.879603574121918319e-05\n",
      "8.879570582991995e-05\n",
      "Updating min_error from 8.879603574121918319e-05 to 8.879570582991994890e-05\n",
      "8.879537741930563e-05\n",
      "Updating min_error from 8.879570582991994890e-05 to 8.879537741930562623e-05\n",
      "8.879505049987097e-05\n",
      "Updating min_error from 8.879537741930562623e-05 to 8.879505049987097408e-05\n",
      "8.879472506222185e-05\n",
      "Updating min_error from 8.879505049987097408e-05 to 8.879472506222185497e-05\n",
      "8.879440109674434e-05\n",
      "Updating min_error from 8.879472506222185497e-05 to 8.879440109674433652e-05\n",
      "8.879407859414262e-05\n",
      "Updating min_error from 8.879440109674433652e-05 to 8.879407859414261838e-05\n",
      "8.879375754503591e-05\n",
      "Updating min_error from 8.879407859414261838e-05 to 8.879375754503591230e-05\n",
      "8.879343794003438e-05\n",
      "Updating min_error from 8.879375754503591230e-05 to 8.879343794003437696e-05\n"
     ]
    },
    {
     "name": "stderr",
     "output_type": "stream",
     "text": [
      "  1%|          | 1691/250000 [00:37<1:26:44, 47.71it/s]"
     ]
    },
    {
     "name": "stdout",
     "output_type": "stream",
     "text": [
      "8.879311976988016e-05\n",
      "Updating min_error from 8.879343794003437696e-05 to 8.879311976988015908e-05\n",
      "8.879280302533614e-05\n",
      "Updating min_error from 8.879311976988015908e-05 to 8.879280302533614075e-05\n",
      "8.879248769709062e-05\n",
      "Updating min_error from 8.879280302533614075e-05 to 8.879248769709062450e-05\n",
      "8.879217377597023e-05\n",
      "Updating min_error from 8.879248769709062450e-05 to 8.879217377597022997e-05\n",
      "8.879186125281822e-05\n",
      "Updating min_error from 8.879217377597022997e-05 to 8.879186125281821930e-05\n",
      "8.87915501184959e-05\n",
      "Updating min_error from 8.879186125281821930e-05 to 8.879155011849590657e-05\n",
      "8.879124036391166e-05\n",
      "Updating min_error from 8.879155011849590657e-05 to 8.879124036391166026e-05\n",
      "8.879093197999683e-05\n",
      "Updating min_error from 8.879124036391166026e-05 to 8.879093197999683392e-05\n",
      "8.87906249577161e-05\n",
      "Updating min_error from 8.879093197999683392e-05 to 8.879062495771609324e-05\n",
      "8.879031928813801e-05\n",
      "Updating min_error from 8.879062495771609324e-05 to 8.879031928813801110e-05\n"
     ]
    },
    {
     "name": "stderr",
     "output_type": "stream",
     "text": [
      "  1%|          | 1696/250000 [00:37<1:27:02, 47.55it/s]"
     ]
    },
    {
     "name": "stdout",
     "output_type": "stream",
     "text": [
      "8.879001496228088e-05\n",
      "Updating min_error from 8.879031928813801110e-05 to 8.879001496228088053e-05\n",
      "8.878971197124771e-05\n",
      "Updating min_error from 8.879001496228088053e-05 to 8.878971197124771138e-05\n",
      "8.87894103061685e-05\n",
      "Updating min_error from 8.878971197124771138e-05 to 8.878941030616849662e-05\n",
      "8.878910995821118e-05\n",
      "Updating min_error from 8.878941030616849662e-05 to 8.878910995821117627e-05\n",
      "8.878881091856762e-05\n",
      "Updating min_error from 8.878910995821117627e-05 to 8.878881091856762411e-05\n",
      "8.878851317849643e-05\n",
      "Updating min_error from 8.878881091856762411e-05 to 8.878851317849643303e-05\n",
      "8.878821672927089e-05\n",
      "Updating min_error from 8.878851317849643303e-05 to 8.878821672927088684e-05\n",
      "8.878792156223692e-05\n",
      "Updating min_error from 8.878821672927088684e-05 to 8.878792156223692445e-05\n",
      "8.878762766876108e-05\n",
      "Updating min_error from 8.878792156223692445e-05 to 8.878762766876108464e-05\n",
      "8.878733504022606e-05\n",
      "Updating min_error from 8.878762766876108464e-05 to 8.878733504022606076e-05\n",
      "8.878733504022606e-05 ++++++++++\n"
     ]
    },
    {
     "name": "stderr",
     "output_type": "stream",
     "text": [
      "  1%|          | 1711/250000 [00:37<1:29:57, 46.00it/s]"
     ]
    },
    {
     "name": "stdout",
     "output_type": "stream",
     "text": [
      "8.878704366805903e-05\n",
      "Updating min_error from 8.878733504022606076e-05 to 8.878704366805902559e-05\n",
      "8.878675354376408e-05\n",
      "Updating min_error from 8.878704366805902559e-05 to 8.878675354376407603e-05\n",
      "8.878646465891059e-05\n",
      "Updating min_error from 8.878675354376407603e-05 to 8.878646465891059151e-05\n",
      "8.878617700500179e-05\n",
      "Updating min_error from 8.878646465891059151e-05 to 8.878617700500178803e-05\n",
      "8.878589057364991e-05\n",
      "Updating min_error from 8.878617700500178803e-05 to 8.878589057364991166e-05\n",
      "8.87856053565135e-05\n",
      "Updating min_error from 8.878589057364991166e-05 to 8.878560535651350391e-05\n",
      "8.878532134529185e-05\n",
      "Updating min_error from 8.878560535651350391e-05 to 8.878532134529184519e-05\n",
      "8.878503853168538e-05\n",
      "Updating min_error from 8.878532134529184519e-05 to 8.878503853168538142e-05\n",
      "8.878475690748285e-05\n",
      "Updating min_error from 8.878503853168538142e-05 to 8.878475690748285323e-05\n",
      "8.878447646453168e-05\n",
      "Updating min_error from 8.878475690748285323e-05 to 8.878447646453168371e-05\n"
     ]
    },
    {
     "name": "stderr",
     "output_type": "stream",
     "text": [
      "  1%|          | 1721/250000 [00:37<1:29:08, 46.42it/s]"
     ]
    },
    {
     "name": "stdout",
     "output_type": "stream",
     "text": [
      "8.878419719462926e-05\n",
      "Updating min_error from 8.878447646453168371e-05 to 8.878419719462926000e-05\n",
      "8.878391908969203e-05\n",
      "Updating min_error from 8.878419719462926000e-05 to 8.878391908969202821e-05\n",
      "8.878364214165911e-05\n",
      "Updating min_error from 8.878391908969202821e-05 to 8.878364214165910780e-05\n",
      "8.878336634254834e-05\n",
      "Updating min_error from 8.878364214165910780e-05 to 8.878336634254834490e-05\n",
      "8.878309168426513e-05\n",
      "Updating min_error from 8.878336634254834490e-05 to 8.878309168426512673e-05\n",
      "8.878281815897405e-05\n",
      "Updating min_error from 8.878309168426512673e-05 to 8.878281815897404617e-05\n",
      "8.878254575875303e-05\n",
      "Updating min_error from 8.878281815897404617e-05 to 8.878254575875302768e-05\n",
      "8.87822744757668e-05\n",
      "Updating min_error from 8.878254575875302768e-05 to 8.878227447576679966e-05\n",
      "8.878200430218407e-05\n",
      "Updating min_error from 8.878227447576679966e-05 to 8.878200430218407494e-05\n",
      "8.878173523023783e-05\n",
      "Updating min_error from 8.878200430218407494e-05 to 8.878173523023783246e-05\n"
     ]
    },
    {
     "name": "stderr",
     "output_type": "stream",
     "text": [
      "  1%|          | 1731/250000 [00:37<1:28:33, 46.72it/s]"
     ]
    },
    {
     "name": "stdout",
     "output_type": "stream",
     "text": [
      "8.878146725221401e-05\n",
      "Updating min_error from 8.878173523023783246e-05 to 8.878146725221401441e-05\n",
      "8.8781200360423e-05\n",
      "Updating min_error from 8.878146725221401441e-05 to 8.878120036042299820e-05\n",
      "8.878093454721589e-05\n",
      "Updating min_error from 8.878120036042299820e-05 to 8.878093454721588658e-05\n",
      "8.878066980501118e-05\n",
      "Updating min_error from 8.878093454721588658e-05 to 8.878066980501117902e-05\n",
      "8.878040612624605e-05\n",
      "Updating min_error from 8.878066980501117902e-05 to 8.878040612624605037e-05\n",
      "8.878014350341376e-05\n",
      "Updating min_error from 8.878040612624605037e-05 to 8.878014350341375583e-05\n",
      "8.877988192911794e-05\n",
      "Updating min_error from 8.878014350341375583e-05 to 8.877988192911793596e-05\n",
      "8.877962139584544e-05\n",
      "Updating min_error from 8.877988192911793596e-05 to 8.877962139584543561e-05\n",
      "8.877936189619587e-05\n",
      "Updating min_error from 8.877962139584543561e-05 to 8.877936189619587022e-05\n",
      "8.877910342281817e-05\n",
      "Updating min_error from 8.877936189619587022e-05 to 8.877910342281817289e-05\n"
     ]
    },
    {
     "name": "stderr",
     "output_type": "stream",
     "text": [
      "  1%|          | 1741/250000 [00:38<1:28:35, 46.70it/s]"
     ]
    },
    {
     "name": "stdout",
     "output_type": "stream",
     "text": [
      "8.877884596847067e-05\n",
      "Updating min_error from 8.877910342281817289e-05 to 8.877884596847067269e-05\n",
      "8.87785895258707e-05\n",
      "Updating min_error from 8.877884596847067269e-05 to 8.877858952587070233e-05\n",
      "8.877833408778428e-05\n",
      "Updating min_error from 8.877858952587070233e-05 to 8.877833408778427516e-05\n",
      "8.877807964711452e-05\n",
      "Updating min_error from 8.877833408778427516e-05 to 8.877807964711451549e-05\n",
      "8.877782619666767e-05\n",
      "Updating min_error from 8.877807964711451549e-05 to 8.877782619666767412e-05\n",
      "8.877757372937992e-05\n",
      "Updating min_error from 8.877782619666767412e-05 to 8.877757372937991642e-05\n",
      "8.87773222381972e-05\n",
      "Updating min_error from 8.877757372937991642e-05 to 8.877732223819720619e-05\n",
      "8.877707171613458e-05\n",
      "Updating min_error from 8.877732223819720619e-05 to 8.877707171613458451e-05\n",
      "8.877682215622241e-05\n",
      "Updating min_error from 8.877707171613458451e-05 to 8.877682215622240678e-05\n",
      "8.877657355155885e-05\n",
      "Updating min_error from 8.877682215622240678e-05 to 8.877657355155884526e-05\n"
     ]
    },
    {
     "name": "stderr",
     "output_type": "stream",
     "text": [
      "  1%|          | 1751/250000 [00:38<1:28:56, 46.52it/s]"
     ]
    },
    {
     "name": "stdout",
     "output_type": "stream",
     "text": [
      "8.877632589531752e-05\n",
      "Updating min_error from 8.877657355155884526e-05 to 8.877632589531751913e-05\n",
      "8.877607918054566e-05\n",
      "Updating min_error from 8.877632589531751913e-05 to 8.877607918054565670e-05\n",
      "8.877583340053062e-05\n",
      "Updating min_error from 8.877607918054565670e-05 to 8.877583340053062349e-05\n",
      "8.87755885485009e-05\n",
      "Updating min_error from 8.877583340053062349e-05 to 8.877558854850089933e-05\n",
      "8.877534461776892e-05\n",
      "Updating min_error from 8.877558854850089933e-05 to 8.877534461776892191e-05\n",
      "8.87751016016635e-05\n",
      "Updating min_error from 8.877534461776892191e-05 to 8.877510160166350041e-05\n",
      "8.877485949360297e-05\n",
      "Updating min_error from 8.877510160166350041e-05 to 8.877485949360297199e-05\n",
      "8.877461828693811e-05\n",
      "Updating min_error from 8.877485949360297199e-05 to 8.877461828693811445e-05\n",
      "8.877437797515253e-05\n",
      "Updating min_error from 8.877461828693811445e-05 to 8.877437797515253394e-05\n",
      "8.877413855175739e-05\n",
      "Updating min_error from 8.877437797515253394e-05 to 8.877413855175738885e-05\n"
     ]
    },
    {
     "name": "stderr",
     "output_type": "stream",
     "text": [
      "  1%|          | 1761/250000 [00:38<1:28:15, 46.88it/s]"
     ]
    },
    {
     "name": "stdout",
     "output_type": "stream",
     "text": [
      "8.87739000102843e-05\n",
      "Updating min_error from 8.877413855175738885e-05 to 8.877390001028430194e-05\n",
      "8.877366234432848e-05\n",
      "Updating min_error from 8.877390001028430194e-05 to 8.877366234432848438e-05\n",
      "8.877342554753896e-05\n",
      "Updating min_error from 8.877366234432848438e-05 to 8.877342554753896446e-05\n",
      "8.877318961357655e-05\n",
      "Updating min_error from 8.877342554753896446e-05 to 8.877318961357654760e-05\n",
      "8.877295453613785e-05\n",
      "Updating min_error from 8.877318961357654760e-05 to 8.877295453613784500e-05\n",
      "8.877272030897898e-05\n",
      "Updating min_error from 8.877295453613784500e-05 to 8.877272030897897701e-05\n",
      "8.877248692580776e-05\n",
      "Updating min_error from 8.877272030897897701e-05 to 8.877248692580776276e-05\n",
      "8.877225438063297e-05\n",
      "Updating min_error from 8.877248692580776276e-05 to 8.877225438063296881e-05\n",
      "8.877202266718305e-05\n",
      "Updating min_error from 8.877225438063296881e-05 to 8.877202266718305481e-05\n",
      "8.877179177947261e-05\n",
      "Updating min_error from 8.877202266718305481e-05 to 8.877179177947261488e-05\n"
     ]
    },
    {
     "name": "stderr",
     "output_type": "stream",
     "text": [
      "  1%|          | 1771/250000 [00:38<1:28:26, 46.78it/s]"
     ]
    },
    {
     "name": "stdout",
     "output_type": "stream",
     "text": [
      "8.877156171140735e-05\n",
      "Updating min_error from 8.877179177947261488e-05 to 8.877156171140734864e-05\n",
      "8.8771332456968e-05\n",
      "Updating min_error from 8.877156171140734864e-05 to 8.877133245696799599e-05\n",
      "8.877110401022896e-05\n",
      "Updating min_error from 8.877133245696799599e-05 to 8.877110401022895840e-05\n",
      "8.877087636519128e-05\n",
      "Updating min_error from 8.877110401022895840e-05 to 8.877087636519127747e-05\n",
      "8.87706495160304e-05\n",
      "Updating min_error from 8.877087636519127747e-05 to 8.877064951603040230e-05\n",
      "8.877042345689053e-05\n",
      "Updating min_error from 8.877064951603040230e-05 to 8.877042345689052985e-05\n",
      "8.877019818195162e-05\n",
      "Updating min_error from 8.877042345689052985e-05 to 8.877019818195162220e-05\n",
      "8.876997368544881e-05\n",
      "Updating min_error from 8.877019818195162220e-05 to 8.876997368544881377e-05\n",
      "8.876974996166031e-05\n",
      "Updating min_error from 8.876997368544881377e-05 to 8.876974996166030890e-05\n",
      "8.876952700488402e-05\n",
      "Updating min_error from 8.876974996166030890e-05 to 8.876952700488401733e-05\n"
     ]
    },
    {
     "name": "stderr",
     "output_type": "stream",
     "text": [
      "  1%|          | 1781/250000 [00:39<1:28:59, 46.48it/s]"
     ]
    },
    {
     "name": "stdout",
     "output_type": "stream",
     "text": [
      "8.876930480947644e-05\n",
      "Updating min_error from 8.876952700488401733e-05 to 8.876930480947643634e-05\n",
      "8.876908336982929e-05\n",
      "Updating min_error from 8.876930480947643634e-05 to 8.876908336982928627e-05\n",
      "8.876886268041032e-05\n",
      "Updating min_error from 8.876908336982928627e-05 to 8.876886268041031709e-05\n",
      "8.876864273561536e-05\n",
      "Updating min_error from 8.876886268041031709e-05 to 8.876864273561535556e-05\n",
      "8.876842352994935e-05\n",
      "Updating min_error from 8.876864273561535556e-05 to 8.876842352994935334e-05\n",
      "8.876820505798646e-05\n",
      "Updating min_error from 8.876842352994935334e-05 to 8.876820505798646132e-05\n",
      "8.87679873142893e-05\n",
      "Updating min_error from 8.876820505798646132e-05 to 8.876798731428929719e-05\n",
      "8.876777029348724e-05\n",
      "Updating min_error from 8.876798731428929719e-05 to 8.876777029348723838e-05\n",
      "8.876755399023427e-05\n",
      "Updating min_error from 8.876777029348723838e-05 to 8.876755399023427372e-05\n",
      "8.87673383992293e-05\n",
      "Updating min_error from 8.876755399023427372e-05 to 8.876733839922930510e-05\n"
     ]
    },
    {
     "name": "stderr",
     "output_type": "stream",
     "text": [
      "  1%|          | 1791/250000 [00:39<1:28:37, 46.68it/s]"
     ]
    },
    {
     "name": "stdout",
     "output_type": "stream",
     "text": [
      "8.876712351519177e-05\n",
      "Updating min_error from 8.876733839922930510e-05 to 8.876712351519176650e-05\n",
      "8.876690933290848e-05\n",
      "Updating min_error from 8.876712351519176650e-05 to 8.876690933290847505e-05\n",
      "8.876669584716985e-05\n",
      "Updating min_error from 8.876690933290847505e-05 to 8.876669584716985288e-05\n",
      "8.876648305279412e-05\n",
      "Updating min_error from 8.876669584716985288e-05 to 8.876648305279411834e-05\n",
      "8.876627094466365e-05\n",
      "Updating min_error from 8.876648305279411834e-05 to 8.876627094466364742e-05\n",
      "8.876605951770416e-05\n",
      "Updating min_error from 8.876627094466364742e-05 to 8.876605951770415713e-05\n",
      "8.876584876686161e-05\n",
      "Updating min_error from 8.876605951770415713e-05 to 8.876584876686161192e-05\n",
      "8.8765638687133e-05\n",
      "Updating min_error from 8.876584876686161192e-05 to 8.876563868713300155e-05\n",
      "8.87654292735154e-05\n",
      "Updating min_error from 8.876563868713300155e-05 to 8.876542927351539704e-05\n",
      "8.87652205211194e-05\n",
      "Updating min_error from 8.876542927351539704e-05 to 8.876522052111939897e-05\n"
     ]
    },
    {
     "name": "stderr",
     "output_type": "stream",
     "text": [
      "  1%|          | 1796/250000 [00:39<1:28:39, 46.66it/s]"
     ]
    },
    {
     "name": "stdout",
     "output_type": "stream",
     "text": [
      "8.876501242499176e-05\n",
      "Updating min_error from 8.876522052111939897e-05 to 8.876501242499176196e-05\n",
      "8.876480498029269e-05\n",
      "Updating min_error from 8.876501242499176196e-05 to 8.876480498029268881e-05\n",
      "8.87645981821705e-05\n",
      "Updating min_error from 8.876480498029268881e-05 to 8.876459818217049679e-05\n",
      "8.876439202580446e-05\n",
      "Updating min_error from 8.876459818217049679e-05 to 8.876439202580445711e-05\n",
      "8.876418650643733e-05\n",
      "Updating min_error from 8.876439202580445711e-05 to 8.876418650643733458e-05\n",
      "8.876398161935419e-05\n",
      "Updating min_error from 8.876418650643733458e-05 to 8.876398161935419146e-05\n",
      "8.876377735985778e-05\n",
      "Updating min_error from 8.876398161935419146e-05 to 8.876377735985777604e-05\n",
      "8.87635737232628e-05\n",
      "Updating min_error from 8.876377735985777604e-05 to 8.876357372326280351e-05\n",
      "8.876337070495006e-05\n",
      "Updating min_error from 8.876357372326280351e-05 to 8.876337070495005760e-05\n",
      "8.876316830033168e-05\n",
      "Updating min_error from 8.876337070495005760e-05 to 8.876316830033168263e-05\n",
      "8.876316830033168e-05 ++++++++++\n"
     ]
    },
    {
     "name": "stderr",
     "output_type": "stream",
     "text": [
      "  1%|          | 1811/250000 [00:39<1:29:59, 45.97it/s]"
     ]
    },
    {
     "name": "stdout",
     "output_type": "stream",
     "text": [
      "8.876296650484302e-05\n",
      "Updating min_error from 8.876316830033168263e-05 to 8.876296650484302481e-05\n",
      "8.876276531395524e-05\n",
      "Updating min_error from 8.876296650484302481e-05 to 8.876276531395523614e-05\n",
      "8.876256472316744e-05\n",
      "Updating min_error from 8.876276531395523614e-05 to 8.876256472316744104e-05\n",
      "8.876236472803288e-05\n",
      "Updating min_error from 8.876256472316744104e-05 to 8.876236472803287916e-05\n",
      "8.876216532411482e-05\n",
      "Updating min_error from 8.876236472803287916e-05 to 8.876216532411481904e-05\n",
      "8.876196650701445e-05\n",
      "Updating min_error from 8.876216532411481904e-05 to 8.876196650701444917e-05\n",
      "8.876176827236871e-05\n",
      "Updating min_error from 8.876196650701444917e-05 to 8.876176827236870962e-05\n",
      "8.876157061586647e-05\n",
      "Updating min_error from 8.876176827236870962e-05 to 8.876157061586647374e-05\n",
      "8.876137353318793e-05\n",
      "Updating min_error from 8.876157061586647374e-05 to 8.876137353318792769e-05\n",
      "8.876117702004795e-05\n",
      "Updating min_error from 8.876137353318792769e-05 to 8.876117702004795215e-05\n"
     ]
    },
    {
     "name": "stderr",
     "output_type": "stream",
     "text": [
      "  1%|          | 1821/250000 [00:39<1:27:45, 47.13it/s]"
     ]
    },
    {
     "name": "stdout",
     "output_type": "stream",
     "text": [
      "8.876098107224838e-05\n",
      "Updating min_error from 8.876117702004795215e-05 to 8.876098107224838075e-05\n",
      "8.876078568558943e-05\n",
      "Updating min_error from 8.876098107224838075e-05 to 8.876078568558943443e-05\n",
      "8.876059085589036e-05\n",
      "Updating min_error from 8.876078568558943443e-05 to 8.876059085589036184e-05\n",
      "8.876039657900923e-05\n",
      "Updating min_error from 8.876059085589036184e-05 to 8.876039657900922607e-05\n",
      "8.87602028508575e-05\n",
      "Updating min_error from 8.876039657900922607e-05 to 8.876020285085750073e-05\n",
      "8.876000966729315e-05\n",
      "Updating min_error from 8.876020285085750073e-05 to 8.876000966729315407e-05\n",
      "8.875981702432002e-05\n",
      "Updating min_error from 8.876000966729315407e-05 to 8.875981702432002014e-05\n",
      "8.875962491791208e-05\n",
      "Updating min_error from 8.875981702432002014e-05 to 8.875962491791207682e-05\n",
      "8.875943334413535e-05\n",
      "Updating min_error from 8.875962491791207682e-05 to 8.875943334413535074e-05\n",
      "8.875924229891483e-05\n",
      "Updating min_error from 8.875943334413535074e-05 to 8.875924229891482737e-05\n"
     ]
    },
    {
     "name": "stderr",
     "output_type": "stream",
     "text": [
      "  1%|          | 1831/250000 [00:40<1:26:49, 47.64it/s]"
     ]
    },
    {
     "name": "stdout",
     "output_type": "stream",
     "text": [
      "8.875905177841941e-05\n",
      "Updating min_error from 8.875924229891482737e-05 to 8.875905177841941058e-05\n",
      "8.875886177868584e-05\n",
      "Updating min_error from 8.875905177841941058e-05 to 8.875886177868583997e-05\n",
      "8.875867229588619e-05\n",
      "Updating min_error from 8.875886177868583997e-05 to 8.875867229588619070e-05\n",
      "8.875848332616642e-05\n",
      "Updating min_error from 8.875867229588619070e-05 to 8.875848332616642221e-05\n",
      "8.875829486574217e-05\n",
      "Updating min_error from 8.875848332616642221e-05 to 8.875829486574216747e-05\n",
      "8.87581069108177e-05\n",
      "Updating min_error from 8.875829486574216747e-05 to 8.875810691081770243e-05\n",
      "8.875791945764852e-05\n",
      "Updating min_error from 8.875810691081770243e-05 to 8.875791945764851805e-05\n",
      "8.875773250249416e-05\n",
      "Updating min_error from 8.875791945764851805e-05 to 8.875773250249415749e-05\n",
      "8.875754604168343e-05\n",
      "Updating min_error from 8.875773250249415749e-05 to 8.875754604168343089e-05\n",
      "8.87573600715252e-05\n",
      "Updating min_error from 8.875754604168343089e-05 to 8.875736007152519905e-05\n"
     ]
    },
    {
     "name": "stderr",
     "output_type": "stream",
     "text": [
      "  1%|          | 1841/250000 [00:40<1:26:11, 47.99it/s]"
     ]
    },
    {
     "name": "stdout",
     "output_type": "stream",
     "text": [
      "8.875717458840331e-05\n",
      "Updating min_error from 8.875736007152519905e-05 to 8.875717458840330892e-05\n",
      "8.8756989588705e-05\n",
      "Updating min_error from 8.875717458840330892e-05 to 8.875698958870499556e-05\n",
      "8.875680506882596e-05\n",
      "Updating min_error from 8.875698958870499556e-05 to 8.875680506882596438e-05\n",
      "8.875662102524947e-05\n",
      "Updating min_error from 8.875680506882596438e-05 to 8.875662102524947011e-05\n",
      "8.875643745442872e-05\n",
      "Updating min_error from 8.875662102524947011e-05 to 8.875643745442872152e-05\n",
      "8.87562543528596e-05\n",
      "Updating min_error from 8.875643745442872152e-05 to 8.875625435285960430e-05\n",
      "8.875607171707287e-05\n",
      "Updating min_error from 8.875625435285960430e-05 to 8.875607171707287479e-05\n",
      "8.875588954364113e-05\n",
      "Updating min_error from 8.875607171707287479e-05 to 8.875588954364112596e-05\n",
      "8.875570782911841e-05\n",
      "Updating min_error from 8.875588954364112596e-05 to 8.875570782911841095e-05\n",
      "8.875552657010291e-05\n",
      "Updating min_error from 8.875570782911841095e-05 to 8.875552657010290993e-05\n"
     ]
    },
    {
     "name": "stderr",
     "output_type": "stream",
     "text": [
      "  1%|          | 1851/250000 [00:40<1:26:09, 48.01it/s]"
     ]
    },
    {
     "name": "stdout",
     "output_type": "stream",
     "text": [
      "8.875534576324159e-05\n",
      "Updating min_error from 8.875552657010290993e-05 to 8.875534576324159214e-05\n",
      "8.875516540518609e-05\n",
      "Updating min_error from 8.875534576324159214e-05 to 8.875516540518608890e-05\n",
      "8.875498549264185e-05\n",
      "Updating min_error from 8.875516540518608890e-05 to 8.875498549264184865e-05\n",
      "8.875480602228999e-05\n",
      "Updating min_error from 8.875498549264184865e-05 to 8.875480602228999298e-05\n",
      "8.875462699088038e-05\n",
      "Updating min_error from 8.875480602228999298e-05 to 8.875462699088038196e-05\n",
      "8.875444839516541e-05\n",
      "Updating min_error from 8.875462699088038196e-05 to 8.875444839516540994e-05\n",
      "8.87542702319521e-05\n",
      "Updating min_error from 8.875444839516540994e-05 to 8.875427023195210153e-05\n",
      "8.875409249803087e-05\n",
      "Updating min_error from 8.875427023195210153e-05 to 8.875409249803086593e-05\n",
      "8.875391519023758e-05\n",
      "Updating min_error from 8.875409249803086593e-05 to 8.875391519023758107e-05\n",
      "8.875373830544454e-05\n",
      "Updating min_error from 8.875391519023758107e-05 to 8.875373830544454052e-05\n"
     ]
    },
    {
     "name": "stderr",
     "output_type": "stream",
     "text": [
      "  1%|          | 1861/250000 [00:40<1:25:57, 48.11it/s]"
     ]
    },
    {
     "name": "stdout",
     "output_type": "stream",
     "text": [
      "8.875356184053786e-05\n",
      "Updating min_error from 8.875373830544454052e-05 to 8.875356184053786145e-05\n",
      "8.87533857924106e-05\n",
      "Updating min_error from 8.875356184053786145e-05 to 8.875338579241059988e-05\n",
      "8.875321015806175e-05\n",
      "Updating min_error from 8.875338579241059988e-05 to 8.875321015806175197e-05\n",
      "8.875303493432272e-05\n",
      "Updating min_error from 8.875321015806175197e-05 to 8.875303493432272332e-05\n",
      "8.875286011828207e-05\n",
      "Updating min_error from 8.875303493432272332e-05 to 8.875286011828206517e-05\n",
      "8.875268570686987e-05\n",
      "Updating min_error from 8.875286011828206517e-05 to 8.875268570686987264e-05\n",
      "8.87525116971714e-05\n",
      "Updating min_error from 8.875268570686987264e-05 to 8.875251169717140369e-05\n",
      "8.875233808621025e-05\n",
      "Updating min_error from 8.875251169717140369e-05 to 8.875233808621025232e-05\n",
      "8.875216487104717e-05\n",
      "Updating min_error from 8.875233808621025232e-05 to 8.875216487104717355e-05\n",
      "8.875199204879117e-05\n",
      "Updating min_error from 8.875216487104717355e-05 to 8.875199204879116938e-05\n"
     ]
    },
    {
     "name": "stderr",
     "output_type": "stream",
     "text": [
      "  1%|          | 1871/250000 [00:40<1:27:43, 47.15it/s]"
     ]
    },
    {
     "name": "stdout",
     "output_type": "stream",
     "text": [
      "8.875181961662391e-05\n",
      "Updating min_error from 8.875199204879116938e-05 to 8.875181961662391048e-05\n",
      "8.875164757157911e-05\n",
      "Updating min_error from 8.875181961662391048e-05 to 8.875164757157911458e-05\n",
      "8.875147591088931e-05\n",
      "Updating min_error from 8.875164757157911458e-05 to 8.875147591088931496e-05\n",
      "8.875130463171046e-05\n",
      "Updating min_error from 8.875147591088931496e-05 to 8.875130463171045959e-05\n",
      "8.875113373125257e-05\n",
      "Updating min_error from 8.875130463171045959e-05 to 8.875113373125257104e-05\n",
      "8.875096320666996e-05\n",
      "Updating min_error from 8.875113373125257104e-05 to 8.875096320666995739e-05\n",
      "8.875079305534674e-05\n",
      "Updating min_error from 8.875096320666995739e-05 to 8.875079305534673698e-05\n",
      "8.875062327456617e-05\n",
      "Updating min_error from 8.875079305534673698e-05 to 8.875062327456617020e-05\n",
      "8.87504538615616e-05\n",
      "Updating min_error from 8.875062327456617020e-05 to 8.875045386156160351e-05\n",
      "8.875028481363382e-05\n",
      "Updating min_error from 8.875045386156160351e-05 to 8.875028481363382072e-05\n"
     ]
    },
    {
     "name": "stderr",
     "output_type": "stream",
     "text": [
      "  1%|          | 1881/250000 [00:41<1:27:50, 47.07it/s]"
     ]
    },
    {
     "name": "stdout",
     "output_type": "stream",
     "text": [
      "8.875011612814894e-05\n",
      "Updating min_error from 8.875028481363382072e-05 to 8.875011612814894240e-05\n",
      "8.874994780245651e-05\n",
      "Updating min_error from 8.875011612814894240e-05 to 8.874994780245651436e-05\n",
      "8.8749779833965e-05\n",
      "Updating min_error from 8.874994780245651436e-05 to 8.874977983396499525e-05\n",
      "8.874961222004956e-05\n",
      "Updating min_error from 8.874977983396499525e-05 to 8.874961222004955873e-05\n",
      "8.87494449580871e-05\n",
      "Updating min_error from 8.874961222004955873e-05 to 8.874944495808709960e-05\n",
      "8.874927804563427e-05\n",
      "Updating min_error from 8.874944495808709960e-05 to 8.874927804563427340e-05\n",
      "8.874911147999677e-05\n",
      "Updating min_error from 8.874927804563427340e-05 to 8.874911147999676997e-05\n",
      "8.874894525875274e-05\n",
      "Updating min_error from 8.874911147999676997e-05 to 8.874894525875273916e-05\n",
      "8.874877937937978e-05\n",
      "Updating min_error from 8.874894525875273916e-05 to 8.874877937937978461e-05\n",
      "8.874861383935394e-05\n",
      "Updating min_error from 8.874877937937978461e-05 to 8.874861383935393787e-05\n"
     ]
    },
    {
     "name": "stderr",
     "output_type": "stream",
     "text": [
      "  1%|          | 1891/250000 [00:41<1:27:33, 47.23it/s]"
     ]
    },
    {
     "name": "stdout",
     "output_type": "stream",
     "text": [
      "8.874844863630882e-05\n",
      "Updating min_error from 8.874861383935393787e-05 to 8.874844863630881929e-05\n",
      "8.874828376772337e-05\n",
      "Updating min_error from 8.874844863630881929e-05 to 8.874828376772337421e-05\n",
      "8.87481192312025e-05\n",
      "Updating min_error from 8.874828376772337421e-05 to 8.874811923120250515e-05\n",
      "8.87479550243466e-05\n",
      "Updating min_error from 8.874811923120250515e-05 to 8.874795502434660167e-05\n",
      "8.874779114477339e-05\n",
      "Updating min_error from 8.874795502434660167e-05 to 8.874779114477338699e-05\n",
      "8.874762759010994e-05\n",
      "Updating min_error from 8.874779114477338699e-05 to 8.874762759010993557e-05\n",
      "8.874746435802977e-05\n",
      "Updating min_error from 8.874762759010993557e-05 to 8.874746435802976640e-05\n",
      "8.874730144617154e-05\n",
      "Updating min_error from 8.874746435802976640e-05 to 8.874730144617154134e-05\n",
      "8.874713885222138e-05\n",
      "Updating min_error from 8.874730144617154134e-05 to 8.874713885222138324e-05\n",
      "8.874697657391961e-05\n",
      "Updating min_error from 8.874713885222138324e-05 to 8.874697657391961148e-05\n"
     ]
    },
    {
     "name": "stderr",
     "output_type": "stream",
     "text": [
      "  1%|          | 1896/250000 [00:41<1:27:40, 47.16it/s]"
     ]
    },
    {
     "name": "stdout",
     "output_type": "stream",
     "text": [
      "8.874681460898975e-05\n",
      "Updating min_error from 8.874697657391961148e-05 to 8.874681460898975385e-05\n",
      "8.874665295515912e-05\n",
      "Updating min_error from 8.874681460898975385e-05 to 8.874665295515911931e-05\n",
      "8.87464916101965e-05\n",
      "Updating min_error from 8.874665295515911931e-05 to 8.874649161019650112e-05\n",
      "8.874633057187987e-05\n",
      "Updating min_error from 8.874649161019650112e-05 to 8.874633057187986758e-05\n",
      "8.874616983796702e-05\n",
      "Updating min_error from 8.874633057187986758e-05 to 8.874616983796702083e-05\n",
      "8.874600940632504e-05\n",
      "Updating min_error from 8.874616983796702083e-05 to 8.874600940632503703e-05\n",
      "8.874584927477097e-05\n",
      "Updating min_error from 8.874600940632503703e-05 to 8.874584927477097000e-05\n",
      "8.874568944114827e-05\n",
      "Updating min_error from 8.874584927477097000e-05 to 8.874568944114827383e-05\n",
      "8.874552990332737e-05\n",
      "Updating min_error from 8.874568944114827383e-05 to 8.874552990332737219e-05\n",
      "8.874537065920761e-05\n",
      "Updating min_error from 8.874552990332737219e-05 to 8.874537065920760979e-05\n",
      "8.874537065920761e-05 ++++++++++\n"
     ]
    },
    {
     "name": "stderr",
     "output_type": "stream",
     "text": [
      "  1%|          | 1911/250000 [00:41<1:31:20, 45.27it/s]"
     ]
    },
    {
     "name": "stdout",
     "output_type": "stream",
     "text": [
      "8.87452117066513e-05\n",
      "Updating min_error from 8.874537065920760979e-05 to 8.874521170665130589e-05\n",
      "8.874505304358892e-05\n",
      "Updating min_error from 8.874521170665130589e-05 to 8.874505304358892182e-05\n",
      "8.874489466795398e-05\n",
      "Updating min_error from 8.874505304358892182e-05 to 8.874489466795398179e-05\n",
      "8.87447365776452e-05\n",
      "Updating min_error from 8.874489466795398179e-05 to 8.874473657764519357e-05\n",
      "8.87445787707304e-05\n",
      "Updating min_error from 8.874473657764519357e-05 to 8.874457877073040047e-05\n",
      "8.874442124514188e-05\n",
      "Updating min_error from 8.874457877073040047e-05 to 8.874442124514187987e-05\n",
      "8.87442639988395e-05\n",
      "Updating min_error from 8.874442124514187987e-05 to 8.874426399883950209e-05\n",
      "8.87441070298571e-05\n",
      "Updating min_error from 8.874426399883950209e-05 to 8.874410702985709360e-05\n",
      "8.874395033619861e-05\n",
      "Updating min_error from 8.874410702985709360e-05 to 8.874395033619861110e-05\n",
      "8.87437939159495e-05\n",
      "Updating min_error from 8.874395033619861110e-05 to 8.874379391594950262e-05\n"
     ]
    },
    {
     "name": "stderr",
     "output_type": "stream",
     "text": [
      "  1%|          | 1921/250000 [00:42<1:30:16, 45.80it/s]"
     ]
    },
    {
     "name": "stdout",
     "output_type": "stream",
     "text": [
      "8.874363776720851e-05\n",
      "Updating min_error from 8.874379391594950262e-05 to 8.874363776720851124e-05\n",
      "8.874348188794609e-05\n",
      "Updating min_error from 8.874363776720851124e-05 to 8.874348188794609180e-05\n",
      "8.874332627626893e-05\n",
      "Updating min_error from 8.874348188794609180e-05 to 8.874332627626892915e-05\n",
      "8.874317093033564e-05\n",
      "Updating min_error from 8.874332627626892915e-05 to 8.874317093033564144e-05\n",
      "8.874301584822983e-05\n",
      "Updating min_error from 8.874317093033564144e-05 to 8.874301584822983356e-05\n",
      "8.874286102807088e-05\n",
      "Updating min_error from 8.874301584822983356e-05 to 8.874286102807087552e-05\n",
      "8.874270646802743e-05\n",
      "Updating min_error from 8.874286102807087552e-05 to 8.874270646802742788e-05\n",
      "8.874255216624752e-05\n",
      "Updating min_error from 8.874270646802742788e-05 to 8.874255216624752426e-05\n",
      "8.874239812092417e-05\n",
      "Updating min_error from 8.874255216624752426e-05 to 8.874239812092416554e-05\n",
      "8.874224433023082e-05\n",
      "Updating min_error from 8.874239812092416554e-05 to 8.874224433023082345e-05\n"
     ]
    },
    {
     "name": "stderr",
     "output_type": "stream",
     "text": [
      "  1%|          | 1931/250000 [00:42<1:29:32, 46.17it/s]"
     ]
    },
    {
     "name": "stdout",
     "output_type": "stream",
     "text": [
      "8.874209079238031e-05\n",
      "Updating min_error from 8.874224433023082345e-05 to 8.874209079238031266e-05\n",
      "8.874193750558468e-05\n",
      "Updating min_error from 8.874209079238031266e-05 to 8.874193750558467537e-05\n",
      "8.874178446809081e-05\n",
      "Updating min_error from 8.874193750558467537e-05 to 8.874178446809081089e-05\n",
      "8.874163167813297e-05\n",
      "Updating min_error from 8.874178446809081089e-05 to 8.874163167813297400e-05\n",
      "8.874147913396531e-05\n",
      "Updating min_error from 8.874163167813297400e-05 to 8.874147913396531460e-05\n",
      "8.874132683387638e-05\n",
      "Updating min_error from 8.874147913396531460e-05 to 8.874132683387637890e-05\n",
      "8.874117477613905e-05\n",
      "Updating min_error from 8.874132683387637890e-05 to 8.874117477613904640e-05\n",
      "8.87410229590537e-05\n",
      "Updating min_error from 8.874117477613904640e-05 to 8.874102295905369467e-05\n",
      "8.874087138094688e-05\n",
      "Updating min_error from 8.874102295905369467e-05 to 8.874087138094688475e-05\n",
      "8.874072004013355e-05\n",
      "Updating min_error from 8.874087138094688475e-05 to 8.874072004013354963e-05\n"
     ]
    },
    {
     "name": "stderr",
     "output_type": "stream",
     "text": [
      "  1%|          | 1941/250000 [00:42<1:29:48, 46.04it/s]"
     ]
    },
    {
     "name": "stdout",
     "output_type": "stream",
     "text": [
      "8.874056893495624e-05\n",
      "Updating min_error from 8.874072004013354963e-05 to 8.874056893495624234e-05\n",
      "8.874041806374558e-05\n",
      "Updating min_error from 8.874056893495624234e-05 to 8.874041806374557615e-05\n",
      "8.874026742492161e-05\n",
      "Updating min_error from 8.874041806374557615e-05 to 8.874026742492161098e-05\n",
      "8.874011701683635e-05\n",
      "Updating min_error from 8.874026742492161098e-05 to 8.874011701683634599e-05\n",
      "8.873996683784998e-05\n",
      "Updating min_error from 8.874011701683634599e-05 to 8.873996683784997959e-05\n",
      "8.873981688638165e-05\n",
      "Updating min_error from 8.873996683784997959e-05 to 8.873981688638165016e-05\n",
      "8.873966716083487e-05\n",
      "Updating min_error from 8.873981688638165016e-05 to 8.873966716083486999e-05\n",
      "8.873951765966611e-05\n",
      "Updating min_error from 8.873966716083486999e-05 to 8.873951765966611466e-05\n",
      "8.873936838143438e-05\n",
      "Updating min_error from 8.873951765966611466e-05 to 8.873936838143438462e-05\n",
      "8.873921932433665e-05\n",
      "Updating min_error from 8.873936838143438462e-05 to 8.873921932433665165e-05\n"
     ]
    },
    {
     "name": "stderr",
     "output_type": "stream",
     "text": [
      "  1%|          | 1951/250000 [00:42<1:29:17, 46.30it/s]"
     ]
    },
    {
     "name": "stdout",
     "output_type": "stream",
     "text": [
      "8.873907048695897e-05\n",
      "Updating min_error from 8.873921932433665165e-05 to 8.873907048695896705e-05\n",
      "8.873892186776179e-05\n",
      "Updating min_error from 8.873907048695896705e-05 to 8.873892186776179082e-05\n",
      "8.8738773465238e-05\n",
      "Updating min_error from 8.873892186776179082e-05 to 8.873877346523800064e-05\n",
      "8.873862527787019e-05\n",
      "Updating min_error from 8.873877346523800064e-05 to 8.873862527787018781e-05\n",
      "8.873847730419837e-05\n",
      "Updating min_error from 8.873862527787018781e-05 to 8.873847730419836567e-05\n",
      "8.873832954279324e-05\n",
      "Updating min_error from 8.873847730419836567e-05 to 8.873832954279324407e-05\n",
      "8.873818199213011e-05\n",
      "Updating min_error from 8.873832954279324407e-05 to 8.873818199213010947e-05\n",
      "8.873803465072623e-05\n",
      "Updating min_error from 8.873818199213010947e-05 to 8.873803465072623410e-05\n",
      "8.87378875171566e-05\n",
      "Updating min_error from 8.873803465072623410e-05 to 8.873788751715659684e-05\n",
      "8.873774058999702e-05\n",
      "Updating min_error from 8.873788751715659684e-05 to 8.873774058999701680e-05\n"
     ]
    },
    {
     "name": "stderr",
     "output_type": "stream",
     "text": [
      "  1%|          | 1961/250000 [00:42<1:30:40, 45.59it/s]"
     ]
    },
    {
     "name": "stdout",
     "output_type": "stream",
     "text": [
      "8.873759386783094e-05\n",
      "Updating min_error from 8.873774058999701680e-05 to 8.873759386783094320e-05\n",
      "8.873744734923815e-05\n",
      "Updating min_error from 8.873759386783094320e-05 to 8.873744734923815251e-05\n",
      "8.87373010328251e-05\n",
      "Updating min_error from 8.873744734923815251e-05 to 8.873730103282510611e-05\n",
      "8.873715491718054e-05\n",
      "Updating min_error from 8.873730103282510611e-05 to 8.873715491718053871e-05\n",
      "8.873700900096313e-05\n",
      "Updating min_error from 8.873715491718053871e-05 to 8.873700900096312958e-05\n",
      "8.873686328278221e-05\n",
      "Updating min_error from 8.873700900096312958e-05 to 8.873686328278221325e-05\n",
      "8.873671776124952e-05\n",
      "Updating min_error from 8.873686328278221325e-05 to 8.873671776124952306e-05\n",
      "8.873657243507323e-05\n",
      "Updating min_error from 8.873671776124952306e-05 to 8.873657243507323210e-05\n",
      "8.873642730287655e-05\n",
      "Updating min_error from 8.873657243507323210e-05 to 8.873642730287655271e-05\n",
      "8.873628236333837e-05\n",
      "Updating min_error from 8.873642730287655271e-05 to 8.873628236333837098e-05\n"
     ]
    },
    {
     "name": "stderr",
     "output_type": "stream",
     "text": [
      "  1%|          | 1971/250000 [00:43<1:30:36, 45.62it/s]"
     ]
    },
    {
     "name": "stdout",
     "output_type": "stream",
     "text": [
      "8.873613761515385e-05\n",
      "Updating min_error from 8.873628236333837098e-05 to 8.873613761515384960e-05\n",
      "8.87359930570084e-05\n",
      "Updating min_error from 8.873613761515384960e-05 to 8.873599305700839344e-05\n",
      "8.873584868760362e-05\n",
      "Updating min_error from 8.873599305700839344e-05 to 8.873584868760361617e-05\n",
      "8.873570450563784e-05\n",
      "Updating min_error from 8.873584868760361617e-05 to 8.873570450563783823e-05\n",
      "8.873556050985345e-05\n",
      "Updating min_error from 8.873570450563783823e-05 to 8.873556050985345286e-05\n",
      "8.87354166989758e-05\n",
      "Updating min_error from 8.873556050985345286e-05 to 8.873541669897580422e-05\n",
      "8.873527307174249e-05\n",
      "Updating min_error from 8.873541669897580422e-05 to 8.873527307174248796e-05\n",
      "8.873512962689962e-05\n",
      "Updating min_error from 8.873527307174248796e-05 to 8.873512962689962427e-05\n",
      "8.873498636329662e-05\n",
      "Updating min_error from 8.873512962689962427e-05 to 8.873498636329661714e-05\n",
      "8.873484327954008e-05\n",
      "Updating min_error from 8.873498636329661714e-05 to 8.873484327954007705e-05\n"
     ]
    },
    {
     "name": "stderr",
     "output_type": "stream",
     "text": [
      "  1%|          | 1981/250000 [00:43<1:30:08, 45.86it/s]"
     ]
    },
    {
     "name": "stdout",
     "output_type": "stream",
     "text": [
      "8.873470037449018e-05\n",
      "Updating min_error from 8.873484327954007705e-05 to 8.873470037449018226e-05\n",
      "8.873455764698713e-05\n",
      "Updating min_error from 8.873470037449018226e-05 to 8.873455764698713459e-05\n",
      "8.873441509571616e-05\n",
      "Updating min_error from 8.873455764698713459e-05 to 8.873441509571616272e-05\n",
      "8.873427271953219e-05\n",
      "Updating min_error from 8.873441509571616272e-05 to 8.873427271953218654e-05\n",
      "8.87341305172621e-05\n",
      "Updating min_error from 8.873427271953218654e-05 to 8.873413051726209929e-05\n",
      "8.873398848773429e-05\n",
      "Updating min_error from 8.873413051726209929e-05 to 8.873398848773428500e-05\n",
      "8.873384662975294e-05\n",
      "Updating min_error from 8.873398848773428500e-05 to 8.873384662975293644e-05\n",
      "8.873370494217483e-05\n",
      "Updating min_error from 8.873384662975293644e-05 to 8.873370494217483018e-05\n",
      "8.87335634238818e-05\n",
      "Updating min_error from 8.873370494217483018e-05 to 8.873356342388180140e-05\n",
      "8.87334220736815e-05\n",
      "Updating min_error from 8.873356342388180140e-05 to 8.873342207368149878e-05\n"
     ]
    },
    {
     "name": "stderr",
     "output_type": "stream",
     "text": [
      "  1%|          | 1991/250000 [00:43<1:29:58, 45.94it/s]"
     ]
    },
    {
     "name": "stdout",
     "output_type": "stream",
     "text": [
      "8.873328089045278e-05\n",
      "Updating min_error from 8.873342207368149878e-05 to 8.873328089045277596e-05\n",
      "8.873313987309774e-05\n",
      "Updating min_error from 8.873328089045277596e-05 to 8.873313987309774270e-05\n",
      "8.873299902047816e-05\n",
      "Updating min_error from 8.873313987309774270e-05 to 8.873299902047816290e-05\n",
      "8.873285833148257e-05\n",
      "Updating min_error from 8.873299902047816290e-05 to 8.873285833148256672e-05\n",
      "8.873271780499974e-05\n",
      "Updating min_error from 8.873285833148256672e-05 to 8.873271780499974179e-05\n",
      "8.873257743997088e-05\n",
      "Updating min_error from 8.873271780499974179e-05 to 8.873257743997088338e-05\n",
      "8.873243723529607e-05\n",
      "Updating min_error from 8.873257743997088338e-05 to 8.873243723529606838e-05\n",
      "8.873229718990663e-05\n",
      "Updating min_error from 8.873243723529606838e-05 to 8.873229718990662581e-05\n",
      "8.873215730272792e-05\n",
      "Updating min_error from 8.873229718990662581e-05 to 8.873215730272792159e-05\n",
      "8.873201757269774e-05\n",
      "Updating min_error from 8.873215730272792159e-05 to 8.873201757269773575e-05\n"
     ]
    },
    {
     "name": "stderr",
     "output_type": "stream",
     "text": [
      "  1%|          | 1996/250000 [00:43<1:30:07, 45.86it/s]"
     ]
    },
    {
     "name": "stdout",
     "output_type": "stream",
     "text": [
      "8.873187799877324e-05\n",
      "Updating min_error from 8.873201757269773575e-05 to 8.873187799877324197e-05\n",
      "8.873173857996643e-05\n",
      "Updating min_error from 8.873187799877324197e-05 to 8.873173857996643392e-05\n",
      "8.873159931511823e-05\n",
      "Updating min_error from 8.873173857996643392e-05 to 8.873159931511823172e-05\n",
      "8.873146020324216e-05\n",
      "Updating min_error from 8.873159931511823172e-05 to 8.873146020324216047e-05\n",
      "8.873132124334283e-05\n",
      "Updating min_error from 8.873146020324216047e-05 to 8.873132124334282770e-05\n",
      "8.873118243439822e-05\n",
      "Updating min_error from 8.873132124334282770e-05 to 8.873118243439822380e-05\n",
      "8.873104377540264e-05\n",
      "Updating min_error from 8.873118243439822380e-05 to 8.873104377540264281e-05\n",
      "8.873090526537574e-05\n",
      "Updating min_error from 8.873104377540264281e-05 to 8.873090526537573560e-05\n",
      "8.873076690330795e-05\n",
      "Updating min_error from 8.873090526537573560e-05 to 8.873076690330794730e-05\n",
      "8.873062868819638e-05\n",
      "Updating min_error from 8.873076690330794730e-05 to 8.873062868819637735e-05\n",
      "8.873062868819638e-05 ++++++++++\n"
     ]
    },
    {
     "name": "stderr",
     "output_type": "stream",
     "text": [
      "  1%|          | 2011/250000 [00:44<1:32:23, 44.74it/s]"
     ]
    },
    {
     "name": "stdout",
     "output_type": "stream",
     "text": [
      "8.873049061905776e-05\n",
      "Updating min_error from 8.873062868819637735e-05 to 8.873049061905776281e-05\n",
      "8.873035269495206e-05\n",
      "Updating min_error from 8.873049061905776281e-05 to 8.873035269495205973e-05\n",
      "8.873021491489744e-05\n",
      "Updating min_error from 8.873035269495205973e-05 to 8.873021491489744173e-05\n",
      "8.873007727794123e-05\n",
      "Updating min_error from 8.873021491489744173e-05 to 8.873007727794123391e-05\n",
      "8.872993978313447e-05\n",
      "Updating min_error from 8.873007727794123391e-05 to 8.872993978313447477e-05\n",
      "8.87298024295176e-05\n",
      "Updating min_error from 8.872993978313447477e-05 to 8.872980242951760473e-05\n",
      "8.87296652162057e-05\n",
      "Updating min_error from 8.872980242951760473e-05 to 8.872966521620569797e-05\n",
      "8.872952814221495e-05\n",
      "Updating min_error from 8.872966521620569797e-05 to 8.872952814221494945e-05\n",
      "8.872939120664876e-05\n",
      "Updating min_error from 8.872952814221494945e-05 to 8.872939120664876463e-05\n",
      "8.87292544085904e-05\n",
      "Updating min_error from 8.872939120664876463e-05 to 8.872925440859039635e-05\n"
     ]
    },
    {
     "name": "stderr",
     "output_type": "stream",
     "text": [
      "  1%|          | 2021/250000 [00:44<1:30:54, 45.46it/s]"
     ]
    },
    {
     "name": "stdout",
     "output_type": "stream",
     "text": [
      "8.872911774712082e-05\n",
      "Updating min_error from 8.872925440859039635e-05 to 8.872911774712082065e-05\n",
      "8.872898122133359e-05\n",
      "Updating min_error from 8.872911774712082065e-05 to 8.872898122133359030e-05\n",
      "8.87288448303475e-05\n",
      "Updating min_error from 8.872898122133359030e-05 to 8.872884483034750643e-05\n",
      "8.872870857326142e-05\n",
      "Updating min_error from 8.872884483034750643e-05 to 8.872870857326142086e-05\n",
      "8.872857244919365e-05\n",
      "Updating min_error from 8.872870857326142086e-05 to 8.872857244919364682e-05\n",
      "8.872843645727499e-05\n",
      "Updating min_error from 8.872857244919364682e-05 to 8.872843645727499298e-05\n",
      "8.872830059662266e-05\n",
      "Updating min_error from 8.872843645727499298e-05 to 8.872830059662266129e-05\n",
      "8.872816486637653e-05\n",
      "Updating min_error from 8.872830059662266129e-05 to 8.872816486637652704e-05\n",
      "8.87280292656766e-05\n",
      "Updating min_error from 8.872816486637652704e-05 to 8.872802926567660109e-05\n",
      "8.872789379366737e-05\n",
      "Updating min_error from 8.872802926567660109e-05 to 8.872789379366736659e-05\n"
     ]
    },
    {
     "name": "stderr",
     "output_type": "stream",
     "text": [
      "  1%|          | 2031/250000 [00:44<1:30:16, 45.78it/s]"
     ]
    },
    {
     "name": "stdout",
     "output_type": "stream",
     "text": [
      "8.872775844950372e-05\n",
      "Updating min_error from 8.872789379366736659e-05 to 8.872775844950371506e-05\n",
      "8.872762323234174e-05\n",
      "Updating min_error from 8.872775844950371506e-05 to 8.872762323234174419e-05\n",
      "8.872748814137124e-05\n",
      "Updating min_error from 8.872762323234174419e-05 to 8.872748814137124324e-05\n",
      "8.872735317573926e-05\n",
      "Updating min_error from 8.872748814137124324e-05 to 8.872735317573925682e-05\n",
      "8.872721833465258e-05\n",
      "Updating min_error from 8.872735317573925682e-05 to 8.872721833465258261e-05\n",
      "8.872708361721587e-05\n",
      "Updating min_error from 8.872721833465258261e-05 to 8.872708361721587291e-05\n",
      "8.872694902268999e-05\n",
      "Updating min_error from 8.872708361721587291e-05 to 8.872694902268998644e-05\n",
      "8.872681455023463e-05\n",
      "Updating min_error from 8.872694902268998644e-05 to 8.872681455023462586e-05\n",
      "8.872668019906449e-05\n",
      "Updating min_error from 8.872681455023462586e-05 to 8.872668019906448998e-05\n",
      "8.8726545968351e-05\n",
      "Updating min_error from 8.872668019906448998e-05 to 8.872654596835100440e-05\n"
     ]
    },
    {
     "name": "stderr",
     "output_type": "stream",
     "text": [
      "  1%|          | 2041/250000 [00:44<1:29:39, 46.09it/s]"
     ]
    },
    {
     "name": "stdout",
     "output_type": "stream",
     "text": [
      "8.872641185735234e-05\n",
      "Updating min_error from 8.872654596835100440e-05 to 8.872641185735234443e-05\n",
      "8.872627786531271e-05\n",
      "Updating min_error from 8.872641185735234443e-05 to 8.872627786531271275e-05\n",
      "8.872614399134775e-05\n",
      "Updating min_error from 8.872627786531271275e-05 to 8.872614399134775274e-05\n",
      "8.872601023470035e-05\n",
      "Updating min_error from 8.872614399134775274e-05 to 8.872601023470035248e-05\n",
      "8.872587659467401e-05\n",
      "Updating min_error from 8.872601023470035248e-05 to 8.872587659467400694e-05\n",
      "8.872574307047976e-05\n",
      "Updating min_error from 8.872587659467400694e-05 to 8.872574307047975575e-05\n",
      "8.872560966135745e-05\n",
      "Updating min_error from 8.872574307047975575e-05 to 8.872560966135745121e-05\n",
      "8.872547636654829e-05\n",
      "Updating min_error from 8.872560966135745121e-05 to 8.872547636654828733e-05\n",
      "8.872534318529526e-05\n",
      "Updating min_error from 8.872547636654828733e-05 to 8.872534318529526061e-05\n",
      "8.87252101168852e-05\n",
      "Updating min_error from 8.872534318529526061e-05 to 8.872521011688519639e-05\n"
     ]
    },
    {
     "name": "stderr",
     "output_type": "stream",
     "text": [
      "  1%|          | 2051/250000 [00:44<1:29:34, 46.13it/s]"
     ]
    },
    {
     "name": "stdout",
     "output_type": "stream",
     "text": [
      "8.872507716056395e-05\n",
      "Updating min_error from 8.872521011688519639e-05 to 8.872507716056395077e-05\n",
      "8.872494431560644e-05\n",
      "Updating min_error from 8.872507716056395077e-05 to 8.872494431560643642e-05\n",
      "8.872481158129253e-05\n",
      "Updating min_error from 8.872494431560643642e-05 to 8.872481158129252627e-05\n",
      "8.872467895686047e-05\n",
      "Updating min_error from 8.872481158129252627e-05 to 8.872467895686047342e-05\n",
      "8.872454644163154e-05\n",
      "Updating min_error from 8.872467895686047342e-05 to 8.872454644163154020e-05\n",
      "8.872441403488557e-05\n",
      "Updating min_error from 8.872454644163154020e-05 to 8.872441403488557244e-05\n",
      "8.872428173591183e-05\n",
      "Updating min_error from 8.872441403488557244e-05 to 8.872428173591183494e-05\n",
      "8.872414954402826e-05\n",
      "Updating min_error from 8.872428173591183494e-05 to 8.872414954402825613e-05\n",
      "8.872401745848957e-05\n",
      "Updating min_error from 8.872414954402825613e-05 to 8.872401745848956898e-05\n",
      "8.872388547862954e-05\n",
      "Updating min_error from 8.872401745848956898e-05 to 8.872388547862954480e-05\n"
     ]
    },
    {
     "name": "stderr",
     "output_type": "stream",
     "text": [
      "  1%|          | 2061/250000 [00:45<1:29:46, 46.03it/s]"
     ]
    },
    {
     "name": "stdout",
     "output_type": "stream",
     "text": [
      "8.872375360376115e-05\n",
      "Updating min_error from 8.872388547862954480e-05 to 8.872375360376115179e-05\n",
      "8.872362183321952e-05\n",
      "Updating min_error from 8.872375360376115179e-05 to 8.872362183321951651e-05\n",
      "8.872349016628551e-05\n",
      "Updating min_error from 8.872362183321951651e-05 to 8.872349016628551478e-05\n",
      "8.872335860238335e-05\n",
      "Updating min_error from 8.872349016628551478e-05 to 8.872335860238335392e-05\n",
      "8.872322714069416e-05\n",
      "Updating min_error from 8.872335860238335392e-05 to 8.872322714069416313e-05\n",
      "8.872309578062144e-05\n",
      "Updating min_error from 8.872322714069416313e-05 to 8.872309578062144149e-05\n",
      "8.872296452148493e-05\n",
      "Updating min_error from 8.872309578062144149e-05 to 8.872296452148493344e-05\n",
      "8.872283336260806e-05\n",
      "Updating min_error from 8.872296452148493344e-05 to 8.872283336260805618e-05\n",
      "8.872270230347804e-05\n",
      "Updating min_error from 8.872283336260805618e-05 to 8.872270230347803629e-05\n",
      "8.872257134327897e-05\n",
      "Updating min_error from 8.872270230347803629e-05 to 8.872257134327897097e-05\n"
     ]
    },
    {
     "name": "stderr",
     "output_type": "stream",
     "text": [
      "  1%|          | 2071/250000 [00:45<1:29:03, 46.40it/s]"
     ]
    },
    {
     "name": "stdout",
     "output_type": "stream",
     "text": [
      "8.872244048142527e-05\n",
      "Updating min_error from 8.872257134327897097e-05 to 8.872244048142526908e-05\n",
      "8.872230971729086e-05\n",
      "Updating min_error from 8.872244048142526908e-05 to 8.872230971729085807e-05\n",
      "8.872217905023023e-05\n",
      "Updating min_error from 8.872230971729085807e-05 to 8.872217905023023108e-05\n",
      "8.87220484796056e-05\n",
      "Updating min_error from 8.872217905023023108e-05 to 8.872204847960560618e-05\n",
      "8.872191800479465e-05\n",
      "Updating min_error from 8.872204847960560618e-05 to 8.872191800479465131e-05\n",
      "8.87217876251815e-05\n",
      "Updating min_error from 8.872191800479465131e-05 to 8.872178762518149900e-05\n",
      "8.872165734014237e-05\n",
      "Updating min_error from 8.872178762518149900e-05 to 8.872165734014236707e-05\n",
      "8.872152714906171e-05\n",
      "Updating min_error from 8.872165734014236707e-05 to 8.872152714906171328e-05\n",
      "8.872139705131973e-05\n",
      "Updating min_error from 8.872152714906171328e-05 to 8.872139705131972638e-05\n",
      "8.872126704632268e-05\n",
      "Updating min_error from 8.872139705131972638e-05 to 8.872126704632268368e-05\n"
     ]
    },
    {
     "name": "stderr",
     "output_type": "stream",
     "text": [
      "  1%|          | 2081/250000 [00:45<1:28:21, 46.76it/s]"
     ]
    },
    {
     "name": "stdout",
     "output_type": "stream",
     "text": [
      "8.872113713346027e-05\n",
      "Updating min_error from 8.872126704632268368e-05 to 8.872113713346027424e-05\n",
      "8.87210073121278e-05\n",
      "Updating min_error from 8.872113713346027424e-05 to 8.872100731212779784e-05\n",
      "8.872087758173469e-05\n",
      "Updating min_error from 8.872100731212779784e-05 to 8.872087758173468957e-05\n",
      "8.872074794170563e-05\n",
      "Updating min_error from 8.872087758173468957e-05 to 8.872074794170563110e-05\n",
      "8.872061839141887e-05\n",
      "Updating min_error from 8.872074794170563110e-05 to 8.872061839141887312e-05\n",
      "8.872048893031139e-05\n",
      "Updating min_error from 8.872061839141887312e-05 to 8.872048893031138947e-05\n",
      "8.872035955774459e-05\n",
      "Updating min_error from 8.872048893031138947e-05 to 8.872035955774458505e-05\n",
      "8.872023027339312e-05\n",
      "Updating min_error from 8.872035955774458505e-05 to 8.872023027339311790e-05\n",
      "8.872010107635638e-05\n",
      "Updating min_error from 8.872023027339311790e-05 to 8.872010107635638194e-05\n",
      "8.871997196618701e-05\n",
      "Updating min_error from 8.872010107635638194e-05 to 8.871997196618700823e-05\n"
     ]
    },
    {
     "name": "stderr",
     "output_type": "stream",
     "text": [
      "  1%|          | 2091/250000 [00:45<1:27:58, 46.97it/s]"
     ]
    },
    {
     "name": "stdout",
     "output_type": "stream",
     "text": [
      "8.871984294232368e-05\n",
      "Updating min_error from 8.871997196618700823e-05 to 8.871984294232367822e-05\n",
      "8.871971400422382e-05\n",
      "Updating min_error from 8.871984294232367822e-05 to 8.871971400422381648e-05\n",
      "8.871958515124819e-05\n",
      "Updating min_error from 8.871971400422381648e-05 to 8.871958515124819095e-05\n",
      "8.871945638294543e-05\n",
      "Updating min_error from 8.871958515124819095e-05 to 8.871945638294543473e-05\n",
      "8.871932769872246e-05\n",
      "Updating min_error from 8.871945638294543473e-05 to 8.871932769872246211e-05\n",
      "8.871919909802041e-05\n",
      "Updating min_error from 8.871932769872246211e-05 to 8.871919909802040754e-05\n",
      "8.871907058033609e-05\n",
      "Updating min_error from 8.871919909802040754e-05 to 8.871907058033609279e-05\n",
      "8.871894214507994e-05\n",
      "Updating min_error from 8.871907058033609279e-05 to 8.871894214507994227e-05\n",
      "8.871881379172174e-05\n",
      "Updating min_error from 8.871894214507994227e-05 to 8.871881379172174046e-05\n",
      "8.871868551972985e-05\n",
      "Updating min_error from 8.871881379172174046e-05 to 8.871868551972984882e-05\n"
     ]
    },
    {
     "name": "stderr",
     "output_type": "stream",
     "text": [
      "  1%|          | 2096/250000 [00:45<1:27:29, 47.23it/s]"
     ]
    },
    {
     "name": "stdout",
     "output_type": "stream",
     "text": [
      "8.8718557328577e-05\n",
      "Updating min_error from 8.871868551972984882e-05 to 8.871855732857700629e-05\n",
      "8.871842921773976e-05\n",
      "Updating min_error from 8.871855732857700629e-05 to 8.871842921773976005e-05\n",
      "8.871830118669475e-05\n",
      "Updating min_error from 8.871842921773976005e-05 to 8.871830118669475217e-05\n",
      "8.871817323490175e-05\n",
      "Updating min_error from 8.871830118669475217e-05 to 8.871817323490175180e-05\n",
      "8.871804536185945e-05\n",
      "Updating min_error from 8.871817323490175180e-05 to 8.871804536185945098e-05\n",
      "8.871791756702044e-05\n",
      "Updating min_error from 8.871804536185945098e-05 to 8.871791756702043601e-05\n",
      "8.871778984991323e-05\n",
      "Updating min_error from 8.871791756702043601e-05 to 8.871778984991322804e-05\n",
      "8.871766221002255e-05\n",
      "Updating min_error from 8.871778984991322804e-05 to 8.871766221002254642e-05\n",
      "8.871753464684388e-05\n",
      "Updating min_error from 8.871766221002254642e-05 to 8.871753464684388479e-05\n",
      "8.87174071598627e-05\n",
      "Updating min_error from 8.871753464684388479e-05 to 8.871740715986269434e-05\n",
      "8.87174071598627e-05 ++++++++++\n"
     ]
    },
    {
     "name": "stderr",
     "output_type": "stream",
     "text": [
      "  1%|          | 2111/250000 [00:46<1:30:28, 45.67it/s]"
     ]
    },
    {
     "name": "stdout",
     "output_type": "stream",
     "text": [
      "8.871727974855875e-05\n",
      "Updating min_error from 8.871740715986269434e-05 to 8.871727974855874777e-05\n",
      "8.871715241247138e-05\n",
      "Updating min_error from 8.871727974855874777e-05 to 8.871715241247138113e-05\n",
      "8.871702515109147e-05\n",
      "Updating min_error from 8.871715241247138113e-05 to 8.871702515109146662e-05\n",
      "8.871689796393458e-05\n",
      "Updating min_error from 8.871702515109146662e-05 to 8.871689796393458273e-05\n",
      "8.871677085050861e-05\n",
      "Updating min_error from 8.871689796393458273e-05 to 8.871677085050861007e-05\n",
      "8.871664381030984e-05\n",
      "Updating min_error from 8.871677085050861007e-05 to 8.871664381030984188e-05\n",
      "8.871651684288088e-05\n",
      "Updating min_error from 8.871664381030984188e-05 to 8.871651684288088036e-05\n",
      "8.871638994773339e-05\n",
      "Updating min_error from 8.871651684288088036e-05 to 8.871638994773338731e-05\n",
      "8.871626312441072e-05\n",
      "Updating min_error from 8.871638994773338731e-05 to 8.871626312441072387e-05\n",
      "8.87161363724124e-05\n",
      "Updating min_error from 8.871626312441072387e-05 to 8.871613637241239521e-05\n"
     ]
    },
    {
     "name": "stderr",
     "output_type": "stream",
     "text": [
      "  1%|          | 2121/250000 [00:46<1:30:22, 45.72it/s]"
     ]
    },
    {
     "name": "stdout",
     "output_type": "stream",
     "text": [
      "8.871600969127325e-05\n",
      "Updating min_error from 8.871613637241239521e-05 to 8.871600969127325150e-05\n",
      "8.871588308051001e-05\n",
      "Updating min_error from 8.871600969127325150e-05 to 8.871588308051000962e-05\n",
      "8.87157565396948e-05\n",
      "Updating min_error from 8.871588308051000962e-05 to 8.871575653969480274e-05\n",
      "8.871563006832848e-05\n",
      "Updating min_error from 8.871575653969480274e-05 to 8.871563006832847772e-05\n",
      "8.871550366598238e-05\n",
      "Updating min_error from 8.871563006832847772e-05 to 8.871550366598238168e-05\n",
      "8.871537733219092e-05\n",
      "Updating min_error from 8.871550366598238168e-05 to 8.871537733219091756e-05\n",
      "8.871525106648628e-05\n",
      "Updating min_error from 8.871537733219091756e-05 to 8.871525106648627923e-05\n",
      "8.871512486842008e-05\n",
      "Updating min_error from 8.871525106648627923e-05 to 8.871512486842008131e-05\n",
      "8.871499873756682e-05\n",
      "Updating min_error from 8.871512486842008131e-05 to 8.871499873756681512e-05\n",
      "8.871487267342779e-05\n",
      "Updating min_error from 8.871499873756681512e-05 to 8.871487267342778832e-05\n"
     ]
    },
    {
     "name": "stderr",
     "output_type": "stream",
     "text": [
      "  1%|          | 2131/250000 [00:46<1:30:41, 45.55it/s]"
     ]
    },
    {
     "name": "stdout",
     "output_type": "stream",
     "text": [
      "8.871474667561473e-05\n",
      "Updating min_error from 8.871487267342778832e-05 to 8.871474667561473455e-05\n",
      "8.871462074366021e-05\n",
      "Updating min_error from 8.871474667561473455e-05 to 8.871462074366021360e-05\n",
      "8.871449487712313e-05\n",
      "Updating min_error from 8.871462074366021360e-05 to 8.871449487712313136e-05\n",
      "8.871436907558196e-05\n",
      "Updating min_error from 8.871449487712313136e-05 to 8.871436907558196360e-05\n",
      "8.871424333861761e-05\n",
      "Updating min_error from 8.871436907558196360e-05 to 8.871424333861761195e-05\n",
      "8.871411766575045e-05\n",
      "Updating min_error from 8.871424333861761195e-05 to 8.871411766575045248e-05\n",
      "8.871399205656163e-05\n",
      "Updating min_error from 8.871411766575045248e-05 to 8.871399205656163079e-05\n",
      "8.871386651065753e-05\n",
      "Updating min_error from 8.871399205656163079e-05 to 8.871386651065752728e-05\n",
      "8.871374102758169e-05\n",
      "Updating min_error from 8.871386651065752728e-05 to 8.871374102758169283e-05\n",
      "8.871361560692308e-05\n",
      "Updating min_error from 8.871374102758169283e-05 to 8.871361560692307929e-05\n"
     ]
    },
    {
     "name": "stderr",
     "output_type": "stream",
     "text": [
      "  1%|          | 2141/250000 [00:46<1:31:12, 45.29it/s]"
     ]
    },
    {
     "name": "stdout",
     "output_type": "stream",
     "text": [
      "8.871349024827567e-05\n",
      "Updating min_error from 8.871361560692307929e-05 to 8.871349024827566651e-05\n",
      "8.871336495121105e-05\n",
      "Updating min_error from 8.871349024827566651e-05 to 8.871336495121104554e-05\n",
      "8.871323971531525e-05\n",
      "Updating min_error from 8.871336495121104554e-05 to 8.871323971531525445e-05\n",
      "8.871311454019675e-05\n",
      "Updating min_error from 8.871323971531525445e-05 to 8.871311454019674718e-05\n",
      "8.871298942540956e-05\n",
      "Updating min_error from 8.871311454019674718e-05 to 8.871298942540956425e-05\n",
      "8.871286437055411e-05\n",
      "Updating min_error from 8.871298942540956425e-05 to 8.871286437055410942e-05\n",
      "8.871273937524068e-05\n",
      "Updating min_error from 8.871286437055410942e-05 to 8.871273937524067977e-05\n",
      "8.871261443905725e-05\n",
      "Updating min_error from 8.871273937524067977e-05 to 8.871261443905725135e-05\n",
      "8.871248956168149e-05\n",
      "Updating min_error from 8.871261443905725135e-05 to 8.871248956168149087e-05\n",
      "8.871236474257853e-05\n",
      "Updating min_error from 8.871248956168149087e-05 to 8.871236474257853429e-05\n"
     ]
    },
    {
     "name": "stderr",
     "output_type": "stream",
     "text": [
      "  1%|          | 2151/250000 [00:47<1:29:46, 46.02it/s]"
     ]
    },
    {
     "name": "stdout",
     "output_type": "stream",
     "text": [
      "8.871223998140903e-05\n",
      "Updating min_error from 8.871236474257853429e-05 to 8.871223998140902634e-05\n",
      "8.871211527768735e-05\n",
      "Updating min_error from 8.871223998140902634e-05 to 8.871211527768735285e-05\n",
      "8.871199063117943e-05\n",
      "Updating min_error from 8.871211527768735285e-05 to 8.871199063117943457e-05\n",
      "8.871186604144483e-05\n",
      "Updating min_error from 8.871199063117943457e-05 to 8.871186604144482794e-05\n",
      "8.871174150808441e-05\n",
      "Updating min_error from 8.871186604144482794e-05 to 8.871174150808441101e-05\n",
      "8.871161703070318e-05\n",
      "Updating min_error from 8.871174150808441101e-05 to 8.871161703070318185e-05\n",
      "8.871149260892587e-05\n",
      "Updating min_error from 8.871161703070318185e-05 to 8.871149260892587096e-05\n",
      "8.871136824234653e-05\n",
      "Updating min_error from 8.871149260892587096e-05 to 8.871136824234652596e-05\n",
      "8.871124393062399e-05\n",
      "Updating min_error from 8.871136824234652596e-05 to 8.871124393062398907e-05\n",
      "8.871111967336685e-05\n",
      "Updating min_error from 8.871124393062398907e-05 to 8.871111967336684976e-05\n"
     ]
    },
    {
     "name": "stderr",
     "output_type": "stream",
     "text": [
      "  1%|          | 2161/250000 [00:47<1:29:49, 45.98it/s]"
     ]
    },
    {
     "name": "stdout",
     "output_type": "stream",
     "text": [
      "8.871099547020229e-05\n",
      "Updating min_error from 8.871111967336684976e-05 to 8.871099547020229155e-05\n",
      "8.871087132075198e-05\n",
      "Updating min_error from 8.871099547020229155e-05 to 8.871087132075198211e-05\n",
      "8.871074722464214e-05\n",
      "Updating min_error from 8.871087132075198211e-05 to 8.871074722464214273e-05\n",
      "8.871062318150977e-05\n",
      "Updating min_error from 8.871074722464214273e-05 to 8.871062318150976897e-05\n",
      "8.871049919102532e-05\n",
      "Updating min_error from 8.871062318150976897e-05 to 8.871049919102531758e-05\n",
      "8.871037525272685e-05\n",
      "Updating min_error from 8.871049919102531758e-05 to 8.871037525272685068e-05\n",
      "8.871025136632279e-05\n",
      "Updating min_error from 8.871037525272685068e-05 to 8.871025136632278564e-05\n",
      "8.871012753143971e-05\n",
      "Updating min_error from 8.871025136632278564e-05 to 8.871012753143970968e-05\n",
      "8.871000374769048e-05\n",
      "Updating min_error from 8.871012753143970968e-05 to 8.871000374769048131e-05\n",
      "8.870988001474931e-05\n",
      "Updating min_error from 8.871000374769048131e-05 to 8.870988001474931133e-05\n"
     ]
    },
    {
     "name": "stderr",
     "output_type": "stream",
     "text": [
      "  1%|          | 2171/250000 [00:47<1:30:08, 45.82it/s]"
     ]
    },
    {
     "name": "stdout",
     "output_type": "stream",
     "text": [
      "8.870975633225059e-05\n",
      "Updating min_error from 8.870988001474931133e-05 to 8.870975633225059321e-05\n",
      "8.870963269976042e-05\n",
      "Updating min_error from 8.870975633225059321e-05 to 8.870963269976041570e-05\n",
      "8.87095091170951e-05\n",
      "Updating min_error from 8.870963269976041570e-05 to 8.870950911709510139e-05\n",
      "8.870938558380847e-05\n",
      "Updating min_error from 8.870950911709510139e-05 to 8.870938558380847398e-05\n",
      "8.870926209958572e-05\n",
      "Updating min_error from 8.870938558380847398e-05 to 8.870926209958572182e-05\n",
      "8.870913866401549e-05\n",
      "Updating min_error from 8.870926209958572182e-05 to 8.870913866401548505e-05\n",
      "8.870901527680507e-05\n",
      "Updating min_error from 8.870913866401548505e-05 to 8.870901527680506975e-05\n",
      "8.870889193757254e-05\n",
      "Updating min_error from 8.870901527680506975e-05 to 8.870889193757253860e-05\n",
      "8.870876864601068e-05\n",
      "Updating min_error from 8.870889193757253860e-05 to 8.870876864601068290e-05\n",
      "8.870864540181925e-05\n",
      "Updating min_error from 8.870876864601068290e-05 to 8.870864540181924642e-05\n"
     ]
    },
    {
     "name": "stderr",
     "output_type": "stream",
     "text": [
      "  1%|          | 2181/250000 [00:47<1:30:02, 45.87it/s]"
     ]
    },
    {
     "name": "stdout",
     "output_type": "stream",
     "text": [
      "8.870852220456379e-05\n",
      "Updating min_error from 8.870864540181924642e-05 to 8.870852220456378935e-05\n",
      "8.870839905395566e-05\n",
      "Updating min_error from 8.870852220456378935e-05 to 8.870839905395565641e-05\n",
      "8.870827594964674e-05\n",
      "Updating min_error from 8.870839905395565641e-05 to 8.870827594964673739e-05\n",
      "8.870815289131427e-05\n",
      "Updating min_error from 8.870827594964673739e-05 to 8.870815289131426531e-05\n",
      "8.870802987863069e-05\n",
      "Updating min_error from 8.870815289131426531e-05 to 8.870802987863068913e-05\n",
      "8.870790691124504e-05\n",
      "Updating min_error from 8.870802987863068913e-05 to 8.870790691124503906e-05\n",
      "8.870778398893907e-05\n",
      "Updating min_error from 8.870790691124503906e-05 to 8.870778398893906520e-05\n",
      "8.870766111122597e-05\n",
      "Updating min_error from 8.870778398893906520e-05 to 8.870766111122597433e-05\n",
      "8.870753827787368e-05\n",
      "Updating min_error from 8.870766111122597433e-05 to 8.870753827787367942e-05\n",
      "8.870741548852102e-05\n",
      "Updating min_error from 8.870753827787367942e-05 to 8.870741548852101917e-05\n"
     ]
    },
    {
     "name": "stderr",
     "output_type": "stream",
     "text": [
      "  1%|          | 2191/250000 [00:47<1:29:46, 46.00it/s]"
     ]
    },
    {
     "name": "stdout",
     "output_type": "stream",
     "text": [
      "8.870729274287514e-05\n",
      "Updating min_error from 8.870741548852101917e-05 to 8.870729274287513704e-05\n",
      "8.87071700405877e-05\n",
      "Updating min_error from 8.870729274287513704e-05 to 8.870717004058770595e-05\n",
      "8.870704738134531e-05\n",
      "Updating min_error from 8.870717004058770595e-05 to 8.870704738134531017e-05\n",
      "8.870692476482913e-05\n",
      "Updating min_error from 8.870704738134531017e-05 to 8.870692476482912650e-05\n",
      "8.870680219075803e-05\n",
      "Updating min_error from 8.870692476482912650e-05 to 8.870680219075803487e-05\n",
      "8.870667965879824e-05\n",
      "Updating min_error from 8.870680219075803487e-05 to 8.870667965879823653e-05\n",
      "8.870655716863706e-05\n",
      "Updating min_error from 8.870667965879823653e-05 to 8.870655716863706114e-05\n",
      "8.87064347199598e-05\n",
      "Updating min_error from 8.870655716863706114e-05 to 8.870643471995980545e-05\n",
      "8.870631231246528e-05\n",
      "Updating min_error from 8.870643471995980545e-05 to 8.870631231246527810e-05\n",
      "8.870618994584661e-05\n",
      "Updating min_error from 8.870631231246527810e-05 to 8.870618994584660922e-05\n"
     ]
    },
    {
     "name": "stderr",
     "output_type": "stream",
     "text": [
      "  1%|          | 2196/250000 [00:48<1:28:32, 46.65it/s]"
     ]
    },
    {
     "name": "stdout",
     "output_type": "stream",
     "text": [
      "8.870606761978704e-05\n",
      "Updating min_error from 8.870618994584660922e-05 to 8.870606761978703559e-05\n",
      "8.870594533400307e-05\n",
      "Updating min_error from 8.870606761978703559e-05 to 8.870594533400306546e-05\n",
      "8.870582308815686e-05\n",
      "Updating min_error from 8.870594533400306546e-05 to 8.870582308815686142e-05\n",
      "8.870570088196366e-05\n",
      "Updating min_error from 8.870582308815686142e-05 to 8.870570088196365777e-05\n",
      "8.870557871512919e-05\n",
      "Updating min_error from 8.870570088196365777e-05 to 8.870557871512918849e-05\n",
      "8.870545658736275e-05\n",
      "Updating min_error from 8.870557871512918849e-05 to 8.870545658736275188e-05\n",
      "8.870533449835067e-05\n",
      "Updating min_error from 8.870545658736275188e-05 to 8.870533449835067469e-05\n",
      "8.870521244783028e-05\n",
      "Updating min_error from 8.870533449835067469e-05 to 8.870521244783028184e-05\n",
      "8.870509043547008e-05\n",
      "Updating min_error from 8.870521244783028184e-05 to 8.870509043547007851e-05\n",
      "8.870496846098722e-05\n",
      "Updating min_error from 8.870509043547007851e-05 to 8.870496846098722347e-05\n",
      "8.870496846098722e-05 ++++++++++\n"
     ]
    },
    {
     "name": "stderr",
     "output_type": "stream",
     "text": [
      "  1%|          | 2211/250000 [00:48<1:32:27, 44.67it/s]"
     ]
    },
    {
     "name": "stdout",
     "output_type": "stream",
     "text": [
      "8.870484652405514e-05\n",
      "Updating min_error from 8.870496846098722347e-05 to 8.870484652405514147e-05\n",
      "8.870472462441476e-05\n",
      "Updating min_error from 8.870484652405514147e-05 to 8.870472462441476239e-05\n",
      "8.870460276180944e-05\n",
      "Updating min_error from 8.870472462441476239e-05 to 8.870460276180944204e-05\n",
      "8.870448093588626e-05\n",
      "Updating min_error from 8.870460276180944204e-05 to 8.870448093588625905e-05\n",
      "8.870435914640409e-05\n",
      "Updating min_error from 8.870448093588625905e-05 to 8.870435914640408686e-05\n",
      "8.870423739309841e-05\n",
      "Updating min_error from 8.870435914640408686e-05 to 8.870423739309840725e-05\n",
      "8.870411567561886e-05\n",
      "Updating min_error from 8.870423739309840725e-05 to 8.870411567561886027e-05\n",
      "8.870399399376113e-05\n",
      "Updating min_error from 8.870411567561886027e-05 to 8.870399399376112804e-05\n",
      "8.870387234719048e-05\n",
      "Updating min_error from 8.870399399376112804e-05 to 8.870387234719047669e-05\n",
      "8.87037507355807e-05\n",
      "Updating min_error from 8.870387234719047669e-05 to 8.870375073558069688e-05\n"
     ]
    },
    {
     "name": "stderr",
     "output_type": "stream",
     "text": [
      "  1%|          | 2216/250000 [00:48<1:32:42, 44.54it/s]"
     ]
    },
    {
     "name": "stdout",
     "output_type": "stream",
     "text": [
      "8.870362915873356e-05\n",
      "Updating min_error from 8.870375073558069688e-05 to 8.870362915873355580e-05\n",
      "8.870350761635904e-05\n",
      "Updating min_error from 8.870362915873355580e-05 to 8.870350761635904292e-05\n",
      "8.870338610816198e-05\n",
      "Updating min_error from 8.870350761635904292e-05 to 8.870338610816198420e-05\n",
      "8.870326463387468e-05\n",
      "Updating min_error from 8.870338610816198420e-05 to 8.870326463387467658e-05\n",
      "8.870314319320661e-05\n",
      "Updating min_error from 8.870326463387467658e-05 to 8.870314319320660808e-05\n",
      "8.870302178590181e-05\n",
      "Updating min_error from 8.870314319320660808e-05 to 8.870302178590181211e-05\n",
      "8.870290041171424e-05\n",
      "Updating min_error from 8.870302178590181211e-05 to 8.870290041171424256e-05\n",
      "8.870277907033024e-05\n",
      "Updating min_error from 8.870290041171424256e-05 to 8.870277907033023972e-05\n",
      "8.87026577615243e-05\n",
      "Updating min_error from 8.870277907033023972e-05 to 8.870265776152430311e-05\n"
     ]
    },
    {
     "name": "stderr",
     "output_type": "stream",
     "text": [
      "  1%|          | 2226/250000 [00:48<1:32:27, 44.67it/s]"
     ]
    },
    {
     "name": "stdout",
     "output_type": "stream",
     "text": [
      "8.870253648499417e-05\n",
      "Updating min_error from 8.870265776152430311e-05 to 8.870253648499417071e-05\n",
      "8.870241524047798e-05\n",
      "Updating min_error from 8.870253648499417071e-05 to 8.870241524047798058e-05\n",
      "8.870229402771894e-05\n",
      "Updating min_error from 8.870241524047798058e-05 to 8.870229402771893945e-05\n",
      "8.870217284645063e-05\n",
      "Updating min_error from 8.870229402771893945e-05 to 8.870217284645063173e-05\n",
      "8.870205169640979e-05\n",
      "Updating min_error from 8.870217284645063173e-05 to 8.870205169640978603e-05\n",
      "8.870193057733392e-05\n",
      "Updating min_error from 8.870205169640978603e-05 to 8.870193057733391701e-05\n",
      "8.870180948896767e-05\n",
      "Updating min_error from 8.870193057733391701e-05 to 8.870180948896766795e-05\n",
      "8.870168843110031e-05\n",
      "Updating min_error from 8.870180948896766795e-05 to 8.870168843110031061e-05\n",
      "8.870156740335031e-05\n",
      "Updating min_error from 8.870168843110031061e-05 to 8.870156740335031424e-05\n"
     ]
    },
    {
     "name": "stderr",
     "output_type": "stream",
     "text": [
      "  1%|          | 2236/250000 [00:48<1:32:12, 44.79it/s]"
     ]
    },
    {
     "name": "stdout",
     "output_type": "stream",
     "text": [
      "8.870144640552172e-05\n",
      "Updating min_error from 8.870156740335031424e-05 to 8.870144640552172284e-05\n",
      "8.870132543738376e-05\n",
      "Updating min_error from 8.870144640552172284e-05 to 8.870132543738376400e-05\n",
      "8.870120449869129e-05\n",
      "Updating min_error from 8.870132543738376400e-05 to 8.870120449869128604e-05\n",
      "8.870108358915165e-05\n",
      "Updating min_error from 8.870120449869128604e-05 to 8.870108358915164924e-05\n",
      "8.870096270851203e-05\n",
      "Updating min_error from 8.870108358915164924e-05 to 8.870096270851203122e-05\n",
      "8.870084185654367e-05\n",
      "Updating min_error from 8.870096270851203122e-05 to 8.870084185654366531e-05\n",
      "8.870072103296599e-05\n",
      "Updating min_error from 8.870084185654366531e-05 to 8.870072103296598709e-05\n",
      "8.870060023755392e-05\n",
      "Updating min_error from 8.870072103296598709e-05 to 8.870060023755391620e-05\n",
      "8.870047947007276e-05\n",
      "Updating min_error from 8.870060023755391620e-05 to 8.870047947007276353e-05\n",
      "8.87003587302453e-05\n",
      "Updating min_error from 8.870047947007276353e-05 to 8.870035873024529856e-05\n"
     ]
    },
    {
     "name": "stderr",
     "output_type": "stream",
     "text": [
      "  1%|          | 2246/250000 [00:49<1:31:17, 45.24it/s]"
     ]
    },
    {
     "name": "stdout",
     "output_type": "stream",
     "text": [
      "8.870023801783587e-05\n",
      "Updating min_error from 8.870035873024529856e-05 to 8.870023801783586998e-05\n",
      "8.870011733260511e-05\n",
      "Updating min_error from 8.870023801783586998e-05 to 8.870011733260511303e-05\n",
      "8.869999667430109e-05\n",
      "Updating min_error from 8.870011733260511303e-05 to 8.869999667430108624e-05\n",
      "8.869987604268533e-05\n",
      "Updating min_error from 8.869999667430108624e-05 to 8.869987604268533290e-05\n",
      "8.869975543750845e-05\n",
      "Updating min_error from 8.869987604268533290e-05 to 8.869975543750844584e-05\n",
      "8.869963485854797e-05\n",
      "Updating min_error from 8.869975543750844584e-05 to 8.869963485854797389e-05\n",
      "8.869951430553707e-05\n",
      "Updating min_error from 8.869963485854797389e-05 to 8.869951430553706779e-05\n",
      "8.869939377830347e-05\n",
      "Updating min_error from 8.869951430553706779e-05 to 8.869939377830347491e-05\n",
      "8.869927327649604e-05\n",
      "Updating min_error from 8.869939377830347491e-05 to 8.869927327649603573e-05\n"
     ]
    },
    {
     "name": "stderr",
     "output_type": "stream",
     "text": [
      "  1%|          | 2256/250000 [00:49<1:31:21, 45.20it/s]"
     ]
    },
    {
     "name": "stdout",
     "output_type": "stream",
     "text": [
      "8.869915279992038e-05\n",
      "Updating min_error from 8.869927327649603573e-05 to 8.869915279992037990e-05\n",
      "8.869903234836559e-05\n",
      "Updating min_error from 8.869915279992037990e-05 to 8.869903234836558944e-05\n",
      "8.869891192165601e-05\n",
      "Updating min_error from 8.869903234836558944e-05 to 8.869891192165601005e-05\n",
      "8.869879151938387e-05\n",
      "Updating min_error from 8.869891192165601005e-05 to 8.869879151938387329e-05\n",
      "8.869867114144285e-05\n",
      "Updating min_error from 8.869879151938387329e-05 to 8.869867114144284602e-05\n",
      "8.869855078757782e-05\n",
      "Updating min_error from 8.869867114144284602e-05 to 8.869855078757781549e-05\n",
      "8.869843045755262e-05\n",
      "Updating min_error from 8.869855078757781549e-05 to 8.869843045755261535e-05\n",
      "8.869831015114818e-05\n",
      "Updating min_error from 8.869843045755261535e-05 to 8.869831015114818256e-05\n",
      "8.86981898681217e-05\n",
      "Updating min_error from 8.869831015114818256e-05 to 8.869818986812169647e-05\n",
      "8.869806960826878e-05\n",
      "Updating min_error from 8.869818986812169647e-05 to 8.869806960826878499e-05\n"
     ]
    },
    {
     "name": "stderr",
     "output_type": "stream",
     "text": [
      "  1%|          | 2266/250000 [00:49<1:31:13, 45.26it/s]"
     ]
    },
    {
     "name": "stdout",
     "output_type": "stream",
     "text": [
      "8.869794937130555e-05\n",
      "Updating min_error from 8.869806960826878499e-05 to 8.869794937130554978e-05\n",
      "8.8697829157029e-05\n",
      "Updating min_error from 8.869794937130554978e-05 to 8.869782915702900108e-05\n",
      "8.869770896523135e-05\n",
      "Updating min_error from 8.869782915702900108e-05 to 8.869770896523135155e-05\n",
      "8.869758879567343e-05\n",
      "Updating min_error from 8.869770896523135155e-05 to 8.869758879567342619e-05\n",
      "8.869746864814717e-05\n",
      "Updating min_error from 8.869758879567342619e-05 to 8.869746864814716659e-05\n",
      "8.869734852240184e-05\n",
      "Updating min_error from 8.869746864814716659e-05 to 8.869734852240183747e-05\n",
      "8.869722841823143e-05\n",
      "Updating min_error from 8.869734852240183747e-05 to 8.869722841823142684e-05\n",
      "8.869710833540398e-05\n",
      "Updating min_error from 8.869722841823142684e-05 to 8.869710833540398322e-05\n",
      "8.869698827372604e-05\n",
      "Updating min_error from 8.869710833540398322e-05 to 8.869698827372604426e-05\n",
      "8.869686823293098e-05\n",
      "Updating min_error from 8.869698827372604426e-05 to 8.869686823293097756e-05\n"
     ]
    },
    {
     "name": "stderr",
     "output_type": "stream",
     "text": [
      "  1%|          | 2276/250000 [00:49<1:31:23, 45.17it/s]"
     ]
    },
    {
     "name": "stdout",
     "output_type": "stream",
     "text": [
      "8.869674821283047e-05\n",
      "Updating min_error from 8.869686823293097756e-05 to 8.869674821283047076e-05\n",
      "8.869662821321037e-05\n",
      "Updating min_error from 8.869674821283047076e-05 to 8.869662821321036680e-05\n",
      "8.869650823383832e-05\n",
      "Updating min_error from 8.869662821321036680e-05 to 8.869650823383832118e-05\n",
      "8.86963882745106e-05\n",
      "Updating min_error from 8.869650823383832118e-05 to 8.869638827451059874e-05\n",
      "8.869626833500183e-05\n",
      "Updating min_error from 8.869638827451059874e-05 to 8.869626833500183453e-05\n",
      "8.869614841510203e-05\n",
      "Updating min_error from 8.869626833500183453e-05 to 8.869614841510203211e-05\n",
      "8.869602851458412e-05\n",
      "Updating min_error from 8.869614841510203211e-05 to 8.869602851458411891e-05\n",
      "8.869590863323818e-05\n",
      "Updating min_error from 8.869602851458411891e-05 to 8.869590863323817984e-05\n",
      "8.869578877086873e-05\n",
      "Updating min_error from 8.869590863323817984e-05 to 8.869578877086873323e-05\n",
      "8.869566892725413e-05\n",
      "Updating min_error from 8.869578877086873323e-05 to 8.869566892725412751e-05\n"
     ]
    },
    {
     "name": "stderr",
     "output_type": "stream",
     "text": [
      "  1%|          | 2286/250000 [00:50<1:31:24, 45.17it/s]"
     ]
    },
    {
     "name": "stdout",
     "output_type": "stream",
     "text": [
      "8.869554910211874e-05\n",
      "Updating min_error from 8.869566892725412751e-05 to 8.869554910211874493e-05\n",
      "8.869542929538131e-05\n",
      "Updating min_error from 8.869554910211874493e-05 to 8.869542929538131099e-05\n",
      "8.869530950674103e-05\n",
      "Updating min_error from 8.869542929538131099e-05 to 8.869530950674102735e-05\n",
      "8.86951897360275e-05\n",
      "Updating min_error from 8.869530950674102735e-05 to 8.869518973602749808e-05\n",
      "8.869506998300758e-05\n",
      "Updating min_error from 8.869518973602749808e-05 to 8.869506998300757906e-05\n",
      "8.869495024748129e-05\n",
      "Updating min_error from 8.869506998300757906e-05 to 8.869495024748128920e-05\n",
      "8.869483052921905e-05\n",
      "Updating min_error from 8.869495024748128920e-05 to 8.869483052921904869e-05\n",
      "8.869471082807591e-05\n",
      "Updating min_error from 8.869483052921904869e-05 to 8.869471082807591324e-05\n",
      "8.869459114378249e-05\n",
      "Updating min_error from 8.869471082807591324e-05 to 8.869459114378248573e-05\n",
      "8.869447147618492e-05\n",
      "Updating min_error from 8.869459114378248573e-05 to 8.869447147618491787e-05\n"
     ]
    },
    {
     "name": "stderr",
     "output_type": "stream",
     "text": [
      "  1%|          | 2296/250000 [00:50<1:30:37, 45.55it/s]"
     ]
    },
    {
     "name": "stdout",
     "output_type": "stream",
     "text": [
      "8.869435182505813e-05\n",
      "Updating min_error from 8.869447147618491787e-05 to 8.869435182505812929e-05\n",
      "8.869423219020878e-05\n",
      "Updating min_error from 8.869435182505812929e-05 to 8.869423219020877963e-05\n",
      "8.869411257141585e-05\n",
      "Updating min_error from 8.869423219020877963e-05 to 8.869411257141585428e-05\n",
      "8.869399296848463e-05\n",
      "Updating min_error from 8.869411257141585428e-05 to 8.869399296848463053e-05\n",
      "8.869387338121906e-05\n",
      "Updating min_error from 8.869399296848463053e-05 to 8.869387338121905752e-05\n",
      "8.86937538094181e-05\n",
      "Updating min_error from 8.869387338121905752e-05 to 8.869375380941809707e-05\n",
      "8.869363425287007e-05\n",
      "Updating min_error from 8.869375380941809707e-05 to 8.869363425287007225e-05\n",
      "8.869351471136125e-05\n",
      "Updating min_error from 8.869363425287007225e-05 to 8.869351471136124616e-05\n",
      "8.869339518476295e-05\n",
      "Updating min_error from 8.869351471136124616e-05 to 8.869339518476295110e-05\n",
      "8.869327567281738e-05\n",
      "Updating min_error from 8.869339518476295110e-05 to 8.869327567281737735e-05\n"
     ]
    },
    {
     "name": "stderr",
     "output_type": "stream",
     "text": [
      "  1%|          | 2306/250000 [00:50<1:33:51, 43.98it/s]"
     ]
    },
    {
     "name": "stdout",
     "output_type": "stream",
     "text": [
      "8.869315617533537e-05\n",
      "Updating min_error from 8.869327567281737735e-05 to 8.869315617533537230e-05\n",
      "8.869303669212956e-05\n",
      "Updating min_error from 8.869315617533537230e-05 to 8.869303669212955869e-05\n",
      "8.869291722301451e-05\n",
      "Updating min_error from 8.869303669212955869e-05 to 8.869291722301451085e-05\n",
      "8.869291722301451e-05 ++++++++++\n",
      "8.869279776780239e-05\n",
      "Updating min_error from 8.869291722301451085e-05 to 8.869279776780239076e-05\n",
      "8.869267832626816e-05\n",
      "Updating min_error from 8.869279776780239076e-05 to 8.869267832626815870e-05\n",
      "8.869255889823341e-05\n",
      "Updating min_error from 8.869267832626815870e-05 to 8.869255889823340921e-05\n",
      "8.869243948351034e-05\n",
      "Updating min_error from 8.869255889823340921e-05 to 8.869243948351034491e-05\n",
      "8.869232008190497e-05\n",
      "Updating min_error from 8.869243948351034491e-05 to 8.869232008190497494e-05\n",
      "8.869220069322296e-05\n",
      "Updating min_error from 8.869232008190497494e-05 to 8.869220069322295604e-05\n"
     ]
    },
    {
     "name": "stderr",
     "output_type": "stream",
     "text": [
      "  1%|          | 2316/250000 [00:50<1:31:10, 45.27it/s]"
     ]
    },
    {
     "name": "stdout",
     "output_type": "stream",
     "text": [
      "8.869208131728434e-05\n",
      "Updating min_error from 8.869220069322295604e-05 to 8.869208131728433778e-05\n",
      "8.869196195387855e-05\n",
      "Updating min_error from 8.869208131728433778e-05 to 8.869196195387855453e-05\n",
      "8.869184260284948e-05\n",
      "Updating min_error from 8.869196195387855453e-05 to 8.869184260284948117e-05\n",
      "8.86917232639607e-05\n",
      "Updating min_error from 8.869184260284948117e-05 to 8.869172326396069389e-05\n",
      "8.869160393705355e-05\n",
      "Updating min_error from 8.869172326396069389e-05 to 8.869160393705354678e-05\n",
      "8.86914846219312e-05\n",
      "Updating min_error from 8.869160393705354678e-05 to 8.869148462193120295e-05\n",
      "8.869136531841619e-05\n",
      "Updating min_error from 8.869148462193120295e-05 to 8.869136531841619205e-05\n",
      "8.869124602629342e-05\n",
      "Updating min_error from 8.869136531841619205e-05 to 8.869124602629342193e-05\n",
      "8.869112674543726e-05\n",
      "Updating min_error from 8.869124602629342193e-05 to 8.869112674543726065e-05\n",
      "8.869100747560668e-05\n",
      "Updating min_error from 8.869112674543726065e-05 to 8.869100747560667653e-05\n"
     ]
    },
    {
     "name": "stderr",
     "output_type": "stream",
     "text": [
      "  1%|          | 2326/250000 [00:50<1:30:13, 45.75it/s]"
     ]
    },
    {
     "name": "stdout",
     "output_type": "stream",
     "text": [
      "8.869088821664861e-05\n",
      "Updating min_error from 8.869100747560667653e-05 to 8.869088821664860732e-05\n",
      "8.869076896837787e-05\n",
      "Updating min_error from 8.869088821664860732e-05 to 8.869076896837787129e-05\n",
      "8.869064973058835e-05\n",
      "Updating min_error from 8.869076896837787129e-05 to 8.869064973058834805e-05\n",
      "8.86905305031161e-05\n",
      "Updating min_error from 8.869064973058834805e-05 to 8.869053050311610624e-05\n",
      "8.869041128577979e-05\n",
      "Updating min_error from 8.869053050311610624e-05 to 8.869041128577978593e-05\n",
      "8.869029207838542e-05\n",
      "Updating min_error from 8.869041128577978593e-05 to 8.869029207838542337e-05\n",
      "8.869017288077119e-05\n",
      "Updating min_error from 8.869029207838542337e-05 to 8.869017288077118782e-05\n",
      "8.869005369273623e-05\n",
      "Updating min_error from 8.869017288077118782e-05 to 8.869005369273623082e-05\n",
      "8.868993451410394e-05\n",
      "Updating min_error from 8.869005369273623082e-05 to 8.868993451410393586e-05\n",
      "8.86898153447181e-05\n",
      "Updating min_error from 8.868993451410393586e-05 to 8.868981534471809649e-05\n"
     ]
    },
    {
     "name": "stderr",
     "output_type": "stream",
     "text": [
      "  1%|          | 2336/250000 [00:51<1:29:41, 46.02it/s]"
     ]
    },
    {
     "name": "stdout",
     "output_type": "stream",
     "text": [
      "8.868969618438006e-05\n",
      "Updating min_error from 8.868981534471809649e-05 to 8.868969618438005977e-05\n",
      "8.868957703290128e-05\n",
      "Updating min_error from 8.868969618438005977e-05 to 8.868957703290128295e-05\n",
      "8.868945789011133e-05\n",
      "Updating min_error from 8.868957703290128295e-05 to 8.868945789011132945e-05\n",
      "8.868933875589018e-05\n",
      "Updating min_error from 8.868945789011132945e-05 to 8.868933875589017808e-05\n",
      "8.868921962996602e-05\n",
      "Updating min_error from 8.868933875589017808e-05 to 8.868921962996601936e-05\n",
      "8.868910051220459e-05\n",
      "Updating min_error from 8.868921962996601936e-05 to 8.868910051220458841e-05\n",
      "8.868898140243394e-05\n",
      "Updating min_error from 8.868910051220458841e-05 to 8.868898140243394431e-05\n",
      "8.868886230053912e-05\n",
      "Updating min_error from 8.868898140243394431e-05 to 8.868886230053912097e-05\n",
      "8.868874320623518e-05\n",
      "Updating min_error from 8.868886230053912097e-05 to 8.868874320623517651e-05\n",
      "8.868862411940147e-05\n",
      "Updating min_error from 8.868874320623517651e-05 to 8.868862411940146634e-05\n"
     ]
    },
    {
     "name": "stderr",
     "output_type": "stream",
     "text": [
      "  1%|          | 2346/250000 [00:51<1:29:23, 46.17it/s]"
     ]
    },
    {
     "name": "stdout",
     "output_type": "stream",
     "text": [
      "8.868850503988004e-05\n",
      "Updating min_error from 8.868862411940146634e-05 to 8.868850503988003574e-05\n",
      "8.868838596745956e-05\n",
      "Updating min_error from 8.868850503988003574e-05 to 8.868838596745956017e-05\n",
      "8.868826690199632e-05\n",
      "Updating min_error from 8.868838596745956017e-05 to 8.868826690199631507e-05\n",
      "8.868814784338427e-05\n",
      "Updating min_error from 8.868826690199631507e-05 to 8.868814784338426547e-05\n",
      "8.868802879134252e-05\n",
      "Updating min_error from 8.868814784338426547e-05 to 8.868802879134252170e-05\n",
      "8.868790974568452e-05\n",
      "Updating min_error from 8.868802879134252170e-05 to 8.868790974568451966e-05\n",
      "8.868779070636272e-05\n",
      "Updating min_error from 8.868790974568451966e-05 to 8.868779070636271709e-05\n",
      "8.868767167310334e-05\n",
      "Updating min_error from 8.868779070636271709e-05 to 8.868767167310333938e-05\n",
      "8.868755264574826e-05\n",
      "Updating min_error from 8.868767167310333938e-05 to 8.868755264574825566e-05\n",
      "8.868743362425831e-05\n",
      "Updating min_error from 8.868755264574825566e-05 to 8.868743362425831266e-05\n"
     ]
    },
    {
     "name": "stderr",
     "output_type": "stream",
     "text": [
      "  1%|          | 2356/250000 [00:51<1:28:55, 46.42it/s]"
     ]
    },
    {
     "name": "stdout",
     "output_type": "stream",
     "text": [
      "8.86873146082884e-05\n",
      "Updating min_error from 8.868743362425831266e-05 to 8.868731460828839530e-05\n",
      "8.868719559774537e-05\n",
      "Updating min_error from 8.868731460828839530e-05 to 8.868719559774537059e-05\n",
      "8.868707659244643e-05\n",
      "Updating min_error from 8.868719559774537059e-05 to 8.868707659244642850e-05\n",
      "8.868695759224302e-05\n",
      "Updating min_error from 8.868707659244642850e-05 to 8.868695759224301978e-05\n",
      "8.868683859697566e-05\n",
      "Updating min_error from 8.868695759224301978e-05 to 8.868683859697565829e-05\n",
      "8.868671960645183e-05\n",
      "Updating min_error from 8.868683859697565829e-05 to 8.868671960645183039e-05\n",
      "8.868660062056252e-05\n",
      "Updating min_error from 8.868671960645183039e-05 to 8.868660062056251954e-05\n",
      "8.868648163907622e-05\n",
      "Updating min_error from 8.868660062056251954e-05 to 8.868648163907622147e-05\n",
      "8.868636266186503e-05\n",
      "Updating min_error from 8.868648163907622147e-05 to 8.868636266186502744e-05\n",
      "8.868624368877876e-05\n",
      "Updating min_error from 8.868636266186502744e-05 to 8.868624368877876189e-05\n"
     ]
    },
    {
     "name": "stderr",
     "output_type": "stream",
     "text": [
      "  1%|          | 2366/250000 [00:51<1:27:31, 47.15it/s]"
     ]
    },
    {
     "name": "stdout",
     "output_type": "stream",
     "text": [
      "8.868612471961513e-05\n",
      "Updating min_error from 8.868624368877876189e-05 to 8.868612471961512624e-05\n",
      "8.868600575423049e-05\n",
      "Updating min_error from 8.868612471961512624e-05 to 8.868600575423049082e-05\n",
      "8.868588679250536e-05\n",
      "Updating min_error from 8.868600575423049082e-05 to 8.868588679250536300e-05\n",
      "8.868576783418558e-05\n",
      "Updating min_error from 8.868588679250536300e-05 to 8.868576783418557867e-05\n",
      "8.86856488791637e-05\n",
      "Updating min_error from 8.868576783418557867e-05 to 8.868564887916369341e-05\n",
      "8.868552992728545e-05\n",
      "Updating min_error from 8.868564887916369341e-05 to 8.868552992728545234e-05\n",
      "8.86854109783805e-05\n",
      "Updating min_error from 8.868552992728545234e-05 to 8.868541097838050021e-05\n",
      "8.8685292032253e-05\n",
      "Updating min_error from 8.868541097838050021e-05 to 8.868529203225300299e-05\n",
      "8.868517308880629e-05\n",
      "Updating min_error from 8.868529203225300299e-05 to 8.868517308880629051e-05\n",
      "8.868505414786441e-05\n",
      "Updating min_error from 8.868517308880629051e-05 to 8.868505414786441031e-05\n"
     ]
    },
    {
     "name": "stderr",
     "output_type": "stream",
     "text": [
      "  1%|          | 2376/250000 [00:52<1:28:01, 46.88it/s]"
     ]
    },
    {
     "name": "stdout",
     "output_type": "stream",
     "text": [
      "8.868493520925684e-05\n",
      "Updating min_error from 8.868505414786441031e-05 to 8.868493520925684449e-05\n",
      "8.868481627281963e-05\n",
      "Updating min_error from 8.868493520925684449e-05 to 8.868481627281963459e-05\n",
      "8.868469733840667e-05\n",
      "Updating min_error from 8.868481627281963459e-05 to 8.868469733840667079e-05\n",
      "8.868457840585219e-05\n",
      "Updating min_error from 8.868469733840667079e-05 to 8.868457840585219215e-05\n",
      "8.868445947500053e-05\n",
      "Updating min_error from 8.868457840585219215e-05 to 8.868445947500053434e-05\n",
      "8.868434054569625e-05\n",
      "Updating min_error from 8.868445947500053434e-05 to 8.868434054569624986e-05\n",
      "8.868422161780685e-05\n",
      "Updating min_error from 8.868434054569624986e-05 to 8.868422161780684923e-05\n",
      "8.868410269114242e-05\n",
      "Updating min_error from 8.868422161780684923e-05 to 8.868410269114242086e-05\n",
      "8.868398376555564e-05\n",
      "Updating min_error from 8.868410269114242086e-05 to 8.868398376555563524e-05\n",
      "8.868386484094855e-05\n",
      "Updating min_error from 8.868398376555563524e-05 to 8.868386484094854826e-05\n"
     ]
    },
    {
     "name": "stderr",
     "output_type": "stream",
     "text": [
      "  1%|          | 2386/250000 [00:52<1:27:58, 46.91it/s]"
     ]
    },
    {
     "name": "stdout",
     "output_type": "stream",
     "text": [
      "8.868374591704142e-05\n",
      "Updating min_error from 8.868386484094854826e-05 to 8.868374591704142221e-05\n",
      "8.868362699377674e-05\n",
      "Updating min_error from 8.868374591704142221e-05 to 8.868362699377674014e-05\n",
      "8.868350807098873e-05\n",
      "Updating min_error from 8.868362699377674014e-05 to 8.868350807098872757e-05\n",
      "8.86833891485141e-05\n",
      "Updating min_error from 8.868350807098872757e-05 to 8.868338914851410363e-05\n",
      "8.868327022619956e-05\n",
      "Updating min_error from 8.868338914851410363e-05 to 8.868327022619956214e-05\n",
      "8.868315130394523e-05\n",
      "Updating min_error from 8.868327022619956214e-05 to 8.868315130394523454e-05\n",
      "8.868303238149459e-05\n",
      "Updating min_error from 8.868315130394523454e-05 to 8.868303238149458502e-05\n",
      "8.868291345882242e-05\n",
      "Updating min_error from 8.868303238149458502e-05 to 8.868291345882241944e-05\n",
      "8.868279453563057e-05\n",
      "Updating min_error from 8.868291345882241944e-05 to 8.868279453563056866e-05\n",
      "8.868267561183943e-05\n",
      "Updating min_error from 8.868279453563056866e-05 to 8.868267561183942513e-05\n"
     ]
    },
    {
     "name": "stderr",
     "output_type": "stream",
     "text": [
      "  1%|          | 2396/250000 [00:52<1:27:18, 47.27it/s]"
     ]
    },
    {
     "name": "stdout",
     "output_type": "stream",
     "text": [
      "8.868255668729819e-05\n",
      "Updating min_error from 8.868267561183942513e-05 to 8.868255668729818988e-05\n",
      "8.868243776185076e-05\n",
      "Updating min_error from 8.868255668729818988e-05 to 8.868243776185076490e-05\n",
      "8.86823188353712e-05\n",
      "Updating min_error from 8.868243776185076490e-05 to 8.868231883537120656e-05\n",
      "8.868219990769115e-05\n",
      "Updating min_error from 8.868231883537120656e-05 to 8.868219990769115181e-05\n",
      "8.86820809786755e-05\n",
      "Updating min_error from 8.868219990769115181e-05 to 8.868208097867549551e-05\n",
      "8.86819620481608e-05\n",
      "Updating min_error from 8.868208097867549551e-05 to 8.868196204816079418e-05\n",
      "8.8681843115997e-05\n",
      "Updating min_error from 8.868196204816079418e-05 to 8.868184311599699424e-05\n",
      "8.868172418205377e-05\n",
      "Updating min_error from 8.868184311599699424e-05 to 8.868172418205377459e-05\n",
      "8.868160524617706e-05\n",
      "Updating min_error from 8.868172418205377459e-05 to 8.868160524617705654e-05\n",
      "8.868148630822017e-05\n",
      "Updating min_error from 8.868160524617705654e-05 to 8.868148630822017466e-05\n"
     ]
    },
    {
     "name": "stderr",
     "output_type": "stream",
     "text": [
      "  1%|          | 2406/250000 [00:52<1:31:57, 44.87it/s]"
     ]
    },
    {
     "name": "stdout",
     "output_type": "stream",
     "text": [
      "8.868136736804416e-05\n",
      "Updating min_error from 8.868148630822017466e-05 to 8.868136736804416132e-05\n",
      "8.868124842547775e-05\n",
      "Updating min_error from 8.868136736804416132e-05 to 8.868124842547775325e-05\n",
      "8.868112948039135e-05\n",
      "Updating min_error from 8.868124842547775325e-05 to 8.868112948039134761e-05\n",
      "8.868101053263709e-05\n",
      "Updating min_error from 8.868112948039134761e-05 to 8.868101053263708635e-05\n",
      "8.868101053263709e-05 ++++++++++\n",
      "8.868089158207801e-05\n",
      "Updating min_error from 8.868101053263708635e-05 to 8.868089158207800762e-05\n",
      "8.868077262854821e-05\n",
      "Updating min_error from 8.868089158207800762e-05 to 8.868077262854821494e-05\n",
      "8.868065367192526e-05\n",
      "Updating min_error from 8.868077262854821494e-05 to 8.868065367192526122e-05\n",
      "8.868053471205901e-05\n",
      "Updating min_error from 8.868065367192526122e-05 to 8.868053471205901157e-05\n",
      "8.868041574880783e-05\n",
      "Updating min_error from 8.868053471205901157e-05 to 8.868041574880782853e-05\n"
     ]
    },
    {
     "name": "stderr",
     "output_type": "stream",
     "text": [
      "  1%|          | 2416/250000 [00:52<1:30:54, 45.39it/s]"
     ]
    },
    {
     "name": "stdout",
     "output_type": "stream",
     "text": [
      "8.868029678202021e-05\n",
      "Updating min_error from 8.868041574880782853e-05 to 8.868029678202020839e-05\n",
      "8.868017781156626e-05\n",
      "Updating min_error from 8.868029678202020839e-05 to 8.868017781156626374e-05\n",
      "8.868005883722018e-05\n",
      "Updating min_error from 8.868017781156626374e-05 to 8.868005883722018237e-05\n",
      "8.8679939858991e-05\n",
      "Updating min_error from 8.868005883722018237e-05 to 8.867993985899100381e-05\n",
      "8.867982087665323e-05\n",
      "Updating min_error from 8.867993985899100381e-05 to 8.867982087665322757e-05\n",
      "8.867970189001071e-05\n",
      "Updating min_error from 8.867982087665322757e-05 to 8.867970189001070792e-05\n",
      "8.867958289905224e-05\n",
      "Updating min_error from 8.867970189001070792e-05 to 8.867958289905223692e-05\n",
      "8.867946390357964e-05\n",
      "Updating min_error from 8.867958289905223692e-05 to 8.867946390357963596e-05\n",
      "8.867934490339378e-05\n",
      "Updating min_error from 8.867946390357963596e-05 to 8.867934490339377776e-05\n",
      "8.867922589843361e-05\n",
      "Updating min_error from 8.867934490339377776e-05 to 8.867922589843360820e-05\n"
     ]
    },
    {
     "name": "stderr",
     "output_type": "stream",
     "text": [
      "  1%|          | 2426/250000 [00:53<1:29:49, 45.94it/s]"
     ]
    },
    {
     "name": "stdout",
     "output_type": "stream",
     "text": [
      "8.867910688851407e-05\n",
      "Updating min_error from 8.867922589843360820e-05 to 8.867910688851406750e-05\n",
      "8.867898787351172e-05\n",
      "Updating min_error from 8.867910688851406750e-05 to 8.867898787351171925e-05\n",
      "8.867886885327869e-05\n",
      "Updating min_error from 8.867898787351171925e-05 to 8.867886885327869184e-05\n",
      "8.867874982768556e-05\n",
      "Updating min_error from 8.867886885327869184e-05 to 8.867874982768555862e-05\n",
      "8.867863079660521e-05\n",
      "Updating min_error from 8.867874982768555862e-05 to 8.867863079660521044e-05\n",
      "8.867851175986267e-05\n",
      "Updating min_error from 8.867863079660521044e-05 to 8.867851175986267063e-05\n",
      "8.867839271734198e-05\n",
      "Updating min_error from 8.867851175986267063e-05 to 8.867839271734198375e-05\n",
      "8.867827366890334e-05\n",
      "Updating min_error from 8.867839271734198375e-05 to 8.867827366890334195e-05\n",
      "8.867815461442236e-05\n",
      "Updating min_error from 8.867827366890334195e-05 to 8.867815461442236013e-05\n",
      "8.867803555373578e-05\n",
      "Updating min_error from 8.867815461442236013e-05 to 8.867803555373578455e-05\n"
     ]
    },
    {
     "name": "stderr",
     "output_type": "stream",
     "text": [
      "  1%|          | 2436/250000 [00:53<1:30:15, 45.71it/s]"
     ]
    },
    {
     "name": "stdout",
     "output_type": "stream",
     "text": [
      "8.86779164867246e-05\n",
      "Updating min_error from 8.867803555373578455e-05 to 8.867791648672459690e-05\n",
      "8.867779741324891e-05\n",
      "Updating min_error from 8.867791648672459690e-05 to 8.867779741324890801e-05\n",
      "8.867767833316624e-05\n",
      "Updating min_error from 8.867779741324890801e-05 to 8.867767833316624016e-05\n",
      "8.867755924634943e-05\n",
      "Updating min_error from 8.867767833316624016e-05 to 8.867755924634942999e-05\n",
      "8.867744015266641e-05\n",
      "Updating min_error from 8.867755924634942999e-05 to 8.867744015266640811e-05\n",
      "8.867732105196689e-05\n",
      "Updating min_error from 8.867744015266640811e-05 to 8.867732105196689057e-05\n",
      "8.867720194414831e-05\n",
      "Updating min_error from 8.867732105196689057e-05 to 8.867720194414831182e-05\n",
      "8.867708282902968e-05\n",
      "Updating min_error from 8.867720194414831182e-05 to 8.867708282902967787e-05\n",
      "8.867696370650547e-05\n",
      "Updating min_error from 8.867708282902967787e-05 to 8.867696370650546874e-05\n",
      "8.867684457642635e-05\n",
      "Updating min_error from 8.867696370650546874e-05 to 8.867684457642634915e-05\n"
     ]
    },
    {
     "name": "stderr",
     "output_type": "stream",
     "text": [
      "  1%|          | 2446/250000 [00:53<1:29:01, 46.34it/s]"
     ]
    },
    {
     "name": "stdout",
     "output_type": "stream",
     "text": [
      "8.867672543865922e-05\n",
      "Updating min_error from 8.867684457642634915e-05 to 8.867672543865921971e-05\n",
      "8.867660629308857e-05\n",
      "Updating min_error from 8.867672543865921971e-05 to 8.867660629308857223e-05\n",
      "8.867648713957121e-05\n",
      "Updating min_error from 8.867660629308857223e-05 to 8.867648713957121073e-05\n",
      "8.867636797796927e-05\n",
      "Updating min_error from 8.867648713957121073e-05 to 8.867636797796926533e-05\n",
      "8.867624880814648e-05\n",
      "Updating min_error from 8.867636797796926533e-05 to 8.867624880814647893e-05\n",
      "8.867612962999652e-05\n",
      "Updating min_error from 8.867624880814647893e-05 to 8.867612962999651841e-05\n",
      "8.867601044334461e-05\n",
      "Updating min_error from 8.867612962999651841e-05 to 8.867601044334461036e-05\n",
      "8.867589124809491e-05\n",
      "Updating min_error from 8.867601044334461036e-05 to 8.867589124809491133e-05\n",
      "8.867577204411144e-05\n",
      "Updating min_error from 8.867589124809491133e-05 to 8.867577204411143524e-05\n",
      "8.867565283124562e-05\n",
      "Updating min_error from 8.867577204411143524e-05 to 8.867565283124561931e-05\n"
     ]
    },
    {
     "name": "stderr",
     "output_type": "stream",
     "text": [
      "  1%|          | 2456/250000 [00:53<1:29:12, 46.25it/s]"
     ]
    },
    {
     "name": "stdout",
     "output_type": "stream",
     "text": [
      "8.867553360937278e-05\n",
      "Updating min_error from 8.867565283124561931e-05 to 8.867553360937278028e-05\n",
      "8.867541437837e-05\n",
      "Updating min_error from 8.867553360937278028e-05 to 8.867541437836999672e-05\n",
      "8.867529513810741e-05\n",
      "Updating min_error from 8.867541437836999672e-05 to 8.867529513810740833e-05\n",
      "8.867517588845147e-05\n",
      "Updating min_error from 8.867529513810740833e-05 to 8.867517588845146850e-05\n",
      "8.867505662921846e-05\n",
      "Updating min_error from 8.867517588845146850e-05 to 8.867505662921845917e-05\n",
      "8.867493736038113e-05\n",
      "Updating min_error from 8.867505662921845917e-05 to 8.867493736038112621e-05\n",
      "8.867481808177538e-05\n",
      "Updating min_error from 8.867493736038112621e-05 to 8.867481808177537562e-05\n",
      "8.867469879324451e-05\n",
      "Updating min_error from 8.867481808177537562e-05 to 8.867469879324451308e-05\n",
      "8.867457949466667e-05\n",
      "Updating min_error from 8.867469879324451308e-05 to 8.867457949466667428e-05\n",
      "8.867446018593405e-05\n",
      "Updating min_error from 8.867457949466667428e-05 to 8.867446018593404884e-05\n"
     ]
    },
    {
     "name": "stderr",
     "output_type": "stream",
     "text": [
      "  1%|          | 2466/250000 [00:53<1:29:26, 46.12it/s]"
     ]
    },
    {
     "name": "stdout",
     "output_type": "stream",
     "text": [
      "8.8674340866878e-05\n",
      "Updating min_error from 8.867446018593404884e-05 to 8.867434086687800269e-05\n",
      "8.867422153740394e-05\n",
      "Updating min_error from 8.867434086687800269e-05 to 8.867422153740393918e-05\n",
      "8.867410219737064e-05\n",
      "Updating min_error from 8.867422153740393918e-05 to 8.867410219737064097e-05\n",
      "8.867398284665527e-05\n",
      "Updating min_error from 8.867410219737064097e-05 to 8.867398284665526796e-05\n",
      "8.867386348513761e-05\n",
      "Updating min_error from 8.867398284665526796e-05 to 8.867386348513760924e-05\n",
      "8.867374411268202e-05\n",
      "Updating min_error from 8.867386348513760924e-05 to 8.867374411268201756e-05\n",
      "8.867362472916293e-05\n",
      "Updating min_error from 8.867374411268201756e-05 to 8.867362472916292876e-05\n",
      "8.867350533446402e-05\n",
      "Updating min_error from 8.867362472916292876e-05 to 8.867350533446402149e-05\n",
      "8.867338592843935e-05\n",
      "Updating min_error from 8.867350533446402149e-05 to 8.867338592843934859e-05\n",
      "8.867326651097884e-05\n",
      "Updating min_error from 8.867338592843934859e-05 to 8.867326651097883644e-05\n"
     ]
    },
    {
     "name": "stderr",
     "output_type": "stream",
     "text": [
      "  1%|          | 2476/250000 [00:54<1:28:58, 46.36it/s]"
     ]
    },
    {
     "name": "stdout",
     "output_type": "stream",
     "text": [
      "8.867314708190241e-05\n",
      "Updating min_error from 8.867326651097883644e-05 to 8.867314708190241260e-05\n",
      "8.867302764118434e-05\n",
      "Updating min_error from 8.867314708190241260e-05 to 8.867302764118434083e-05\n",
      "8.867290818863353e-05\n",
      "Updating min_error from 8.867302764118434083e-05 to 8.867290818863353050e-05\n",
      "8.867278872416362e-05\n",
      "Updating min_error from 8.867290818863353050e-05 to 8.867278872416362490e-05\n",
      "8.867266924760175e-05\n",
      "Updating min_error from 8.867278872416362490e-05 to 8.867266924760174799e-05\n",
      "8.867254975884508e-05\n",
      "Updating min_error from 8.867266924760174799e-05 to 8.867254975884507676e-05\n",
      "8.867243025773178e-05\n",
      "Updating min_error from 8.867254975884507676e-05 to 8.867243025773178047e-05\n",
      "8.867231074421513e-05\n",
      "Updating min_error from 8.867243025773178047e-05 to 8.867231074421513001e-05\n",
      "8.867219121819028e-05\n",
      "Updating min_error from 8.867231074421513001e-05 to 8.867219121819028304e-05\n",
      "8.86720716794099e-05\n",
      "Updating min_error from 8.867219121819028304e-05 to 8.867207167940990592e-05\n"
     ]
    },
    {
     "name": "stderr",
     "output_type": "stream",
     "text": [
      "  1%|          | 2486/250000 [00:54<1:28:46, 46.47it/s]"
     ]
    },
    {
     "name": "stdout",
     "output_type": "stream",
     "text": [
      "8.867195212780953e-05\n",
      "Updating min_error from 8.867207167940990592e-05 to 8.867195212780952930e-05\n",
      "8.867183256328469e-05\n",
      "Updating min_error from 8.867195212780952930e-05 to 8.867183256328469028e-05\n",
      "8.867171298570317e-05\n",
      "Updating min_error from 8.867183256328469028e-05 to 8.867171298570317042e-05\n",
      "8.86715933949405e-05\n",
      "Updating min_error from 8.867171298570317042e-05 to 8.867159339494050331e-05\n",
      "8.867147379094909e-05\n",
      "Updating min_error from 8.867159339494050331e-05 to 8.867147379094909247e-05\n",
      "8.86713541734558e-05\n",
      "Updating min_error from 8.867147379094909247e-05 to 8.867135417345580026e-05\n",
      "8.867123454240722e-05\n",
      "Updating min_error from 8.867135417345580026e-05 to 8.867123454240721618e-05\n",
      "8.867111489769519e-05\n",
      "Updating min_error from 8.867123454240721618e-05 to 8.867111489769519106e-05\n",
      "8.867099523919718e-05\n",
      "Updating min_error from 8.867111489769519106e-05 to 8.867099523919718296e-05\n",
      "8.86708755667688e-05\n",
      "Updating min_error from 8.867099523919718296e-05 to 8.867087556676880324e-05\n"
     ]
    },
    {
     "name": "stderr",
     "output_type": "stream",
     "text": [
      "  1%|          | 2496/250000 [00:54<1:28:40, 46.52it/s]"
     ]
    },
    {
     "name": "stdout",
     "output_type": "stream",
     "text": [
      "8.867075588029059e-05\n",
      "Updating min_error from 8.867087556676880324e-05 to 8.867075588029058638e-05\n",
      "8.867063617964167e-05\n",
      "Updating min_error from 8.867075588029058638e-05 to 8.867063617964167095e-05\n",
      "8.867051646474914e-05\n",
      "Updating min_error from 8.867063617964167095e-05 to 8.867051646474914434e-05\n",
      "8.86703967354535e-05\n",
      "Updating min_error from 8.867051646474914434e-05 to 8.867039673545349331e-05\n",
      "8.86702769915926e-05\n",
      "Updating min_error from 8.867039673545349331e-05 to 8.867027699159260254e-05\n",
      "8.867015723317116e-05\n",
      "Updating min_error from 8.867027699159260254e-05 to 8.867015723317116119e-05\n",
      "8.86700374599597e-05\n",
      "Updating min_error from 8.867015723317116119e-05 to 8.867003745995969788e-05\n",
      "8.866991767186546e-05\n",
      "Updating min_error from 8.867003745995969788e-05 to 8.866991767186545911e-05\n",
      "8.866979786875529e-05\n",
      "Updating min_error from 8.866991767186545911e-05 to 8.866979786875529130e-05\n",
      "8.86696780505685e-05\n",
      "Updating min_error from 8.866979786875529130e-05 to 8.866967805056850623e-05\n"
     ]
    },
    {
     "name": "stderr",
     "output_type": "stream",
     "text": [
      "  1%|          | 2501/250000 [00:54<1:34:00, 43.88it/s]"
     ]
    },
    {
     "name": "stdout",
     "output_type": "stream",
     "text": [
      "8.866955821715397e-05\n",
      "Updating min_error from 8.866967805056850623e-05 to 8.866955821715396613e-05\n",
      "8.866943836834251e-05\n",
      "Updating min_error from 8.866955821715396613e-05 to 8.866943836834250835e-05\n",
      "8.866931850403631e-05\n",
      "Updating min_error from 8.866943836834250835e-05 to 8.866931850403631074e-05\n",
      "8.866919862412622e-05\n",
      "Updating min_error from 8.866931850403631074e-05 to 8.866919862412622126e-05\n",
      "8.866907872859798e-05\n",
      "Updating min_error from 8.866919862412622126e-05 to 8.866907872859798264e-05\n",
      "8.866907872859798e-05 ++++++++++\n",
      "8.866895881718904e-05\n",
      "Updating min_error from 8.866907872859798264e-05 to 8.866895881718904178e-05\n",
      "8.866883888986827e-05\n",
      "Updating min_error from 8.866895881718904178e-05 to 8.866883888986826852e-05\n",
      "8.866871894643811e-05\n",
      "Updating min_error from 8.866883888986826852e-05 to 8.866871894643810767e-05\n",
      "8.866859898682071e-05\n",
      "Updating min_error from 8.866871894643810767e-05 to 8.866859898682071352e-05\n"
     ]
    },
    {
     "name": "stderr",
     "output_type": "stream",
     "text": [
      "  1%|          | 2511/250000 [00:54<1:31:42, 44.98it/s]"
     ]
    },
    {
     "name": "stdout",
     "output_type": "stream",
     "text": [
      "8.866847901090863e-05\n",
      "Updating min_error from 8.866859898682071352e-05 to 8.866847901090862808e-05\n",
      "8.866835901857397e-05\n",
      "Updating min_error from 8.866847901090862808e-05 to 8.866835901857396971e-05\n",
      "8.866823900971496e-05\n",
      "Updating min_error from 8.866835901857396971e-05 to 8.866823900971495891e-05\n",
      "8.866811898420588e-05\n",
      "Updating min_error from 8.866823900971495891e-05 to 8.866811898420588246e-05\n",
      "8.866799894194992e-05\n",
      "Updating min_error from 8.866811898420588246e-05 to 8.866799894194992110e-05\n",
      "8.866787888278619e-05\n",
      "Updating min_error from 8.866799894194992110e-05 to 8.866787888278619277e-05\n",
      "8.86677588066068e-05\n",
      "Updating min_error from 8.866787888278619277e-05 to 8.866775880660680582e-05\n",
      "8.866763871332994e-05\n",
      "Updating min_error from 8.866775880660680582e-05 to 8.866763871332994363e-05\n",
      "8.866751860282203e-05\n",
      "Updating min_error from 8.866763871332994363e-05 to 8.866751860282203249e-05\n",
      "8.866739847496228e-05\n",
      "Updating min_error from 8.866751860282203249e-05 to 8.866739847496227873e-05\n"
     ]
    },
    {
     "name": "stderr",
     "output_type": "stream",
     "text": [
      "  1%|          | 2521/250000 [00:55<1:30:52, 45.39it/s]"
     ]
    },
    {
     "name": "stdout",
     "output_type": "stream",
     "text": [
      "8.866727832962577e-05\n",
      "Updating min_error from 8.866739847496227873e-05 to 8.866727832962576872e-05\n",
      "8.866715816673218e-05\n",
      "Updating min_error from 8.866727832962576872e-05 to 8.866715816673217661e-05\n",
      "8.866703798614764e-05\n",
      "Updating min_error from 8.866715816673217661e-05 to 8.866703798614764410e-05\n",
      "8.866691778775117e-05\n",
      "Updating min_error from 8.866703798614764410e-05 to 8.866691778775117423e-05\n",
      "8.866679757143355e-05\n",
      "Updating min_error from 8.866691778775117423e-05 to 8.866679757143354718e-05\n",
      "8.86666773370958e-05\n",
      "Updating min_error from 8.866679757143354718e-05 to 8.866667733709580239e-05\n",
      "8.866655708460424e-05\n",
      "Updating min_error from 8.866667733709580239e-05 to 8.866655708460424419e-05\n",
      "8.866643681382996e-05\n",
      "Updating min_error from 8.866655708460424419e-05 to 8.866643681382996094e-05\n",
      "8.866631652465968e-05\n",
      "Updating min_error from 8.866643681382996094e-05 to 8.866631652465968062e-05\n",
      "8.866619621700344e-05\n",
      "Updating min_error from 8.866631652465968062e-05 to 8.866619621700344155e-05\n"
     ]
    },
    {
     "name": "stderr",
     "output_type": "stream",
     "text": [
      "  1%|          | 2531/250000 [00:55<1:29:23, 46.14it/s]"
     ]
    },
    {
     "name": "stdout",
     "output_type": "stream",
     "text": [
      "8.866607589075356e-05\n",
      "Updating min_error from 8.866619621700344155e-05 to 8.866607589075355535e-05\n",
      "8.866595554578325e-05\n",
      "Updating min_error from 8.866607589075355535e-05 to 8.866595554578325167e-05\n",
      "8.866583518197927e-05\n",
      "Updating min_error from 8.866595554578325167e-05 to 8.866583518197927206e-05\n",
      "8.8665714799229e-05\n",
      "Updating min_error from 8.866583518197927206e-05 to 8.866571479922899502e-05\n",
      "8.866559439741243e-05\n",
      "Updating min_error from 8.866571479922899502e-05 to 8.866559439741242645e-05\n",
      "8.866547397642729e-05\n",
      "Updating min_error from 8.866559439741242645e-05 to 8.866547397642728545e-05\n",
      "8.866535353615839e-05\n",
      "Updating min_error from 8.866547397642728545e-05 to 8.866535353615838909e-05\n",
      "8.866523307649176e-05\n",
      "Updating min_error from 8.866535353615838909e-05 to 8.866523307649176061e-05\n",
      "8.866511259731512e-05\n",
      "Updating min_error from 8.866523307649176061e-05 to 8.866511259731511732e-05\n",
      "8.866499209847194e-05\n",
      "Updating min_error from 8.866511259731511732e-05 to 8.866499209847194109e-05\n"
     ]
    },
    {
     "name": "stderr",
     "output_type": "stream",
     "text": [
      "  1%|          | 2541/250000 [00:55<1:28:27, 46.63it/s]"
     ]
    },
    {
     "name": "stdout",
     "output_type": "stream",
     "text": [
      "8.866487157994348e-05\n",
      "Updating min_error from 8.866499209847194109e-05 to 8.866487157994347521e-05\n",
      "8.866475104156048e-05\n",
      "Updating min_error from 8.866487157994347521e-05 to 8.866475104156047574e-05\n",
      "8.866463048323865e-05\n",
      "Updating min_error from 8.866475104156047574e-05 to 8.866463048323864596e-05\n",
      "8.86645099048346e-05\n",
      "Updating min_error from 8.866463048323864596e-05 to 8.866450990483460011e-05\n",
      "8.866438930624039e-05\n",
      "Updating min_error from 8.866450990483460011e-05 to 8.866438930624039234e-05\n",
      "8.866426868735534e-05\n",
      "Updating min_error from 8.866438930624039234e-05 to 8.866426868735534090e-05\n",
      "8.86641480480646e-05\n",
      "Updating min_error from 8.866426868735534090e-05 to 8.866414804806460170e-05\n",
      "8.866402738826898e-05\n",
      "Updating min_error from 8.866414804806460170e-05 to 8.866402738826898377e-05\n",
      "8.86639067078508e-05\n",
      "Updating min_error from 8.866402738826898377e-05 to 8.866390670785079698e-05\n",
      "8.866378600671135e-05\n",
      "Updating min_error from 8.866390670785079698e-05 to 8.866378600671135182e-05\n"
     ]
    },
    {
     "name": "stderr",
     "output_type": "stream",
     "text": [
      "  1%|          | 2551/250000 [00:55<1:27:40, 47.04it/s]"
     ]
    },
    {
     "name": "stdout",
     "output_type": "stream",
     "text": [
      "8.866366528473402e-05\n",
      "Updating min_error from 8.866378600671135182e-05 to 8.866366528473401524e-05\n",
      "8.866354454177227e-05\n",
      "Updating min_error from 8.866366528473401524e-05 to 8.866354454177227088e-05\n",
      "8.866342377765944e-05\n",
      "Updating min_error from 8.866354454177227088e-05 to 8.866342377765943619e-05\n",
      "8.866330299247445e-05\n",
      "Updating min_error from 8.866342377765943619e-05 to 8.866330299247445466e-05\n",
      "8.866318218601304e-05\n",
      "Updating min_error from 8.866330299247445466e-05 to 8.866318218601303548e-05\n",
      "8.866306135821108e-05\n",
      "Updating min_error from 8.866318218601303548e-05 to 8.866306135821107521e-05\n",
      "8.866294050884897e-05\n",
      "Updating min_error from 8.866306135821107521e-05 to 8.866294050884896869e-05\n",
      "8.866281963790106e-05\n",
      "Updating min_error from 8.866294050884896869e-05 to 8.866281963790106099e-05\n",
      "8.866269874520071e-05\n",
      "Updating min_error from 8.866281963790106099e-05 to 8.866269874520071024e-05\n",
      "8.866257783067071e-05\n",
      "Updating min_error from 8.866269874520071024e-05 to 8.866257783067070769e-05\n"
     ]
    },
    {
     "name": "stderr",
     "output_type": "stream",
     "text": [
      "  1%|          | 2561/250000 [00:56<1:27:30, 47.13it/s]"
     ]
    },
    {
     "name": "stdout",
     "output_type": "stream",
     "text": [
      "8.866245689419583e-05\n",
      "Updating min_error from 8.866257783067070769e-05 to 8.866245689419582974e-05\n",
      "8.866233593569253e-05\n",
      "Updating min_error from 8.866245689419582974e-05 to 8.866233593569252508e-05\n",
      "8.866221495501387e-05\n",
      "Updating min_error from 8.866233593569252508e-05 to 8.866221495501387076e-05\n",
      "8.866209395208525e-05\n",
      "Updating min_error from 8.866221495501387076e-05 to 8.866209395208524656e-05\n",
      "8.866197292677214e-05\n",
      "Updating min_error from 8.866209395208524656e-05 to 8.866197292677214365e-05\n",
      "8.866185187903155e-05\n",
      "Updating min_error from 8.866197292677214365e-05 to 8.866185187903154630e-05\n",
      "8.86617308086333e-05\n",
      "Updating min_error from 8.866185187903154630e-05 to 8.866173080863330551e-05\n",
      "8.866160971555746e-05\n",
      "Updating min_error from 8.866173080863330551e-05 to 8.866160971555745840e-05\n",
      "8.866148859967851e-05\n",
      "Updating min_error from 8.866160971555745840e-05 to 8.866148859967850856e-05\n",
      "8.866136746088564e-05\n",
      "Updating min_error from 8.866148859967850856e-05 to 8.866136746088563699e-05\n"
     ]
    },
    {
     "name": "stderr",
     "output_type": "stream",
     "text": [
      "  1%|          | 2571/250000 [00:56<1:27:31, 47.12it/s]"
     ]
    },
    {
     "name": "stdout",
     "output_type": "stream",
     "text": [
      "8.866124629907544e-05\n",
      "Updating min_error from 8.866136746088563699e-05 to 8.866124629907543790e-05\n",
      "8.866112511413857e-05\n",
      "Updating min_error from 8.866124629907543790e-05 to 8.866112511413856950e-05\n",
      "8.866100390599816e-05\n",
      "Updating min_error from 8.866112511413856950e-05 to 8.866100390599816186e-05\n",
      "8.866088267449104e-05\n",
      "Updating min_error from 8.866100390599816186e-05 to 8.866088267449104255e-05\n",
      "8.866076141952686e-05\n",
      "Updating min_error from 8.866088267449104255e-05 to 8.866076141952685687e-05\n",
      "8.866064014101526e-05\n",
      "Updating min_error from 8.866076141952685687e-05 to 8.866064014101526368e-05\n",
      "8.866051883890411e-05\n",
      "Updating min_error from 8.866064014101526368e-05 to 8.866051883890411285e-05\n",
      "8.866039751296242e-05\n",
      "Updating min_error from 8.866051883890411285e-05 to 8.866039751296241511e-05\n",
      "8.866027616321696e-05\n",
      "Updating min_error from 8.866039751296241511e-05 to 8.866027616321696381e-05\n",
      "8.866015478943562e-05\n",
      "Updating min_error from 8.866027616321696381e-05 to 8.866015478943561770e-05\n"
     ]
    },
    {
     "name": "stderr",
     "output_type": "stream",
     "text": [
      "  1%|          | 2581/250000 [00:56<1:27:22, 47.19it/s]"
     ]
    },
    {
     "name": "stdout",
     "output_type": "stream",
     "text": [
      "8.866003339156556e-05\n",
      "Updating min_error from 8.866015478943561770e-05 to 8.866003339156556260e-05\n",
      "8.865991196948514e-05\n",
      "Updating min_error from 8.866003339156556260e-05 to 8.865991196948513745e-05\n",
      "8.865979052308228e-05\n",
      "Updating min_error from 8.865991196948513745e-05 to 8.865979052308227643e-05\n",
      "8.865966905229061e-05\n",
      "Updating min_error from 8.865979052308227643e-05 to 8.865966905229061279e-05\n",
      "8.865954755699243e-05\n",
      "Updating min_error from 8.865966905229061279e-05 to 8.865954755699242929e-05\n",
      "8.865942603710687e-05\n",
      "Updating min_error from 8.865954755699242929e-05 to 8.865942603710687156e-05\n",
      "8.865930449249531e-05\n",
      "Updating min_error from 8.865942603710687156e-05 to 8.865930449249531079e-05\n",
      "8.86591829230552e-05\n",
      "Updating min_error from 8.865930449249531079e-05 to 8.865918292305519500e-05\n",
      "8.865906132869399e-05\n",
      "Updating min_error from 8.865918292305519500e-05 to 8.865906132869398756e-05\n",
      "8.86589397092838e-05\n",
      "Updating min_error from 8.865906132869398756e-05 to 8.865893970928379324e-05\n"
     ]
    },
    {
     "name": "stderr",
     "output_type": "stream",
     "text": [
      "  1%|          | 2591/250000 [00:56<1:27:19, 47.22it/s]"
     ]
    },
    {
     "name": "stdout",
     "output_type": "stream",
     "text": [
      "8.865881806474875e-05\n",
      "Updating min_error from 8.865893970928379324e-05 to 8.865881806474874502e-05\n",
      "8.865869639495958e-05\n",
      "Updating min_error from 8.865881806474874502e-05 to 8.865869639495957888e-05\n",
      "8.865857469983159e-05\n",
      "Updating min_error from 8.865869639495957888e-05 to 8.865857469983159152e-05\n",
      "8.865845297921305e-05\n",
      "Updating min_error from 8.865857469983159152e-05 to 8.865845297921304887e-05\n",
      "8.865833123302518e-05\n",
      "Updating min_error from 8.865845297921304887e-05 to 8.865833123302518362e-05\n",
      "8.865820946121102e-05\n",
      "Updating min_error from 8.865833123302518362e-05 to 8.865820946121102096e-05\n",
      "8.865808766364542e-05\n",
      "Updating min_error from 8.865820946121102096e-05 to 8.865808766364541684e-05\n",
      "8.865796584021446e-05\n",
      "Updating min_error from 8.865808766364541684e-05 to 8.865796584021446228e-05\n",
      "8.865784399081025e-05\n",
      "Updating min_error from 8.865796584021446228e-05 to 8.865784399081025205e-05\n",
      "8.865772211531165e-05\n",
      "Updating min_error from 8.865784399081025205e-05 to 8.865772211531165368e-05\n"
     ]
    },
    {
     "name": "stderr",
     "output_type": "stream",
     "text": [
      "  1%|          | 2601/250000 [00:56<1:32:19, 44.66it/s]"
     ]
    },
    {
     "name": "stdout",
     "output_type": "stream",
     "text": [
      "8.865760021362731e-05\n",
      "Updating min_error from 8.865772211531165368e-05 to 8.865760021362730956e-05\n",
      "8.865747828567463e-05\n",
      "Updating min_error from 8.865760021362730956e-05 to 8.865747828567463061e-05\n",
      "8.865735633134505e-05\n",
      "Updating min_error from 8.865747828567463061e-05 to 8.865735633134504752e-05\n",
      "8.865723435052366e-05\n",
      "Updating min_error from 8.865735633134504752e-05 to 8.865723435052366198e-05\n",
      "8.865711234312817e-05\n",
      "Updating min_error from 8.865723435052366198e-05 to 8.865711234312816948e-05\n",
      "8.865699030901914e-05\n",
      "Updating min_error from 8.865711234312816948e-05 to 8.865699030901914163e-05\n",
      "8.865699030901914e-05 ++++++++++\n",
      "8.865686824811445e-05\n",
      "Updating min_error from 8.865699030901914163e-05 to 8.865686824811445010e-05\n",
      "8.865674616029875e-05\n",
      "Updating min_error from 8.865686824811445010e-05 to 8.865674616029874935e-05\n",
      "8.865662404547441e-05\n",
      "Updating min_error from 8.865674616029874935e-05 to 8.865662404547440696e-05\n"
     ]
    },
    {
     "name": "stderr",
     "output_type": "stream",
     "text": [
      "  1%|          | 2611/250000 [00:57<1:33:00, 44.33it/s]"
     ]
    },
    {
     "name": "stdout",
     "output_type": "stream",
     "text": [
      "8.865650190354928e-05\n",
      "Updating min_error from 8.865662404547440696e-05 to 8.865650190354927931e-05\n",
      "8.865637973441867e-05\n",
      "Updating min_error from 8.865650190354927931e-05 to 8.865637973441867312e-05\n",
      "8.865625753797386e-05\n",
      "Updating min_error from 8.865637973441867312e-05 to 8.865625753797385647e-05\n",
      "8.865613531411842e-05\n",
      "Updating min_error from 8.865625753797385647e-05 to 8.865613531411841667e-05\n",
      "8.865601306274651e-05\n",
      "Updating min_error from 8.865613531411841667e-05 to 8.865601306274650849e-05\n",
      "8.86558907837531e-05\n",
      "Updating min_error from 8.865601306274650849e-05 to 8.865589078375309985e-05\n",
      "8.865576847702892e-05\n",
      "Updating min_error from 8.865589078375309985e-05 to 8.865576847702891672e-05\n",
      "8.86556461424993e-05\n",
      "Updating min_error from 8.865576847702891672e-05 to 8.865564614249929823e-05\n",
      "8.865552378003835e-05\n",
      "Updating min_error from 8.865564614249929823e-05 to 8.865552378003835495e-05\n"
     ]
    },
    {
     "name": "stderr",
     "output_type": "stream",
     "text": [
      "  1%|          | 2621/250000 [00:57<1:33:35, 44.05it/s]"
     ]
    },
    {
     "name": "stdout",
     "output_type": "stream",
     "text": [
      "8.86554013895513e-05\n",
      "Updating min_error from 8.865552378003835495e-05 to 8.865540138955130050e-05\n",
      "8.865527897095616e-05\n",
      "Updating min_error from 8.865540138955130050e-05 to 8.865527897095615566e-05\n",
      "8.865515652412684e-05\n",
      "Updating min_error from 8.865527897095615566e-05 to 8.865515652412684126e-05\n",
      "8.86550340489676e-05\n",
      "Updating min_error from 8.865515652412684126e-05 to 8.865503404896759513e-05\n",
      "8.865491154537669e-05\n",
      "Updating min_error from 8.865503404896759513e-05 to 8.865491154537669203e-05\n",
      "8.865478901325167e-05\n",
      "Updating min_error from 8.865491154537669203e-05 to 8.865478901325167483e-05\n",
      "8.865466645251958e-05\n",
      "Updating min_error from 8.865478901325167483e-05 to 8.865466645251957674e-05\n",
      "8.86545438630393e-05\n",
      "Updating min_error from 8.865466645251957674e-05 to 8.865454386303930239e-05\n",
      "8.865442124474115e-05\n",
      "Updating min_error from 8.865454386303930239e-05 to 8.865442124474115114e-05\n"
     ]
    },
    {
     "name": "stderr",
     "output_type": "stream",
     "text": [
      "  1%|          | 2631/250000 [00:57<1:34:01, 43.85it/s]"
     ]
    },
    {
     "name": "stdout",
     "output_type": "stream",
     "text": [
      "8.865429859748072e-05\n",
      "Updating min_error from 8.865442124474115114e-05 to 8.865429859748072080e-05\n",
      "8.865417592117172e-05\n",
      "Updating min_error from 8.865429859748072080e-05 to 8.865417592117172244e-05\n",
      "8.865405321575076e-05\n",
      "Updating min_error from 8.865417592117172244e-05 to 8.865405321575075734e-05\n",
      "8.865393048110131e-05\n",
      "Updating min_error from 8.865405321575075734e-05 to 8.865393048110131442e-05\n",
      "8.86538077171116e-05\n",
      "Updating min_error from 8.865393048110131442e-05 to 8.865380771711159889e-05\n",
      "8.865368492368987e-05\n",
      "Updating min_error from 8.865380771711159889e-05 to 8.865368492368987368e-05\n",
      "8.865356210073864e-05\n",
      "Updating min_error from 8.865368492368987368e-05 to 8.865356210073864192e-05\n",
      "8.865343924813982e-05\n",
      "Updating min_error from 8.865356210073864192e-05 to 8.865343924813982044e-05\n",
      "8.865331636581799e-05\n",
      "Updating min_error from 8.865343924813982044e-05 to 8.865331636581798942e-05\n"
     ]
    },
    {
     "name": "stderr",
     "output_type": "stream",
     "text": [
      "  1%|          | 2636/250000 [00:57<1:34:18, 43.72it/s]"
     ]
    },
    {
     "name": "stdout",
     "output_type": "stream",
     "text": [
      "8.865319345365076e-05\n",
      "Updating min_error from 8.865331636581798942e-05 to 8.865319345365075599e-05\n",
      "8.865307051154461e-05\n",
      "Updating min_error from 8.865319345365075599e-05 to 8.865307051154460772e-05\n",
      "8.865294753940395e-05\n",
      "Updating min_error from 8.865307051154460772e-05 to 8.865294753940394508e-05\n",
      "8.865282453713458e-05\n",
      "Updating min_error from 8.865294753940394508e-05 to 8.865282453713457800e-05\n",
      "8.865270150463153e-05\n",
      "Updating min_error from 8.865282453713457800e-05 to 8.865270150463152861e-05\n",
      "8.865257844174172e-05\n",
      "Updating min_error from 8.865270150463152861e-05 to 8.865257844174172111e-05\n",
      "8.865245534846408e-05\n",
      "Updating min_error from 8.865257844174172111e-05 to 8.865245534846408486e-05\n",
      "8.865233222467766e-05\n",
      "Updating min_error from 8.865245534846408486e-05 to 8.865233222467766355e-05\n",
      "8.865220907024854e-05\n",
      "Updating min_error from 8.865233222467766355e-05 to 8.865220907024854466e-05\n"
     ]
    },
    {
     "name": "stderr",
     "output_type": "stream",
     "text": [
      "  1%|          | 2646/250000 [00:57<1:34:09, 43.78it/s]"
     ]
    },
    {
     "name": "stdout",
     "output_type": "stream",
     "text": [
      "8.865208588508862e-05\n",
      "Updating min_error from 8.865220907024854466e-05 to 8.865208588508862321e-05\n",
      "8.865196266910783e-05\n",
      "Updating min_error from 8.865208588508862321e-05 to 8.865196266910782910e-05\n",
      "8.865183942219803e-05\n",
      "Updating min_error from 8.865196266910782910e-05 to 8.865183942219802672e-05\n",
      "8.865171614425237e-05\n",
      "Updating min_error from 8.865183942219802672e-05 to 8.865171614425236795e-05\n",
      "8.865159283518318e-05\n",
      "Updating min_error from 8.865171614425236795e-05 to 8.865159283518318149e-05\n",
      "8.865146949490183e-05\n",
      "Updating min_error from 8.865159283518318149e-05 to 8.865146949490183381e-05\n",
      "8.865134612331049e-05\n",
      "Updating min_error from 8.865146949490183381e-05 to 8.865134612331048922e-05\n",
      "8.865122272028848e-05\n",
      "Updating min_error from 8.865134612331048922e-05 to 8.865122272028847601e-05\n",
      "8.865109928574808e-05\n",
      "Updating min_error from 8.865122272028847601e-05 to 8.865109928574808223e-05\n"
     ]
    },
    {
     "name": "stderr",
     "output_type": "stream",
     "text": [
      "  1%|          | 2656/250000 [00:58<1:34:25, 43.66it/s]"
     ]
    },
    {
     "name": "stdout",
     "output_type": "stream",
     "text": [
      "8.86509758196172e-05\n",
      "Updating min_error from 8.865109928574808223e-05 to 8.865097581961719488e-05\n",
      "8.865085232175298e-05\n",
      "Updating min_error from 8.865097581961719488e-05 to 8.865085232175298389e-05\n",
      "8.86507287920571e-05\n",
      "Updating min_error from 8.865085232175298389e-05 to 8.865072879205709855e-05\n",
      "8.865060523048266e-05\n",
      "Updating min_error from 8.865072879205709855e-05 to 8.865060523048266068e-05\n",
      "8.865048163689366e-05\n",
      "Updating min_error from 8.865060523048266068e-05 to 8.865048163689365711e-05\n",
      "8.865035801119739e-05\n",
      "Updating min_error from 8.865048163689365711e-05 to 8.865035801119738857e-05\n",
      "8.865023435330346e-05\n",
      "Updating min_error from 8.865035801119738857e-05 to 8.865023435330345969e-05\n",
      "8.865011066310075e-05\n",
      "Updating min_error from 8.865023435330345969e-05 to 8.865011066310075330e-05\n",
      "8.864998694049462e-05\n",
      "Updating min_error from 8.865011066310075330e-05 to 8.864998694049461855e-05\n"
     ]
    },
    {
     "name": "stderr",
     "output_type": "stream",
     "text": [
      "  1%|          | 2666/250000 [00:58<1:34:15, 43.73it/s]"
     ]
    },
    {
     "name": "stdout",
     "output_type": "stream",
     "text": [
      "8.864986318539784e-05\n",
      "Updating min_error from 8.864998694049461855e-05 to 8.864986318539784494e-05\n",
      "8.864973939770379e-05\n",
      "Updating min_error from 8.864986318539784494e-05 to 8.864973939770378762e-05\n",
      "8.864961557732731e-05\n",
      "Updating min_error from 8.864973939770378762e-05 to 8.864961557732730963e-05\n",
      "8.864949172415789e-05\n",
      "Updating min_error from 8.864961557732730963e-05 to 8.864949172415789009e-05\n",
      "8.864936783808071e-05\n",
      "Updating min_error from 8.864949172415789009e-05 to 8.864936783808071200e-05\n",
      "8.864924391904043e-05\n",
      "Updating min_error from 8.864936783808071200e-05 to 8.864924391904042684e-05\n",
      "8.864911996692547e-05\n",
      "Updating min_error from 8.864924391904042684e-05 to 8.864911996692547021e-05\n",
      "8.864899598163605e-05\n",
      "Updating min_error from 8.864911996692547021e-05 to 8.864899598163605485e-05\n",
      "8.864887196309261e-05\n",
      "Updating min_error from 8.864899598163605485e-05 to 8.864887196309261387e-05\n"
     ]
    },
    {
     "name": "stderr",
     "output_type": "stream",
     "text": [
      "  1%|          | 2676/250000 [00:58<1:34:18, 43.71it/s]"
     ]
    },
    {
     "name": "stdout",
     "output_type": "stream",
     "text": [
      "8.864874791118623e-05\n",
      "Updating min_error from 8.864887196309261387e-05 to 8.864874791118622561e-05\n",
      "8.864862382580076e-05\n",
      "Updating min_error from 8.864874791118622561e-05 to 8.864862382580075847e-05\n",
      "8.864849970684834e-05\n",
      "Updating min_error from 8.864862382580075847e-05 to 8.864849970684833785e-05\n",
      "8.864837555423904e-05\n",
      "Updating min_error from 8.864849970684833785e-05 to 8.864837555423904275e-05\n",
      "8.864825136786983e-05\n",
      "Updating min_error from 8.864837555423904275e-05 to 8.864825136786983330e-05\n",
      "8.864812714771012e-05\n",
      "Updating min_error from 8.864825136786983330e-05 to 8.864812714771012144e-05\n",
      "8.864800289354988e-05\n",
      "Updating min_error from 8.864812714771012144e-05 to 8.864800289354988366e-05\n",
      "8.864787860535101e-05\n",
      "Updating min_error from 8.864800289354988366e-05 to 8.864787860535101025e-05\n",
      "8.864775428300779e-05\n",
      "Updating min_error from 8.864787860535101025e-05 to 8.864775428300779151e-05\n"
     ]
    },
    {
     "name": "stderr",
     "output_type": "stream",
     "text": [
      "  1%|          | 2681/250000 [00:58<1:34:06, 43.80it/s]"
     ]
    },
    {
     "name": "stdout",
     "output_type": "stream",
     "text": [
      "8.864762992641327e-05\n",
      "Updating min_error from 8.864775428300779151e-05 to 8.864762992641327089e-05\n",
      "8.864750553550456e-05\n",
      "Updating min_error from 8.864762992641327089e-05 to 8.864750553550456466e-05\n",
      "8.864738111015589e-05\n",
      "Updating min_error from 8.864750553550456466e-05 to 8.864738111015589182e-05\n",
      "8.864725665028546e-05\n",
      "Updating min_error from 8.864738111015589182e-05 to 8.864725665028546286e-05\n",
      "8.864713215580943e-05\n",
      "Updating min_error from 8.864725665028546286e-05 to 8.864713215580942831e-05\n",
      "8.864700762661685e-05\n",
      "Updating min_error from 8.864713215580942831e-05 to 8.864700762661684717e-05\n",
      "8.864688306260914e-05\n",
      "Updating min_error from 8.864700762661684717e-05 to 8.864688306260913836e-05\n",
      "8.864675846369976e-05\n",
      "Updating min_error from 8.864688306260913836e-05 to 8.864675846369975544e-05\n",
      "8.864663382981016e-05\n",
      "Updating min_error from 8.864675846369975544e-05 to 8.864663382981016152e-05\n"
     ]
    },
    {
     "name": "stderr",
     "output_type": "stream",
     "text": [
      "  1%|          | 2691/250000 [00:58<1:34:20, 43.69it/s]"
     ]
    },
    {
     "name": "stdout",
     "output_type": "stream",
     "text": [
      "8.8646509160832e-05\n",
      "Updating min_error from 8.864663382981016152e-05 to 8.864650916083200414e-05\n",
      "8.864638445667127e-05\n",
      "Updating min_error from 8.864650916083200414e-05 to 8.864638445667126943e-05\n",
      "8.864625971718419e-05\n",
      "Updating min_error from 8.864638445667126943e-05 to 8.864625971718419217e-05\n",
      "8.86461349423033e-05\n",
      "Updating min_error from 8.864625971718419217e-05 to 8.864613494230329433e-05\n",
      "8.864601013194656e-05\n",
      "Updating min_error from 8.864613494230329433e-05 to 8.864601013194655602e-05\n",
      "8.864588528602088e-05\n",
      "Updating min_error from 8.864601013194655602e-05 to 8.864588528602088493e-05\n",
      "8.864576040442664e-05\n",
      "Updating min_error from 8.864588528602088493e-05 to 8.864576040442664288e-05\n",
      "8.864563548707155e-05\n",
      "Updating min_error from 8.864576040442664288e-05 to 8.864563548707155070e-05\n",
      "8.86455105338564e-05\n",
      "Updating min_error from 8.864563548707155070e-05 to 8.864551053385640391e-05\n"
     ]
    },
    {
     "name": "stderr",
     "output_type": "stream",
     "text": [
      "  1%|          | 2701/250000 [00:59<1:39:30, 41.42it/s]"
     ]
    },
    {
     "name": "stdout",
     "output_type": "stream",
     "text": [
      "8.864538554468411e-05\n",
      "Updating min_error from 8.864551053385640391e-05 to 8.864538554468411220e-05\n",
      "8.864526051946501e-05\n",
      "Updating min_error from 8.864538554468411220e-05 to 8.864526051946501205e-05\n",
      "8.864513545810631e-05\n",
      "Updating min_error from 8.864526051946501205e-05 to 8.864513545810630930e-05\n",
      "8.86450103605063e-05\n",
      "Updating min_error from 8.864513545810630930e-05 to 8.864501036050630579e-05\n",
      "8.864488522656517e-05\n",
      "Updating min_error from 8.864501036050630579e-05 to 8.864488522656517361e-05\n",
      "8.864476005620672e-05\n",
      "Updating min_error from 8.864488522656517361e-05 to 8.864476005620672045e-05\n",
      "8.864463484931946e-05\n",
      "Updating min_error from 8.864476005620672045e-05 to 8.864463484931946321e-05\n",
      "8.864463484931946e-05 ++++++++++\n",
      "8.864450960579203e-05\n",
      "Updating min_error from 8.864463484931946321e-05 to 8.864450960579202724e-05\n"
     ]
    },
    {
     "name": "stderr",
     "output_type": "stream",
     "text": [
      "  1%|          | 2711/250000 [00:59<1:34:19, 43.69it/s]"
     ]
    },
    {
     "name": "stdout",
     "output_type": "stream",
     "text": [
      "8.864438432563292e-05\n",
      "Updating min_error from 8.864450960579202724e-05 to 8.864438432563292352e-05\n",
      "8.864425900869172e-05\n",
      "Updating min_error from 8.864438432563292352e-05 to 8.864425900869171899e-05\n",
      "8.864413365477914e-05\n",
      "Updating min_error from 8.864425900869171899e-05 to 8.864413365477913907e-05\n",
      "8.864400826396372e-05\n",
      "Updating min_error from 8.864413365477913907e-05 to 8.864400826396371888e-05\n",
      "8.864388283593303e-05\n",
      "Updating min_error from 8.864400826396371888e-05 to 8.864388283593303201e-05\n",
      "8.864375737076468e-05\n",
      "Updating min_error from 8.864388283593303201e-05 to 8.864375737076468024e-05\n",
      "8.86436318683236e-05\n",
      "Updating min_error from 8.864375737076468024e-05 to 8.864363186832359908e-05\n",
      "8.864350632844839e-05\n",
      "Updating min_error from 8.864363186832359908e-05 to 8.864350632844839148e-05\n",
      "8.86433807511948e-05\n",
      "Updating min_error from 8.864350632844839148e-05 to 8.864338075119479899e-05\n",
      "8.864325513634778e-05\n",
      "Updating min_error from 8.864338075119479899e-05 to 8.864325513634778366e-05\n"
     ]
    },
    {
     "name": "stderr",
     "output_type": "stream",
     "text": [
      "  1%|          | 2721/250000 [00:59<1:33:32, 44.06it/s]"
     ]
    },
    {
     "name": "stdout",
     "output_type": "stream",
     "text": [
      "8.86431294838358e-05\n",
      "Updating min_error from 8.864325513634778366e-05 to 8.864312948383580170e-05\n",
      "8.864300379360615e-05\n",
      "Updating min_error from 8.864312948383580170e-05 to 8.864300379360614732e-05\n",
      "8.864287806552504e-05\n",
      "Updating min_error from 8.864300379360614732e-05 to 8.864287806552504354e-05\n",
      "8.864275229952356e-05\n",
      "Updating min_error from 8.864287806552504354e-05 to 8.864275229952356221e-05\n",
      "8.864262649548754e-05\n",
      "Updating min_error from 8.864275229952356221e-05 to 8.864262649548753682e-05\n",
      "8.864250065334449e-05\n",
      "Updating min_error from 8.864262649548753682e-05 to 8.864250065334448848e-05\n",
      "8.864237477298041e-05\n",
      "Updating min_error from 8.864250065334448848e-05 to 8.864237477298041331e-05\n",
      "8.864224885431404e-05\n",
      "Updating min_error from 8.864237477298041331e-05 to 8.864224885431403681e-05\n",
      "8.864212289724896e-05\n",
      "Updating min_error from 8.864224885431403681e-05 to 8.864212289724895987e-05\n"
     ]
    },
    {
     "name": "stderr",
     "output_type": "stream",
     "text": [
      "  1%|          | 2731/250000 [00:59<1:31:52, 44.86it/s]"
     ]
    },
    {
     "name": "stdout",
     "output_type": "stream",
     "text": [
      "8.864199690170108e-05\n",
      "Updating min_error from 8.864212289724895987e-05 to 8.864199690170107549e-05\n",
      "8.864187086755433e-05\n",
      "Updating min_error from 8.864199690170107549e-05 to 8.864187086755433338e-05\n",
      "8.864174479472209e-05\n",
      "Updating min_error from 8.864187086755433338e-05 to 8.864174479472209224e-05\n",
      "8.864161868317753e-05\n",
      "Updating min_error from 8.864174479472209224e-05 to 8.864161868317753162e-05\n",
      "8.864149253270186e-05\n",
      "Updating min_error from 8.864161868317753162e-05 to 8.864149253270185952e-05\n",
      "8.864136634328445e-05\n",
      "Updating min_error from 8.864149253270185952e-05 to 8.864136634328445075e-05\n",
      "8.864124011480725e-05\n",
      "Updating min_error from 8.864136634328445075e-05 to 8.864124011480724926e-05\n",
      "8.864111384719551e-05\n",
      "Updating min_error from 8.864124011480724926e-05 to 8.864111384719551285e-05\n",
      "8.864098754030332e-05\n",
      "Updating min_error from 8.864111384719551285e-05 to 8.864098754030332148e-05\n",
      "8.864086119420047e-05\n",
      "Updating min_error from 8.864098754030332148e-05 to 8.864086119420047064e-05\n"
     ]
    },
    {
     "name": "stderr",
     "output_type": "stream",
     "text": [
      "  1%|          | 2741/250000 [01:00<1:30:35, 45.49it/s]"
     ]
    },
    {
     "name": "stdout",
     "output_type": "stream",
     "text": [
      "8.864073480859436e-05\n",
      "Updating min_error from 8.864086119420047064e-05 to 8.864073480859436128e-05\n",
      "8.864060838346304e-05\n",
      "Updating min_error from 8.864073480859436128e-05 to 8.864060838346303831e-05\n",
      "8.864048191880752e-05\n",
      "Updating min_error from 8.864060838346303831e-05 to 8.864048191880751816e-05\n",
      "8.86403554143608e-05\n",
      "Updating min_error from 8.864048191880751816e-05 to 8.864035541436080250e-05\n",
      "8.864022887011679e-05\n",
      "Updating min_error from 8.864035541436080250e-05 to 8.864022887011679269e-05\n",
      "8.864010228601424e-05\n",
      "Updating min_error from 8.864022887011679269e-05 to 8.864010228601424486e-05\n",
      "8.863997566190739e-05\n",
      "Updating min_error from 8.864010228601424486e-05 to 8.863997566190738803e-05\n",
      "8.863984899772652e-05\n",
      "Updating min_error from 8.863997566190738803e-05 to 8.863984899772652155e-05\n",
      "8.863972229338155e-05\n",
      "Updating min_error from 8.863984899772652155e-05 to 8.863972229338154822e-05\n",
      "8.863959554877965e-05\n",
      "Updating min_error from 8.863972229338154822e-05 to 8.863959554877964679e-05\n"
     ]
    },
    {
     "name": "stderr",
     "output_type": "stream",
     "text": [
      "  1%|          | 2751/250000 [01:00<1:29:47, 45.89it/s]"
     ]
    },
    {
     "name": "stdout",
     "output_type": "stream",
     "text": [
      "8.863946876382743e-05\n",
      "Updating min_error from 8.863959554877964679e-05 to 8.863946876382742678e-05\n",
      "8.863934193843243e-05\n",
      "Updating min_error from 8.863946876382742678e-05 to 8.863934193843243286e-05\n",
      "8.863921507249757e-05\n",
      "Updating min_error from 8.863934193843243286e-05 to 8.863921507249757472e-05\n",
      "8.863908816595052e-05\n",
      "Updating min_error from 8.863921507249757472e-05 to 8.863908816595052252e-05\n",
      "8.86389612186701e-05\n",
      "Updating min_error from 8.863908816595052252e-05 to 8.863896121867010313e-05\n",
      "8.863883423057613e-05\n",
      "Updating min_error from 8.863896121867010313e-05 to 8.863883423057612623e-05\n",
      "8.863870720158256e-05\n",
      "Updating min_error from 8.863883423057612623e-05 to 8.863870720158256039e-05\n",
      "8.863858013159545e-05\n",
      "Updating min_error from 8.863870720158256039e-05 to 8.863858013159544593e-05\n",
      "8.86384530205252e-05\n",
      "Updating min_error from 8.863858013159544593e-05 to 8.863845302052520065e-05\n",
      "8.863832586826788e-05\n",
      "Updating min_error from 8.863845302052520065e-05 to 8.863832586826787666e-05\n"
     ]
    },
    {
     "name": "stderr",
     "output_type": "stream",
     "text": [
      "  1%|          | 2761/250000 [01:00<1:30:00, 45.78it/s]"
     ]
    },
    {
     "name": "stdout",
     "output_type": "stream",
     "text": [
      "8.863819867473248e-05\n",
      "Updating min_error from 8.863832586826787666e-05 to 8.863819867473248231e-05\n",
      "8.863807143982624e-05\n",
      "Updating min_error from 8.863819867473248231e-05 to 8.863807143982623698e-05\n",
      "8.863794416350427e-05\n",
      "Updating min_error from 8.863807143982623698e-05 to 8.863794416350426826e-05\n",
      "8.86378168456085e-05\n",
      "Updating min_error from 8.863794416350426826e-05 to 8.863781684560849948e-05\n",
      "8.863768948606781e-05\n",
      "Updating min_error from 8.863781684560849948e-05 to 8.863768948606780696e-05\n",
      "8.863756208479913e-05\n",
      "Updating min_error from 8.863768948606780696e-05 to 8.863756208479912728e-05\n",
      "8.863743464170635e-05\n",
      "Updating min_error from 8.863756208479912728e-05 to 8.863743464170634591e-05\n",
      "8.863730715668588e-05\n",
      "Updating min_error from 8.863743464170634591e-05 to 8.863730715668588088e-05\n",
      "8.863717962966233e-05\n",
      "Updating min_error from 8.863730715668588088e-05 to 8.863717962966232594e-05\n",
      "8.863705206053546e-05\n",
      "Updating min_error from 8.863717962966232594e-05 to 8.863705206053546014e-05\n"
     ]
    },
    {
     "name": "stderr",
     "output_type": "stream",
     "text": [
      "  1%|          | 2771/250000 [01:00<1:29:44, 45.92it/s]"
     ]
    },
    {
     "name": "stdout",
     "output_type": "stream",
     "text": [
      "8.863692444923318e-05\n",
      "Updating min_error from 8.863705206053546014e-05 to 8.863692444923318404e-05\n",
      "8.863679679562919e-05\n",
      "Updating min_error from 8.863692444923318404e-05 to 8.863679679562918808e-05\n",
      "8.863666909966297e-05\n",
      "Updating min_error from 8.863679679562918808e-05 to 8.863666909966297380e-05\n",
      "8.863654136123498e-05\n",
      "Updating min_error from 8.863666909966297380e-05 to 8.863654136123498431e-05\n",
      "8.863641358021861e-05\n",
      "Updating min_error from 8.863654136123498431e-05 to 8.863641358021861192e-05\n",
      "8.863628575658737e-05\n",
      "Updating min_error from 8.863641358021861192e-05 to 8.863628575658737498e-05\n",
      "8.863615789021357e-05\n",
      "Updating min_error from 8.863628575658737498e-05 to 8.863615789021356804e-05\n",
      "8.863602998101201e-05\n",
      "Updating min_error from 8.863615789021356804e-05 to 8.863602998101201345e-05\n",
      "8.86359020289553e-05\n",
      "Updating min_error from 8.863602998101201345e-05 to 8.863590202895529446e-05\n",
      "8.863577403381489e-05\n",
      "Updating min_error from 8.863590202895529446e-05 to 8.863577403381488835e-05\n"
     ]
    },
    {
     "name": "stderr",
     "output_type": "stream",
     "text": [
      "  1%|          | 2781/250000 [01:00<1:29:20, 46.12it/s]"
     ]
    },
    {
     "name": "stdout",
     "output_type": "stream",
     "text": [
      "8.863564599558413e-05\n",
      "Updating min_error from 8.863577403381488835e-05 to 8.863564599558412728e-05\n",
      "8.863551791414439e-05\n",
      "Updating min_error from 8.863564599558412728e-05 to 8.863551791414438598e-05\n",
      "8.863538978940818e-05\n",
      "Updating min_error from 8.863551791414438598e-05 to 8.863538978940818289e-05\n",
      "8.863526162132696e-05\n",
      "Updating min_error from 8.863538978940818289e-05 to 8.863526162132695930e-05\n",
      "8.863513340974638e-05\n",
      "Updating min_error from 8.863526162132695930e-05 to 8.863513340974637903e-05\n",
      "8.863500515458842e-05\n",
      "Updating min_error from 8.863513340974637903e-05 to 8.863500515458842019e-05\n",
      "8.863487685578844e-05\n",
      "Updating min_error from 8.863500515458842019e-05 to 8.863487685578843721e-05\n",
      "8.863474851325402e-05\n",
      "Updating min_error from 8.863487685578843721e-05 to 8.863474851325401542e-05\n",
      "8.86346201268894e-05\n",
      "Updating min_error from 8.863474851325401542e-05 to 8.863462012688940622e-05\n",
      "8.863449169657304e-05\n",
      "Updating min_error from 8.863462012688940622e-05 to 8.863449169657304342e-05\n"
     ]
    },
    {
     "name": "stderr",
     "output_type": "stream",
     "text": [
      "  1%|          | 2791/250000 [01:01<1:28:52, 46.36it/s]"
     ]
    },
    {
     "name": "stdout",
     "output_type": "stream",
     "text": [
      "8.863436322226312e-05\n",
      "Updating min_error from 8.863449169657304342e-05 to 8.863436322226311750e-05\n",
      "8.8634234703838e-05\n",
      "Updating min_error from 8.863436322226311750e-05 to 8.863423470383799451e-05\n",
      "8.863410614121422e-05\n",
      "Updating min_error from 8.863423470383799451e-05 to 8.863410614121421799e-05\n",
      "8.863397753430853e-05\n",
      "Updating min_error from 8.863410614121421799e-05 to 8.863397753430853477e-05\n",
      "8.863384888302212e-05\n",
      "Updating min_error from 8.863397753430853477e-05 to 8.863384888302211983e-05\n",
      "8.863372018726469e-05\n",
      "Updating min_error from 8.863384888302211983e-05 to 8.863372018726468622e-05\n",
      "8.863359144694485e-05\n",
      "Updating min_error from 8.863372018726468622e-05 to 8.863359144694484926e-05\n",
      "8.863346266196494e-05\n",
      "Updating min_error from 8.863359144694484926e-05 to 8.863346266196493587e-05\n",
      "8.863333383222867e-05\n",
      "Updating min_error from 8.863346266196493587e-05 to 8.863333383222866892e-05\n",
      "8.863320495769001e-05\n",
      "Updating min_error from 8.863333383222866892e-05 to 8.863320495769001046e-05\n"
     ]
    },
    {
     "name": "stderr",
     "output_type": "stream",
     "text": [
      "  1%|          | 2796/250000 [01:01<1:29:02, 46.27it/s]"
     ]
    },
    {
     "name": "stdout",
     "output_type": "stream",
     "text": [
      "8.863307603821872e-05\n",
      "Updating min_error from 8.863320495769001046e-05 to 8.863307603821872071e-05\n",
      "8.863294707373435e-05\n",
      "Updating min_error from 8.863307603821872071e-05 to 8.863294707373435186e-05\n",
      "8.863281806411177e-05\n",
      "Updating min_error from 8.863294707373435186e-05 to 8.863281806411177344e-05\n",
      "8.863268900930339e-05\n",
      "Updating min_error from 8.863281806411177344e-05 to 8.863268900930338897e-05\n",
      "8.863255990921555e-05\n",
      "Updating min_error from 8.863268900930338897e-05 to 8.863255990921555048e-05\n",
      "8.863243076375365e-05\n",
      "Updating min_error from 8.863255990921555048e-05 to 8.863243076375364779e-05\n",
      "8.863230157280948e-05\n",
      "Updating min_error from 8.863243076375364779e-05 to 8.863230157280947751e-05\n",
      "8.863217233630731e-05\n",
      "Updating min_error from 8.863230157280947751e-05 to 8.863217233630730813e-05\n",
      "8.863204305416654e-05\n",
      "Updating min_error from 8.863217233630730813e-05 to 8.863204305416654276e-05\n",
      "8.863191372628279e-05\n",
      "Updating min_error from 8.863204305416654276e-05 to 8.863191372628278629e-05\n",
      "8.863191372628279e-05 ++++++++++\n"
     ]
    },
    {
     "name": "stderr",
     "output_type": "stream",
     "text": [
      "  1%|          | 2806/250000 [01:01<1:33:40, 43.98it/s]"
     ]
    },
    {
     "name": "stdout",
     "output_type": "stream",
     "text": [
      "8.86317843525678e-05\n",
      "Updating min_error from 8.863191372628278629e-05 to 8.863178435256779822e-05\n",
      "8.863165493292893e-05\n",
      "Updating min_error from 8.863178435256779822e-05 to 8.863165493292893347e-05\n",
      "8.863152546728042e-05\n",
      "Updating min_error from 8.863165493292893347e-05 to 8.863152546728041809e-05\n",
      "8.863139595553859e-05\n",
      "Updating min_error from 8.863152546728041809e-05 to 8.863139595553859234e-05\n",
      "8.863126639760978e-05\n",
      "Updating min_error from 8.863139595553859234e-05 to 8.863126639760978114e-05\n",
      "8.863113679337643e-05\n",
      "Updating min_error from 8.863126639760978114e-05 to 8.863113679337642989e-05\n",
      "8.863100714280592e-05\n",
      "Updating min_error from 8.863113679337642989e-05 to 8.863100714280591763e-05\n",
      "8.863087744574373e-05\n",
      "Updating min_error from 8.863100714280591763e-05 to 8.863087744574373202e-05\n",
      "8.8630747702129e-05\n",
      "Updating min_error from 8.863087744574373202e-05 to 8.863074770212899509e-05\n"
     ]
    },
    {
     "name": "stderr",
     "output_type": "stream",
     "text": [
      "  1%|          | 2816/250000 [01:01<1:33:14, 44.19it/s]"
     ]
    },
    {
     "name": "stdout",
     "output_type": "stream",
     "text": [
      "8.863061791187982e-05\n",
      "Updating min_error from 8.863074770212899509e-05 to 8.863061791187982249e-05\n",
      "8.863048807488638e-05\n",
      "Updating min_error from 8.863061791187982249e-05 to 8.863048807488638453e-05\n",
      "8.863035819106429e-05\n",
      "Updating min_error from 8.863048807488638453e-05 to 8.863035819106428962e-05\n",
      "8.863022826031081e-05\n",
      "Updating min_error from 8.863035819106428962e-05 to 8.863022826031080961e-05\n",
      "8.863009828255616e-05\n",
      "Updating min_error from 8.863022826031080961e-05 to 8.863009828255616254e-05\n",
      "8.86299682577205e-05\n",
      "Updating min_error from 8.863009828255616254e-05 to 8.862996825772049691e-05\n",
      "8.862983818571988e-05\n",
      "Updating min_error from 8.862996825772049691e-05 to 8.862983818571988192e-05\n",
      "8.862970806640917e-05\n",
      "Updating min_error from 8.862983818571988192e-05 to 8.862970806640917002e-05\n",
      "8.86295778997247e-05\n",
      "Updating min_error from 8.862970806640917002e-05 to 8.862957789972470497e-05\n"
     ]
    },
    {
     "name": "stderr",
     "output_type": "stream",
     "text": [
      "  1%|          | 2826/250000 [01:01<1:33:02, 44.28it/s]"
     ]
    },
    {
     "name": "stdout",
     "output_type": "stream",
     "text": [
      "8.86294476855917e-05\n",
      "Updating min_error from 8.862957789972470497e-05 to 8.862944768559170394e-05\n",
      "8.862931742393147e-05\n",
      "Updating min_error from 8.862944768559170394e-05 to 8.862931742393146740e-05\n",
      "8.862918711463128e-05\n",
      "Updating min_error from 8.862931742393146740e-05 to 8.862918711463127898e-05\n",
      "8.862905675759157e-05\n",
      "Updating min_error from 8.862918711463127898e-05 to 8.862905675759156826e-05\n",
      "8.86289263527424e-05\n",
      "Updating min_error from 8.862905675759156826e-05 to 8.862892635274240421e-05\n",
      "8.862879589992816e-05\n",
      "Updating min_error from 8.862892635274240421e-05 to 8.862879589992816315e-05\n",
      "8.862866539916289e-05\n",
      "Updating min_error from 8.862879589992816315e-05 to 8.862866539916288550e-05\n",
      "8.86285348503209e-05\n",
      "Updating min_error from 8.862866539916288550e-05 to 8.862853485032089868e-05\n",
      "8.862840425330526e-05\n",
      "Updating min_error from 8.862853485032089868e-05 to 8.862840425330526146e-05\n"
     ]
    },
    {
     "name": "stderr",
     "output_type": "stream",
     "text": [
      "  1%|          | 2831/250000 [01:02<1:32:43, 44.43it/s]"
     ]
    }
   ],
   "source": [
    "import os\n",
    "os.environ[\"JAX_PLATFORMS\"] = \"cpu\"  # Ensure JAX uses CPU backend\n",
    "os.environ[\"XLA_FLAGS\"] = \"--xla_force_host_platform_device_count=100\"\n",
    "\n",
    "import jax\n",
    "num_devices = jax.local_device_count()\n",
    "print(jax.devices(), \"num devices = \", num_devices)\n",
    "\n",
    "from jax import config\n",
    "config.update(\"jax_enable_x64\", True)  #double precision\n",
    "\n",
    "import multiprocessing\n",
    "import time  # For timing the execution\n",
    "\n",
    "import cProfile ## Checking for parallel computing\n",
    "import pstats ## For analysing the program run\n",
    "\n",
    "\n",
    "import jax.numpy as jnp\n",
    "import numpy as np\n",
    "import os\n",
    "import sys\n",
    "import sys\n",
    "from skopt.space import Space\n",
    "from skopt.sampler import Halton\n",
    "from jax import jacfwd\n",
    "from jax import grad, jit, vmap, pmap\n",
    "from jax import jit\n",
    "from jax._src.lax.utils import (\n",
    "    _argnum_weak_type,\n",
    "    _input_dtype,\n",
    "    standard_primitive,)\n",
    "from jax._src.lax import lax\n",
    "\n",
    "from tqdm import tqdm, trange\n",
    "import matplotlib.pyplot as plt\n",
    "import optax\n",
    "\n",
    "import prk_method.One_Batch_prk_for_optimization as IRK4\n",
    "import Important_functions.Convert_1D2D as convert\n",
    "\n",
    "    \n",
    "def main():\n",
    "    output_path = 'One-batch-Lobatto-Outputs/'\n",
    "    # Different Files output path\n",
    "    Error_path = f'{output_path}Error.txt'\n",
    "    Energy_path = f'{output_path}Energy.txt'\n",
    "    Validation_path = f'{output_path}Validation.txt'\n",
    "    FinalWeight_path = f'{output_path}Final_weights.txt'\n",
    "    \n",
    "    # Initial weights \n",
    "    ## Lobatto 3A and B fourth order\n",
    "    A1 = jnp.array([\n",
    "         [0., 0., 0., 0.],\n",
    "         [5/24, 1/3, -1/24, 0.],\n",
    "         [1/6, 2/3, 1/6, 0.],\n",
    "         [0., 0., 0., 0.]])\n",
    "    B1 = jnp.array([1/6, 2/3, 1/6, 0.])\n",
    "    \n",
    "    A2 = jnp.array([\n",
    "         [1/6, -1/6, 0., 0.],\n",
    "         [1/6, 1/3, 0, 0.],\n",
    "         [1/6, 5/6, 0, 0.],\n",
    "         [0., 0., 0., 0.]])\n",
    "    B2 = jnp.array([1/6, 2/3, 1/6, 0.])\n",
    "    \n",
    "    \"\"\"\n",
    "    ######################################\n",
    "    \"\"\"\n",
    "    ## Making the Halton code and diving it into validation and training set. \n",
    "    \n",
    "    spacedim = [(-0.5, 0.5)]*6\n",
    "    \n",
    "\n",
    "    \n",
    "    space = Space(spacedim)\n",
    "    halton = Halton()\n",
    "    n = 150  # total halton elements\n",
    "    \n",
    "    halton_sequence = halton.generate(space, n)\n",
    "    halton_sequence = jnp.array(halton_sequence)\n",
    "    \n",
    "    # Set a random seed (for reproducibility)\n",
    "    key = jax.random.PRNGKey(0)\n",
    "    \n",
    "    # Shuffle the sequence using jax.random.permutation\n",
    "    shuffled_indices = jax.random.permutation(key, n)\n",
    "    shuffled_halton_sequence = halton_sequence[shuffled_indices]\n",
    "    \n",
    "    # Split into training and validation sets\n",
    "    validation_halton = halton_sequence[100:] ## Validation Data\n",
    "    halton_sequence = halton_sequence[:100] ## Training Data\n",
    "    \n",
    "\n",
    "    \"\"\"\n",
    "    ######################################\n",
    "    \"\"\"\n",
    "    \n",
    "    # Initial A1D, i.e., initial weights in 1D\n",
    "    A1D = convert.Convert_toOneD(A1, A2, B1, B2)\n",
    "    \n",
    "    learning_rate = 0.001\n",
    "    adam_optimizer = optax.adam(learning_rate)\n",
    "    sgd_optimizer = optax.sgd(learning_rate)  # Adding SGD optimizer\n",
    "    \n",
    "    # Start with Adam optimizer\n",
    "    opt_state = adam_optimizer.init(A1D)\n",
    "    opt_switch_threshold = 1e-6  # Threshold to switch from Adam to SGD\n",
    "\n",
    "    ######\n",
    "    \n",
    "    count = 0\n",
    "    data_epoc = 10\n",
    "    data_epoc_list = []\n",
    "    repetetion = 10\n",
    "    \n",
    "    flat_halton_sequence = jnp.array(halton_sequence).reshape(-1, 6)\n",
    "    \n",
    "    # Compute gradient using jacfwd\n",
    "    def jacfwd_gradient(A1D, h_element):\n",
    "        def loss_fn(A1D):\n",
    "            error, _ = IRK4.find_error(A1D, h_element)\n",
    "            return error\n",
    "        grad_fn = jax.jacfwd(loss_fn)\n",
    "        return grad_fn(A1D)\n",
    "    \n",
    "    def compute_energy_error(A1D, h_element):\n",
    "        return IRK4.find_error(A1D, h_element)[1]\n",
    "    \n",
    "    def compute_error_single(A1D, h_element):\n",
    "        return IRK4.find_error(A1D, h_element)[0]\n",
    "    \n",
    "    ## Finding the numeric gradient. Finite difference approximation \n",
    "    def numerical_gradient(A1D, halton_element, epsilon=1e-5):\n",
    "        numerical_gradients = jnp.zeros_like(A1D, dtype=jnp.float64)\n",
    "        for i in range(len(A1D)):\n",
    "            A1D_plus = A1D.at[i].set(A1D[i] + epsilon)\n",
    "            A1D_minus = A1D.at[i].set(A1D[i] - epsilon)\n",
    "            numerical_gradients = numerical_gradients.at[i].set(\n",
    "                (compute_error_single(A1D_plus, halton_element) - compute_error_single(A1D_minus, halton_element)) / (2 * epsilon)\n",
    "            )\n",
    "        return numerical_gradients\n",
    "\n",
    "    \"\"\"\n",
    "    ########################################\n",
    "    Functions for paralalizing the errors to be saved. If this dosent work delete it. \n",
    "    \"\"\"\n",
    "    # Define the function for energy error and validation error\n",
    "    def energy_error_fn(A1D, halton_element):\n",
    "        return IRK4.find_error(A1D, halton_element)[1]  # Return only energy error\n",
    "    \n",
    "    def validation_error_fn(A1D, halton_element):\n",
    "        return IRK4.find_error(A1D, halton_element)[0]  # Return only validation error\n",
    "\n",
    "    def analytical_error_fn(A1D, halton_element):\n",
    "        print(\"Inside analytical Error\")\n",
    "        return IRK4.find_error(A1D, halton_element)[0]  # Return only Analytical error\n",
    "\n",
    "    \"\"\"\n",
    "    ########################################\n",
    "    \"\"\"\n",
    "    \n",
    "    # Use jax.pmap to parallelize the function over multiple devices (e.g., CPUs)\n",
    "    compute_grads_batched = jax.pmap(jacfwd_gradient, in_axes=(None, 0), axis_name='batch')  # pmap instead of vmap\n",
    "    compute_error_batched = jax.pmap(compute_error_single, in_axes=(None, 0), axis_name='batch')  # pmap instead of vmap\n",
    "    \n",
    "    Total_Error_List = []  # Analytical Error :\n",
    "    Energy_Error_List = []  # Energy Error :\n",
    "    Validation_Error_List = []  # Validation Set Error :\n",
    "    \n",
    "    batch_size = 10  # Set the batch size to 10\n",
    "    num_batches = len(flat_halton_sequence) // batch_size\n",
    "\n",
    "    print(\" Number of Batches : \",num_batches)\n",
    "\n",
    "\n",
    "    #### Open the files in write mode ('w') at the beginning to clear old data\n",
    "    with open(Error_path, 'w') as f1:\n",
    "        f1.write(\"\")\n",
    "    with open(Energy_path, 'w') as f2:\n",
    "        f2.write(\"\")\n",
    "    with open(Validation_path, 'w') as f3:\n",
    "        f3.write(\"\")\n",
    "    with open(FinalWeight_path, 'w') as f4:\n",
    "        f4.write(\"\")\n",
    "        \n",
    "    # Lists to accumulate data for every 100 steps\n",
    "\n",
    "    analytical_errors_list = []\n",
    "    energy_errors_list = []\n",
    "    validation_errors_list = []\n",
    "    switch = False # Swtiching from ADAM to SGD\n",
    "    min_error = jnp.array([jnp.inf], dtype=jnp.float64)\n",
    "    print(min_error)\n",
    "    min_error_A1D = None\n",
    "    adam_max_iters = 150000\n",
    "    \n",
    "    for k in trange(250000):\n",
    "        tot_error = 0\n",
    "        tot_error_energy = 0\n",
    "        validation_tot_error = 0\n",
    "        \n",
    "        if k > 1:\n",
    "            for batch_idx in range(num_batches):\n",
    "                batch_halton = flat_halton_sequence[batch_idx * batch_size: (batch_idx + 1) * batch_size]            \n",
    "                # Compute the gradients for the batch using jax.pmap\n",
    "                gradF = compute_grads_batched(A1D, batch_halton)\n",
    "                # Compute the average gradient for the batch\n",
    "                avg_gradF = jnp.mean(gradF, axis=0)\n",
    "                # Optimization step, start with Adam\n",
    "                if switch == True:\n",
    "                    updates, opt_state = sgd_optimizer.update(avg_gradF, opt_state)\n",
    "                else:\n",
    "                    updates, opt_state = adam_optimizer.update(avg_gradF, opt_state)\n",
    "                # Apply the updates to A1D\n",
    "                A1D = optax.apply_updates(A1D, updates)\n",
    "                # Calculate the total error for the batch and accumulate it\n",
    "                batch_error = jnp.mean(compute_error_batched(A1D, batch_halton))\n",
    "                tot_error += batch_error\n",
    "\n",
    "        \n",
    "        # Calculate average error and append to the list\n",
    "        # avg_error = tot_error / jnp.float64(num_batches)\n",
    "        avg_error = jnp.float64(tot_error / jnp.float64(num_batches))\n",
    "\n",
    "        if avg_error < min_error[0] and k>10:\n",
    "            print(avg_error)\n",
    "            # print(f\"Updating min_error from {min_error[0]:.18e} to {avg_error:.18e}\")\n",
    "            # Update min_error at index 0\n",
    "            min_error = min_error.at[0].set(avg_error)\n",
    "            min_A1D = A1D  # Store your weight values\n",
    "            \n",
    "        # Every 200 steps, write data to files and flush\n",
    "        if k % 100 == 0:\n",
    "            # Write the weights file after every 200 steps\n",
    "            print(min_error)\n",
    "            analytical_errors = jax.pmap(analytical_error_fn, in_axes=(None, 0))(A1D, halton_sequence)\n",
    "            analytical_tot_error = jnp.sum(analytical_errors)\n",
    "            analytical_avg_error = analytical_tot_error / len(halton_sequence)\n",
    "            # analytical_errors_list.append(f\"{analytical_avg_error:.18e}\\n\")\n",
    "        \n",
    "            if k >= adam_max_iters and switch != True:\n",
    "                print(\" Switching the optimizer to SGD :\")\n",
    "                learning_rate = 0.0001\n",
    "                print(\"avg_error : \", avg_error)\n",
    "                switch = True\n",
    "                A1D = min_A1D\n",
    "    \n",
    "        \n",
    "            # Parallelize energy error calculation\n",
    "            energy_errors = jax.pmap(energy_error_fn, in_axes=(None, 0))(A1D, halton_sequence)\n",
    "            tot_error_energy = jnp.sum(energy_errors)\n",
    "            avg_error_energy = tot_error_energy / len(halton_sequence)\n",
    "            # energy_errors_list.append(f\"{avg_error_energy:.18e}\\n\")\n",
    "            \n",
    "                      \n",
    "            # Parallelize validation error calculation\n",
    "            validation_errors = jax.pmap(validation_error_fn, in_axes=(None, 0))(A1D, validation_halton)\n",
    "            validation_tot_error = jnp.sum(validation_errors)\n",
    "            validation_avg_error = validation_tot_error / len(validation_halton)\n",
    "            # validation_errors_list.append(f\"{validation_avg_error:.18e}\\n\")\n",
    "            \n",
    "                      \n",
    "            with open(Error_path, 'a') as S1_analytical_error:\n",
    "                S1_analytical_error.write(f\"{analytical_avg_error:.18e}\\n\")\n",
    "                S1_analytical_error.flush()\n",
    "    \n",
    "            with open(Energy_path, 'a') as S1_energy:\n",
    "                S1_energy.write(f\"{avg_error_energy:.18e}\\n\")\n",
    "                S1_energy.flush()\n",
    "    \n",
    "            with open(Validation_path, 'a') as S1_validation:\n",
    "                S1_validation.write(f\"{validation_avg_error:.18e}\\n\")\n",
    "                S1_validation.flush()\n",
    "    \n",
    "            # Clear lists after writing to files\n",
    "\n",
    "            analytical_errors_list.clear()\n",
    "            energy_errors_list.clear()\n",
    "            validation_errors_list.clear()\n",
    "    \n",
    "            \n",
    "            jnp_array_A1D = jnp.array(A1D, dtype=jnp.float64)\n",
    "            np_array_A1D = np.array(jnp_array_A1D, dtype=np.float64)\n",
    "            \n",
    "            with open(FinalWeight_path, 'w') as S1_weights:\n",
    "                np.savetxt(S1_weights, np_array_A1D, delimiter=',', fmt='%.18e')\n",
    "                S1_weights.flush()\n",
    "\n",
    "            \n",
    "\n",
    "if __name__ == \"__main__\":\n",
    "    \n",
    "    # print(\"Starting profiling... : With Energy : Original Lobatto 3A 3B : Batched : B- \")\n",
    "\n",
    "    # # Start timing here\n",
    "    # start_time = time.time()\n",
    "\n",
    "    # profiler = cProfile.Profile()\n",
    "    # profiler.run('main()')\n",
    "\n",
    "    # # Stop timing and calculate the duration\n",
    "    # end_time = time.time()\n",
    "    # duration = end_time - start_time\n",
    "\n",
    "    # print(f\"Total time taken: {duration:.2f} seconds\")\n",
    "    # # Get process ID\n",
    "    # # pid = os.getpid()\n",
    "    \n",
    "    # # Save the profiler output with the process ID in the filename\n",
    "    # # profile_filename = f'/pc2/users/r/rpandey/RK4/Partitioned_RK4/Implicit_RK4/Lobatto_weights/ADAM/Hubber_Loss_Function/For_Scratch/Halton_100/With_Energy/Outputs/Prof_Outputs/profile_output_{pid}.prof'\n",
    "    # profile_filename = f'/pc2/users/r/rpandey/RK4/Partitioned_RK4/Implicit_RK4/Lobatto_weights/ADAM/Hubber_Loss_Function/For_Scratch/Halton_100/With_Energy/Outputs/Original_Prof_Outputs/B-profile_output.prof'\n",
    "    # print(\"Profiling complete, saving data... : \")\n",
    "    # profiler.dump_stats(profile_filename)\n",
    "    # print(f\"Profile data saved as {profile_filename}.\")\n",
    "\n",
    "    main()\n",
    "    sys.exit(0)\n"
   ]
  },
  {
   "cell_type": "markdown",
   "id": "3b7f9a7c-da9a-45c8-a16f-be1494814fd5",
   "metadata": {},
   "source": [
    "# Simply calling the error function to check whats happening ?"
   ]
  },
  {
   "cell_type": "code",
   "execution_count": 1,
   "id": "a7849b0d-5af8-4542-a080-dcf62c4b8417",
   "metadata": {},
   "outputs": [
    {
     "name": "stdout",
     "output_type": "stream",
     "text": [
      "7.334751324607835e-12\n",
      "3.645760577876777e-13\n",
      "1.810964758757107e-15\n",
      "3.567476266267247e-13\n",
      "3.030903207106488e-15\n",
      "7.519932394133485e-16\n",
      "1.3674486517588481e-16\n",
      "1.9344112610345354e-15\n",
      "1.7121344055913994e-15\n",
      "8.000180129861368e-16\n",
      "1.1913304170972375e-11\n",
      "1.6878552383802343e-14\n",
      "7.858892287556456e-16\n",
      "2.655777540181196e-13\n",
      "2.4281045633664784e-13\n",
      "1.2198559075721965e-13\n",
      "8.701739186567138e-16\n",
      "1.4526227131131572e-15\n",
      "6.429692718838751e-15\n",
      "2.1992281317403782e-15\n",
      "4.852926289085323e-16\n",
      "3.5777725835142963e-12\n",
      "3.1656371147329537e-15\n",
      "3.705857648789101e-15\n",
      "1.075628272292398e-13\n",
      "1.0836348849483555e-14\n",
      "2.7339633137038197e-13\n",
      "4.03051206391579e-13\n",
      "3.5851493714974505e-16\n",
      "2.5349953986219456e-15\n",
      "3.604006601296659e-15\n",
      "9.264282295971846e-15\n",
      "2.10242146940752e-15\n",
      "1.0719853221968872e-15\n",
      "5.302801575238071e-17\n",
      "4.355765626341235e-15\n",
      "3.5918395078095606e-14\n",
      "6.895816410166974e-17\n",
      "5.830723441349309e-15\n",
      "7.162811223067914e-14\n",
      "5.454237698383266e-15\n",
      "2.0171989408881035e-15\n",
      "5.196691583843874e-15\n",
      "1.2632597784308801e-15\n",
      "2.5195419431811182e-14\n",
      "4.470598157832281e-15\n",
      "2.6702385318889224e-18\n",
      "3.2691845468976715e-15\n",
      "1.1316502463276077e-13\n",
      "2.9010747460320253e-16\n",
      "9.101709545368919e-14\n",
      "9.563553411014376e-14\n",
      "5.918742623580476e-16\n",
      "7.544585887539378e-14\n",
      "4.629686401630199e-15\n",
      "6.602973965663401e-13\n",
      "2.574785542557734e-14\n",
      "6.502007471173313e-14\n",
      "5.6642108397241e-17\n",
      "8.710509113968771e-16\n",
      "6.360854366817612e-15\n",
      "7.357485819660713e-17\n",
      "1.8435838661901312e-14\n",
      "3.162966602325819e-14\n",
      "1.1201607832587045e-12\n",
      "2.1019138130358935e-14\n",
      "1.1428869421122562e-16\n",
      "1.8366084306069342e-16\n",
      "4.682648922993333e-16\n",
      "1.2719787673654253e-14\n",
      "7.882581194667481e-18\n",
      "8.918107322695222e-15\n",
      "1.706351999961348e-14\n",
      "1.3217056968840621e-17\n",
      "6.202873219661982e-14\n",
      "4.4178487413540705e-14\n",
      "2.830193053679276e-13\n",
      "6.870483553625915e-15\n",
      "2.6842539933532435e-11\n",
      "4.645531318910902e-12\n",
      "7.506734850543618e-14\n",
      "1.0349686239674519e-14\n",
      "9.112077891812364e-18\n",
      "1.201887548464887e-16\n",
      "3.8066686149395995e-15\n",
      "8.259121963123943e-16\n",
      "1.1132906244792531e-17\n",
      "7.992996342464069e-17\n",
      "4.089499327346231e-15\n",
      "1.6213525162793385e-15\n",
      "9.900442457993876e-15\n",
      "4.459262315752521e-12\n",
      "5.507722748089644e-16\n",
      "6.73789926621468e-14\n",
      "1.281879110074963e-17\n",
      "1.123151270790666e-14\n",
      "5.418113996419759e-14\n",
      "3.0644008858147045e-15\n",
      "6.395783713076293e-16\n",
      "6.467241034443672e-11\n"
     ]
    }
   ],
   "source": [
    "import os\n",
    "os.environ[\"JAX_PLATFORMS\"] = \"cpu\"  # Ensure JAX uses CPU backend\n",
    "os.environ[\"XLA_FLAGS\"] = \"--xla_force_host_platform_device_count=100\"\n",
    "\n",
    "import matplotlib.pyplot as plt\n",
    "import numpy as np\n",
    "from skopt.space import Space\n",
    "from skopt.sampler import Halton\n",
    "import jax.numpy as jnp\n",
    "import prk_method.One_Batch_prk_for_optimization as IRK4\n",
    "\n",
    "\n",
    "\"\"\"\n",
    "############################ Creating Halton sequence #####################################\n",
    "\"\"\"\n",
    "spacedim = [(-0.5, 0.5)] * 6\n",
    "space = Space(spacedim)\n",
    "halton = Halton()\n",
    "n = 100\n",
    "\n",
    "halton_sequence = halton.generate(space, n)\n",
    "halton_sequence = jnp.array(halton_sequence)\n",
    "\n",
    "\n",
    "# print(halton_currently_using, len(halton_currently_using))\n",
    "\"\"\"\n",
    "############################### Conversion Function ########################################\n",
    "\"\"\"\n",
    "def Convert_toOneD(A1, A2, B1, B2):\n",
    "    A1D = One_Dim_Matrix(A1)\n",
    "    A1D = Add_B_tomatrix_A(A1D, B1)\n",
    "    A2D = One_Dim_Matrix(A2)\n",
    "    A2D = Add_B_tomatrix_A(A2D, B2)\n",
    "    A1D = Add_B_tomatrix_A(A1D, A2D)\n",
    "    \n",
    "    return A1D\n",
    "\n",
    "def One_Dim_Matrix(A):\n",
    "    \"\"\"\n",
    "    We use this function to convert a 2D array into a 1D array containing only the lower triangular matrix of the 2D array.\n",
    "    : param A : a 2D array\n",
    "    : return : a 1D array\n",
    "\n",
    "    \"\"\"\n",
    "    dim_x, dim_y = A.shape\n",
    "    #print(dim_x, dim_y)\n",
    "    A = A.reshape(1, (dim_x * dim_y))\n",
    "    return A\n",
    "\n",
    "\n",
    "def Add_B_tomatrix_A(A, b):\n",
    "    \"\"\"\n",
    "    Given 2 1D arrays this function appends the second array at the end of first array.\n",
    "    : param A : 1D array\n",
    "    : param b : 1D array\n",
    "    : return : 1D array after appending array b to A\n",
    "\n",
    "    \"\"\"\n",
    "    A = jnp.append(A,b)\n",
    "    return A\n",
    "\"\"\"\n",
    "############################### Initial Weights ###############################\n",
    "\"\"\"\n",
    "# Initial weights \n",
    "A1 = jnp.array([\n",
    "         [0., 0., 0., 0.],\n",
    "         [1/2, 0., 0, 0.],\n",
    "         [0., 1/2, 0, 0.],\n",
    "         [0., 0., 1., 0.]])\n",
    "B1 = jnp.array([1/6, 1/3, 1/3, 1/6])\n",
    "A2 = jnp.array([\n",
    "         [0., 0., 0., 0.],\n",
    "         [1/2, 0., 0, 0.],\n",
    "         [0., 1/2, 0, 0.],\n",
    "         [0., 0., 1., 0.]])\n",
    "B2 = jnp.array([1/6, 1/3, 1/3, 1/6])\n",
    "## Random weights\n",
    "\n",
    "initial_A1D = np.loadtxt('OneRandom-OneLobatto-Outputs/Initial_weights.txt')\n",
    "updated_A1D = np.loadtxt('OneRandom-OneLobatto-Outputs/Final_weights.txt')\n",
    "################################################\n",
    "import math\n",
    "A1D = Convert_toOneD(A1, A2, B1, B2)\n",
    "halton_element = halton_sequence[1]\n",
    "for i in halton_sequence:\n",
    "    error = IRK4.find_error(A1D, i)\n",
    "    print(error[0])\n",
    "    if math.isnan(error[0]):\n",
    "        print(\"Got Nan value \")\n",
    "        break\n",
    "    "
   ]
  },
  {
   "cell_type": "code",
   "execution_count": 2,
   "id": "746e3c86-a138-41a5-a0ab-7eb36225a548",
   "metadata": {},
   "outputs": [
    {
     "name": "stdout",
     "output_type": "stream",
     "text": [
      "8.849005355842442e-06\n"
     ]
    }
   ],
   "source": [
    "print(error[0])"
   ]
  },
  {
   "cell_type": "code",
   "execution_count": 3,
   "id": "92d50dd4-82c8-42a3-8fee-605ac40f3e8d",
   "metadata": {},
   "outputs": [
    {
     "name": "stdout",
     "output_type": "stream",
     "text": [
      "0.9372658709649216\n"
     ]
    }
   ],
   "source": [
    "print(error[1])"
   ]
  },
  {
   "cell_type": "markdown",
   "id": "ceb99b04-1bee-4550-a589-60c29a9604ee",
   "metadata": {},
   "source": [
    "# Using YML file "
   ]
  },
  {
   "cell_type": "code",
   "execution_count": 2,
   "id": "0f13e9ff-17b4-4172-b044-6e6bda540c74",
   "metadata": {},
   "outputs": [
    {
     "name": "stdout",
     "output_type": "stream",
     "text": [
      "[CpuDevice(id=0), CpuDevice(id=1), CpuDevice(id=2), CpuDevice(id=3), CpuDevice(id=4), CpuDevice(id=5), CpuDevice(id=6), CpuDevice(id=7), CpuDevice(id=8), CpuDevice(id=9), CpuDevice(id=10), CpuDevice(id=11), CpuDevice(id=12), CpuDevice(id=13), CpuDevice(id=14), CpuDevice(id=15), CpuDevice(id=16), CpuDevice(id=17), CpuDevice(id=18), CpuDevice(id=19), CpuDevice(id=20), CpuDevice(id=21), CpuDevice(id=22), CpuDevice(id=23), CpuDevice(id=24), CpuDevice(id=25), CpuDevice(id=26), CpuDevice(id=27), CpuDevice(id=28), CpuDevice(id=29), CpuDevice(id=30), CpuDevice(id=31), CpuDevice(id=32), CpuDevice(id=33), CpuDevice(id=34), CpuDevice(id=35), CpuDevice(id=36), CpuDevice(id=37), CpuDevice(id=38), CpuDevice(id=39), CpuDevice(id=40), CpuDevice(id=41), CpuDevice(id=42), CpuDevice(id=43), CpuDevice(id=44), CpuDevice(id=45), CpuDevice(id=46), CpuDevice(id=47), CpuDevice(id=48), CpuDevice(id=49), CpuDevice(id=50), CpuDevice(id=51), CpuDevice(id=52), CpuDevice(id=53), CpuDevice(id=54), CpuDevice(id=55), CpuDevice(id=56), CpuDevice(id=57), CpuDevice(id=58), CpuDevice(id=59), CpuDevice(id=60), CpuDevice(id=61), CpuDevice(id=62), CpuDevice(id=63), CpuDevice(id=64), CpuDevice(id=65), CpuDevice(id=66), CpuDevice(id=67), CpuDevice(id=68), CpuDevice(id=69), CpuDevice(id=70), CpuDevice(id=71), CpuDevice(id=72), CpuDevice(id=73), CpuDevice(id=74), CpuDevice(id=75), CpuDevice(id=76), CpuDevice(id=77), CpuDevice(id=78), CpuDevice(id=79), CpuDevice(id=80), CpuDevice(id=81), CpuDevice(id=82), CpuDevice(id=83), CpuDevice(id=84), CpuDevice(id=85), CpuDevice(id=86), CpuDevice(id=87), CpuDevice(id=88), CpuDevice(id=89), CpuDevice(id=90), CpuDevice(id=91), CpuDevice(id=92), CpuDevice(id=93), CpuDevice(id=94), CpuDevice(id=95), CpuDevice(id=96), CpuDevice(id=97), CpuDevice(id=98), CpuDevice(id=99)] num devices =  100\n"
     ]
    },
    {
     "ename": "ValueError",
     "evalue": "Invalid literal for Fraction: '/'",
     "output_type": "error",
     "traceback": [
      "\u001b[0;31m---------------------------------------------------------------------------\u001b[0m",
      "\u001b[0;31mValueError\u001b[0m                                Traceback (most recent call last)",
      "Cell \u001b[0;32mIn[2], line 293\u001b[0m\n\u001b[1;32m    287\u001b[0m                 S1_weights\u001b[38;5;241m.\u001b[39mflush()\n\u001b[1;32m    291\u001b[0m \u001b[38;5;28;01mif\u001b[39;00m \u001b[38;5;18m__name__\u001b[39m \u001b[38;5;241m==\u001b[39m \u001b[38;5;124m\"\u001b[39m\u001b[38;5;124m__main__\u001b[39m\u001b[38;5;124m\"\u001b[39m:\n\u001b[0;32m--> 293\u001b[0m     \u001b[43mmain\u001b[49m\u001b[43m(\u001b[49m\u001b[43m)\u001b[49m\n\u001b[1;32m    294\u001b[0m     sys\u001b[38;5;241m.\u001b[39mexit(\u001b[38;5;241m0\u001b[39m)\n",
      "Cell \u001b[0;32mIn[2], line 76\u001b[0m, in \u001b[0;36mmain\u001b[0;34m()\u001b[0m\n\u001b[1;32m     74\u001b[0m A1 \u001b[38;5;241m=\u001b[39m jnp\u001b[38;5;241m.\u001b[39marray(parse_fractions(table_data[\u001b[38;5;124m'\u001b[39m\u001b[38;5;124mA1\u001b[39m\u001b[38;5;124m'\u001b[39m]))\n\u001b[1;32m     75\u001b[0m A2 \u001b[38;5;241m=\u001b[39m jnp\u001b[38;5;241m.\u001b[39marray(parse_fractions(table_data[\u001b[38;5;124m'\u001b[39m\u001b[38;5;124mA2\u001b[39m\u001b[38;5;124m'\u001b[39m]))\n\u001b[0;32m---> 76\u001b[0m B1 \u001b[38;5;241m=\u001b[39m jnp\u001b[38;5;241m.\u001b[39marray(\u001b[43mparse_fractions\u001b[49m\u001b[43m(\u001b[49m\u001b[43mtable_data\u001b[49m\u001b[43m[\u001b[49m\u001b[38;5;124;43m'\u001b[39;49m\u001b[38;5;124;43mB1\u001b[39;49m\u001b[38;5;124;43m'\u001b[39;49m\u001b[43m]\u001b[49m\u001b[43m)\u001b[49m)\n\u001b[1;32m     77\u001b[0m B2 \u001b[38;5;241m=\u001b[39m jnp\u001b[38;5;241m.\u001b[39marray(parse_fractions(table_data[\u001b[38;5;124m'\u001b[39m\u001b[38;5;124mB2\u001b[39m\u001b[38;5;124m'\u001b[39m]))\n\u001b[1;32m     79\u001b[0m \u001b[38;5;250m\u001b[39m\u001b[38;5;124;03m\"\"\"\u001b[39;00m\n\u001b[1;32m     80\u001b[0m \u001b[38;5;124;03m######################################\u001b[39;00m\n\u001b[1;32m     81\u001b[0m \u001b[38;5;124;03m\"\"\"\u001b[39;00m\n",
      "Cell \u001b[0;32mIn[2], line 53\u001b[0m, in \u001b[0;36mparse_fractions\u001b[0;34m(matrix)\u001b[0m\n\u001b[1;32m     51\u001b[0m \u001b[38;5;28;01mdef\u001b[39;00m \u001b[38;5;21mparse_fractions\u001b[39m(matrix):\n\u001b[1;32m     52\u001b[0m \u001b[38;5;250m    \u001b[39m\u001b[38;5;124;03m\"\"\"Convert string fractions to float values.\"\"\"\u001b[39;00m\n\u001b[0;32m---> 53\u001b[0m     \u001b[38;5;28;01mreturn\u001b[39;00m [[\u001b[38;5;28mfloat\u001b[39m(Fraction(item)) \u001b[38;5;28;01mif\u001b[39;00m \u001b[38;5;28misinstance\u001b[39m(item, \u001b[38;5;28mstr\u001b[39m) \u001b[38;5;28;01melse\u001b[39;00m item \u001b[38;5;28;01mfor\u001b[39;00m item \u001b[38;5;129;01min\u001b[39;00m row] \u001b[38;5;28;01mfor\u001b[39;00m row \u001b[38;5;129;01min\u001b[39;00m matrix]\n",
      "Cell \u001b[0;32mIn[2], line 53\u001b[0m, in \u001b[0;36m<listcomp>\u001b[0;34m(.0)\u001b[0m\n\u001b[1;32m     51\u001b[0m \u001b[38;5;28;01mdef\u001b[39;00m \u001b[38;5;21mparse_fractions\u001b[39m(matrix):\n\u001b[1;32m     52\u001b[0m \u001b[38;5;250m    \u001b[39m\u001b[38;5;124;03m\"\"\"Convert string fractions to float values.\"\"\"\u001b[39;00m\n\u001b[0;32m---> 53\u001b[0m     \u001b[38;5;28;01mreturn\u001b[39;00m [[\u001b[38;5;28mfloat\u001b[39m(Fraction(item)) \u001b[38;5;28;01mif\u001b[39;00m \u001b[38;5;28misinstance\u001b[39m(item, \u001b[38;5;28mstr\u001b[39m) \u001b[38;5;28;01melse\u001b[39;00m item \u001b[38;5;28;01mfor\u001b[39;00m item \u001b[38;5;129;01min\u001b[39;00m row] \u001b[38;5;28;01mfor\u001b[39;00m row \u001b[38;5;129;01min\u001b[39;00m matrix]\n",
      "Cell \u001b[0;32mIn[2], line 53\u001b[0m, in \u001b[0;36m<listcomp>\u001b[0;34m(.0)\u001b[0m\n\u001b[1;32m     51\u001b[0m \u001b[38;5;28;01mdef\u001b[39;00m \u001b[38;5;21mparse_fractions\u001b[39m(matrix):\n\u001b[1;32m     52\u001b[0m \u001b[38;5;250m    \u001b[39m\u001b[38;5;124;03m\"\"\"Convert string fractions to float values.\"\"\"\u001b[39;00m\n\u001b[0;32m---> 53\u001b[0m     \u001b[38;5;28;01mreturn\u001b[39;00m [[\u001b[38;5;28mfloat\u001b[39m(\u001b[43mFraction\u001b[49m\u001b[43m(\u001b[49m\u001b[43mitem\u001b[49m\u001b[43m)\u001b[49m) \u001b[38;5;28;01mif\u001b[39;00m \u001b[38;5;28misinstance\u001b[39m(item, \u001b[38;5;28mstr\u001b[39m) \u001b[38;5;28;01melse\u001b[39;00m item \u001b[38;5;28;01mfor\u001b[39;00m item \u001b[38;5;129;01min\u001b[39;00m row] \u001b[38;5;28;01mfor\u001b[39;00m row \u001b[38;5;129;01min\u001b[39;00m matrix]\n",
      "File \u001b[0;32m~/.conda/envs/Jax_env/lib/python3.9/fractions.py:115\u001b[0m, in \u001b[0;36mFraction.__new__\u001b[0;34m(cls, numerator, denominator, _normalize)\u001b[0m\n\u001b[1;32m    113\u001b[0m m \u001b[38;5;241m=\u001b[39m _RATIONAL_FORMAT\u001b[38;5;241m.\u001b[39mmatch(numerator)\n\u001b[1;32m    114\u001b[0m \u001b[38;5;28;01mif\u001b[39;00m m \u001b[38;5;129;01mis\u001b[39;00m \u001b[38;5;28;01mNone\u001b[39;00m:\n\u001b[0;32m--> 115\u001b[0m     \u001b[38;5;28;01mraise\u001b[39;00m \u001b[38;5;167;01mValueError\u001b[39;00m(\u001b[38;5;124m'\u001b[39m\u001b[38;5;124mInvalid literal for Fraction: \u001b[39m\u001b[38;5;132;01m%r\u001b[39;00m\u001b[38;5;124m'\u001b[39m \u001b[38;5;241m%\u001b[39m\n\u001b[1;32m    116\u001b[0m                      numerator)\n\u001b[1;32m    117\u001b[0m numerator \u001b[38;5;241m=\u001b[39m \u001b[38;5;28mint\u001b[39m(m\u001b[38;5;241m.\u001b[39mgroup(\u001b[38;5;124m'\u001b[39m\u001b[38;5;124mnum\u001b[39m\u001b[38;5;124m'\u001b[39m) \u001b[38;5;129;01mor\u001b[39;00m \u001b[38;5;124m'\u001b[39m\u001b[38;5;124m0\u001b[39m\u001b[38;5;124m'\u001b[39m)\n\u001b[1;32m    118\u001b[0m denom \u001b[38;5;241m=\u001b[39m m\u001b[38;5;241m.\u001b[39mgroup(\u001b[38;5;124m'\u001b[39m\u001b[38;5;124mdenom\u001b[39m\u001b[38;5;124m'\u001b[39m)\n",
      "\u001b[0;31mValueError\u001b[0m: Invalid literal for Fraction: '/'"
     ]
    }
   ],
   "source": [
    "import os\n",
    "os.environ[\"JAX_PLATFORMS\"] = \"cpu\"  # Ensure JAX uses CPU backend\n",
    "os.environ[\"XLA_FLAGS\"] = \"--xla_force_host_platform_device_count=100\"\n",
    "\n",
    "import jax\n",
    "num_devices = jax.local_device_count()\n",
    "print(jax.devices(), \"num devices = \", num_devices)\n",
    "\n",
    "from jax import config\n",
    "config.update(\"jax_enable_x64\", True)  #double precision\n",
    "\n",
    "import multiprocessing\n",
    "import time  # For timing the execution\n",
    "\n",
    "import cProfile ## Checking for parallel computing\n",
    "import pstats ## For analysing the program run\n",
    "\n",
    "\n",
    "import jax.numpy as jnp\n",
    "import numpy as np\n",
    "import os\n",
    "import sys\n",
    "import sys\n",
    "from skopt.space import Space\n",
    "from skopt.sampler import Halton\n",
    "from jax import jacfwd\n",
    "from jax import grad, jit, vmap, pmap\n",
    "from jax import jit\n",
    "from jax._src.lax.utils import (\n",
    "    _argnum_weak_type,\n",
    "    _input_dtype,\n",
    "    standard_primitive,)\n",
    "from jax._src.lax import lax\n",
    "\n",
    "from tqdm import tqdm, trange\n",
    "import matplotlib.pyplot as plt\n",
    "import optax\n",
    "import yaml\n",
    "from fractions import Fraction\n",
    "\n",
    "\n",
    "import prk_method.One_Batch_prk_for_optimization as IRK4\n",
    "import Important_functions.Convert_1D2D as convert\n",
    "\n",
    "\n",
    "def load_config(config_file):\n",
    "    \"\"\"Load the YAML configuration file.\"\"\"\n",
    "    with open(config_file, 'r') as file:\n",
    "        return yaml.safe_load(file)\n",
    "\n",
    "def parse_fractions(matrix):\n",
    "    \"\"\"Convert string fractions to float values.\"\"\"\n",
    "    return [[float(Fraction(item)) if isinstance(item, str) else item for item in row] for row in matrix]\n",
    "\n",
    "    \n",
    "def main():\n",
    "    config = load_config('predefined_config.yml')\n",
    "\n",
    "    with_energy = config['error_handling']['with_energy']\n",
    "    selected_table = config['initial_weights']['selected_table']\n",
    "    energy_folder = 'With_Energy' if with_energy else 'Without_Energy'\n",
    "    output_path = f\"Outputs/{energy_folder}/{selected_table}/\"\n",
    "\n",
    "    # Ensure the output directory exists\n",
    "    os.makedirs(output_path, exist_ok=True)\n",
    "\n",
    "    Error_path = os.path.join(output_path, 'Error.txt')\n",
    "    Energy_path = os.path.join(output_path, 'Energy.txt')\n",
    "    Validation_path = os.path.join(output_path, 'Validation.txt')\n",
    "    FinalWeight_path = os.path.join(output_path, 'Final_weights.txt')\n",
    "    \n",
    "    # Initial weights \n",
    "    table_data = config['initial_weights'][selected_table]\n",
    "    A1 = jnp.array(parse_fractions(table_data['A1']))\n",
    "    A2 = jnp.array(parse_fractions(table_data['A2']))\n",
    "    B1 = jnp.array(parse_fractions(table_data['B1']))\n",
    "    B2 = jnp.array(parse_fractions(table_data['B2']))\n",
    "    \n",
    "    \"\"\"\n",
    "    ######################################\n",
    "    \"\"\"\n",
    "    ## Making the Halton code and diving it into validation and training set. \n",
    "    \n",
    "    spacedim = config['halton']['space_dim']\n",
    "    \n",
    "    space = Space(spacedim)\n",
    "    halton = Halton()\n",
    "    n = config['halton']['num_samples']\n",
    "    \n",
    "    halton_sequence = halton.generate(space, n)\n",
    "    halton_sequence = jnp.array(halton_sequence)\n",
    "    \n",
    "    key = jax.random.PRNGKey(42)\n",
    "\n",
    "    # Split into training and validation sets\n",
    "    validation_halton = halton_sequence[config['halton']['training_size']:]  # Validation Data\n",
    "    halton_sequence = halton_sequence[:config['halton']['training_size']]  # Training Data\n",
    "    \n",
    "    \n",
    "\n",
    "    \"\"\"\n",
    "    ######################################\n",
    "    \"\"\"\n",
    "    \n",
    "    # Initial A1D, i.e., initial weights in 1D\n",
    "    A1D = convert.Convert_toOneD(A1, A2, B1, B2)\n",
    "    \n",
    "    learning_rate = config['optimizer']['learning_rate']\n",
    "    adam_optimizer = optax.adam(learning_rate)\n",
    "    sgd_optimizer = optax.sgd(learning_rate)\n",
    "\n",
    "    \n",
    "    opt_state = adam_optimizer.init(A1D)\n",
    "    opt_switch_threshold = config['optimizer']['switch_threshold']\n",
    "\n",
    "    ######\n",
    "    \n",
    "    count = 0\n",
    "    data_epoc = 10\n",
    "    data_epoc_list = []\n",
    "    repetetion = 10\n",
    "    \n",
    "    flat_halton_sequence = jnp.array(halton_sequence).reshape(-1, 6)\n",
    "    \n",
    "    # Compute gradient using jacfwd\n",
    "    def jacfwd_gradient(A1D, h_element):\n",
    "        def loss_fn(A1D):\n",
    "            error, _ = IRK4.find_error(A1D, h_element)\n",
    "            return error\n",
    "        grad_fn = jax.jacfwd(loss_fn)\n",
    "        return grad_fn(A1D)\n",
    "    \n",
    "    def compute_energy_error(A1D, h_element):\n",
    "        return IRK4.find_error(A1D, h_element)[1]\n",
    "    \n",
    "    def compute_error_single(A1D, h_element):\n",
    "        return IRK4.find_error(A1D, h_element)[0]\n",
    "    \n",
    "    ## Finding the numeric gradient. Finite difference approximation \n",
    "    def numerical_gradient(A1D, halton_element, epsilon=1e-5):\n",
    "        numerical_gradients = jnp.zeros_like(A1D, dtype=jnp.float64)\n",
    "        for i in range(len(A1D)):\n",
    "            A1D_plus = A1D.at[i].set(A1D[i] + epsilon)\n",
    "            A1D_minus = A1D.at[i].set(A1D[i] - epsilon)\n",
    "            numerical_gradients = numerical_gradients.at[i].set(\n",
    "                (compute_error_single(A1D_plus, halton_element) - compute_error_single(A1D_minus, halton_element)) / (2 * epsilon)\n",
    "            )\n",
    "        return numerical_gradients\n",
    "\n",
    "    \"\"\"\n",
    "    ########################################\n",
    "    Functions for paralalizing the errors to be saved. If this dosent work delete it. \n",
    "    \"\"\"\n",
    "    # Define the function for energy error and validation error\n",
    "    def energy_error_fn(A1D, halton_element):\n",
    "        return IRK4.find_error(A1D, halton_element)[1]  # Return only energy error\n",
    "    \n",
    "    def validation_error_fn(A1D, halton_element):\n",
    "        return IRK4.find_error(A1D, halton_element)[0]  # Return only validation error\n",
    "\n",
    "    def analytical_error_fn(A1D, halton_element):\n",
    "        print(\"Inside analytical Error\")\n",
    "        return IRK4.find_error(A1D, halton_element)[0]  # Return only Analytical error\n",
    "\n",
    "    \"\"\"\n",
    "    ########################################\n",
    "    \"\"\"\n",
    "    \n",
    "    # Use jax.pmap to parallelize the function over multiple devices (e.g., CPUs)\n",
    "    compute_grads_batched = jax.pmap(jacfwd_gradient, in_axes=(None, 0), axis_name='batch')  # pmap instead of vmap\n",
    "    compute_error_batched = jax.pmap(compute_error_single, in_axes=(None, 0), axis_name='batch')  # pmap instead of vmap\n",
    "    \n",
    "    Total_Error_List = []  # Analytical Error :\n",
    "    Energy_Error_List = []  # Energy Error :\n",
    "    Validation_Error_List = []  # Validation Set Error :\n",
    "    \n",
    "    batch_size = config['training']['batch_size']\n",
    "    num_batches = len(halton_sequence) // batch_size\n",
    "\n",
    "    print(\" Number of Batches : \",num_batches)\n",
    "\n",
    "\n",
    "    #### Open the files in write mode ('w') at the beginning to clear old data\n",
    "    with open(Error_path, 'w') as f1:\n",
    "        f1.write(\"\")\n",
    "    with open(Energy_path, 'w') as f2:\n",
    "        f2.write(\"\")\n",
    "    with open(Validation_path, 'w') as f3:\n",
    "        f3.write(\"\")\n",
    "    with open(FinalWeight_path, 'w') as f4:\n",
    "        f4.write(\"\")\n",
    "        \n",
    "    \n",
    "\n",
    "    analytical_errors_list = []\n",
    "    energy_errors_list = []\n",
    "    validation_errors_list = []\n",
    "    switch = False \n",
    "    min_error = jnp.float64(float('inf')) \n",
    "    min_error_A1D = None\n",
    "    adam_max_iters = config['optimizer']['switch_threshold']\n",
    "\n",
    "    return True \n",
    "    \n",
    "    for k in trange(2500000):\n",
    "        tot_error = 0\n",
    "        tot_error_energy = 0\n",
    "        validation_tot_error = 0\n",
    "        \n",
    "        if k > 1:\n",
    "            for batch_idx in range(num_batches):\n",
    "                batch_halton = flat_halton_sequence[batch_idx * batch_size: (batch_idx + 1) * batch_size]            \n",
    "\n",
    "                gradF = compute_grads_batched(A1D, batch_halton)\n",
    "\n",
    "                avg_gradF = jnp.mean(gradF, axis=0)\n",
    "\n",
    "                if switch == True:\n",
    "                    updates, opt_state = sgd_optimizer.update(avg_gradF, opt_state)\n",
    "                else:\n",
    "                    updates, opt_state = adam_optimizer.update(avg_gradF, opt_state)\n",
    "\n",
    "                A1D = optax.apply_updates(A1D, updates)\n",
    "                # Calculate the total error for the batch and accumulate it\n",
    "                batch_error = jnp.mean(compute_error_batched(A1D, batch_halton))\n",
    "                tot_error += batch_error\n",
    "\n",
    "    \n",
    "\n",
    "        avg_error = tot_error / jnp.float64(num_batches)\n",
    "        if avg_error < min_error:\n",
    "            min_error = avg_error\n",
    "            min_A1D = A1D\n",
    "            \n",
    "\n",
    "        if k==0 or k % 100 == 0:\n",
    "            \n",
    "        \n",
    "            analytical_errors = jax.pmap(analytical_error_fn, in_axes=(None, 0))(A1D, halton_sequence)\n",
    "            analytical_tot_error = jnp.sum(analytical_errors)\n",
    "            analytical_avg_error = analytical_tot_error / len(halton_sequence)\n",
    "            analytical_errors_list.append(f\"{analytical_avg_error:.18e}\\n\")\n",
    "        \n",
    "            if k >= adam_max_iters and switch != True:\n",
    "                print(\" Switching the optimizer to SGD :\")\n",
    "                learning_rate = 0.0001\n",
    "                print(\"avg_error : \", avg_error)\n",
    "                switch = True\n",
    "    \n",
    "        \n",
    "            \n",
    "            energy_errors = jax.pmap(energy_error_fn, in_axes=(None, 0))(A1D, halton_sequence)\n",
    "            tot_error_energy = jnp.sum(energy_errors)\n",
    "            avg_error_energy = tot_error_energy / len(halton_sequence)\n",
    "            energy_errors_list.append(f\"{avg_error_energy:.18e}\\n\")\n",
    "                      \n",
    "\n",
    "            validation_errors = jax.pmap(validation_error_fn, in_axes=(None, 0))(A1D, validation_halton)\n",
    "            validation_tot_error = jnp.sum(validation_errors)\n",
    "            validation_avg_error = validation_tot_error / len(validation_halton)\n",
    "            validation_errors_list.append(f\"{validation_avg_error:.18e}\\n\")\n",
    "            \n",
    "                      \n",
    "            with open(Error_path, 'a') as S1_analytical_error:\n",
    "                S1_analytical_error.writelines(analytical_errors_list)\n",
    "                S1_analytical_error.flush()\n",
    "    \n",
    "            with open(Energy_path, 'a') as S1_energy:\n",
    "                S1_energy.writelines(energy_errors_list)\n",
    "                S1_energy.flush()\n",
    "    \n",
    "            with open(Validation_path, 'a') as S1_validation:\n",
    "                S1_validation.writelines(validation_errors_list)\n",
    "                S1_validation.flush()\n",
    "    \n",
    "\n",
    "            analytical_errors_list.clear()\n",
    "            energy_errors_list.clear()\n",
    "            validation_errors_list.clear()\n",
    "    \n",
    "            \n",
    "            jnp_array_A1D = jnp.array(A1D, dtype=jnp.float64)\n",
    "            np_array_A1D = np.array(jnp_array_A1D, dtype=np.float64)\n",
    "            \n",
    "            with open(FinalWeight_path, 'w') as S1_weights:\n",
    "                np.savetxt(S1_weights, np_array_A1D, delimiter=',', fmt='%.18e')\n",
    "                S1_weights.flush()\n",
    "\n",
    "            \n",
    "\n",
    "if __name__ == \"__main__\":\n",
    "    \n",
    "    main()\n",
    "    sys.exit(0)\n"
   ]
  },
  {
   "cell_type": "code",
   "execution_count": null,
   "id": "89f90dba-d92c-4ab2-a8b2-7ca008192d71",
   "metadata": {},
   "outputs": [],
   "source": []
  }
 ],
 "metadata": {
  "kernelspec": {
   "display_name": "Jax_env",
   "language": "python",
   "name": "jax_env"
  },
  "language_info": {
   "codemirror_mode": {
    "name": "ipython",
    "version": 3
   },
   "file_extension": ".py",
   "mimetype": "text/x-python",
   "name": "python",
   "nbconvert_exporter": "python",
   "pygments_lexer": "ipython3",
   "version": "3.9.19"
  }
 },
 "nbformat": 4,
 "nbformat_minor": 5
}
