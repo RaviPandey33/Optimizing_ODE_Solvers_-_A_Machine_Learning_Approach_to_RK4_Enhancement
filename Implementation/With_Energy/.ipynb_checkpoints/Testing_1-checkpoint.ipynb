{
 "cells": [
  {
   "cell_type": "code",
   "execution_count": 1,
   "id": "b03ff7fc-887e-40e8-8bf5-9885f87aaeab",
   "metadata": {},
   "outputs": [],
   "source": [
    "import os\n",
    "os.environ[\"JAX_PLATFORMS\"] = \"cpu\"  # Ensure JAX uses CPU backend\n",
    "os.environ[\"XLA_FLAGS\"] = \"--xla_force_host_platform_device_count=100\"\n",
    "\n",
    "import matplotlib.pyplot as plt\n",
    "import numpy as np\n",
    "from skopt.space import Space\n",
    "from skopt.sampler import Halton\n",
    "import jax.numpy as jnp\n",
    "import prk_method.Delete_after_test as WithE_plots\n",
    "# import Plot_Files.Without_Energy_prk_method_for_plots as WithoutE_plots\n",
    "\n",
    "\"\"\"\n",
    "############################ Creating Halton sequence #####################################\n",
    "\"\"\"\n",
    "spacedim = [(-1.0, 1.0)] * 6\n",
    "space = Space(spacedim)\n",
    "halton = Halton()\n",
    "n = 1\n",
    "\n",
    "halton_sequence = halton.generate(space, n)\n",
    "halton_sequence = jnp.array(halton_sequence)\n",
    "\n",
    "\n",
    "# print(halton_currently_using, len(halton_currently_using))\n",
    "\"\"\"\n",
    "############################### Conversion Function ########################################\n",
    "\"\"\"\n",
    "def Convert_toOneD(A1, A2, B1, B2):\n",
    "    A1D = One_Dim_Matrix(A1)\n",
    "    A1D = Add_B_tomatrix_A(A1D, B1)\n",
    "    A2D = One_Dim_Matrix(A2)\n",
    "    A2D = Add_B_tomatrix_A(A2D, B2)\n",
    "    A1D = Add_B_tomatrix_A(A1D, A2D)\n",
    "    \n",
    "    return A1D\n",
    "\n",
    "def One_Dim_Matrix(A):\n",
    "    \"\"\"\n",
    "    We use this function to convert a 2D array into a 1D array containing only the lower triangular matrix of the 2D array.\n",
    "    : param A : a 2D array\n",
    "    : return : a 1D array\n",
    "\n",
    "    \"\"\"\n",
    "    dim_x, dim_y = A.shape\n",
    "    #print(dim_x, dim_y)\n",
    "    A = A.reshape(1, (dim_x * dim_y))\n",
    "    return A\n",
    "\n",
    "\n",
    "def Add_B_tomatrix_A(A, b):\n",
    "    \"\"\"\n",
    "    Given 2 1D arrays this function appends the second array at the end of first array.\n",
    "    : param A : 1D array\n",
    "    : param b : 1D array\n",
    "    : return : 1D array after appending array b to A\n",
    "\n",
    "    \"\"\"\n",
    "    A = jnp.append(A,b)\n",
    "    return A\n",
    "\"\"\"\n",
    "############################### Initial Weights ###############################\n",
    "\"\"\"\n",
    "\n",
    "# Initial weights \n",
    "## Lobatto 3A and \n",
    "A1 = jnp.array([\n",
    "     [0., 0., 0., 0.],\n",
    "     [5/24, 1/3, -1/24, 0.],\n",
    "     [1/6, 2/3, 1/6, 0.],\n",
    "     [0., 0., 0., 0.]])\n",
    "B1 = jnp.array([1/6, 2/3, 1/6, 0.])\n",
    "\n",
    "## Lobatto 3B\n",
    "A2 = jnp.array([\n",
    "     [1/6, -1/6, 0., 0.],\n",
    "     [1/6, 1/3, 0, 0.],\n",
    "     [1/6, 5/6, 0, 0.],\n",
    "     [0., 0., 0., 0.]])\n",
    "B2 = jnp.array([1/6, 2/3, 1/6, 0.])\n",
    "################################################\n",
    "PA1 = jnp.array([\n",
    "     [0.5, 0., 0., 0.],\n",
    "     [5/24, 2/3, -3/24, 0.],\n",
    "     [1/6, 2/3, 1/6, 0.5],\n",
    "     [0., 0., 0.5, 0.]])\n",
    "PB1 = jnp.array([2/6, 1/3, 1/6, 0.])\n",
    "    \n",
    "PA2 = jnp.array([\n",
    "     [1/6, -1/6, 0., 0.],\n",
    "     [1/6, 1/3, 0, 0.],\n",
    "     [1/6, 5/6, 0, 0.],\n",
    "     [0., 0., 0., 0.]])\n",
    "PB2 = jnp.array([1/6, 2/3, 1/6, 0.])\n",
    "\n",
    "\"\"\"\n",
    "#################### Converting initial weights to 1D array ####################\n",
    "\"\"\"\n",
    "\n",
    "# Converting to 1D array A1D\n",
    "A1D_original_BeforeOptimization = Convert_toOneD(A1, A2, B1, B2)\n",
    "A1D_Perturbed_BeforeOptimization = Convert_toOneD(PA1, PA2, PB1, PB2)\n",
    "\n",
    "\"\"\"\n",
    "################# Calling the find error method ####################\n",
    "\"\"\"\n",
    "\n",
    "temp = WithE_plots.find_error(A1D_original_BeforeOptimization, halton_sequence[0])\n",
    "\n",
    "     "
   ]
  },
  {
   "cell_type": "code",
   "execution_count": 2,
   "id": "55a618c9-1638-4fd5-ab5e-060ffc1953da",
   "metadata": {},
   "outputs": [
    {
     "name": "stdout",
     "output_type": "stream",
     "text": [
      "7\n"
     ]
    }
   ],
   "source": [
    "print(len(temp))"
   ]
  },
  {
   "cell_type": "code",
   "execution_count": 3,
   "id": "7550fb82-22d4-42a7-9716-911f92e01494",
   "metadata": {},
   "outputs": [
    {
     "data": {
      "text/plain": [
       "Array([[-0.05]], dtype=float64)"
      ]
     },
     "execution_count": 3,
     "metadata": {},
     "output_type": "execute_result"
    }
   ],
   "source": [
    "temp[0]"
   ]
  },
  {
   "cell_type": "code",
   "execution_count": 4,
   "id": "fb73e00c-61ae-46a3-b48f-339d308dd3c5",
   "metadata": {},
   "outputs": [
    {
     "data": {
      "text/plain": [
       "Array([[-0.05]], dtype=float64)"
      ]
     },
     "execution_count": 4,
     "metadata": {},
     "output_type": "execute_result"
    }
   ],
   "source": [
    "temp[1]"
   ]
  },
  {
   "cell_type": "code",
   "execution_count": 5,
   "id": "73cb6b12-10e8-4434-9e23-7ac6edf02bd4",
   "metadata": {},
   "outputs": [
    {
     "data": {
      "text/plain": [
       "Array([[-0.05477395],\n",
       "       [-0.05909847],\n",
       "       [-0.06297723],\n",
       "       [-0.06641348],\n",
       "       [-0.06941008],\n",
       "       [-0.0719695 ],\n",
       "       [-0.07409384],\n",
       "       [-0.07578482],\n",
       "       [-0.07704381],\n",
       "       [-0.07787183],\n",
       "       [ 0.        ]], dtype=float64)"
      ]
     },
     "execution_count": 5,
     "metadata": {},
     "output_type": "execute_result"
    }
   ],
   "source": [
    "temp[2]"
   ]
  },
  {
   "cell_type": "code",
   "execution_count": 6,
   "id": "09ff993c-28fd-4f0a-bca8-00438a769273",
   "metadata": {},
   "outputs": [
    {
     "data": {
      "text/plain": [
       "Array([[-0.04548588],\n",
       "       [-0.04101061],\n",
       "       [-0.03656994],\n",
       "       [-0.03215983],\n",
       "       [-0.02777632],\n",
       "       [-0.02341562],\n",
       "       [-0.01907401],\n",
       "       [-0.01474787],\n",
       "       [-0.01043364],\n",
       "       [-0.00612781],\n",
       "       [ 0.        ]], dtype=float64)"
      ]
     },
     "execution_count": 6,
     "metadata": {},
     "output_type": "execute_result"
    }
   ],
   "source": [
    "temp[3]"
   ]
  },
  {
   "cell_type": "code",
   "execution_count": 7,
   "id": "1cfda604-2314-4efd-8335-47211598544c",
   "metadata": {},
   "outputs": [
    {
     "data": {
      "text/plain": [
       "Array([0.00363094], dtype=float64)"
      ]
     },
     "execution_count": 7,
     "metadata": {},
     "output_type": "execute_result"
    }
   ],
   "source": [
    "temp[4]"
   ]
  },
  {
   "cell_type": "code",
   "execution_count": 8,
   "id": "c98722eb-440a-40b2-a3be-c53aec021368",
   "metadata": {},
   "outputs": [
    {
     "data": {
      "text/plain": [
       "Array([[0.00363094],\n",
       "       [0.00363094],\n",
       "       [0.00363094],\n",
       "       [0.00363094],\n",
       "       [0.00363094],\n",
       "       [0.00363094],\n",
       "       [0.00363094],\n",
       "       [0.00363094],\n",
       "       [0.00363094],\n",
       "       [0.00363094],\n",
       "       [0.        ]], dtype=float64)"
      ]
     },
     "execution_count": 8,
     "metadata": {},
     "output_type": "execute_result"
    }
   ],
   "source": [
    "temp[5]"
   ]
  },
  {
   "cell_type": "code",
   "execution_count": null,
   "id": "6a51a812-5ea1-44fe-88b9-ff2bf66fdf6e",
   "metadata": {},
   "outputs": [],
   "source": []
  }
 ],
 "metadata": {
  "kernelspec": {
   "display_name": "Jax_env",
   "language": "python",
   "name": "jax_env"
  },
  "language_info": {
   "codemirror_mode": {
    "name": "ipython",
    "version": 3
   },
   "file_extension": ".py",
   "mimetype": "text/x-python",
   "name": "python",
   "nbconvert_exporter": "python",
   "pygments_lexer": "ipython3",
   "version": "3.9.19"
  }
 },
 "nbformat": 4,
 "nbformat_minor": 5
}
